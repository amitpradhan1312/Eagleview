!git clone https://github.com/ultralytics/yolov5
Cloning into 'yolov5'...
remote: Enumerating objects: 8451, done.
remote: Counting objects: 100% (165/165), done.
remote: Compressing objects: 100% (104/104), done.
remote: Total 8451 (delta 90), reused 106 (delta 52), pack-reused 8286
Receiving objects: 100% (8451/8451), 9.31 MiB | 22.75 MiB/s, done.
Resolving deltas: 100% (5830/5830), done.
!pip install -r yolov5/requirements.txt
Requirement already satisfied: matplotlib>=3.2.2 in /usr/local/lib/python3.7/dist-packages (from -r yolov5/requirements.txt (line 4)) (3.2.2)
Requirement already satisfied: numpy>=1.18.5 in /usr/local/lib/python3.7/dist-packages (from -r yolov5/requirements.txt (line 5)) (1.19.5)
Requirement already satisfied: opencv-python>=4.1.2 in /usr/local/lib/python3.7/dist-packages (from -r yolov5/requirements.txt (line 6)) (4.1.2.30)
Requirement already satisfied: Pillow in /usr/local/lib/python3.7/dist-packages (from -r yolov5/requirements.txt (line 7)) (7.1.2)
Collecting PyYAML>=5.3.1
  Downloading PyYAML-5.4.1-cp37-cp37m-manylinux1_x86_64.whl (636 kB)
     |████████████████████████████████| 636 kB 4.9 MB/s 
Requirement already satisfied: scipy>=1.4.1 in /usr/local/lib/python3.7/dist-packages (from -r yolov5/requirements.txt (line 9)) (1.4.1)
Requirement already satisfied: torch>=1.7.0 in /usr/local/lib/python3.7/dist-packages (from -r yolov5/requirements.txt (line 10)) (1.9.0+cu102)
Requirement already satisfied: torchvision>=0.8.1 in /usr/local/lib/python3.7/dist-packages (from -r yolov5/requirements.txt (line 11)) (0.10.0+cu102)
Requirement already satisfied: tqdm>=4.41.0 in /usr/local/lib/python3.7/dist-packages (from -r yolov5/requirements.txt (line 12)) (4.41.1)
Requirement already satisfied: tensorboard>=2.4.1 in /usr/local/lib/python3.7/dist-packages (from -r yolov5/requirements.txt (line 15)) (2.5.0)
Requirement already satisfied: seaborn>=0.11.0 in /usr/local/lib/python3.7/dist-packages (from -r yolov5/requirements.txt (line 19)) (0.11.1)
Requirement already satisfied: pandas in /usr/local/lib/python3.7/dist-packages (from -r yolov5/requirements.txt (line 20)) (1.1.5)
Collecting thop
  Downloading thop-0.0.31.post2005241907-py3-none-any.whl (8.7 kB)
Requirement already satisfied: kiwisolver>=1.0.1 in /usr/local/lib/python3.7/dist-packages (from matplotlib>=3.2.2->-r yolov5/requirements.txt (line 4)) (1.3.1)
Requirement already satisfied: cycler>=0.10 in /usr/local/lib/python3.7/dist-packages (from matplotlib>=3.2.2->-r yolov5/requirements.txt (line 4)) (0.10.0)
Requirement already satisfied: pyparsing!=2.0.4,!=2.1.2,!=2.1.6,>=2.0.1 in /usr/local/lib/python3.7/dist-packages (from matplotlib>=3.2.2->-r yolov5/requirements.txt (line 4)) (2.4.7)
Requirement already satisfied: python-dateutil>=2.1 in /usr/local/lib/python3.7/dist-packages (from matplotlib>=3.2.2->-r yolov5/requirements.txt (line 4)) (2.8.1)
Requirement already satisfied: typing-extensions in /usr/local/lib/python3.7/dist-packages (from torch>=1.7.0->-r yolov5/requirements.txt (line 10)) (3.7.4.3)
Requirement already satisfied: google-auth<2,>=1.6.3 in /usr/local/lib/python3.7/dist-packages (from tensorboard>=2.4.1->-r yolov5/requirements.txt (line 15)) (1.32.1)
Requirement already satisfied: google-auth-oauthlib<0.5,>=0.4.1 in /usr/local/lib/python3.7/dist-packages (from tensorboard>=2.4.1->-r yolov5/requirements.txt (line 15)) (0.4.4)
Requirement already satisfied: markdown>=2.6.8 in /usr/local/lib/python3.7/dist-packages (from tensorboard>=2.4.1->-r yolov5/requirements.txt (line 15)) (3.3.4)
Requirement already satisfied: werkzeug>=0.11.15 in /usr/local/lib/python3.7/dist-packages (from tensorboard>=2.4.1->-r yolov5/requirements.txt (line 15)) (1.0.1)
Requirement already satisfied: grpcio>=1.24.3 in /usr/local/lib/python3.7/dist-packages (from tensorboard>=2.4.1->-r yolov5/requirements.txt (line 15)) (1.34.1)
Requirement already satisfied: tensorboard-data-server<0.7.0,>=0.6.0 in /usr/local/lib/python3.7/dist-packages (from tensorboard>=2.4.1->-r yolov5/requirements.txt (line 15)) (0.6.1)
Requirement already satisfied: tensorboard-plugin-wit>=1.6.0 in /usr/local/lib/python3.7/dist-packages (from tensorboard>=2.4.1->-r yolov5/requirements.txt (line 15)) (1.8.0)
Requirement already satisfied: wheel>=0.26 in /usr/local/lib/python3.7/dist-packages (from tensorboard>=2.4.1->-r yolov5/requirements.txt (line 15)) (0.36.2)
Requirement already satisfied: absl-py>=0.4 in /usr/local/lib/python3.7/dist-packages (from tensorboard>=2.4.1->-r yolov5/requirements.txt (line 15)) (0.12.0)
Requirement already satisfied: requests<3,>=2.21.0 in /usr/local/lib/python3.7/dist-packages (from tensorboard>=2.4.1->-r yolov5/requirements.txt (line 15)) (2.23.0)
Requirement already satisfied: setuptools>=41.0.0 in /usr/local/lib/python3.7/dist-packages (from tensorboard>=2.4.1->-r yolov5/requirements.txt (line 15)) (57.2.0)
Requirement already satisfied: protobuf>=3.6.0 in /usr/local/lib/python3.7/dist-packages (from tensorboard>=2.4.1->-r yolov5/requirements.txt (line 15)) (3.17.3)
Requirement already satisfied: pytz>=2017.2 in /usr/local/lib/python3.7/dist-packages (from pandas->-r yolov5/requirements.txt (line 20)) (2018.9)
Requirement already satisfied: six in /usr/local/lib/python3.7/dist-packages (from absl-py>=0.4->tensorboard>=2.4.1->-r yolov5/requirements.txt (line 15)) (1.15.0)
Requirement already satisfied: pyasn1-modules>=0.2.1 in /usr/local/lib/python3.7/dist-packages (from google-auth<2,>=1.6.3->tensorboard>=2.4.1->-r yolov5/requirements.txt (line 15)) (0.2.8)
Requirement already satisfied: cachetools<5.0,>=2.0.0 in /usr/local/lib/python3.7/dist-packages (from google-auth<2,>=1.6.3->tensorboard>=2.4.1->-r yolov5/requirements.txt (line 15)) (4.2.2)
Requirement already satisfied: rsa<5,>=3.1.4 in /usr/local/lib/python3.7/dist-packages (from google-auth<2,>=1.6.3->tensorboard>=2.4.1->-r yolov5/requirements.txt (line 15)) (4.7.2)
Requirement already satisfied: requests-oauthlib>=0.7.0 in /usr/local/lib/python3.7/dist-packages (from google-auth-oauthlib<0.5,>=0.4.1->tensorboard>=2.4.1->-r yolov5/requirements.txt (line 15)) (1.3.0)
Requirement already satisfied: importlib-metadata in /usr/local/lib/python3.7/dist-packages (from markdown>=2.6.8->tensorboard>=2.4.1->-r yolov5/requirements.txt (line 15)) (4.6.1)
Requirement already satisfied: pyasn1<0.5.0,>=0.4.6 in /usr/local/lib/python3.7/dist-packages (from pyasn1-modules>=0.2.1->google-auth<2,>=1.6.3->tensorboard>=2.4.1->-r yolov5/requirements.txt (line 15)) (0.4.8)
Requirement already satisfied: certifi>=2017.4.17 in /usr/local/lib/python3.7/dist-packages (from requests<3,>=2.21.0->tensorboard>=2.4.1->-r yolov5/requirements.txt (line 15)) (2021.5.30)
Requirement already satisfied: urllib3!=1.25.0,!=1.25.1,<1.26,>=1.21.1 in /usr/local/lib/python3.7/dist-packages (from requests<3,>=2.21.0->tensorboard>=2.4.1->-r yolov5/requirements.txt (line 15)) (1.24.3)
Requirement already satisfied: chardet<4,>=3.0.2 in /usr/local/lib/python3.7/dist-packages (from requests<3,>=2.21.0->tensorboard>=2.4.1->-r yolov5/requirements.txt (line 15)) (3.0.4)
Requirement already satisfied: idna<3,>=2.5 in /usr/local/lib/python3.7/dist-packages (from requests<3,>=2.21.0->tensorboard>=2.4.1->-r yolov5/requirements.txt (line 15)) (2.10)
Requirement already satisfied: oauthlib>=3.0.0 in /usr/local/lib/python3.7/dist-packages (from requests-oauthlib>=0.7.0->google-auth-oauthlib<0.5,>=0.4.1->tensorboard>=2.4.1->-r yolov5/requirements.txt (line 15)) (3.1.1)
Requirement already satisfied: zipp>=0.5 in /usr/local/lib/python3.7/dist-packages (from importlib-metadata->markdown>=2.6.8->tensorboard>=2.4.1->-r yolov5/requirements.txt (line 15)) (3.5.0)
Installing collected packages: thop, PyYAML
  Attempting uninstall: PyYAML
    Found existing installation: PyYAML 3.13
    Uninstalling PyYAML-3.13:
      Successfully uninstalled PyYAML-3.13
Successfully installed PyYAML-5.4.1 thop-0.0.31.post2005241907
import torch
from IPython.display import Image  # for displaying images
import os 
import random
import shutil
from sklearn.model_selection import train_test_split
import xml.etree.ElementTree as ET
from xml.dom import minidom
from tqdm import tqdm
from PIL import Image, ImageDraw
import numpy as np
import matplotlib.pyplot as plt
import pycocotools
from pycocotools.coco import COCO 
import sys
import json
import cv2
import random
random.seed(108)
!mkdir overlays
!mkdir yolo_annots
!wget  https://evp-ml-data.s3.us-east-2.amazonaws.com/ml-interview/openimages-personcar/trainval.tar.gz
--2021-07-24 17:51:54--  https://evp-ml-data.s3.us-east-2.amazonaws.com/ml-interview/openimages-personcar/trainval.tar.gz
Resolving evp-ml-data.s3.us-east-2.amazonaws.com (evp-ml-data.s3.us-east-2.amazonaws.com)... 52.219.102.122
Connecting to evp-ml-data.s3.us-east-2.amazonaws.com (evp-ml-data.s3.us-east-2.amazonaws.com)|52.219.102.122|:443... connected.
HTTP request sent, awaiting response... 200 OK
Length: 734266940 (700M) [application/x-gzip]
Saving to: ‘trainval.tar.gz’

trainval.tar.gz     100%[===================>] 700.25M  15.6MB/s    in 47s     

2021-07-24 17:52:42 (15.0 MB/s) - ‘trainval.tar.gz’ saved [734266940/734266940]

!tar -xvf /content/trainval.tar.gz
trainval/
trainval/images/
trainval/annotations/
trainval/annotations/bbox-annotations.json
trainval/images/image_000001631.jpg
trainval/images/image_000000249.jpg
trainval/images/image_000001157.jpg
trainval/images/image_000001143.jpg
trainval/images/image_000001625.jpg
trainval/images/image_000000513.jpg
trainval/images/image_000000275.jpg
trainval/images/image_000000261.jpg
trainval/images/image_000001619.jpg
trainval/images/image_000000507.jpg
trainval/images/image_000001194.jpg
trainval/images/image_000001180.jpg
trainval/images/image_000001816.jpg
trainval/images/image_000001802.jpg
trainval/images/image_000001355.jpg
trainval/images/image_000001433.jpg
trainval/images/image_000000739.jpg
trainval/images/image_000001427.jpg
trainval/images/image_000001341.jpg
trainval/images/image_000001369.jpg
trainval/images/image_000000077.jpg
trainval/images/image_000000711.jpg
trainval/images/image_000002106.jpg
trainval/images/image_000002112.jpg
trainval/images/image_000000705.jpg
trainval/images/image_000000063.jpg
trainval/images/image_000000088.jpg
trainval/images/image_000001396.jpg
trainval/images/image_000000936.jpg
trainval/images/image_000000922.jpg
trainval/images/image_000001382.jpg
trainval/images/image_000001221.jpg
trainval/images/image_000001547.jpg
trainval/images/image_000000881.jpg
trainval/images/image_000000659.jpg
trainval/images/image_000001553.jpg
trainval/images/image_000000895.jpg
trainval/images/image_000001235.jpg
trainval/images/image_000000103.jpg
trainval/images/image_000000665.jpg
trainval/images/image_000002072.jpg
trainval/images/image_000002066.jpg
trainval/images/image_000000671.jpg
trainval/images/image_000000117.jpg
trainval/images/image_000001209.jpg
trainval/images/image_000001584.jpg
trainval/images/image_000000842.jpg
trainval/images/image_000002099.jpg
trainval/images/image_000001590.jpg
trainval/images/image_000000856.jpg
trainval/images/image_000001745.jpg
trainval/images/image_000001023.jpg
trainval/images/image_000001037.jpg
trainval/images/image_000000329.jpg
trainval/images/image_000001989.jpg
trainval/images/image_000001751.jpg
trainval/images/image_000000467.jpg
trainval/images/image_000001779.jpg
trainval/images/image_000000301.jpg
trainval/images/image_000000315.jpg
trainval/images/image_000000473.jpg
trainval/images/image_000001786.jpg
trainval/images/image_000000498.jpg
trainval/images/image_000001792.jpg
trainval/images/image_000001962.jpg
trainval/images/image_000001976.jpg
trainval/images/image_000001977.jpg
trainval/images/image_000001963.jpg
trainval/images/image_000001793.jpg
trainval/images/image_000000499.jpg
trainval/images/image_000001787.jpg
trainval/images/image_000000314.jpg
trainval/images/image_000000472.jpg
trainval/images/image_000001778.jpg
trainval/images/image_000000466.jpg
trainval/images/image_000000300.jpg
trainval/images/image_000000328.jpg
trainval/images/image_000001036.jpg
trainval/images/image_000001750.jpg
trainval/images/image_000001988.jpg
trainval/images/image_000001744.jpg
trainval/images/image_000001022.jpg
trainval/images/image_000000857.jpg
trainval/images/image_000001591.jpg
trainval/images/image_000002098.jpg
trainval/images/image_000000843.jpg
trainval/images/image_000001585.jpg
trainval/images/image_000000670.jpg
trainval/images/image_000002067.jpg
trainval/images/image_000001208.jpg
trainval/images/image_000000116.jpg
trainval/images/image_000000102.jpg
trainval/images/image_000002073.jpg
trainval/images/image_000000664.jpg
trainval/images/image_000000894.jpg
trainval/images/image_000001552.jpg
trainval/images/image_000001234.jpg
trainval/images/image_000001220.jpg
trainval/images/image_000000658.jpg
trainval/images/image_000000880.jpg
trainval/images/image_000001546.jpg
trainval/images/image_000000923.jpg
trainval/images/image_000001383.jpg
trainval/images/image_000001397.jpg
trainval/images/image_000000089.jpg
trainval/images/image_000000937.jpg
trainval/images/image_000000704.jpg
trainval/images/image_000002113.jpg
trainval/images/image_000000062.jpg
trainval/images/image_000000076.jpg
trainval/images/image_000001368.jpg
trainval/images/image_000002107.jpg
trainval/images/image_000000710.jpg
trainval/images/image_000001426.jpg
trainval/images/image_000000738.jpg
trainval/images/image_000001340.jpg
trainval/images/image_000001354.jpg
trainval/images/image_000001432.jpg
trainval/images/image_000001803.jpg
trainval/images/image_000001817.jpg
trainval/images/image_000001181.jpg
trainval/images/image_000001195.jpg
trainval/images/image_000000260.jpg
trainval/images/image_000000506.jpg
trainval/images/image_000001618.jpg
trainval/images/image_000000512.jpg
trainval/images/image_000000274.jpg
trainval/images/image_000001142.jpg
trainval/images/image_000001624.jpg
trainval/images/image_000001630.jpg
trainval/images/image_000001156.jpg
trainval/images/image_000000248.jpg
trainval/images/image_000001626.jpg
trainval/images/image_000000538.jpg
trainval/images/image_000001140.jpg
trainval/images/image_000001154.jpg
trainval/images/image_000001632.jpg
trainval/images/image_000000504.jpg
trainval/images/image_000000262.jpg
trainval/images/image_000000276.jpg
trainval/images/image_000001168.jpg
trainval/images/image_000000510.jpg
trainval/images/image_000001183.jpg
trainval/images/image_000001197.jpg
trainval/images/image_000000289.jpg
trainval/images/image_000001829.jpg
trainval/images/image_000001801.jpg
trainval/images/image_000001815.jpg
trainval/images/image_000001342.jpg
trainval/images/image_000001424.jpg
trainval/images/image_000002139.jpg
trainval/images/image_000001430.jpg
trainval/images/image_000001356.jpg
trainval/images/image_000000048.jpg
trainval/images/image_000000060.jpg
trainval/images/image_000002111.jpg
trainval/images/image_000000706.jpg
trainval/images/image_000001418.jpg
trainval/images/image_000000712.jpg
trainval/images/image_000002105.jpg
trainval/images/image_000000074.jpg
trainval/images/image_000001381.jpg
trainval/images/image_000000921.jpg
trainval/images/image_000000935.jpg
trainval/images/image_000001395.jpg
trainval/images/image_000000909.jpg
trainval/images/image_000000128.jpg
trainval/images/image_000001236.jpg
trainval/images/image_000001550.jpg
trainval/images/image_000000896.jpg
trainval/images/image_000002059.jpg
trainval/images/image_000001544.jpg
trainval/images/image_000000882.jpg
trainval/images/image_000001222.jpg
trainval/images/image_000000114.jpg
trainval/images/image_000002065.jpg
trainval/images/image_000000672.jpg
trainval/images/image_000001578.jpg
trainval/images/image_000000666.jpg
trainval/images/image_000002071.jpg
trainval/images/image_000000100.jpg
trainval/images/image_000001593.jpg
trainval/images/image_000000855.jpg
trainval/images/image_000000699.jpg
trainval/images/image_000001587.jpg
trainval/images/image_000000841.jpg
trainval/images/image_000000869.jpg
trainval/images/image_000001752.jpg
trainval/images/image_000001034.jpg
trainval/images/image_000001020.jpg
trainval/images/image_000000458.jpg
trainval/images/image_000001746.jpg
trainval/images/image_000000470.jpg
trainval/images/image_000001008.jpg
trainval/images/image_000000316.jpg
trainval/images/image_000000302.jpg
trainval/images/image_000000464.jpg
trainval/images/image_000001791.jpg
trainval/images/image_000001949.jpg
trainval/images/image_000001785.jpg
trainval/images/image_000001975.jpg
trainval/images/image_000001961.jpg
trainval/images/image_000001960.jpg
trainval/images/image_000001974.jpg
trainval/images/image_000001784.jpg
trainval/images/image_000001948.jpg
trainval/images/image_000001790.jpg
trainval/images/image_000000303.jpg
trainval/images/image_000000465.jpg
trainval/images/image_000000471.jpg
trainval/images/image_000000317.jpg
trainval/images/image_000001009.jpg
trainval/images/image_000001021.jpg
trainval/images/image_000001747.jpg
trainval/images/image_000000459.jpg
trainval/images/image_000001753.jpg
trainval/images/image_000001035.jpg
trainval/images/image_000000868.jpg
trainval/images/image_000000840.jpg
trainval/images/image_000001586.jpg
trainval/images/image_000000698.jpg
trainval/images/image_000000854.jpg
trainval/images/image_000001592.jpg
trainval/images/image_000002070.jpg
trainval/images/image_000000667.jpg
trainval/images/image_000001579.jpg
trainval/images/image_000000101.jpg
trainval/images/image_000000115.jpg
trainval/images/image_000000673.jpg
trainval/images/image_000002064.jpg
trainval/images/image_000000883.jpg
trainval/images/image_000001545.jpg
trainval/images/image_000001223.jpg
trainval/images/image_000001237.jpg
trainval/images/image_000000129.jpg
trainval/images/image_000002058.jpg
trainval/images/image_000000897.jpg
trainval/images/image_000001551.jpg
trainval/images/image_000000908.jpg
trainval/images/image_000000934.jpg
trainval/images/image_000001394.jpg
trainval/images/image_000001380.jpg
trainval/images/image_000000920.jpg
trainval/images/image_000002104.jpg
trainval/images/image_000000713.jpg
trainval/images/image_000000075.jpg
trainval/images/image_000000061.jpg
trainval/images/image_000001419.jpg
trainval/images/image_000000707.jpg
trainval/images/image_000002110.jpg
trainval/images/image_000001431.jpg
trainval/images/image_000002138.jpg
trainval/images/image_000000049.jpg
trainval/images/image_000001357.jpg
trainval/images/image_000001343.jpg
trainval/images/image_000001425.jpg
trainval/images/image_000001814.jpg
trainval/images/image_000001800.jpg
trainval/images/image_000000288.jpg
trainval/images/image_000001196.jpg
trainval/images/image_000001828.jpg
trainval/images/image_000001182.jpg
trainval/images/image_000001169.jpg
trainval/images/image_000000277.jpg
trainval/images/image_000000511.jpg
trainval/images/image_000000505.jpg
trainval/images/image_000000263.jpg
trainval/images/image_000001155.jpg
trainval/images/image_000001633.jpg
trainval/images/image_000000539.jpg
trainval/images/image_000001627.jpg
trainval/images/image_000001141.jpg
trainval/images/image_000000267.jpg
trainval/images/image_000001179.jpg
trainval/images/image_000000501.jpg
trainval/images/image_000000515.jpg
trainval/images/image_000000273.jpg
trainval/images/image_000001145.jpg
trainval/images/image_000001623.jpg
trainval/images/image_000001637.jpg
trainval/images/image_000000529.jpg
trainval/images/image_000001151.jpg
trainval/images/image_000001804.jpg
trainval/images/image_000001810.jpg
trainval/images/image_000001186.jpg
trainval/images/image_000000298.jpg
trainval/images/image_000001838.jpg
trainval/images/image_000001192.jpg
trainval/images/image_000002114.jpg
trainval/images/image_000000703.jpg
trainval/images/image_000000065.jpg
trainval/images/image_000000071.jpg
trainval/images/image_000000717.jpg
trainval/images/image_000001409.jpg
trainval/images/image_000002100.jpg
trainval/images/image_000001421.jpg
trainval/images/image_000002128.jpg
trainval/images/image_000001347.jpg
trainval/images/image_000000059.jpg
trainval/images/image_000001353.jpg
trainval/images/image_000001435.jpg
trainval/images/image_000000918.jpg
trainval/images/image_000000924.jpg
trainval/images/image_000001384.jpg
trainval/images/image_000001390.jpg
trainval/images/image_000000930.jpg
trainval/images/image_000002060.jpg
trainval/images/image_000001569.jpg
trainval/images/image_000000677.jpg
trainval/images/image_000000111.jpg
trainval/images/image_000000105.jpg
trainval/images/image_000000663.jpg
trainval/images/image_000002074.jpg
trainval/images/image_000000893.jpg
trainval/images/image_000001555.jpg
trainval/images/image_000001233.jpg
trainval/images/image_000000139.jpg
trainval/images/image_000001227.jpg
trainval/images/image_000002048.jpg
trainval/images/image_000000887.jpg
trainval/images/image_000001541.jpg
trainval/images/image_000000878.jpg
trainval/images/image_000000688.jpg
trainval/images/image_000000850.jpg
trainval/images/image_000001596.jpg
trainval/images/image_000000844.jpg
trainval/images/image_000001582.jpg
trainval/images/image_000000313.jpg
trainval/images/image_000000475.jpg
trainval/images/image_000000461.jpg
trainval/images/image_000001019.jpg
trainval/images/image_000000307.jpg
trainval/images/image_000001031.jpg
trainval/images/image_000000449.jpg
trainval/images/image_000001757.jpg
trainval/images/image_000001743.jpg
trainval/images/image_000001025.jpg
trainval/images/image_000001970.jpg
trainval/images/image_000001964.jpg
trainval/images/image_000001794.jpg
trainval/images/image_000001780.jpg
trainval/images/image_000001958.jpg
trainval/images/image_000001959.jpg
trainval/images/image_000001781.jpg
trainval/images/image_000001795.jpg
trainval/images/image_000001965.jpg
trainval/images/image_000001971.jpg
trainval/images/image_000001742.jpg
trainval/images/image_000001024.jpg
trainval/images/image_000001030.jpg
trainval/images/image_000001756.jpg
trainval/images/image_000000448.jpg
trainval/images/image_000000460.jpg
trainval/images/image_000000306.jpg
trainval/images/image_000001018.jpg
trainval/images/image_000000312.jpg
trainval/images/image_000000474.jpg
trainval/images/image_000001583.jpg
trainval/images/image_000000845.jpg
trainval/images/image_000001597.jpg
trainval/images/image_000000851.jpg
trainval/images/image_000000689.jpg
trainval/images/image_000000879.jpg
trainval/images/image_000001226.jpg
trainval/images/image_000000138.jpg
trainval/images/image_000001540.jpg
trainval/images/image_000000886.jpg
trainval/images/image_000002049.jpg
trainval/images/image_000001554.jpg
trainval/images/image_000000892.jpg
trainval/images/image_000001232.jpg
trainval/images/image_000000104.jpg
trainval/images/image_000002075.jpg
trainval/images/image_000000662.jpg
trainval/images/image_000000676.jpg
trainval/images/image_000001568.jpg
trainval/images/image_000002061.jpg
trainval/images/image_000000110.jpg
trainval/images/image_000001391.jpg
trainval/images/image_000000931.jpg
trainval/images/image_000000925.jpg
trainval/images/image_000001385.jpg
trainval/images/image_000000919.jpg
trainval/images/image_000001352.jpg
trainval/images/image_000001434.jpg
trainval/images/image_000002129.jpg
trainval/images/image_000001420.jpg
trainval/images/image_000000058.jpg
trainval/images/image_000001346.jpg
trainval/images/image_000000070.jpg
trainval/images/image_000002101.jpg
trainval/images/image_000001408.jpg
trainval/images/image_000000716.jpg
trainval/images/image_000000702.jpg
trainval/images/image_000002115.jpg
trainval/images/image_000000064.jpg
trainval/images/image_000001193.jpg
trainval/images/image_000000299.jpg
trainval/images/image_000001187.jpg
trainval/images/image_000001839.jpg
trainval/images/image_000001811.jpg
trainval/images/image_000001805.jpg
trainval/images/image_000000528.jpg
trainval/images/image_000001636.jpg
trainval/images/image_000001150.jpg
trainval/images/image_000001144.jpg
trainval/images/image_000001622.jpg
trainval/images/image_000000514.jpg
trainval/images/image_000000272.jpg
trainval/images/image_000001178.jpg
trainval/images/image_000000266.jpg
trainval/images/image_000000500.jpg
trainval/images/image_000000270.jpg
trainval/images/image_000001608.jpg
trainval/images/image_000000516.jpg
trainval/images/image_000000502.jpg
trainval/images/image_000000264.jpg
trainval/images/image_000001152.jpg
trainval/images/image_000001634.jpg
trainval/images/image_000001620.jpg
trainval/images/image_000000258.jpg
trainval/images/image_000001146.jpg
trainval/images/image_000001813.jpg
trainval/images/image_000001807.jpg
trainval/images/image_000001191.jpg
trainval/images/image_000001185.jpg
trainval/images/image_000000714.jpg
trainval/images/image_000002103.jpg
trainval/images/image_000000072.jpg
trainval/images/image_000001378.jpg
trainval/images/image_000000066.jpg
trainval/images/image_000002117.jpg
trainval/images/image_000000700.jpg
trainval/images/image_000000728.jpg
trainval/images/image_000001436.jpg
trainval/images/image_000001350.jpg
trainval/images/image_000001344.jpg
trainval/images/image_000001422.jpg
trainval/images/image_000000933.jpg
trainval/images/image_000001393.jpg
trainval/images/image_000000099.jpg
trainval/images/image_000001387.jpg
trainval/images/image_000000927.jpg
trainval/images/image_000000660.jpg
trainval/images/image_000002077.jpg
trainval/images/image_000000106.jpg
trainval/images/image_000001218.jpg
trainval/images/image_000000112.jpg
trainval/images/image_000002063.jpg
trainval/images/image_000000674.jpg
trainval/images/image_000000884.jpg
trainval/images/image_000001542.jpg
trainval/images/image_000001224.jpg
trainval/images/image_000001230.jpg
trainval/images/image_000000890.jpg
trainval/images/image_000001556.jpg
trainval/images/image_000000648.jpg
trainval/images/image_000000847.jpg
trainval/images/image_000001581.jpg
trainval/images/image_000002088.jpg
trainval/images/image_000000853.jpg
trainval/images/image_000001595.jpg
trainval/images/image_000000304.jpg
trainval/images/image_000000462.jpg
trainval/images/image_000000476.jpg
trainval/images/image_000001768.jpg
trainval/images/image_000000310.jpg
trainval/images/image_000001026.jpg
trainval/images/image_000000338.jpg
trainval/images/image_000001998.jpg
trainval/images/image_000001740.jpg
trainval/images/image_000001754.jpg
trainval/images/image_000001032.jpg
trainval/images/image_000001967.jpg
trainval/images/image_000001973.jpg
trainval/images/image_000001783.jpg
trainval/images/image_000001797.jpg
trainval/images/image_000000489.jpg
trainval/images/image_000000488.jpg
trainval/images/image_000001796.jpg
trainval/images/image_000001782.jpg
trainval/images/image_000001972.jpg
trainval/images/image_000001966.jpg
trainval/images/image_000001755.jpg
trainval/images/image_000001033.jpg
trainval/images/image_000000339.jpg
trainval/images/image_000001027.jpg
trainval/images/image_000001741.jpg
trainval/images/image_000001999.jpg
trainval/images/image_000001769.jpg
trainval/images/image_000000477.jpg
trainval/images/image_000000311.jpg
trainval/images/image_000000305.jpg
trainval/images/image_000000463.jpg
trainval/images/image_000001594.jpg
trainval/images/image_000000852.jpg
trainval/images/image_000002089.jpg
trainval/images/image_000001580.jpg
trainval/images/image_000000846.jpg
trainval/images/image_000001231.jpg
trainval/images/image_000000649.jpg
trainval/images/image_000001557.jpg
trainval/images/image_000000891.jpg
trainval/images/image_000001543.jpg
trainval/images/image_000000885.jpg
trainval/images/image_000001225.jpg
trainval/images/image_000000113.jpg
trainval/images/image_000000675.jpg
trainval/images/image_000002062.jpg
trainval/images/image_000002076.jpg
trainval/images/image_000000661.jpg
trainval/images/image_000001219.jpg
trainval/images/image_000000107.jpg
trainval/images/image_000001386.jpg
trainval/images/image_000000098.jpg
trainval/images/image_000000926.jpg
trainval/images/image_000000932.jpg
trainval/images/image_000001392.jpg
trainval/images/image_000001345.jpg
trainval/images/image_000001423.jpg
trainval/images/image_000001437.jpg
trainval/images/image_000000729.jpg
trainval/images/image_000001351.jpg
trainval/images/image_000000067.jpg
trainval/images/image_000001379.jpg
trainval/images/image_000000701.jpg
trainval/images/image_000002116.jpg
trainval/images/image_000002102.jpg
trainval/images/image_000000715.jpg
trainval/images/image_000000073.jpg
trainval/images/image_000001184.jpg
trainval/images/image_000001190.jpg
trainval/images/image_000001806.jpg
trainval/images/image_000001812.jpg
trainval/images/image_000001621.jpg
trainval/images/image_000001147.jpg
trainval/images/image_000000259.jpg
trainval/images/image_000001153.jpg
trainval/images/image_000001635.jpg
trainval/images/image_000000503.jpg
trainval/images/image_000000265.jpg
trainval/images/image_000000271.jpg
trainval/images/image_000000517.jpg
trainval/images/image_000001609.jpg
trainval/images/image_000001134.jpg
trainval/images/image_000001652.jpg
trainval/images/image_000001646.jpg
trainval/images/image_000000558.jpg
trainval/images/image_000001120.jpg
trainval/images/image_000000216.jpg
trainval/images/image_000001108.jpg
trainval/images/image_000000570.jpg
trainval/images/image_000000564.jpg
trainval/images/image_000000202.jpg
trainval/images/image_000001849.jpg
trainval/images/image_000001691.jpg
trainval/images/image_000001685.jpg
trainval/images/image_000001875.jpg
trainval/images/image_000001861.jpg
trainval/images/image_000000996.jpg
trainval/images/image_000001450.jpg
trainval/images/image_000002159.jpg
trainval/images/image_000001336.jpg
trainval/images/image_000000028.jpg
trainval/images/image_000001322.jpg
trainval/images/image_000000982.jpg
trainval/images/image_000001444.jpg
trainval/images/image_000002165.jpg
trainval/images/image_000000772.jpg
trainval/images/image_000000014.jpg
trainval/images/image_000000766.jpg
trainval/images/image_000001478.jpg
trainval/images/image_000002171.jpg
trainval/images/image_000000955.jpg
trainval/images/image_000001493.jpg
trainval/images/image_000000941.jpg
trainval/images/image_000001487.jpg
trainval/images/image_000000799.jpg
trainval/images/image_000000969.jpg
trainval/images/image_000001524.jpg
trainval/images/image_000001242.jpg
trainval/images/image_000000148.jpg
trainval/images/image_000001256.jpg
trainval/images/image_000002039.jpg
trainval/images/image_000001530.jpg
trainval/images/image_000002011.jpg
trainval/images/image_000001518.jpg
trainval/images/image_000000606.jpg
trainval/images/image_000000160.jpg
trainval/images/image_000000174.jpg
trainval/images/image_000000612.jpg
trainval/images/image_000002005.jpg
trainval/images/image_000000821.jpg
trainval/images/image_000001281.jpg
trainval/images/image_000001295.jpg
trainval/images/image_000000835.jpg
trainval/images/image_000000809.jpg
trainval/images/image_000001040.jpg
trainval/images/image_000000438.jpg
trainval/images/image_000001726.jpg
trainval/images/image_000001732.jpg
trainval/images/image_000001054.jpg
trainval/images/image_000000362.jpg
trainval/images/image_000000404.jpg
trainval/images/image_000002213.jpg
trainval/images/image_000002207.jpg
trainval/images/image_000000410.jpg
trainval/images/image_000001068.jpg
trainval/images/image_000000376.jpg
trainval/images/image_000001083.jpg
trainval/images/image_000001929.jpg
trainval/images/image_000000389.jpg
trainval/images/image_000001097.jpg
trainval/images/image_000001901.jpg
trainval/images/image_000001915.jpg
trainval/images/image_000001914.jpg
trainval/images/image_000001900.jpg
trainval/images/image_000001928.jpg
trainval/images/image_000001096.jpg
trainval/images/image_000000388.jpg
trainval/images/image_000001082.jpg
trainval/images/image_000000411.jpg
trainval/images/image_000002206.jpg
trainval/images/image_000000377.jpg
trainval/images/image_000001069.jpg
trainval/images/image_000000363.jpg
trainval/images/image_000002212.jpg
trainval/images/image_000000405.jpg
trainval/images/image_000001733.jpg
trainval/images/image_000001055.jpg
trainval/images/image_000001041.jpg
trainval/images/image_000001727.jpg
trainval/images/image_000000439.jpg
trainval/images/image_000000808.jpg
trainval/images/image_000001294.jpg
trainval/images/image_000000834.jpg
trainval/images/image_000000820.jpg
trainval/images/image_000001280.jpg
trainval/images/image_000000175.jpg
trainval/images/image_000002004.jpg
trainval/images/image_000000613.jpg
trainval/images/image_000000607.jpg
trainval/images/image_000001519.jpg
trainval/images/image_000002010.jpg
trainval/images/image_000000161.jpg
trainval/images/image_000001257.jpg
trainval/images/image_000000149.jpg
trainval/images/image_000001531.jpg
trainval/images/image_000002038.jpg
trainval/images/image_000001525.jpg
trainval/images/image_000001243.jpg
trainval/images/image_000000968.jpg
trainval/images/image_000000798.jpg
trainval/images/image_000001486.jpg
trainval/images/image_000000940.jpg
trainval/images/image_000001492.jpg
trainval/images/image_000000954.jpg
trainval/images/image_000000001.jpg
trainval/images/image_000002170.jpg
trainval/images/image_000001479.jpg
trainval/images/image_000000767.jpg
trainval/images/image_000000773.jpg
trainval/images/image_000002164.jpg
trainval/images/image_000000015.jpg
trainval/images/image_000001323.jpg
trainval/images/image_000001445.jpg
trainval/images/image_000000983.jpg
trainval/images/image_000002158.jpg
trainval/images/image_000001451.jpg
trainval/images/image_000000997.jpg
trainval/images/image_000000029.jpg
trainval/images/image_000001337.jpg
trainval/images/image_000001860.jpg
trainval/images/image_000001874.jpg
trainval/images/image_000001684.jpg
trainval/images/image_000001690.jpg
trainval/images/image_000001848.jpg
trainval/images/image_000000565.jpg
trainval/images/image_000000203.jpg
trainval/images/image_000001109.jpg
trainval/images/image_000000217.jpg
trainval/images/image_000000571.jpg
trainval/images/image_000000559.jpg
trainval/images/image_000001647.jpg
trainval/images/image_000001121.jpg
trainval/images/image_000001135.jpg
trainval/images/image_000001653.jpg
trainval/images/image_000001123.jpg
trainval/images/image_000001645.jpg
trainval/images/image_000001651.jpg
trainval/images/image_000001889.jpg
trainval/images/image_000000229.jpg
trainval/images/image_000001137.jpg
trainval/images/image_000000201.jpg
trainval/images/image_000001679.jpg
trainval/images/image_000000567.jpg
trainval/images/image_000000573.jpg
trainval/images/image_000000215.jpg
trainval/images/image_000000598.jpg
trainval/images/image_000001686.jpg
trainval/images/image_000001692.jpg
trainval/images/image_000001862.jpg
trainval/images/image_000001876.jpg
trainval/images/image_000000759.jpg
trainval/images/image_000000981.jpg
trainval/images/image_000001447.jpg
trainval/images/image_000001321.jpg
trainval/images/image_000001335.jpg
trainval/images/image_000000995.jpg
trainval/images/image_000001453.jpg
trainval/images/image_000000765.jpg
trainval/images/image_000002172.jpg
trainval/images/image_000000003.jpg
trainval/images/image_000001309.jpg
trainval/images/image_000000017.jpg
trainval/images/image_000002166.jpg
trainval/images/image_000000771.jpg
trainval/images/image_000000942.jpg
trainval/images/image_000001484.jpg
trainval/images/image_000002199.jpg
trainval/images/image_000000956.jpg
trainval/images/image_000001490.jpg
trainval/images/image_000001533.jpg
trainval/images/image_000001255.jpg
trainval/images/image_000001241.jpg
trainval/images/image_000001527.jpg
trainval/images/image_000000639.jpg
trainval/images/image_000000611.jpg
trainval/images/image_000002006.jpg
trainval/images/image_000000177.jpg
trainval/images/image_000001269.jpg
trainval/images/image_000000163.jpg
trainval/images/image_000002012.jpg
trainval/images/image_000000605.jpg
trainval/images/image_000000836.jpg
trainval/images/image_000001296.jpg
trainval/images/image_000000188.jpg
trainval/images/image_000001282.jpg
trainval/images/image_000000822.jpg
trainval/images/image_000001057.jpg
trainval/images/image_000000349.jpg
trainval/images/image_000001731.jpg
trainval/images/image_000002238.jpg
trainval/images/image_000001725.jpg
trainval/images/image_000001043.jpg
trainval/images/image_000000375.jpg
trainval/images/image_000002204.jpg
trainval/images/image_000000413.jpg
trainval/images/image_000000407.jpg
trainval/images/image_000001719.jpg
trainval/images/image_000002210.jpg
trainval/images/image_000000361.jpg
trainval/images/image_000001094.jpg
trainval/images/image_000001080.jpg
trainval/images/image_000001916.jpg
trainval/images/image_000001902.jpg
trainval/images/image_000001903.jpg
trainval/images/image_000001917.jpg
trainval/images/image_000001081.jpg
trainval/images/image_000001095.jpg
trainval/images/image_000002211.jpg
trainval/images/image_000001718.jpg
trainval/images/image_000000406.jpg
trainval/images/image_000000360.jpg
trainval/images/image_000000374.jpg
trainval/images/image_000000412.jpg
trainval/images/image_000002205.jpg
trainval/images/image_000001724.jpg
trainval/images/image_000001042.jpg
trainval/images/image_000000348.jpg
trainval/images/image_000001056.jpg
trainval/images/image_000002239.jpg
trainval/images/image_000001730.jpg
trainval/images/image_000001283.jpg
trainval/images/image_000000823.jpg
trainval/images/image_000000837.jpg
trainval/images/image_000000189.jpg
trainval/images/image_000001297.jpg
trainval/images/image_000000162.jpg
trainval/images/image_000000604.jpg
trainval/images/image_000002013.jpg
trainval/images/image_000002007.jpg
trainval/images/image_000000610.jpg
trainval/images/image_000001268.jpg
trainval/images/image_000000176.jpg
trainval/images/image_000001240.jpg
trainval/images/image_000000638.jpg
trainval/images/image_000001526.jpg
trainval/images/image_000001532.jpg
trainval/images/image_000001254.jpg
trainval/images/image_000001491.jpg
trainval/images/image_000000957.jpg
trainval/images/image_000002198.jpg
trainval/images/image_000001485.jpg
trainval/images/image_000000943.jpg
trainval/images/image_000000016.jpg
trainval/images/image_000001308.jpg
trainval/images/image_000000770.jpg
trainval/images/image_000002167.jpg
trainval/images/image_000002173.jpg
trainval/images/image_000000764.jpg
trainval/images/image_000000002.jpg
trainval/images/image_000001334.jpg
trainval/images/image_000001452.jpg
trainval/images/image_000000994.jpg
trainval/images/image_000001446.jpg
trainval/images/image_000000980.jpg
trainval/images/image_000000758.jpg
trainval/images/image_000001320.jpg
trainval/images/image_000001877.jpg
trainval/images/image_000001863.jpg
trainval/images/image_000001693.jpg
trainval/images/image_000001687.jpg
trainval/images/image_000000599.jpg
trainval/images/image_000000572.jpg
trainval/images/image_000000214.jpg
trainval/images/image_000000200.jpg
trainval/images/image_000000566.jpg
trainval/images/image_000001678.jpg
trainval/images/image_000001888.jpg
trainval/images/image_000001650.jpg
trainval/images/image_000001136.jpg
trainval/images/image_000000228.jpg
trainval/images/image_000001122.jpg
trainval/images/image_000001644.jpg
trainval/images/image_000000562.jpg
trainval/images/image_000000204.jpg
trainval/images/image_000000210.jpg
trainval/images/image_000001668.jpg
trainval/images/image_000000576.jpg
trainval/images/image_000001640.jpg
trainval/images/image_000001898.jpg
trainval/images/image_000000238.jpg
trainval/images/image_000001126.jpg
trainval/images/image_000001132.jpg
trainval/images/image_000001654.jpg
trainval/images/image_000001867.jpg
trainval/images/image_000001873.jpg
trainval/images/image_000001683.jpg
trainval/images/image_000000589.jpg
trainval/images/image_000001697.jpg
trainval/images/image_000001318.jpg
trainval/images/image_000000006.jpg
trainval/images/image_000000760.jpg
trainval/images/image_000002177.jpg
trainval/images/image_000002163.jpg
trainval/images/image_000000774.jpg
trainval/images/image_000000012.jpg
trainval/images/image_000001324.jpg
trainval/images/image_000001442.jpg
trainval/images/image_000000984.jpg
trainval/images/image_000000748.jpg
trainval/images/image_000001456.jpg
trainval/images/image_000000990.jpg
trainval/images/image_000001330.jpg
trainval/images/image_000001481.jpg
trainval/images/image_000000947.jpg
trainval/images/image_000002188.jpg
trainval/images/image_000001495.jpg
trainval/images/image_000000953.jpg
trainval/images/image_000000172.jpg
trainval/images/image_000000614.jpg
trainval/images/image_000002003.jpg
trainval/images/image_000002017.jpg
trainval/images/image_000000600.jpg
trainval/images/image_000000166.jpg
trainval/images/image_000001278.jpg
trainval/images/image_000001250.jpg
trainval/images/image_000001536.jpg
trainval/images/image_000000628.jpg
trainval/images/image_000001522.jpg
trainval/images/image_000001244.jpg
trainval/images/image_000001293.jpg
trainval/images/image_000000833.jpg
trainval/images/image_000000827.jpg
trainval/images/image_000001287.jpg
trainval/images/image_000000199.jpg
trainval/images/image_000002201.jpg
trainval/images/image_000000416.jpg
trainval/images/image_000001708.jpg
trainval/images/image_000000370.jpg
trainval/images/image_000000364.jpg
trainval/images/image_000000402.jpg
trainval/images/image_000002215.jpg
trainval/images/image_000001734.jpg
trainval/images/image_000001052.jpg
trainval/images/image_000001046.jpg
trainval/images/image_000000358.jpg
trainval/images/image_000002229.jpg
trainval/images/image_000001720.jpg
trainval/images/image_000001913.jpg
trainval/images/image_000001907.jpg
trainval/images/image_000001091.jpg
trainval/images/image_000001085.jpg
trainval/images/image_000001084.jpg
trainval/images/image_000001090.jpg
trainval/images/image_000001906.jpg
trainval/images/image_000001912.jpg
trainval/images/image_000000359.jpg
trainval/images/image_000001047.jpg
trainval/images/image_000001721.jpg
trainval/images/image_000002228.jpg
trainval/images/image_000001735.jpg
trainval/images/image_000001053.jpg
trainval/images/image_000000365.jpg
trainval/images/image_000002214.jpg
trainval/images/image_000000403.jpg
trainval/images/image_000001709.jpg
trainval/images/image_000000417.jpg
trainval/images/image_000002200.jpg
trainval/images/image_000000371.jpg
trainval/images/image_000000826.jpg
trainval/images/image_000000198.jpg
trainval/images/image_000001286.jpg
trainval/images/image_000001292.jpg
trainval/images/image_000000832.jpg
trainval/images/image_000001523.jpg
trainval/images/image_000001245.jpg
trainval/images/image_000001251.jpg
trainval/images/image_000000629.jpg
trainval/images/image_000001537.jpg
trainval/images/image_000000601.jpg
trainval/images/image_000002016.jpg
trainval/images/image_000001279.jpg
trainval/images/image_000000167.jpg
trainval/images/image_000000173.jpg
trainval/images/image_000002002.jpg
trainval/images/image_000000615.jpg
trainval/images/image_000000952.jpg
trainval/images/image_000001494.jpg
trainval/images/image_000002189.jpg
trainval/images/image_000000946.jpg
trainval/images/image_000001480.jpg
trainval/images/image_000000991.jpg
trainval/images/image_000001457.jpg
trainval/images/image_000000749.jpg
trainval/images/image_000001331.jpg
trainval/images/image_000001325.jpg
trainval/images/image_000000985.jpg
trainval/images/image_000001443.jpg
trainval/images/image_000000775.jpg
trainval/images/image_000002162.jpg
trainval/images/image_000000013.jpg
trainval/images/image_000000007.jpg
trainval/images/image_000001319.jpg
trainval/images/image_000002176.jpg
trainval/images/image_000000761.jpg
trainval/images/image_000001696.jpg
trainval/images/image_000000588.jpg
trainval/images/image_000001682.jpg
trainval/images/image_000001872.jpg
trainval/images/image_000001866.jpg
trainval/images/image_000001133.jpg
trainval/images/image_000001655.jpg
trainval/images/image_000001899.jpg
trainval/images/image_000001641.jpg
trainval/images/image_000001127.jpg
trainval/images/image_000000239.jpg
trainval/images/image_000000211.jpg
trainval/images/image_000000577.jpg
trainval/images/image_000001669.jpg
trainval/images/image_000000563.jpg
trainval/images/image_000000205.jpg
trainval/images/image_000000575.jpg
trainval/images/image_000000213.jpg
trainval/images/image_000000207.jpg
trainval/images/image_000001119.jpg
trainval/images/image_000000561.jpg
trainval/images/image_000001657.jpg
trainval/images/image_000000549.jpg
trainval/images/image_000001131.jpg
trainval/images/image_000001125.jpg
trainval/images/image_000001643.jpg
trainval/images/image_000001870.jpg
trainval/images/image_000001864.jpg
trainval/images/image_000001694.jpg
trainval/images/image_000001858.jpg
trainval/images/image_000001680.jpg
trainval/images/image_000000011.jpg
trainval/images/image_000002160.jpg
trainval/images/image_000000777.jpg
trainval/images/image_000001469.jpg
trainval/images/image_000000763.jpg
trainval/images/image_000002174.jpg
trainval/images/image_000000005.jpg
trainval/images/image_000001333.jpg
trainval/images/image_000001455.jpg
trainval/images/image_000000993.jpg
trainval/images/image_000002148.jpg
trainval/images/image_000001441.jpg
trainval/images/image_000000987.jpg
trainval/images/image_000001327.jpg
trainval/images/image_000000039.jpg
trainval/images/image_000000978.jpg
trainval/images/image_000001496.jpg
trainval/images/image_000000950.jpg
trainval/images/image_000000788.jpg
trainval/images/image_000001482.jpg
trainval/images/image_000000944.jpg
trainval/images/image_000000165.jpg
trainval/images/image_000002014.jpg
trainval/images/image_000000603.jpg
trainval/images/image_000001509.jpg
trainval/images/image_000000617.jpg
trainval/images/image_000002000.jpg
trainval/images/image_000000171.jpg
trainval/images/image_000000159.jpg
trainval/images/image_000001247.jpg
trainval/images/image_000001521.jpg
trainval/images/image_000002028.jpg
trainval/images/image_000001535.jpg
trainval/images/image_000001253.jpg
trainval/images/image_000000818.jpg
trainval/images/image_000001284.jpg
trainval/images/image_000000824.jpg
trainval/images/image_000000830.jpg
trainval/images/image_000001290.jpg
trainval/images/image_000000401.jpg
trainval/images/image_000002216.jpg
trainval/images/image_000001079.jpg
trainval/images/image_000000367.jpg
trainval/images/image_000000373.jpg
trainval/images/image_000002202.jpg
trainval/images/image_000000415.jpg
trainval/images/image_000001723.jpg
trainval/images/image_000001045.jpg
trainval/images/image_000001051.jpg
trainval/images/image_000000429.jpg
trainval/images/image_000001737.jpg
trainval/images/image_000001904.jpg
trainval/images/image_000001910.jpg
trainval/images/image_000001938.jpg
trainval/images/image_000000398.jpg
trainval/images/image_000001086.jpg
trainval/images/image_000001092.jpg
trainval/images/image_000001093.jpg
trainval/images/image_000001939.jpg
trainval/images/image_000001087.jpg
trainval/images/image_000000399.jpg
trainval/images/image_000001911.jpg
trainval/images/image_000001905.jpg
trainval/images/image_000001050.jpg
trainval/images/image_000001736.jpg
trainval/images/image_000000428.jpg
trainval/images/image_000001722.jpg
trainval/images/image_000001044.jpg
trainval/images/image_000000372.jpg
trainval/images/image_000000414.jpg
trainval/images/image_000002203.jpg
trainval/images/image_000002217.jpg
trainval/images/image_000000400.jpg
trainval/images/image_000000366.jpg
trainval/images/image_000001078.jpg
trainval/images/image_000000831.jpg
trainval/images/image_000001291.jpg
trainval/images/image_000001285.jpg
trainval/images/image_000000825.jpg
trainval/images/image_000000819.jpg
trainval/images/image_000001534.jpg
trainval/images/image_000001252.jpg
trainval/images/image_000001246.jpg
trainval/images/image_000000158.jpg
trainval/images/image_000002029.jpg
trainval/images/image_000001520.jpg
trainval/images/image_000002001.jpg
trainval/images/image_000000616.jpg
trainval/images/image_000001508.jpg
trainval/images/image_000000170.jpg
trainval/images/image_000000164.jpg
trainval/images/image_000000602.jpg
trainval/images/image_000002015.jpg
trainval/images/image_000000945.jpg
trainval/images/image_000001483.jpg
trainval/images/image_000000789.jpg
trainval/images/image_000000951.jpg
trainval/images/image_000001497.jpg
trainval/images/image_000000979.jpg
trainval/images/image_000000986.jpg
trainval/images/image_000001440.jpg
trainval/images/image_000002149.jpg
trainval/images/image_000000038.jpg
trainval/images/image_000001326.jpg
trainval/images/image_000001332.jpg
trainval/images/image_000000992.jpg
trainval/images/image_000001454.jpg
trainval/images/image_000002175.jpg
trainval/images/image_000000762.jpg
trainval/images/image_000000004.jpg
trainval/images/image_000000010.jpg
trainval/images/image_000001468.jpg
trainval/images/image_000000776.jpg
trainval/images/image_000002161.jpg
trainval/images/image_000001681.jpg
trainval/images/image_000001859.jpg
trainval/images/image_000001695.jpg
trainval/images/image_000001865.jpg
trainval/images/image_000001871.jpg
trainval/images/image_000001124.jpg
trainval/images/image_000001642.jpg
trainval/images/image_000000548.jpg
trainval/images/image_000001656.jpg
trainval/images/image_000001130.jpg
trainval/images/image_000001118.jpg
trainval/images/image_000000206.jpg
trainval/images/image_000000560.jpg
trainval/images/image_000000574.jpg
trainval/images/image_000000212.jpg
trainval/images/image_000001115.jpg
trainval/images/image_000001673.jpg
trainval/images/image_000001667.jpg
trainval/images/image_000000579.jpg
trainval/images/image_000001101.jpg
trainval/images/image_000000237.jpg
trainval/images/image_000001129.jpg
trainval/images/image_000001897.jpg
trainval/images/image_000000551.jpg
trainval/images/image_000001883.jpg
trainval/images/image_000000545.jpg
trainval/images/image_000000223.jpg
trainval/images/image_000001868.jpg
trainval/images/image_000001854.jpg
trainval/images/image_000000592.jpg
trainval/images/image_000001840.jpg
trainval/images/image_000000586.jpg
trainval/images/image_000001698.jpg
trainval/images/image_000002178.jpg
trainval/images/image_000001471.jpg
trainval/images/image_000001317.jpg
trainval/images/image_000000009.jpg
trainval/images/image_000001303.jpg
trainval/images/image_000001465.jpg
trainval/images/image_000000753.jpg
trainval/images/image_000002144.jpg
trainval/images/image_000000035.jpg
trainval/images/image_000000021.jpg
trainval/images/image_000002150.jpg
trainval/images/image_000000747.jpg
trainval/images/image_000001459.jpg
trainval/images/image_000000974.jpg
trainval/images/image_000000960.jpg
trainval/images/image_000002187.jpg
trainval/images/image_000000948.jpg
trainval/images/image_000000790.jpg
trainval/images/image_000000784.jpg
trainval/images/image_000002193.jpg
trainval/images/image_000001505.jpg
trainval/images/image_000001263.jpg
trainval/images/image_000000169.jpg
trainval/images/image_000001277.jpg
trainval/images/image_000001511.jpg
trainval/images/image_000002018.jpg
trainval/images/image_000001539.jpg
trainval/images/image_000000627.jpg
trainval/images/image_000002030.jpg
trainval/images/image_000000141.jpg
trainval/images/image_000000155.jpg
trainval/images/image_000002024.jpg
trainval/images/image_000000633.jpg
trainval/images/image_000000800.jpg
trainval/images/image_000000814.jpg
trainval/images/image_000000182.jpg
trainval/images/image_000001288.jpg
trainval/images/image_000000196.jpg
trainval/images/image_000000828.jpg
trainval/images/image_000001061.jpg
trainval/images/image_000000419.jpg
trainval/images/image_000001707.jpg
trainval/images/image_000001713.jpg
trainval/images/image_000001075.jpg
trainval/images/image_000000343.jpg
trainval/images/image_000002232.jpg
trainval/images/image_000000425.jpg
trainval/images/image_000000431.jpg
trainval/images/image_000002226.jpg
trainval/images/image_000001049.jpg
trainval/images/image_000000357.jpg
trainval/images/image_000001908.jpg
trainval/images/image_000000380.jpg
trainval/images/image_000001920.jpg
trainval/images/image_000001934.jpg
trainval/images/image_000000394.jpg
trainval/images/image_000001935.jpg
trainval/images/image_000000395.jpg
trainval/images/image_000000381.jpg
trainval/images/image_000001921.jpg
trainval/images/image_000001909.jpg
trainval/images/image_000002227.jpg
trainval/images/image_000000430.jpg
trainval/images/image_000000356.jpg
trainval/images/image_000001048.jpg
trainval/images/image_000000342.jpg
trainval/images/image_000000424.jpg
trainval/images/image_000002233.jpg
trainval/images/image_000001712.jpg
trainval/images/image_000001074.jpg
trainval/images/image_000001060.jpg
trainval/images/image_000001706.jpg
trainval/images/image_000000418.jpg
trainval/images/image_000000197.jpg
trainval/images/image_000001289.jpg
trainval/images/image_000000829.jpg
trainval/images/image_000000183.jpg
trainval/images/image_000000815.jpg
trainval/images/image_000000801.jpg
trainval/images/image_000000154.jpg
trainval/images/image_000000632.jpg
trainval/images/image_000002025.jpg
trainval/images/image_000002031.jpg
trainval/images/image_000000626.jpg
trainval/images/image_000001538.jpg
trainval/images/image_000000140.jpg
trainval/images/image_000001276.jpg
trainval/images/image_000000168.jpg
trainval/images/image_000002019.jpg
trainval/images/image_000001510.jpg
trainval/images/image_000001504.jpg
trainval/images/image_000001262.jpg
trainval/images/image_000002192.jpg
trainval/images/image_000000785.jpg
trainval/images/image_000000791.jpg
trainval/images/image_000000949.jpg
trainval/images/image_000002186.jpg
trainval/images/image_000000961.jpg
trainval/images/image_000000975.jpg
trainval/images/image_000000020.jpg
trainval/images/image_000001458.jpg
trainval/images/image_000000746.jpg
trainval/images/image_000002151.jpg
trainval/images/image_000002145.jpg
trainval/images/image_000000752.jpg
trainval/images/image_000000034.jpg
trainval/images/image_000001302.jpg
trainval/images/image_000001464.jpg
trainval/images/image_000001470.jpg
trainval/images/image_000002179.jpg
trainval/images/image_000000008.jpg
trainval/images/image_000001316.jpg
trainval/images/image_000001699.jpg
trainval/images/image_000000587.jpg
trainval/images/image_000001841.jpg
trainval/images/image_000000593.jpg
trainval/images/image_000001855.jpg
trainval/images/image_000001869.jpg
trainval/images/image_000000544.jpg
trainval/images/image_000001882.jpg
trainval/images/image_000000222.jpg
trainval/images/image_000001128.jpg
trainval/images/image_000000236.jpg
trainval/images/image_000000550.jpg
trainval/images/image_000001896.jpg
trainval/images/image_000000578.jpg
trainval/images/image_000001666.jpg
trainval/images/image_000001100.jpg
trainval/images/image_000001114.jpg
trainval/images/image_000001672.jpg
trainval/images/image_000001102.jpg
trainval/images/image_000001664.jpg
trainval/images/image_000001670.jpg
trainval/images/image_000000208.jpg
trainval/images/image_000001116.jpg
trainval/images/image_000000220.jpg
trainval/images/image_000001658.jpg
trainval/images/image_000001880.jpg
trainval/images/image_000000546.jpg
trainval/images/image_000001894.jpg
trainval/images/image_000000552.jpg
trainval/images/image_000000234.jpg
trainval/images/image_000001843.jpg
trainval/images/image_000000585.jpg
trainval/images/image_000001857.jpg
trainval/images/image_000000591.jpg
trainval/images/image_000000778.jpg
trainval/images/image_000001466.jpg
trainval/images/image_000001300.jpg
trainval/images/image_000001314.jpg
trainval/images/image_000001472.jpg
trainval/images/image_000002153.jpg
trainval/images/image_000000744.jpg
trainval/images/image_000000022.jpg
trainval/images/image_000001328.jpg
trainval/images/image_000000036.jpg
trainval/images/image_000000750.jpg
trainval/images/image_000000988.jpg
trainval/images/image_000002147.jpg
trainval/images/image_000000963.jpg
trainval/images/image_000000977.jpg
trainval/images/image_000001499.jpg
trainval/images/image_000000787.jpg
trainval/images/image_000002190.jpg
trainval/images/image_000002184.jpg
trainval/images/image_000000793.jpg
trainval/images/image_000001512.jpg
trainval/images/image_000001274.jpg
trainval/images/image_000001260.jpg
trainval/images/image_000001506.jpg
trainval/images/image_000000618.jpg
trainval/images/image_000002027.jpg
trainval/images/image_000000630.jpg
trainval/images/image_000000156.jpg
trainval/images/image_000001248.jpg
trainval/images/image_000000142.jpg
trainval/images/image_000000624.jpg
trainval/images/image_000002033.jpg
trainval/images/image_000000817.jpg
trainval/images/image_000000803.jpg
trainval/images/image_000000195.jpg
trainval/images/image_000000181.jpg
trainval/images/image_000001076.jpg
trainval/images/image_000000368.jpg
trainval/images/image_000002219.jpg
trainval/images/image_000001710.jpg
trainval/images/image_000001704.jpg
trainval/images/image_000001062.jpg
trainval/images/image_000000354.jpg
trainval/images/image_000000432.jpg
trainval/images/image_000002225.jpg
trainval/images/image_000002231.jpg
trainval/images/image_000000426.jpg
trainval/images/image_000001738.jpg
trainval/images/image_000000340.jpg
trainval/images/image_000000397.jpg
trainval/images/image_000001089.jpg
trainval/images/image_000001937.jpg
trainval/images/image_000001923.jpg
trainval/images/image_000000383.jpg
trainval/images/image_000001922.jpg
trainval/images/image_000000382.jpg
trainval/images/image_000001088.jpg
trainval/images/image_000000396.jpg
trainval/images/image_000001936.jpg
trainval/images/image_000001739.jpg
trainval/images/image_000000427.jpg
trainval/images/image_000002230.jpg
trainval/images/image_000000341.jpg
trainval/images/image_000000355.jpg
trainval/images/image_000002224.jpg
trainval/images/image_000000433.jpg
trainval/images/image_000001705.jpg
trainval/images/image_000001063.jpg
trainval/images/image_000000369.jpg
trainval/images/image_000001077.jpg
trainval/images/image_000001711.jpg
trainval/images/image_000002218.jpg
trainval/images/image_000000180.jpg
trainval/images/image_000000194.jpg
trainval/images/image_000000802.jpg
trainval/images/image_000000816.jpg
trainval/images/image_000000143.jpg
trainval/images/image_000002032.jpg
trainval/images/image_000000625.jpg
trainval/images/image_000000631.jpg
trainval/images/image_000002026.jpg
trainval/images/image_000001249.jpg
trainval/images/image_000000157.jpg
trainval/images/image_000001261.jpg
trainval/images/image_000000619.jpg
trainval/images/image_000001507.jpg
trainval/images/image_000001513.jpg
trainval/images/image_000001275.jpg
trainval/images/image_000000792.jpg
trainval/images/image_000002185.jpg
trainval/images/image_000002191.jpg
trainval/images/image_000000786.jpg
trainval/images/image_000001498.jpg
trainval/images/image_000000976.jpg
trainval/images/image_000000962.jpg
trainval/images/image_000000037.jpg
trainval/images/image_000001329.jpg
trainval/images/image_000002146.jpg
trainval/images/image_000000989.jpg
trainval/images/image_000000751.jpg
trainval/images/image_000000745.jpg
trainval/images/image_000002152.jpg
trainval/images/image_000000023.jpg
trainval/images/image_000001315.jpg
trainval/images/image_000001473.jpg
trainval/images/image_000001467.jpg
trainval/images/image_000000779.jpg
trainval/images/image_000001301.jpg
trainval/images/image_000000590.jpg
trainval/images/image_000001856.jpg
trainval/images/image_000000584.jpg
trainval/images/image_000001842.jpg
trainval/images/image_000000553.jpg
trainval/images/image_000001895.jpg
trainval/images/image_000000235.jpg
trainval/images/image_000000221.jpg
trainval/images/image_000000547.jpg
trainval/images/image_000001881.jpg
trainval/images/image_000001659.jpg
trainval/images/image_000001671.jpg
trainval/images/image_000001117.jpg
trainval/images/image_000000209.jpg
trainval/images/image_000001103.jpg
trainval/images/image_000001665.jpg
trainval/images/image_000000543.jpg
trainval/images/image_000001885.jpg
trainval/images/image_000000225.jpg
trainval/images/image_000000231.jpg
trainval/images/image_000001649.jpg
trainval/images/image_000000557.jpg
trainval/images/image_000001891.jpg
trainval/images/image_000001661.jpg
trainval/images/image_000000219.jpg
trainval/images/image_000001107.jpg
trainval/images/image_000001113.jpg
trainval/images/image_000001675.jpg
trainval/images/image_000000580.jpg
trainval/images/image_000001846.jpg
trainval/images/image_000000594.jpg
trainval/images/image_000001852.jpg
trainval/images/image_000001339.jpg
trainval/images/image_000000027.jpg
trainval/images/image_000002156.jpg
trainval/images/image_000000741.jpg
trainval/images/image_000000999.jpg
trainval/images/image_000000755.jpg
trainval/images/image_000002142.jpg
trainval/images/image_000000033.jpg
trainval/images/image_000001305.jpg
trainval/images/image_000001463.jpg
trainval/images/image_000000769.jpg
trainval/images/image_000001477.jpg
trainval/images/image_000001311.jpg
trainval/images/image_000000782.jpg
trainval/images/image_000002195.jpg
trainval/images/image_000002181.jpg
trainval/images/image_000001488.jpg
trainval/images/image_000000796.jpg
trainval/images/image_000000966.jpg
trainval/images/image_000000972.jpg
trainval/images/image_000000153.jpg
trainval/images/image_000002022.jpg
trainval/images/image_000000635.jpg
trainval/images/image_000000621.jpg
trainval/images/image_000002036.jpg
trainval/images/image_000000147.jpg
trainval/images/image_000001259.jpg
trainval/images/image_000001271.jpg
trainval/images/image_000001517.jpg
trainval/images/image_000000609.jpg
trainval/images/image_000001503.jpg
trainval/images/image_000001265.jpg
trainval/images/image_000000190.jpg
trainval/images/image_000000184.jpg
trainval/images/image_000000812.jpg
trainval/images/image_000000806.jpg
trainval/images/image_000000437.jpg
trainval/images/image_000001729.jpg
trainval/images/image_000002220.jpg
trainval/images/image_000000351.jpg
trainval/images/image_000000345.jpg
trainval/images/image_000002234.jpg
trainval/images/image_000000423.jpg
trainval/images/image_000001715.jpg
trainval/images/image_000001073.jpg
trainval/images/image_000001067.jpg
trainval/images/image_000000379.jpg
trainval/images/image_000001701.jpg
trainval/images/image_000002208.jpg
trainval/images/image_000001932.jpg
trainval/images/image_000000392.jpg
trainval/images/image_000000386.jpg
trainval/images/image_000001098.jpg
trainval/images/image_000001926.jpg
trainval/images/image_000001099.jpg
trainval/images/image_000000387.jpg
trainval/images/image_000001927.jpg
trainval/images/image_000001933.jpg
trainval/images/image_000000393.jpg
trainval/images/image_000000378.jpg
trainval/images/image_000001066.jpg
trainval/images/image_000002209.jpg
trainval/images/image_000001700.jpg
trainval/images/image_000001714.jpg
trainval/images/image_000001072.jpg
trainval/images/image_000000344.jpg
trainval/images/image_000000422.jpg
trainval/images/image_000002235.jpg
trainval/images/image_000002221.jpg
trainval/images/image_000001728.jpg
trainval/images/image_000000436.jpg
trainval/images/image_000000350.jpg
trainval/images/image_000000807.jpg
trainval/images/image_000000813.jpg
trainval/images/image_000000185.jpg
trainval/images/image_000000191.jpg
trainval/images/image_000001502.jpg
trainval/images/image_000001264.jpg
trainval/images/image_000001270.jpg
trainval/images/image_000000608.jpg
trainval/images/image_000001516.jpg
trainval/images/image_000002037.jpg
trainval/images/image_000000620.jpg
trainval/images/image_000001258.jpg
trainval/images/image_000000146.jpg
trainval/images/image_000000152.jpg
trainval/images/image_000000634.jpg
trainval/images/image_000002023.jpg
trainval/images/image_000000973.jpg
trainval/images/image_000000967.jpg
trainval/images/image_000000797.jpg
trainval/images/image_000001489.jpg
trainval/images/image_000002180.jpg
trainval/images/image_000002194.jpg
trainval/images/image_000000783.jpg
trainval/images/image_000001476.jpg
trainval/images/image_000000768.jpg
trainval/images/image_000001310.jpg
trainval/images/image_000001304.jpg
trainval/images/image_000001462.jpg
trainval/images/image_000002143.jpg
trainval/images/image_000000754.jpg
trainval/images/image_000000032.jpg
trainval/images/image_000000026.jpg
trainval/images/image_000001338.jpg
trainval/images/image_000000998.jpg
trainval/images/image_000000740.jpg
trainval/images/image_000002157.jpg
trainval/images/image_000001853.jpg
trainval/images/image_000000595.jpg
trainval/images/image_000001847.jpg
trainval/images/image_000000581.jpg
trainval/images/image_000001112.jpg
trainval/images/image_000001674.jpg
trainval/images/image_000001660.jpg
trainval/images/image_000001106.jpg
trainval/images/image_000000218.jpg
trainval/images/image_000000230.jpg
trainval/images/image_000001890.jpg
trainval/images/image_000000556.jpg
trainval/images/image_000001648.jpg
trainval/images/image_000001884.jpg
trainval/images/image_000000542.jpg
trainval/images/image_000000224.jpg
trainval/images/image_000000554.jpg
trainval/images/image_000001892.jpg
trainval/images/image_000000232.jpg
trainval/images/image_000000226.jpg
trainval/images/image_000001138.jpg
trainval/images/image_000000540.jpg
trainval/images/image_000001886.jpg
trainval/images/image_000001676.jpg
trainval/images/image_000000568.jpg
trainval/images/image_000001110.jpg
trainval/images/image_000001104.jpg
trainval/images/image_000001662.jpg
trainval/images/image_000000597.jpg
trainval/images/image_000001851.jpg
trainval/images/image_000001689.jpg
trainval/images/image_000000583.jpg
trainval/images/image_000001845.jpg
trainval/images/image_000001879.jpg
trainval/images/image_000000030.jpg
trainval/images/image_000000756.jpg
trainval/images/image_000001448.jpg
trainval/images/image_000002141.jpg
trainval/images/image_000002155.jpg
trainval/images/image_000000742.jpg
trainval/images/image_000000024.jpg
trainval/images/image_000001312.jpg
trainval/images/image_000001474.jpg
trainval/images/image_000001460.jpg
trainval/images/image_000002169.jpg
trainval/images/image_000001306.jpg
trainval/images/image_000000018.jpg
trainval/images/image_000002182.jpg
trainval/images/image_000000795.jpg
trainval/images/image_000000959.jpg
trainval/images/image_000000781.jpg
trainval/images/image_000002196.jpg
trainval/images/image_000000971.jpg
trainval/images/image_000000965.jpg
trainval/images/image_000000144.jpg
trainval/images/image_000000622.jpg
trainval/images/image_000002035.jpg
trainval/images/image_000002021.jpg
trainval/images/image_000001528.jpg
trainval/images/image_000000636.jpg
trainval/images/image_000000150.jpg
trainval/images/image_000000178.jpg
trainval/images/image_000001266.jpg
trainval/images/image_000002009.jpg
trainval/images/image_000001500.jpg
trainval/images/image_000001514.jpg
trainval/images/image_000001272.jpg
trainval/images/image_000001299.jpg
trainval/images/image_000000187.jpg
trainval/images/image_000000839.jpg
trainval/images/image_000000193.jpg
trainval/images/image_000000805.jpg
trainval/images/image_000000811.jpg
trainval/images/image_000002237.jpg
trainval/images/image_000000420.jpg
trainval/images/image_000001058.jpg
trainval/images/image_000000346.jpg
trainval/images/image_000000352.jpg
trainval/images/image_000000434.jpg
trainval/images/image_000002223.jpg
trainval/images/image_000001702.jpg
trainval/images/image_000001064.jpg
trainval/images/image_000001070.jpg
trainval/images/image_000000408.jpg
trainval/images/image_000001716.jpg
trainval/images/image_000001925.jpg
trainval/images/image_000000385.jpg
trainval/images/image_000000391.jpg
trainval/images/image_000001931.jpg
trainval/images/image_000001919.jpg
trainval/images/image_000001918.jpg
trainval/images/image_000000390.jpg
trainval/images/image_000001930.jpg
trainval/images/image_000001924.jpg
trainval/images/image_000000384.jpg
trainval/images/image_000001071.jpg
trainval/images/image_000001717.jpg
trainval/images/image_000000409.jpg
trainval/images/image_000001703.jpg
trainval/images/image_000001065.jpg
trainval/images/image_000000353.jpg
trainval/images/image_000002222.jpg
trainval/images/image_000000435.jpg
trainval/images/image_000000421.jpg
trainval/images/image_000002236.jpg
trainval/images/image_000000347.jpg
trainval/images/image_000001059.jpg
trainval/images/image_000000810.jpg
trainval/images/image_000000804.jpg
trainval/images/image_000000192.jpg
trainval/images/image_000000186.jpg
trainval/images/image_000001298.jpg
trainval/images/image_000000838.jpg
trainval/images/image_000001515.jpg
trainval/images/image_000001273.jpg
trainval/images/image_000001267.jpg
trainval/images/image_000000179.jpg
trainval/images/image_000001501.jpg
trainval/images/image_000002008.jpg
trainval/images/image_000000637.jpg
trainval/images/image_000001529.jpg
trainval/images/image_000002020.jpg
trainval/images/image_000000151.jpg
trainval/images/image_000000145.jpg
trainval/images/image_000002034.jpg
trainval/images/image_000000623.jpg
trainval/images/image_000000964.jpg
trainval/images/image_000000970.jpg
trainval/images/image_000002197.jpg
trainval/images/image_000000780.jpg
trainval/images/image_000000958.jpg
trainval/images/image_000000794.jpg
trainval/images/image_000002183.jpg
trainval/images/image_000002168.jpg
trainval/images/image_000001461.jpg
trainval/images/image_000000019.jpg
trainval/images/image_000001307.jpg
trainval/images/image_000001313.jpg
trainval/images/image_000001475.jpg
trainval/images/image_000000743.jpg
trainval/images/image_000002154.jpg
trainval/images/image_000000025.jpg
trainval/images/image_000000031.jpg
trainval/images/image_000002140.jpg
trainval/images/image_000001449.jpg
trainval/images/image_000000757.jpg
trainval/images/image_000001878.jpg
trainval/images/image_000001844.jpg
trainval/images/image_000000582.jpg
trainval/images/image_000001688.jpg
trainval/images/image_000001850.jpg
trainval/images/image_000000596.jpg
trainval/images/image_000001105.jpg
trainval/images/image_000001663.jpg
trainval/images/image_000000569.jpg
trainval/images/image_000001677.jpg
trainval/images/image_000001111.jpg
trainval/images/image_000001139.jpg
trainval/images/image_000000227.jpg
trainval/images/image_000001887.jpg
trainval/images/image_000000541.jpg
trainval/images/image_000001893.jpg
trainval/images/image_000000555.jpg
trainval/images/image_000000233.jpg
trainval/images/image_000001610.jpg
trainval/images/image_000000268.jpg
trainval/images/image_000001176.jpg
trainval/images/image_000001162.jpg
trainval/images/image_000001604.jpg
trainval/images/image_000000532.jpg
trainval/images/image_000000254.jpg
trainval/images/image_000000240.jpg
trainval/images/image_000001638.jpg
trainval/images/image_000000526.jpg
trainval/images/image_000001837.jpg
trainval/images/image_000001189.jpg
trainval/images/image_000000297.jpg
trainval/images/image_000000283.jpg
trainval/images/image_000001823.jpg
trainval/images/image_000001374.jpg
trainval/images/image_000001412.jpg
trainval/images/image_000000718.jpg
trainval/images/image_000001406.jpg
trainval/images/image_000001360.jpg
trainval/images/image_000001348.jpg
trainval/images/image_000000056.jpg
trainval/images/image_000002127.jpg
trainval/images/image_000000730.jpg
trainval/images/image_000000724.jpg
trainval/images/image_000002133.jpg
trainval/images/image_000000042.jpg
trainval/images/image_000000917.jpg
trainval/images/image_000000903.jpg
trainval/images/image_000000095.jpg
trainval/images/image_000000081.jpg
trainval/images/image_000001200.jpg
trainval/images/image_000001566.jpg
trainval/images/image_000000678.jpg
trainval/images/image_000001572.jpg
trainval/images/image_000001214.jpg
trainval/images/image_000000122.jpg
trainval/images/image_000002053.jpg
trainval/images/image_000000644.jpg
trainval/images/image_000000888.jpg
trainval/images/image_000000650.jpg
trainval/images/image_000002047.jpg
trainval/images/image_000000136.jpg
trainval/images/image_000001228.jpg
trainval/images/image_000000863.jpg
trainval/images/image_000000877.jpg
trainval/images/image_000000687.jpg
trainval/images/image_000001599.jpg
trainval/images/image_000002090.jpg
trainval/images/image_000002084.jpg
trainval/images/image_000000693.jpg
trainval/images/image_000001764.jpg
trainval/images/image_000001002.jpg
trainval/images/image_000001016.jpg
trainval/images/image_000000308.jpg
trainval/images/image_000001770.jpg
trainval/images/image_000000446.jpg
trainval/images/image_000001980.jpg
trainval/images/image_000001758.jpg
trainval/images/image_000000320.jpg
trainval/images/image_000000334.jpg
trainval/images/image_000000452.jpg
trainval/images/image_000001994.jpg
trainval/images/image_000000485.jpg
trainval/images/image_000001943.jpg
trainval/images/image_000000491.jpg
trainval/images/image_000001957.jpg
trainval/images/image_000001956.jpg
trainval/images/image_000000490.jpg
trainval/images/image_000001942.jpg
trainval/images/image_000000484.jpg
trainval/images/image_000000335.jpg
trainval/images/image_000001995.jpg
trainval/images/image_000000453.jpg
trainval/images/image_000001759.jpg
trainval/images/image_000001981.jpg
trainval/images/image_000000447.jpg
trainval/images/image_000000321.jpg
trainval/images/image_000000309.jpg
trainval/images/image_000001017.jpg
trainval/images/image_000001771.jpg
trainval/images/image_000001765.jpg
trainval/images/image_000001003.jpg
trainval/images/image_000000692.jpg
trainval/images/image_000002085.jpg
trainval/images/image_000002091.jpg
trainval/images/image_000001598.jpg
trainval/images/image_000000686.jpg
trainval/images/image_000000876.jpg
trainval/images/image_000000862.jpg
trainval/images/image_000002046.jpg
trainval/images/image_000000651.jpg
trainval/images/image_000000889.jpg
trainval/images/image_000001229.jpg
trainval/images/image_000000137.jpg
trainval/images/image_000000123.jpg
trainval/images/image_000000645.jpg
trainval/images/image_000002052.jpg
trainval/images/image_000001573.jpg
trainval/images/image_000001215.jpg
trainval/images/image_000001201.jpg
trainval/images/image_000000679.jpg
trainval/images/image_000001567.jpg
trainval/images/image_000000080.jpg
trainval/images/image_000000094.jpg
trainval/images/image_000000902.jpg
trainval/images/image_000000916.jpg
trainval/images/image_000002132.jpg
trainval/images/image_000000725.jpg
trainval/images/image_000000043.jpg
trainval/images/image_000000057.jpg
trainval/images/image_000001349.jpg
trainval/images/image_000000731.jpg
trainval/images/image_000002126.jpg
trainval/images/image_000001407.jpg
trainval/images/image_000000719.jpg
trainval/images/image_000001361.jpg
trainval/images/image_000001375.jpg
trainval/images/image_000001413.jpg
trainval/images/image_000000282.jpg
trainval/images/image_000001822.jpg
trainval/images/image_000001836.jpg
trainval/images/image_000000296.jpg
trainval/images/image_000001188.jpg
trainval/images/image_000000241.jpg
trainval/images/image_000000527.jpg
trainval/images/image_000001639.jpg
trainval/images/image_000000533.jpg
trainval/images/image_000000255.jpg
trainval/images/image_000001163.jpg
trainval/images/image_000001605.jpg
trainval/images/image_000001611.jpg
trainval/images/image_000001177.jpg
trainval/images/image_000000269.jpg
trainval/images/image_000001607.jpg
trainval/images/image_000000519.jpg
trainval/images/image_000001161.jpg
trainval/images/image_000001175.jpg
trainval/images/image_000001613.jpg
trainval/images/image_000000525.jpg
trainval/images/image_000000243.jpg
trainval/images/image_000000257.jpg
trainval/images/image_000001149.jpg
trainval/images/image_000000531.jpg
trainval/images/image_000001808.jpg
trainval/images/image_000001820.jpg
trainval/images/image_000000280.jpg
trainval/images/image_000000294.jpg
trainval/images/image_000001834.jpg
trainval/images/image_000001363.jpg
trainval/images/image_000001405.jpg
trainval/images/image_000001411.jpg
trainval/images/image_000002118.jpg
trainval/images/image_000001377.jpg
trainval/images/image_000000069.jpg
trainval/images/image_000000041.jpg
trainval/images/image_000000727.jpg
trainval/images/image_000001439.jpg
trainval/images/image_000002130.jpg
trainval/images/image_000002124.jpg
trainval/images/image_000000733.jpg
trainval/images/image_000000055.jpg
trainval/images/image_000000900.jpg
trainval/images/image_000000914.jpg
trainval/images/image_000000082.jpg
trainval/images/image_000000928.jpg
trainval/images/image_000000096.jpg
trainval/images/image_000001388.jpg
trainval/images/image_000000109.jpg
trainval/images/image_000001217.jpg
trainval/images/image_000002078.jpg
trainval/images/image_000001571.jpg
trainval/images/image_000001565.jpg
trainval/images/image_000001203.jpg
trainval/images/image_000000135.jpg
trainval/images/image_000000653.jpg
trainval/images/image_000002044.jpg
trainval/images/image_000002050.jpg
trainval/images/image_000001559.jpg
trainval/images/image_000000647.jpg
trainval/images/image_000000121.jpg
trainval/images/image_000000874.jpg
trainval/images/image_000000860.jpg
trainval/images/image_000002087.jpg
trainval/images/image_000000690.jpg
trainval/images/image_000000848.jpg
trainval/images/image_000000684.jpg
trainval/images/image_000002093.jpg
trainval/images/image_000001773.jpg
trainval/images/image_000001015.jpg
trainval/images/image_000001001.jpg
trainval/images/image_000000479.jpg
trainval/images/image_000001767.jpg
trainval/images/image_000000451.jpg
trainval/images/image_000001997.jpg
trainval/images/image_000001029.jpg
trainval/images/image_000000337.jpg
trainval/images/image_000000323.jpg
trainval/images/image_000000445.jpg
trainval/images/image_000001983.jpg
trainval/images/image_000001968.jpg
trainval/images/image_000000492.jpg
trainval/images/image_000001954.jpg
trainval/images/image_000001798.jpg
trainval/images/image_000000486.jpg
trainval/images/image_000001940.jpg
trainval/images/image_000001941.jpg
trainval/images/image_000000487.jpg
trainval/images/image_000001799.jpg
trainval/images/image_000001955.jpg
trainval/images/image_000000493.jpg
trainval/images/image_000001969.jpg
trainval/images/image_000000322.jpg
trainval/images/image_000001982.jpg
trainval/images/image_000000444.jpg
trainval/images/image_000001996.jpg
trainval/images/image_000000450.jpg
trainval/images/image_000000336.jpg
trainval/images/image_000001028.jpg
trainval/images/image_000001000.jpg
trainval/images/image_000001766.jpg
trainval/images/image_000000478.jpg
trainval/images/image_000001772.jpg
trainval/images/image_000001014.jpg
trainval/images/image_000002092.jpg
trainval/images/image_000000685.jpg
trainval/images/image_000000849.jpg
trainval/images/image_000000691.jpg
trainval/images/image_000002086.jpg
trainval/images/image_000000861.jpg
trainval/images/image_000000875.jpg
trainval/images/image_000000646.jpg
trainval/images/image_000001558.jpg
trainval/images/image_000002051.jpg
trainval/images/image_000000120.jpg
trainval/images/image_000000134.jpg
trainval/images/image_000002045.jpg
trainval/images/image_000000652.jpg
trainval/images/image_000001564.jpg
trainval/images/image_000001202.jpg
trainval/images/image_000001216.jpg
trainval/images/image_000000108.jpg
trainval/images/image_000001570.jpg
trainval/images/image_000002079.jpg
trainval/images/image_000000929.jpg
trainval/images/image_000001389.jpg
trainval/images/image_000000097.jpg
trainval/images/image_000000083.jpg
trainval/images/image_000000915.jpg
trainval/images/image_000000901.jpg
trainval/images/image_000000732.jpg
trainval/images/image_000002125.jpg
trainval/images/image_000000054.jpg
trainval/images/image_000000040.jpg
trainval/images/image_000002131.jpg
trainval/images/image_000001438.jpg
trainval/images/image_000000726.jpg
trainval/images/image_000002119.jpg
trainval/images/image_000001410.jpg
trainval/images/image_000000068.jpg
trainval/images/image_000001376.jpg
trainval/images/image_000001362.jpg
trainval/images/image_000001404.jpg
trainval/images/image_000000295.jpg
trainval/images/image_000001835.jpg
trainval/images/image_000001821.jpg
trainval/images/image_000000281.jpg
trainval/images/image_000001809.jpg
trainval/images/image_000001148.jpg
trainval/images/image_000000256.jpg
trainval/images/image_000000530.jpg
trainval/images/image_000000524.jpg
trainval/images/image_000000242.jpg
trainval/images/image_000001174.jpg
trainval/images/image_000001612.jpg
trainval/images/image_000000518.jpg
trainval/images/image_000001606.jpg
trainval/images/image_000001160.jpg
trainval/images/image_000000246.jpg
trainval/images/image_000001158.jpg
trainval/images/image_000000520.jpg
trainval/images/image_000000534.jpg
trainval/images/image_000000252.jpg
trainval/images/image_000001164.jpg
trainval/images/image_000001602.jpg
trainval/images/image_000001616.jpg
trainval/images/image_000000508.jpg
trainval/images/image_000001170.jpg
trainval/images/image_000000285.jpg
trainval/images/image_000001825.jpg
trainval/images/image_000001831.jpg
trainval/images/image_000000291.jpg
trainval/images/image_000001819.jpg
trainval/images/image_000000722.jpg
trainval/images/image_000002135.jpg
trainval/images/image_000000044.jpg
trainval/images/image_000000050.jpg
trainval/images/image_000002121.jpg
trainval/images/image_000000736.jpg
trainval/images/image_000001428.jpg
trainval/images/image_000002109.jpg
trainval/images/image_000001400.jpg
trainval/images/image_000001366.jpg
trainval/images/image_000000078.jpg
trainval/images/image_000001372.jpg
trainval/images/image_000001414.jpg
trainval/images/image_000000939.jpg
trainval/images/image_000000087.jpg
trainval/images/image_000001399.jpg
trainval/images/image_000000093.jpg
trainval/images/image_000000905.jpg
trainval/images/image_000000911.jpg
trainval/images/image_000001548.jpg
trainval/images/image_000000656.jpg
trainval/images/image_000002041.jpg
trainval/images/image_000000130.jpg
trainval/images/image_000000124.jpg
trainval/images/image_000002055.jpg
trainval/images/image_000000642.jpg
trainval/images/image_000001574.jpg
trainval/images/image_000001212.jpg
trainval/images/image_000000118.jpg
trainval/images/image_000001206.jpg
trainval/images/image_000001560.jpg
trainval/images/image_000002069.jpg
trainval/images/image_000002082.jpg
trainval/images/image_000000695.jpg
trainval/images/image_000000681.jpg
trainval/images/image_000000859.jpg
trainval/images/image_000002096.jpg
trainval/images/image_000000871.jpg
trainval/images/image_000000865.jpg
trainval/images/image_000000332.jpg
trainval/images/image_000001992.jpg
trainval/images/image_000000454.jpg
trainval/images/image_000001986.jpg
trainval/images/image_000000440.jpg
trainval/images/image_000001038.jpg
trainval/images/image_000000326.jpg
trainval/images/image_000001010.jpg
trainval/images/image_000000468.jpg
trainval/images/image_000001776.jpg
trainval/images/image_000001762.jpg
trainval/images/image_000001004.jpg
trainval/images/image_000001789.jpg
trainval/images/image_000001951.jpg
trainval/images/image_000000497.jpg
trainval/images/image_000001945.jpg
trainval/images/image_000000483.jpg
trainval/images/image_000001979.jpg
trainval/images/image_000001978.jpg
trainval/images/image_000000482.jpg
trainval/images/image_000001944.jpg
trainval/images/image_000000496.jpg
trainval/images/image_000001950.jpg
trainval/images/image_000001788.jpg
trainval/images/image_000001763.jpg
trainval/images/image_000001005.jpg
trainval/images/image_000001011.jpg
trainval/images/image_000001777.jpg
trainval/images/image_000000469.jpg
trainval/images/image_000000441.jpg
trainval/images/image_000001987.jpg
trainval/images/image_000000327.jpg
trainval/images/image_000001039.jpg
trainval/images/image_000000333.jpg
trainval/images/image_000000455.jpg
trainval/images/image_000001993.jpg
trainval/images/image_000000864.jpg
trainval/images/image_000000870.jpg
trainval/images/image_000002097.jpg
trainval/images/image_000000858.jpg
trainval/images/image_000000680.jpg
trainval/images/image_000000694.jpg
trainval/images/image_000002083.jpg
trainval/images/image_000001207.jpg
trainval/images/image_000000119.jpg
trainval/images/image_000002068.jpg
trainval/images/image_000001561.jpg
trainval/images/image_000001575.jpg
trainval/images/image_000001213.jpg
trainval/images/image_000000125.jpg
trainval/images/image_000000643.jpg
trainval/images/image_000002054.jpg
trainval/images/image_000002040.jpg
trainval/images/image_000000657.jpg
trainval/images/image_000001549.jpg
trainval/images/image_000000131.jpg
trainval/images/image_000000910.jpg
trainval/images/image_000000904.jpg
trainval/images/image_000000092.jpg
trainval/images/image_000000938.jpg
trainval/images/image_000001398.jpg
trainval/images/image_000000086.jpg
trainval/images/image_000001373.jpg
trainval/images/image_000001415.jpg
trainval/images/image_000001401.jpg
trainval/images/image_000002108.jpg
trainval/images/image_000000079.jpg
trainval/images/image_000001367.jpg
trainval/images/image_000000051.jpg
trainval/images/image_000001429.jpg
trainval/images/image_000000737.jpg
trainval/images/image_000002120.jpg
trainval/images/image_000002134.jpg
trainval/images/image_000000723.jpg
trainval/images/image_000000045.jpg
trainval/images/image_000001818.jpg
trainval/images/image_000001830.jpg
trainval/images/image_000000290.jpg
trainval/images/image_000000284.jpg
trainval/images/image_000001824.jpg
trainval/images/image_000000509.jpg
trainval/images/image_000001617.jpg
trainval/images/image_000001171.jpg
trainval/images/image_000001165.jpg
trainval/images/image_000001603.jpg
trainval/images/image_000000535.jpg
trainval/images/image_000000253.jpg
trainval/images/image_000001159.jpg
trainval/images/image_000000247.jpg
trainval/images/image_000000521.jpg
trainval/images/image_000000251.jpg
trainval/images/image_000001629.jpg
trainval/images/image_000000537.jpg
trainval/images/image_000000523.jpg
trainval/images/image_000000245.jpg
trainval/images/image_000001173.jpg
trainval/images/image_000001615.jpg
trainval/images/image_000001601.jpg
trainval/images/image_000000279.jpg
trainval/images/image_000001167.jpg
trainval/images/image_000000292.jpg
trainval/images/image_000001832.jpg
trainval/images/image_000001826.jpg
trainval/images/image_000001198.jpg
trainval/images/image_000000286.jpg
trainval/images/image_000002122.jpg
trainval/images/image_000000735.jpg
trainval/images/image_000000053.jpg
trainval/images/image_000001359.jpg
trainval/images/image_000000047.jpg
trainval/images/image_000000721.jpg
trainval/images/image_000002136.jpg
trainval/images/image_000000709.jpg
trainval/images/image_000001417.jpg
trainval/images/image_000001371.jpg
trainval/images/image_000001365.jpg
trainval/images/image_000001403.jpg
trainval/images/image_000000090.jpg
trainval/images/image_000000084.jpg
trainval/images/image_000000912.jpg
trainval/images/image_000000906.jpg
trainval/images/image_000002056.jpg
trainval/images/image_000000899.jpg
trainval/images/image_000000641.jpg
trainval/images/image_000000127.jpg
trainval/images/image_000001239.jpg
trainval/images/image_000000133.jpg
trainval/images/image_000000655.jpg
trainval/images/image_000002042.jpg
trainval/images/image_000001563.jpg
trainval/images/image_000001205.jpg
trainval/images/image_000001211.jpg
trainval/images/image_000001577.jpg
trainval/images/image_000000669.jpg
trainval/images/image_000000682.jpg
trainval/images/image_000002095.jpg
trainval/images/image_000002081.jpg
trainval/images/image_000000696.jpg
trainval/images/image_000001588.jpg
trainval/images/image_000000866.jpg
trainval/images/image_000000872.jpg
trainval/images/image_000000325.jpg
trainval/images/image_000001985.jpg
trainval/images/image_000000443.jpg
trainval/images/image_000001991.jpg
trainval/images/image_000000457.jpg
trainval/images/image_000001749.jpg
trainval/images/image_000000331.jpg
trainval/images/image_000001007.jpg
trainval/images/image_000000319.jpg
trainval/images/image_000001761.jpg
trainval/images/image_000001775.jpg
trainval/images/image_000001013.jpg
trainval/images/image_000001946.jpg
trainval/images/image_000000480.jpg
trainval/images/image_000001952.jpg
trainval/images/image_000000494.jpg
trainval/images/image_000000495.jpg
trainval/images/image_000001953.jpg
trainval/images/image_000000481.jpg
trainval/images/image_000001947.jpg
trainval/images/image_000001774.jpg
trainval/images/image_000001012.jpg
trainval/images/image_000000318.jpg
trainval/images/image_000001006.jpg
trainval/images/image_000001760.jpg
trainval/images/image_000001748.jpg
trainval/images/image_000000456.jpg
trainval/images/image_000001990.jpg
trainval/images/image_000000330.jpg
trainval/images/image_000000324.jpg
trainval/images/image_000000442.jpg
trainval/images/image_000001984.jpg
trainval/images/image_000000873.jpg
trainval/images/image_000000867.jpg
trainval/images/image_000001589.jpg
trainval/images/image_000000697.jpg
trainval/images/image_000002080.jpg
trainval/images/image_000002094.jpg
trainval/images/image_000000683.jpg
trainval/images/image_000001210.jpg
trainval/images/image_000000668.jpg
trainval/images/image_000001576.jpg
trainval/images/image_000001562.jpg
trainval/images/image_000001204.jpg
trainval/images/image_000000132.jpg
trainval/images/image_000002043.jpg
trainval/images/image_000000654.jpg
trainval/images/image_000000640.jpg
trainval/images/image_000000898.jpg
trainval/images/image_000002057.jpg
trainval/images/image_000001238.jpg
trainval/images/image_000000126.jpg
trainval/images/image_000000907.jpg
trainval/images/image_000000913.jpg
trainval/images/image_000000085.jpg
trainval/images/image_000000091.jpg
trainval/images/image_000001364.jpg
trainval/images/image_000001402.jpg
trainval/images/image_000001416.jpg
trainval/images/image_000000708.jpg
trainval/images/image_000001370.jpg
trainval/images/image_000000046.jpg
trainval/images/image_000001358.jpg
trainval/images/image_000002137.jpg
trainval/images/image_000000720.jpg
trainval/images/image_000000734.jpg
trainval/images/image_000002123.jpg
trainval/images/image_000000052.jpg
trainval/images/image_000001827.jpg
trainval/images/image_000000287.jpg
trainval/images/image_000001199.jpg
trainval/images/image_000000293.jpg
trainval/images/image_000001833.jpg
trainval/images/image_000001600.jpg
trainval/images/image_000001166.jpg
trainval/images/image_000000278.jpg
trainval/images/image_000001172.jpg
trainval/images/image_000001614.jpg
trainval/images/image_000000522.jpg
trainval/images/image_000000244.jpg
trainval/images/image_000000250.jpg
trainval/images/image_000000536.jpg
trainval/images/image_000001628.jpg
COCO_ANNO_PATH = '/content/trainval/annotations/bbox-annotations.json'
COCO_IMG_PATH  = '/content/trainval/images'

coco = COCO(COCO_ANNO_PATH)

color_map = {
    'people':   'red',
    'car':  'blue'
}
loading annotations into memory...
Done (t=0.08s)
creating index...
index created!
def viz_fn(image,annotations,idx=0):

    for elem in annotations:
        holder_dict={}
        holder_dict=elem
        category=holder_dict['category_id']
        x,y,w,h=holder_dict['bbox'][0],holder_dict['bbox'][1],holder_dict['bbox'][2],holder_dict['bbox'][3]
        
        if(category==1):
            img=cv2.rectangle(image, (x, y), (x+w, y+h), (0, 0, 255), 2)
        else:
            img=cv2.rectangle(image, (x, y), (x+w, y+h), (0, 255, 0), 2)
        
    cv2.imwrite('/content/overlays/'+str(idx)+'.png',img)
    return
def extract_info_from_json(image_info,annotations):
    
    # Initialise the info dict 
    info_dict = {}
    info_dict['bboxes'] = []

    # Parse the XML Tree
    for elem in annotations:
        # Get the file name 
        info_dict['filename'] = image_info['file_name']
            
        # Get the image size
        image_size=[image_info['width'],image_info['height'],3]
        info_dict['image_size'] = tuple(image_size)
        
        # Get details of the bounding box 
        #impute class as 0 and 1 instead of 1 and 2 as provided in category_id as YOLO classes start from 0.
        bbox = {} 
        if(elem['category_id']==1):
          bbox['class']=0
        elif(elem['category_id']==2):
          bbox['class']=1
        bbox['xmin']=elem['bbox'][0]
        bbox['ymin']=elem['bbox'][1]
        bbox['xmax']=elem['bbox'][2]+elem['bbox'][0]
        bbox['ymax']=elem['bbox'][3]+elem['bbox'][1]      
        info_dict['bboxes'].append(bbox)
    
    return info_dict
# Dictionary that maps class names to IDs
class_name_to_id_mapping = {"person": 0,
                           "car": 1}

# Convert the info dict to the required yolo format and write it to disk
def convert_to_yolov5(info_dict):
    print_buffer = []
    
    # For each bounding box
    for b in info_dict["bboxes"]:
        try:
            class_id = b['class']#class_name_to_id_mapping[b["class"]]
        except KeyError:
            print("Invalid Class. Must be one from ", class_name_to_id_mapping.keys())
        
        # Transform the bbox co-ordinates as per the format required by YOLO v5
        b_center_x = (b["xmin"] + b["xmax"]) / 2 
        b_center_y = (b["ymin"] + b["ymax"]) / 2
        b_width    = (b["xmax"] - b["xmin"])
        b_height   = (b["ymax"] - b["ymin"])
        
        # Normalise the co-ordinates by the dimensions of the image
        image_w, image_h, image_c = info_dict["image_size"]  
        b_center_x /= image_w 
        b_center_y /= image_h 
        b_width    /= image_w 
        b_height   /= image_h 
        
        #Write the bbox details to the file 
        print_buffer.append("{} {:.3f} {:.3f} {:.3f} {:.3f}".format(class_id, b_center_x, b_center_y, b_width, b_height))
        
    # Name of the file which we have to save 
    save_file_name = os.path.join("yolo_annots",info_dict["filename"].replace("jpg", "txt"))
    
    # Save the annotation to disk
    print("\n".join(print_buffer), file= open(save_file_name, "w"))
for image_id in coco.imgs.keys():
    image_info = coco.imgs[image_id]
    annotations = coco.loadAnns(coco.getAnnIds([image_id]))
    
    image = cv2.imread(f'{COCO_IMG_PATH}/{image_info["file_name"]}')
    viz_fn(image,annotations,image_id)
    info_dict=extract_info_from_json(image_info,annotations)
    convert_to_yolov5(info_dict)
annotations = [os.path.join('yolo_annots', x) for x in os.listdir('yolo_annots') if x[-3:] == "txt"]
random.seed(0)

class_id_to_name_mapping = dict(zip(class_name_to_id_mapping.values(), class_name_to_id_mapping.keys()))

def plot_bounding_box(image, annotation_list):
    annotations = np.array(annotation_list)
    w, h = image.size
    
    plotted_image = ImageDraw.Draw(image)

    transformed_annotations = np.copy(annotations)
    transformed_annotations[:,[1,3]] = annotations[:,[1,3]] * w
    transformed_annotations[:,[2,4]] = annotations[:,[2,4]] * h 
    
    transformed_annotations[:,1] = transformed_annotations[:,1] - (transformed_annotations[:,3] / 2)
    transformed_annotations[:,2] = transformed_annotations[:,2] - (transformed_annotations[:,4] / 2)
    transformed_annotations[:,3] = transformed_annotations[:,1] + transformed_annotations[:,3]
    transformed_annotations[:,4] = transformed_annotations[:,2] + transformed_annotations[:,4]
    
    for ann in transformed_annotations:
        obj_cls, x0, y0, x1, y1 = ann
        plotted_image.rectangle(((x0,y0), (x1,y1)))
        
        plotted_image.text((x0, y0 - 10), class_id_to_name_mapping[(int(obj_cls))])
    


    image.resize((1024,1024))
    plt.imshow(np.array(image))
    plt.savefig('dummy.png')
    plt.show()
# Get any random annotation file 
annotation_file = random.choice(annotations)
with open(annotation_file, "r") as file:
    annotation_list = file.read().split("\n")[:-1]
    annotation_list = [x.split(" ") for x in annotation_list]
    annotation_list = [[float(y) for y in x ] for x in annotation_list]

#Get the corresponding image file
print(annotation_file)
image_file = annotation_file.replace("yolo_annots","/content/trainval/images/").replace("annotations", "images").replace("txt", "jpg")
print(image_file)
assert os.path.exists(image_file)

#Load the image
image = Image.open(image_file)

#Plot the Bounding Box
plot_bounding_box(image, annotation_list)
yolo_annots/image_000002055.txt
/content/trainval/images//image_000002055.jpg

# Read images and annotations
images = [os.path.join('/content/trainval/images/', x) for x in os.listdir('/content/trainval/images/')]
annotations = [os.path.join('yolo_annots', x) for x in os.listdir('yolo_annots') if x[-3:] == "txt"]

images.sort()
annotations.sort()

# Split the dataset into train-valid-test splits 
train_images, val_images, train_annotations, val_annotations = train_test_split(images, annotations, test_size = 0.2, random_state = 1)
val_images, test_images, val_annotations, test_annotations = train_test_split(val_images, val_annotations, test_size = 0.5, random_state = 1)
if not os.path.exists('images/train'):
  os.makedirs("images/train")
if not os.path.exists('images/test'):
  os.makedirs("images/test")
if not os.path.exists('images/val'):
  os.makedirs("images/val")
if not os.path.exists('annotations/train'):
  os.makedirs("annotations/train")
if not os.path.exists('annotations/test'):
  os.makedirs("annotations/test")
if not os.path.exists('annotations/val'):
  os.makedirs("annotations/val")
#Utility function to move images 
def move_files_to_folder(list_of_files, destination_folder):
    for f in list_of_files:
        try:
            shutil.move(f, destination_folder)
        except:
            print(f)
            assert False

# Move the splits into their folders
move_files_to_folder(train_images, 'images/train')
move_files_to_folder(val_images, 'images/val/')
move_files_to_folder(test_images, 'images/test/')
move_files_to_folder(train_annotations, 'annotations/train/')
move_files_to_folder(val_annotations, 'annotations/val/')
move_files_to_folder(test_annotations, 'annotations/test/')
#Rename the annotations folder to labels, as this is where YOLO v5 expects the annotations to be located in.
!mv annotations labels
#check data/hyps/hyp.scratch.yaml
#create eagleview.yaml inside yolov5/data folder 
'''
train: /content/images/train/
val:  /content/images/val/
test: /content/images/test/

# # number of classes
nc: 2

# # class names
names: ["person","car"]
'''
'\ntrain: /content/images/train/\nval:  /content/images/val/\ntest: /content/images/test/\n\n# # number of classes\nnc: 2\n\n# # class names\nnames: ["person","car"]\n'
from google.colab import files
#For the folder you have to zip it first and can only download later on
!zip -r eagleview.zip /content/
Streaming output truncated to the last 5000 lines.
  adding: content/images/train/image_000000267.jpg (deflated 2%)
  adding: content/images/train/image_000001210.jpg (deflated 0%)
  adding: content/images/train/image_000001699.jpg (deflated 0%)
  adding: content/images/train/image_000001983.jpg (deflated 0%)
  adding: content/images/train/image_000001342.jpg (deflated 0%)
  adding: content/images/train/image_000000125.jpg (deflated 1%)
  adding: content/images/train/image_000000891.jpg (deflated 0%)
  adding: content/images/train/image_000001981.jpg (deflated 1%)
  adding: content/images/train/image_000001709.jpg (deflated 0%)
  adding: content/images/train/image_000001933.jpg (deflated 0%)
  adding: content/images/train/image_000002055.jpg (deflated 0%)
  adding: content/images/train/image_000000611.jpg (deflated 0%)
  adding: content/images/train/image_000001006.jpg (deflated 0%)
  adding: content/images/train/image_000002230.jpg (deflated 0%)
  adding: content/images/train/image_000001401.jpg (deflated 0%)
  adding: content/images/train/image_000000118.jpg (deflated 0%)
  adding: content/images/train/image_000000828.jpg (deflated 0%)
  adding: content/images/train/image_000001680.jpg (deflated 0%)
  adding: content/images/train/image_000001245.jpg (deflated 0%)
  adding: content/images/train/image_000001996.jpg (deflated 0%)
  adding: content/images/train/image_000000799.jpg (deflated 0%)
  adding: content/images/train/image_000002157.jpg (deflated 0%)
  adding: content/images/train/image_000001857.jpg (deflated 1%)
  adding: content/images/train/image_000000290.jpg (deflated 0%)
  adding: content/images/train/image_000000506.jpg (deflated 1%)
  adding: content/images/train/image_000001782.jpg (deflated 0%)
  adding: content/images/train/image_000000592.jpg (deflated 0%)
  adding: content/images/train/image_000001580.jpg (deflated 0%)
  adding: content/images/train/image_000001186.jpg (deflated 0%)
  adding: content/images/train/image_000000582.jpg (deflated 1%)
  adding: content/images/train/image_000001934.jpg (deflated 0%)
  adding: content/images/train/image_000000312.jpg (deflated 0%)
  adding: content/images/train/image_000001636.jpg (deflated 1%)
  adding: content/images/train/image_000000179.jpg (deflated 0%)
  adding: content/images/train/image_000001514.jpg (deflated 0%)
  adding: content/images/train/image_000000167.jpg (deflated 0%)
  adding: content/images/train/image_000000287.jpg (deflated 0%)
  adding: content/images/train/image_000000311.jpg (deflated 0%)
  adding: content/images/train/image_000000501.jpg (deflated 0%)
  adding: content/images/train/image_000000137.jpg (deflated 0%)
  adding: content/images/train/image_000001035.jpg (deflated 0%)
  adding: content/images/train/image_000000579.jpg (deflated 0%)
  adding: content/images/train/image_000000598.jpg (deflated 0%)
  adding: content/images/train/image_000002148.jpg (deflated 0%)
  adding: content/images/train/image_000000717.jpg (deflated 0%)
  adding: content/images/train/image_000000218.jpg (deflated 0%)
  adding: content/images/train/image_000000013.jpg (deflated 0%)
  adding: content/images/train/image_000000050.jpg (deflated 0%)
  adding: content/images/train/image_000000208.jpg (deflated 0%)
  adding: content/images/train/image_000001555.jpg (deflated 0%)
  adding: content/images/train/image_000001603.jpg (deflated 0%)
  adding: content/images/train/image_000001361.jpg (deflated 0%)
  adding: content/images/train/image_000001613.jpg (deflated 1%)
  adding: content/images/train/image_000001320.jpg (deflated 0%)
  adding: content/images/train/image_000001047.jpg (deflated 0%)
  adding: content/images/train/image_000000116.jpg (deflated 0%)
  adding: content/images/train/image_000000097.jpg (deflated 1%)
  adding: content/images/train/image_000001751.jpg (deflated 0%)
  adding: content/images/train/image_000000781.jpg (deflated 0%)
  adding: content/images/train/image_000000228.jpg (deflated 0%)
  adding: content/images/train/image_000001798.jpg (deflated 0%)
  adding: content/images/train/image_000001027.jpg (deflated 0%)
  adding: content/images/train/image_000000099.jpg (deflated 0%)
  adding: content/images/train/image_000001821.jpg (deflated 0%)
  adding: content/images/train/image_000001324.jpg (deflated 0%)
  adding: content/images/train/image_000001079.jpg (deflated 0%)
  adding: content/images/train/image_000001235.jpg (deflated 0%)
  adding: content/images/train/image_000001154.jpg (deflated 0%)
  adding: content/images/train/image_000001293.jpg (deflated 0%)
  adding: content/images/train/image_000000029.jpg (deflated 0%)
  adding: content/images/train/image_000001434.jpg (deflated 0%)
  adding: content/images/train/image_000001689.jpg (deflated 0%)
  adding: content/images/train/image_000000011.jpg (deflated 1%)
  adding: content/images/train/image_000001433.jpg (deflated 0%)
  adding: content/images/train/image_000002188.jpg (deflated 1%)
  adding: content/images/train/image_000000423.jpg (deflated 0%)
  adding: content/images/train/image_000000078.jpg (deflated 0%)
  adding: content/images/train/image_000001468.jpg (deflated 0%)
  adding: content/images/train/image_000000885.jpg (deflated 0%)
  adding: content/images/train/image_000002151.jpg (deflated 0%)
  adding: content/images/train/image_000000463.jpg (deflated 0%)
  adding: content/images/train/image_000000901.jpg (deflated 1%)
  adding: content/images/train/image_000002142.jpg (deflated 0%)
  adding: content/images/train/image_000000631.jpg (deflated 0%)
  adding: content/images/train/image_000001763.jpg (deflated 0%)
  adding: content/images/train/image_000000457.jpg (deflated 0%)
  adding: content/images/train/image_000000006.jpg (deflated 0%)
  adding: content/images/train/image_000001059.jpg (deflated 0%)
  adding: content/images/train/image_000001961.jpg (deflated 0%)
  adding: content/images/train/image_000001414.jpg (deflated 0%)
  adding: content/images/train/image_000000888.jpg (deflated 0%)
  adding: content/images/train/image_000002007.jpg (deflated 0%)
  adding: content/images/train/image_000000477.jpg (deflated 0%)
  adding: content/images/train/image_000000282.jpg (deflated 0%)
  adding: content/images/train/image_000000597.jpg (deflated 0%)
  adding: content/images/train/image_000001180.jpg (deflated 0%)
  adding: content/images/train/image_000001412.jpg (deflated 0%)
  adding: content/images/train/image_000000497.jpg (deflated 0%)
  adding: content/images/train/image_000000476.jpg (deflated 0%)
  adding: content/images/train/image_000000607.jpg (deflated 0%)
  adding: content/images/train/image_000000643.jpg (deflated 0%)
  adding: content/images/train/image_000001496.jpg (deflated 0%)
  adding: content/images/train/image_000001166.jpg (deflated 0%)
  adding: content/images/train/image_000000619.jpg (deflated 0%)
  adding: content/images/train/image_000000184.jpg (deflated 1%)
  adding: content/images/train/image_000002036.jpg (deflated 0%)
  adding: content/images/train/image_000000472.jpg (deflated 0%)
  adding: content/images/train/image_000001802.jpg (deflated 0%)
  adding: content/images/train/image_000000798.jpg (deflated 0%)
  adding: content/images/train/image_000001986.jpg (deflated 0%)
  adding: content/images/train/image_000002219.jpg (deflated 0%)
  adding: content/images/train/image_000000042.jpg (deflated 0%)
  adding: content/images/train/image_000000884.jpg (deflated 0%)
  adding: content/images/train/image_000000707.jpg (deflated 0%)
  adding: content/images/train/image_000000819.jpg (deflated 0%)
  adding: content/images/train/image_000001252.jpg (deflated 0%)
  adding: content/images/train/image_000002138.jpg (deflated 0%)
  adding: content/images/train/image_000002028.jpg (deflated 1%)
  adding: content/images/train/image_000000785.jpg (deflated 0%)
  adding: content/images/train/image_000000488.jpg (deflated 0%)
  adding: content/images/train/image_000001509.jpg (deflated 1%)
  adding: content/images/train/image_000001062.jpg (deflated 0%)
  adding: content/images/train/image_000001702.jpg (deflated 0%)
  adding: content/images/train/image_000000240.jpg (deflated 0%)
  adding: content/images/train/image_000002083.jpg (deflated 0%)
  adding: content/images/train/image_000000964.jpg (deflated 0%)
  adding: content/images/train/image_000000175.jpg (deflated 0%)
  adding: content/images/train/image_000001159.jpg (deflated 0%)
  adding: content/images/train/image_000000958.jpg (deflated 0%)
  adding: content/images/train/image_000000365.jpg (deflated 0%)
  adding: content/images/train/image_000001864.jpg (deflated 0%)
  adding: content/images/train/image_000002147.jpg (deflated 0%)
  adding: content/images/train/image_000000082.jpg (deflated 0%)
  adding: content/images/train/image_000000591.jpg (deflated 0%)
  adding: content/images/train/image_000000923.jpg (deflated 0%)
  adding: content/images/train/image_000001315.jpg (deflated 0%)
  adding: content/images/train/image_000000107.jpg (deflated 0%)
  adding: content/images/train/image_000001543.jpg (deflated 0%)
  adding: content/images/train/image_000001617.jpg (deflated 0%)
  adding: content/images/train/image_000001605.jpg (deflated 0%)
  adding: content/images/train/image_000001970.jpg (deflated 0%)
  adding: content/images/train/image_000000467.jpg (deflated 1%)
  adding: content/images/train/image_000001510.jpg (deflated 0%)
  adding: content/images/train/image_000001317.jpg (deflated 0%)
  adding: content/images/train/image_000000710.jpg (deflated 0%)
  adding: content/images/train/image_000000493.jpg (deflated 0%)
  adding: content/images/train/image_000000439.jpg (deflated 0%)
  adding: content/images/train/image_000002231.jpg (deflated 0%)
  adding: content/images/train/image_000002144.jpg (deflated 0%)
  adding: content/images/train/image_000001399.jpg (deflated 3%)
  adding: content/images/train/image_000000759.jpg (deflated 0%)
  adding: content/images/train/image_000000712.jpg (deflated 0%)
  adding: content/images/train/image_000000950.jpg (deflated 0%)
  adding: content/images/train/image_000001276.jpg (deflated 0%)
  adding: content/images/train/image_000002061.jpg (deflated 0%)
  adding: content/images/train/image_000001804.jpg (deflated 0%)
  adding: content/images/train/image_000000696.jpg (deflated 0%)
  adding: content/images/train/image_000000665.jpg (deflated 0%)
  adding: content/images/train/image_000000507.jpg (deflated 0%)
  adding: content/images/train/image_000000676.jpg (deflated 0%)
  adding: content/images/train/image_000001003.jpg (deflated 0%)
  adding: content/images/train/image_000000277.jpg (deflated 0%)
  adding: content/images/train/image_000001503.jpg (deflated 0%)
  adding: content/images/train/image_000001868.jpg (deflated 0%)
  adding: content/images/train/image_000000322.jpg (deflated 0%)
  adding: content/images/train/image_000000959.jpg (deflated 1%)
  adding: content/images/train/image_000001530.jpg (deflated 0%)
  adding: content/images/train/image_000000849.jpg (deflated 0%)
  adding: content/images/train/image_000000510.jpg (deflated 0%)
  adding: content/images/train/image_000000601.jpg (deflated 0%)
  adding: content/images/train/image_000001379.jpg (deflated 0%)
  adding: content/images/train/image_000001578.jpg (deflated 0%)
  adding: content/images/train/image_000001545.jpg (deflated 0%)
  adding: content/images/train/image_000000913.jpg (deflated 0%)
  adding: content/images/train/image_000000726.jpg (deflated 0%)
  adding: content/images/train/image_000001157.jpg (deflated 1%)
  adding: content/images/train/image_000001640.jpg (deflated 0%)
  adding: content/images/train/image_000000455.jpg (deflated 0%)
  adding: content/images/train/image_000002020.jpg (deflated 0%)
  adding: content/images/train/image_000001710.jpg (deflated 0%)
  adding: content/images/train/image_000001296.jpg (deflated 0%)
  adding: content/images/train/image_000000817.jpg (deflated 0%)
  adding: content/images/train/image_000001029.jpg (deflated 0%)
  adding: content/images/train/image_000000248.jpg (deflated 0%)
  adding: content/images/train/image_000001106.jpg (deflated 0%)
  adding: content/images/train/image_000000730.jpg (deflated 0%)
  adding: content/images/train/image_000000074.jpg (deflated 0%)
  adding: content/images/train/image_000002013.jpg (deflated 0%)
  adding: content/images/train/image_000002184.jpg (deflated 0%)
  adding: content/images/train/image_000000377.jpg (deflated 0%)
  adding: content/images/train/image_000000751.jpg (deflated 0%)
  adding: content/images/train/image_000001673.jpg (deflated 0%)
  adding: content/images/train/image_000001469.jpg (deflated 0%)
  adding: content/images/train/image_000000372.jpg (deflated 0%)
  adding: content/images/train/image_000000932.jpg (deflated 0%)
  adding: content/images/train/image_000001962.jpg (deflated 0%)
  adding: content/images/train/image_000002033.jpg (deflated 0%)
  adding: content/images/train/image_000002124.jpg (deflated 1%)
  adding: content/images/train/image_000002121.jpg (deflated 0%)
  adding: content/images/train/image_000001030.jpg (deflated 0%)
  adding: content/images/train/image_000001756.jpg (deflated 0%)
  adding: content/images/train/image_000002165.jpg (deflated 0%)
  adding: content/images/train/image_000000633.jpg (deflated 0%)
  adding: content/images/train/image_000001445.jpg (deflated 0%)
  adding: content/images/train/image_000001257.jpg (deflated 0%)
  adding: content/images/train/image_000001123.jpg (deflated 0%)
  adding: content/images/train/image_000000632.jpg (deflated 0%)
  adding: content/images/train/image_000000334.jpg (deflated 0%)
  adding: content/images/train/image_000000979.jpg (deflated 0%)
  adding: content/images/train/image_000000732.jpg (deflated 0%)
  adding: content/images/train/image_000002105.jpg (deflated 0%)
  adding: content/images/train/image_000001743.jpg (deflated 0%)
  adding: content/images/train/image_000000520.jpg (deflated 0%)
  adding: content/images/train/image_000001364.jpg (deflated 0%)
  adding: content/images/train/image_000001811.jpg (deflated 0%)
  adding: content/images/train/image_000001721.jpg (deflated 0%)
  adding: content/images/train/image_000002141.jpg (deflated 0%)
  adding: content/images/train/image_000001780.jpg (deflated 0%)
  adding: content/images/train/image_000001042.jpg (deflated 0%)
  adding: content/images/train/image_000001090.jpg (deflated 0%)
  adding: content/images/train/image_000001602.jpg (deflated 0%)
  adding: content/images/train/image_000000140.jpg (deflated 0%)
  adding: content/images/train/image_000001369.jpg (deflated 0%)
  adding: content/images/train/image_000001022.jpg (deflated 0%)
  adding: content/images/train/image_000001817.jpg (deflated 0%)
  adding: content/images/train/image_000001183.jpg (deflated 0%)
  adding: content/images/train/image_000000980.jpg (deflated 0%)
  adding: content/images/train/image_000002227.jpg (deflated 0%)
  adding: content/images/train/image_000001194.jpg (deflated 0%)
  adding: content/images/train/image_000000854.jpg (deflated 0%)
  adding: content/images/train/image_000001056.jpg (deflated 0%)
  adding: content/images/train/image_000000624.jpg (deflated 0%)
  adding: content/images/train/image_000002060.jpg (deflated 1%)
  adding: content/images/train/image_000002160.jpg (deflated 1%)
  adding: content/images/train/image_000002125.jpg (deflated 1%)
  adding: content/images/train/image_000002222.jpg (deflated 0%)
  adding: content/images/train/image_000001236.jpg (deflated 0%)
  adding: content/images/train/image_000001830.jpg (deflated 0%)
  adding: content/images/train/image_000001909.jpg (deflated 0%)
  adding: content/images/train/image_000000219.jpg (deflated 0%)
  adding: content/images/train/image_000000117.jpg (deflated 0%)
  adding: content/images/train/image_000001607.jpg (deflated 0%)
  adding: content/images/train/image_000000650.jpg (deflated 0%)
  adding: content/images/train/image_000001726.jpg (deflated 0%)
  adding: content/images/train/image_000001140.jpg (deflated 0%)
  adding: content/images/train/image_000000918.jpg (deflated 0%)
  adding: content/images/train/image_000000968.jpg (deflated 0%)
  adding: content/images/train/image_000002229.jpg (deflated 0%)
  adding: content/images/train/image_000002011.jpg (deflated 0%)
  adding: content/images/train/image_000001031.jpg (deflated 0%)
  adding: content/images/train/image_000001425.jpg (deflated 0%)
  adding: content/images/train/image_000000784.jpg (deflated 0%)
  adding: content/images/train/image_000001900.jpg (deflated 0%)
  adding: content/images/train/image_000000030.jpg (deflated 0%)
  adding: content/images/train/image_000000192.jpg (deflated 0%)
  adding: content/images/train/image_000001390.jpg (deflated 0%)
  adding: content/images/train/image_000000955.jpg (deflated 0%)
  adding: content/images/train/image_000002171.jpg (deflated 0%)
  adding: content/images/train/image_000002119.jpg (deflated 0%)
  adding: content/images/train/image_000001538.jpg (deflated 0%)
  adding: content/images/train/image_000000744.jpg (deflated 0%)
  adding: content/images/train/image_000000699.jpg (deflated 0%)
  adding: content/images/train/image_000000787.jpg (deflated 0%)
  adding: content/images/train/image_000000549.jpg (deflated 0%)
  adding: content/images/train/image_000000945.jpg (deflated 0%)
  adding: content/images/train/image_000001948.jpg (deflated 0%)
  adding: content/images/train/image_000001041.jpg (deflated 0%)
  adding: content/images/train/image_000001628.jpg (deflated 0%)
  adding: content/images/train/image_000002079.jpg (deflated 0%)
  adding: content/images/train/image_000000993.jpg (deflated 0%)
  adding: content/images/train/image_000000869.jpg (deflated 0%)
  adding: content/images/train/image_000002197.jpg (deflated 0%)
  adding: content/images/train/image_000000758.jpg (deflated 0%)
  adding: content/images/train/image_000001941.jpg (deflated 0%)
  adding: content/images/train/image_000000441.jpg (deflated 0%)
  adding: content/images/train/image_000002026.jpg (deflated 0%)
  adding: content/images/train/image_000000474.jpg (deflated 0%)
  adding: content/images/train/image_000000489.jpg (deflated 0%)
  adding: content/images/train/image_000000296.jpg (deflated 0%)
  adding: content/images/train/image_000000005.jpg (deflated 0%)
  adding: content/images/train/image_000001515.jpg (deflated 0%)
  adding: content/images/train/image_000001233.jpg (deflated 0%)
  adding: content/images/train/image_000001788.jpg (deflated 0%)
  adding: content/images/train/image_000001402.jpg (deflated 0%)
  adding: content/images/train/image_000000446.jpg (deflated 0%)
  adding: content/images/train/image_000001856.jpg (deflated 0%)
  adding: content/images/train/image_000000870.jpg (deflated 0%)
  adding: content/images/train/image_000001534.jpg (deflated 0%)
  adding: content/images/train/image_000001092.jpg (deflated 3%)
  adding: content/images/train/image_000000863.jpg (deflated 0%)
  adding: content/images/train/image_000001121.jpg (deflated 0%)
  adding: content/images/train/image_000001561.jpg (deflated 0%)
  adding: content/images/train/image_000001108.jpg (deflated 1%)
  adding: content/images/train/image_000002167.jpg (deflated 0%)
  adding: content/images/train/image_000001655.jpg (deflated 0%)
  adding: content/images/train/image_000002228.jpg (deflated 0%)
  adding: content/images/train/image_000000521.jpg (deflated 0%)
  adding: content/images/train/image_000002143.jpg (deflated 0%)
  adding: content/images/train/image_000000453.jpg (deflated 0%)
  adding: content/images/train/image_000000567.jpg (deflated 0%)
  adding: content/images/train/image_000002108.jpg (deflated 0%)
  adding: content/images/train/image_000002208.jpg (deflated 0%)
  adding: content/images/train/image_000000424.jpg (deflated 0%)
  adding: content/images/train/image_000000161.jpg (deflated 0%)
  adding: content/images/train/image_000000782.jpg (deflated 0%)
  adding: content/images/train/image_000002090.jpg (deflated 1%)
  adding: content/images/train/image_000001300.jpg (deflated 0%)
  adding: content/images/train/image_000000749.jpg (deflated 0%)
  adding: content/images/train/image_000000324.jpg (deflated 1%)
  adding: content/images/train/image_000001310.jpg (deflated 0%)
  adding: content/images/train/image_000001201.jpg (deflated 0%)
  adding: content/images/train/image_000000071.jpg (deflated 0%)
  adding: content/images/train/image_000000832.jpg (deflated 0%)
  adding: content/images/train/image_000001570.jpg (deflated 0%)
  adding: content/images/train/image_000001341.jpg (deflated 3%)
  adding: content/images/train/image_000000931.jpg (deflated 0%)
  adding: content/images/train/image_000000805.jpg (deflated 0%)
  adding: content/images/train/image_000000165.jpg (deflated 0%)
  adding: content/images/train/image_000000245.jpg (deflated 0%)
  adding: content/images/train/image_000001758.jpg (deflated 0%)
  adding: content/images/train/image_000001604.jpg (deflated 0%)
  adding: content/images/train/image_000001806.jpg (deflated 0%)
  adding: content/overlays/ (stored 0%)
  adding: content/overlays/26.png (deflated 1%)
  adding: content/overlays/846.png (deflated 4%)
  adding: content/overlays/147.png (deflated 3%)
  adding: content/overlays/73.png (deflated 1%)
  adding: content/overlays/292.png (deflated 2%)
  adding: content/overlays/1254.png (deflated 1%)
  adding: content/overlays/527.png (deflated 5%)
  adding: content/overlays/1627.png (deflated 2%)
  adding: content/overlays/118.png (deflated 6%)
  adding: content/overlays/996.png (deflated 3%)
  adding: content/overlays/1843.png (deflated 2%)
  adding: content/overlays/1931.png (deflated 0%)
  adding: content/overlays/525.png (deflated 5%)
  adding: content/overlays/859.png (deflated 1%)
  adding: content/overlays/1197.png (deflated 2%)
  adding: content/overlays/504.png (deflated 0%)
  adding: content/overlays/1741.png (deflated 3%)
  adding: content/overlays/1668.png (deflated 2%)
  adding: content/overlays/1645.png (deflated 6%)
  adding: content/overlays/1902.png (deflated 4%)
  adding: content/overlays/1806.png (deflated 0%)
  adding: content/overlays/919.png (deflated 3%)
  adding: content/overlays/1538.png (deflated 1%)
  adding: content/overlays/1748.png (deflated 1%)
  adding: content/overlays/1305.png (deflated 2%)
  adding: content/overlays/464.png (deflated 1%)
  adding: content/overlays/2078.png (deflated 2%)
  adding: content/overlays/1052.png (deflated 1%)
  adding: content/overlays/98.png (deflated 3%)
  adding: content/overlays/1686.png (deflated 3%)
  adding: content/overlays/1171.png (deflated 5%)
  adding: content/overlays/1315.png (deflated 13%)
  adding: content/overlays/2224.png (deflated 2%)
  adding: content/overlays/643.png (deflated 4%)
  adding: content/overlays/56.png (deflated 1%)
  adding: content/overlays/2154.png (deflated 1%)
  adding: content/overlays/1922.png (deflated 2%)
  adding: content/overlays/1430.png (deflated 16%)
  adding: content/overlays/953.png (deflated 2%)
  adding: content/overlays/1659.png (deflated 2%)
  adding: content/overlays/1703.png (deflated 1%)
  adding: content/overlays/240.png (deflated 6%)
  adding: content/overlays/405.png (deflated 0%)
  adding: content/overlays/9.png (deflated 1%)
  adding: content/overlays/1633.png (deflated 4%)
  adding: content/overlays/384.png (deflated 2%)
  adding: content/overlays/2100.png (deflated 1%)
  adding: content/overlays/1529.png (deflated 3%)
  adding: content/overlays/1962.png (deflated 4%)
  adding: content/overlays/1522.png (deflated 2%)
  adding: content/overlays/1899.png (deflated 2%)
  adding: content/overlays/784.png (deflated 0%)
  adding: content/overlays/293.png (deflated 6%)
  adding: content/overlays/535.png (deflated 1%)
  adding: content/overlays/1230.png (deflated 1%)
  adding: content/overlays/1088.png (deflated 0%)
  adding: content/overlays/1849.png (deflated 15%)
  adding: content/overlays/1253.png (deflated 4%)
  adding: content/overlays/24.png (deflated 7%)
  adding: content/overlays/321.png (deflated 0%)
  adding: content/overlays/2106.png (deflated 3%)
  adding: content/overlays/41.png (deflated 1%)
  adding: content/overlays/2.png (deflated 1%)
  adding: content/overlays/497.png (deflated 4%)
  adding: content/overlays/665.png (deflated 3%)
  adding: content/overlays/1450.png (deflated 0%)
  adding: content/overlays/17.png (deflated 6%)
  adding: content/overlays/1133.png (deflated 4%)
  adding: content/overlays/313.png (deflated 5%)
  adding: content/overlays/309.png (deflated 5%)
  adding: content/overlays/126.png (deflated 3%)
  adding: content/overlays/276.png (deflated 3%)
  adding: content/overlays/1959.png (deflated 7%)
  adding: content/overlays/1891.png (deflated 4%)
  adding: content/overlays/1519.png (deflated 3%)
  adding: content/overlays/964.png (deflated 1%)
  adding: content/overlays/1773.png (deflated 0%)
  adding: content/overlays/1796.png (deflated 21%)
  adding: content/overlays/1330.png (deflated 2%)
  adding: content/overlays/2014.png (deflated 2%)
  adding: content/overlays/916.png (deflated 1%)
  adding: content/overlays/949.png (deflated 1%)
  adding: content/overlays/375.png (deflated 4%)
  adding: content/overlays/898.png (deflated 2%)
  adding: content/overlays/287.png (deflated 2%)
  adding: content/overlays/1087.png (deflated 4%)
  adding: content/overlays/1204.png (deflated 1%)
  adding: content/overlays/220.png (deflated 3%)
  adding: content/overlays/1079.png (deflated 4%)
  adding: content/overlays/1296.png (deflated 1%)
  adding: content/overlays/1140.png (deflated 2%)
  adding: content/overlays/681.png (deflated 2%)
  adding: content/overlays/1709.png (deflated 8%)
  adding: content/overlays/955.png (deflated 3%)
  adding: content/overlays/1070.png (deflated 10%)
  adding: content/overlays/1196.png (deflated 2%)
  adding: content/overlays/352.png (deflated 3%)
  adding: content/overlays/1881.png (deflated 3%)
  adding: content/overlays/1663.png (deflated 5%)
  adding: content/overlays/470.png (deflated 1%)
  adding: content/overlays/850.png (deflated 6%)
  adding: content/overlays/338.png (deflated 1%)
  adding: content/overlays/1550.png (deflated 1%)
  adding: content/overlays/1761.png (deflated 1%)
  adding: content/overlays/1334.png (deflated 3%)
  adding: content/overlays/1912.png (deflated 1%)
  adding: content/overlays/680.png (deflated 0%)
  adding: content/overlays/1515.png (deflated 1%)
  adding: content/overlays/909.png (deflated 0%)
  adding: content/overlays/782.png (deflated 1%)
  adding: content/overlays/2129.png (deflated 2%)
  adding: content/overlays/1493.png (deflated 0%)
  adding: content/overlays/1299.png (deflated 0%)
  adding: content/overlays/140.png (deflated 2%)
  adding: content/overlays/1772.png (deflated 0%)
  adding: content/overlays/1424.png (deflated 0%)
  adding: content/overlays/1597.png (deflated 0%)
  adding: content/overlays/1717.png (deflated 11%)
  adding: content/overlays/1510.png (deflated 0%)
  adding: content/overlays/1805.png (deflated 5%)
  adding: content/overlays/1205.png (deflated 4%)
  adding: content/overlays/1613.png (deflated 4%)
  adding: content/overlays/1819.png (deflated 3%)
  adding: content/overlays/1469.png (deflated 4%)
  adding: content/overlays/270.png (deflated 5%)
  adding: content/overlays/350.png (deflated 0%)
  adding: content/overlays/404.png (deflated 1%)
  adding: content/overlays/2000.png (deflated 4%)
  adding: content/overlays/1799.png (deflated 3%)
  adding: content/overlays/519.png (deflated 1%)
  adding: content/overlays/1726.png (deflated 4%)
  adding: content/overlays/639.png (deflated 6%)
  adding: content/overlays/1349.png (deflated 2%)
  adding: content/overlays/597.png (deflated 2%)
  adding: content/overlays/1314.png (deflated 4%)
  adding: content/overlays/1532.png (deflated 2%)
  adding: content/overlays/841.png (deflated 1%)
  adding: content/overlays/1283.png (deflated 1%)
  adding: content/overlays/1531.png (deflated 6%)
  adding: content/overlays/2034.png (deflated 5%)
  adding: content/overlays/1782.png (deflated 2%)
  adding: content/overlays/1463.png (deflated 1%)
  adding: content/overlays/555.png (deflated 9%)
  adding: content/overlays/798.png (deflated 1%)
  adding: content/overlays/483.png (deflated 2%)
  adding: content/overlays/33.png (deflated 3%)
  adding: content/overlays/1577.png (deflated 4%)
  adding: content/overlays/2123.png (deflated 3%)
  adding: content/overlays/113.png (deflated 6%)
  adding: content/overlays/1743.png (deflated 0%)
  adding: content/overlays/1277.png (deflated 1%)
  adding: content/overlays/1631.png (deflated 3%)
  adding: content/overlays/857.png (deflated 1%)
  adding: content/overlays/724.png (deflated 1%)
  adding: content/overlays/97.png (deflated 0%)
  adding: content/overlays/772.png (deflated 1%)
  adding: content/overlays/1161.png (deflated 8%)
  adding: content/overlays/260.png (deflated 0%)
  adding: content/overlays/1824.png (deflated 3%)
  adding: content/overlays/62.png (deflated 1%)
  adding: content/overlays/2139.png (deflated 4%)
  adding: content/overlays/1154.png (deflated 3%)
  adding: content/overlays/2185.png (deflated 1%)
  adding: content/overlays/1111.png (deflated 11%)
  adding: content/overlays/2049.png (deflated 3%)
  adding: content/overlays/315.png (deflated 1%)
  adding: content/overlays/2015.png (deflated 1%)
  adding: content/overlays/1409.png (deflated 1%)
  adding: content/overlays/1719.png (deflated 1%)
  adding: content/overlays/476.png (deflated 1%)
  adding: content/overlays/1422.png (deflated 6%)
  adding: content/overlays/1006.png (deflated 3%)
  adding: content/overlays/1711.png (deflated 1%)
  adding: content/overlays/702.png (deflated 2%)
  adding: content/overlays/1700.png (deflated 4%)
  adding: content/overlays/1540.png (deflated 4%)
  adding: content/overlays/834.png (deflated 3%)
  adding: content/overlays/194.png (deflated 1%)
  adding: content/overlays/1697.png (deflated 4%)
  adding: content/overlays/442.png (deflated 4%)
  adding: content/overlays/979.png (deflated 3%)
  adding: content/overlays/751.png (deflated 2%)
  adding: content/overlays/1461.png (deflated 1%)
  adding: content/overlays/397.png (deflated 1%)
  adding: content/overlays/1472.png (deflated 0%)
  adding: content/overlays/2022.png (deflated 1%)
  adding: content/overlays/246.png (deflated 6%)
  adding: content/overlays/1560.png (deflated 2%)
  adding: content/overlays/169.png (deflated 0%)
  adding: content/overlays/1640.png (deflated 3%)
  adding: content/overlays/1837.png (deflated 4%)
  adding: content/overlays/613.png (deflated 5%)
  adding: content/overlays/747.png (deflated 1%)
  adding: content/overlays/1177.png (deflated 2%)
  adding: content/overlays/382.png (deflated 0%)
  adding: content/overlays/843.png (deflated 2%)
  adding: content/overlays/1571.png (deflated 1%)
  adding: content/overlays/1767.png (deflated 3%)
  adding: content/overlays/213.png (deflated 0%)
  adding: content/overlays/2214.png (deflated 3%)
  adding: content/overlays/1951.png (deflated 2%)
  adding: content/overlays/741.png (deflated 10%)
  adding: content/overlays/20.png (deflated 1%)
  adding: content/overlays/929.png (deflated 1%)
  adding: content/overlays/2211.png (deflated 5%)
  adding: content/overlays/2054.png (deflated 2%)
  adding: content/overlays/2110.png (deflated 0%)
  adding: content/overlays/366.png (deflated 7%)
  adding: content/overlays/1794.png (deflated 4%)
  adding: content/overlays/705.png (deflated 3%)
  adding: content/overlays/1416.png (deflated 2%)
  adding: content/overlays/1028.png (deflated 3%)
  adding: content/overlays/437.png (deflated 2%)
  adding: content/overlays/1167.png (deflated 2%)
  adding: content/overlays/1344.png (deflated 1%)
  adding: content/overlays/611.png (deflated 1%)
  adding: content/overlays/1118.png (deflated 5%)
  adding: content/overlays/896.png (deflated 10%)
  adding: content/overlays/810.png (deflated 2%)
  adding: content/overlays/1639.png (deflated 1%)
  adding: content/overlays/1313.png (deflated 21%)
  adding: content/overlays/576.png (deflated 3%)
  adding: content/overlays/594.png (deflated 2%)
  adding: content/overlays/201.png (deflated 3%)
  adding: content/overlays/865.png (deflated 1%)
  adding: content/overlays/1080.png (deflated 2%)
  adding: content/overlays/336.png (deflated 3%)
  adding: content/overlays/766.png (deflated 5%)
  adding: content/overlays/2217.png (deflated 0%)
  adding: content/overlays/1956.png (deflated 1%)
  adding: content/overlays/1826.png (deflated 4%)
  adding: content/overlays/1302.png (deflated 4%)
  adding: content/overlays/1768.png (deflated 2%)
  adding: content/overlays/1020.png (deflated 1%)
  adding: content/overlays/1585.png (deflated 1%)
  adding: content/overlays/1879.png (deflated 2%)
  adding: content/overlays/515.png (deflated 1%)
  adding: content/overlays/160.png (deflated 4%)
  adding: content/overlays/2035.png (deflated 2%)
  adding: content/overlays/785.png (deflated 4%)
  adding: content/overlays/104.png (deflated 2%)
  adding: content/overlays/13.png (deflated 3%)
  adding: content/overlays/1286.png (deflated 0%)
  adding: content/overlays/1745.png (deflated 4%)
  adding: content/overlays/2076.png (deflated 6%)
  adding: content/overlays/187.png (deflated 7%)
  adding: content/overlays/116.png (deflated 6%)
  adding: content/overlays/944.png (deflated 4%)
  adding: content/overlays/1914.png (deflated 0%)
  adding: content/overlays/1547.png (deflated 2%)
  adding: content/overlays/1301.png (deflated 3%)
  adding: content/overlays/1807.png (deflated 3%)
  adding: content/overlays/895.png (deflated 7%)
  adding: content/overlays/2111.png (deflated 6%)
  adding: content/overlays/1235.png (deflated 1%)
  adding: content/overlays/1106.png (deflated 8%)
  adding: content/overlays/1494.png (deflated 2%)
  adding: content/overlays/2204.png (deflated 4%)
  adding: content/overlays/770.png (deflated 1%)
  adding: content/overlays/1752.png (deflated 4%)
  adding: content/overlays/1599.png (deflated 1%)
  adding: content/overlays/103.png (deflated 1%)
  adding: content/overlays/1802.png (deflated 2%)
  adding: content/overlays/891.png (deflated 0%)
  adding: content/overlays/156.png (deflated 0%)
  adding: content/overlays/158.png (deflated 4%)
  adding: content/overlays/1440.png (deflated 1%)
  adding: content/overlays/1114.png (deflated 5%)
  adding: content/overlays/253.png (deflated 3%)
  adding: content/overlays/1132.png (deflated 1%)
  adding: content/overlays/632.png (deflated 1%)
  adding: content/overlays/1566.png (deflated 1%)
  adding: content/overlays/714.png (deflated 1%)
  adding: content/overlays/1389.png (deflated 4%)
  adding: content/overlays/1165.png (deflated 3%)
  adding: content/overlays/1084.png (deflated 15%)
  adding: content/overlays/349.png (deflated 4%)
  adding: content/overlays/1054.png (deflated 3%)
  adding: content/overlays/1107.png (deflated 3%)
  adding: content/overlays/363.png (deflated 4%)
  adding: content/overlays/987.png (deflated 1%)
  adding: content/overlays/1338.png (deflated 4%)
  adding: content/overlays/1265.png (deflated 1%)
  adding: content/overlays/706.png (deflated 1%)
  adding: content/overlays/1285.png (deflated 2%)
  adding: content/overlays/329.png (deflated 1%)
  adding: content/overlays/1126.png (deflated 5%)
  adding: content/overlays/907.png (deflated 2%)
  adding: content/overlays/1610.png (deflated 6%)
  adding: content/overlays/2193.png (deflated 1%)
  adding: content/overlays/1207.png (deflated 3%)
  adding: content/overlays/109.png (deflated 2%)
  adding: content/overlays/386.png (deflated 17%)
  adding: content/overlays/1348.png (deflated 6%)
  adding: content/overlays/1771.png (deflated 1%)
  adding: content/overlays/1785.png (deflated 1%)
  adding: content/overlays/477.png (deflated 3%)
  adding: content/overlays/215.png (deflated 6%)
  adding: content/overlays/1687.png (deflated 1%)
  adding: content/overlays/2159.png (deflated 1%)
  adding: content/overlays/1000.png (deflated 2%)
  adding: content/overlays/530.png (deflated 2%)
  adding: content/overlays/2161.png (deflated 4%)
  adding: content/overlays/402.png (deflated 0%)
  adding: content/overlays/1023.png (deflated 3%)
  adding: content/overlays/624.png (deflated 2%)
  adding: content/overlays/1779.png (deflated 3%)
  adding: content/overlays/1742.png (deflated 2%)
  adding: content/overlays/1420.png (deflated 4%)
  adding: content/overlays/462.png (deflated 2%)
  adding: content/overlays/729.png (deflated 2%)
  adding: content/overlays/1474.png (deflated 5%)
  adding: content/overlays/1025.png (deflated 1%)
  adding: content/overlays/1178.png (deflated 4%)
  adding: content/overlays/560.png (deflated 5%)
  adding: content/overlays/1616.png (deflated 3%)
  adding: content/overlays/642.png (deflated 7%)
  adding: content/overlays/134.png (deflated 2%)
  adding: content/overlays/93.png (deflated 9%)
  adding: content/overlays/2051.png (deflated 5%)
  adding: content/overlays/224.png (deflated 4%)
  adding: content/overlays/710.png (deflated 0%)
  adding: content/overlays/1403.png (deflated 1%)
  adding: content/overlays/1092.png (deflated 2%)
  adding: content/overlays/1345.png (deflated 6%)
  adding: content/overlays/132.png (deflated 4%)
  adding: content/overlays/815.png (deflated 3%)
  adding: content/overlays/1483.png (deflated 0%)
  adding: content/overlays/821.png (deflated 4%)
  adding: content/overlays/398.png (deflated 1%)
  adding: content/overlays/1716.png (deflated 3%)
  adding: content/overlays/687.png (deflated 3%)
  adding: content/overlays/1319.png (deflated 5%)
  adding: content/overlays/948.png (deflated 4%)
  adding: content/overlays/1073.png (deflated 18%)
  adding: content/overlays/2226.png (deflated 7%)
  adding: content/overlays/1841.png (deflated 1%)
  adding: content/overlays/1192.png (deflated 1%)
  adding: content/overlays/1245.png (deflated 2%)
  adding: content/overlays/2033.png (deflated 2%)
  adding: content/overlays/137.png (deflated 5%)
  adding: content/overlays/837.png (deflated 1%)
  adding: content/overlays/1156.png (deflated 4%)
  adding: content/overlays/1694.png (deflated 7%)
  adding: content/overlays/268.png (deflated 3%)
  adding: content/overlays/2140.png (deflated 4%)
  adding: content/overlays/1085.png (deflated 2%)
  adding: content/overlays/395.png (deflated 0%)
  adding: content/overlays/1213.png (deflated 3%)
  adding: content/overlays/1960.png (deflated 2%)
  adding: content/overlays/1374.png (deflated 0%)
  adding: content/overlays/1803.png (deflated 3%)
  adding: content/overlays/76.png (deflated 4%)
  adding: content/overlays/488.png (deflated 1%)
  adding: content/overlays/37.png (deflated 15%)
  adding: content/overlays/44.png (deflated 2%)
  adding: content/overlays/935.png (deflated 1%)
  adding: content/overlays/655.png (deflated 1%)
  adding: content/overlays/1999.png (deflated 3%)
  adding: content/overlays/2134.png (deflated 3%)
  adding: content/overlays/200.png (deflated 15%)
  adding: content/overlays/906.png (deflated 1%)
  adding: content/overlays/2113.png (deflated 1%)
  adding: content/overlays/131.png (deflated 1%)
  adding: content/overlays/849.png (deflated 4%)
  adding: content/overlays/1846.png (deflated 1%)
  adding: content/overlays/835.png (deflated 0%)
  adding: content/overlays/1242.png (deflated 2%)
  adding: content/overlays/545.png (deflated 1%)
  adding: content/overlays/53.png (deflated 3%)
  adding: content/overlays/588.png (deflated 4%)
  adding: content/overlays/1214.png (deflated 1%)
  adding: content/overlays/1014.png (deflated 1%)
  adding: content/overlays/745.png (deflated 1%)
  adding: content/overlays/1998.png (deflated 1%)
  adding: content/overlays/1725.png (deflated 4%)
  adding: content/overlays/1397.png (deflated 1%)
  adding: content/overlays/827.png (deflated 1%)
  adding: content/overlays/196.png (deflated 5%)
  adding: content/overlays/692.png (deflated 1%)
  adding: content/overlays/162.png (deflated 7%)
  adding: content/overlays/381.png (deflated 5%)
  adding: content/overlays/191.png (deflated 2%)
  adding: content/overlays/984.png (deflated 5%)
  adding: content/overlays/1155.png (deflated 6%)
  adding: content/overlays/1524.png (deflated 1%)
  adding: content/overlays/1358.png (deflated 2%)
  adding: content/overlays/1415.png (deflated 2%)
  adding: content/overlays/86.png (deflated 2%)
  adding: content/overlays/1208.png (deflated 2%)
  adding: content/overlays/473.png (deflated 4%)
  adding: content/overlays/1229.png (deflated 5%)
  adding: content/overlays/521.png (deflated 1%)
  adding: content/overlays/621.png (deflated 6%)
  adding: content/overlays/161.png (deflated 3%)
  adding: content/overlays/1504.png (deflated 9%)
  adding: content/overlays/2032.png (deflated 1%)
  adding: content/overlays/1473.png (deflated 1%)
  adding: content/overlays/1736.png (deflated 1%)
  adding: content/overlays/392.png (deflated 4%)
  adding: content/overlays/322.png (deflated 1%)
  adding: content/overlays/2150.png (deflated 1%)
  adding: content/overlays/1622.png (deflated 4%)
  adding: content/overlays/1492.png (deflated 0%)
  adding: content/overlays/2169.png (deflated 0%)
  adding: content/overlays/1393.png (deflated 0%)
  adding: content/overlays/2147.png (deflated 4%)
  adding: content/overlays/1562.png (deflated 2%)
  adding: content/overlays/549.png (deflated 7%)
  adding: content/overlays/783.png (deflated 2%)
  adding: content/overlays/934.png (deflated 4%)
  adding: content/overlays/1822.png (deflated 2%)
  adding: content/overlays/682.png (deflated 1%)
  adding: content/overlays/424.png (deflated 1%)
  adding: content/overlays/1830.png (deflated 5%)
  adding: content/overlays/1470.png (deflated 2%)
  adding: content/overlays/294.png (deflated 1%)
  adding: content/overlays/2096.png (deflated 4%)
  adding: content/overlays/1781.png (deflated 1%)
  adding: content/overlays/980.png (deflated 1%)
  adding: content/overlays/1454.png (deflated 1%)
  adding: content/overlays/617.png (deflated 6%)
  adding: content/overlays/454.png (deflated 3%)
  adding: content/overlays/660.png (deflated 3%)
  adding: content/overlays/1201.png (deflated 2%)
  adding: content/overlays/1050.png (deflated 3%)
  adding: content/overlays/1906.png (deflated 1%)
  adding: content/overlays/1809.png (deflated 2%)
  adding: content/overlays/1656.png (deflated 1%)
  adding: content/overlays/256.png (deflated 2%)
  adding: content/overlays/1916.png (deflated 2%)
  adding: content/overlays/1266.png (deflated 2%)
  adding: content/overlays/1816.png (deflated 2%)
  adding: content/overlays/1660.png (deflated 4%)
  adding: content/overlays/951.png (deflated 4%)
  adding: content/overlays/1644.png (deflated 1%)
  adding: content/overlays/945.png (deflated 2%)
  adding: content/overlays/368.png (deflated 0%)
  adding: content/overlays/1275.png (deflated 0%)
  adding: content/overlays/1858.png (deflated 1%)
  adding: content/overlays/1701.png (deflated 3%)
  adding: content/overlays/374.png (deflated 1%)
  adding: content/overlays/2168.png (deflated 1%)
  adding: content/overlays/1636.png (deflated 2%)
  adding: content/overlays/1295.png (deflated 1%)
  adding: content/overlays/612.png (deflated 3%)
  adding: content/overlays/2098.png (deflated 1%)
  adding: content/overlays/1225.png (deflated 1%)
  adding: content/overlays/1894.png (deflated 2%)
  adding: content/overlays/1139.png (deflated 1%)
  adding: content/overlays/802.png (deflated 18%)
  adding: content/overlays/696.png (deflated 1%)
  adding: content/overlays/636.png (deflated 5%)
  adding: content/overlays/2221.png (deflated 1%)
  adding: content/overlays/356.png (deflated 15%)
  adding: content/overlays/2231.png (deflated 7%)
  adding: content/overlays/1332.png (deflated 2%)
  adding: content/overlays/1239.png (deflated 4%)
  adding: content/overlays/957.png (deflated 1%)
  adding: content/overlays/1946.png (deflated 1%)
  adding: content/overlays/1617.png (deflated 1%)
  adding: content/overlays/2148.png (deflated 1%)
  adding: content/overlays/1586.png (deflated 3%)
  adding: content/overlays/417.png (deflated 3%)
  adding: content/overlays/1787.png (deflated 5%)
  adding: content/overlays/1975.png (deflated 14%)
  adding: content/overlays/1056.png (deflated 2%)
  adding: content/overlays/672.png (deflated 10%)
  adding: content/overlays/910.png (deflated 4%)
  adding: content/overlays/1097.png (deflated 1%)
  adding: content/overlays/237.png (deflated 1%)
  adding: content/overlays/652.png (deflated 6%)
  adding: content/overlays/942.png (deflated 3%)
  adding: content/overlays/481.png (deflated 4%)
  adding: content/overlays/1445.png (deflated 3%)
  adding: content/overlays/2133.png (deflated 4%)
  adding: content/overlays/1625.png (deflated 3%)
  adding: content/overlays/861.png (deflated 1%)
  adding: content/overlays/334.png (deflated 4%)
  adding: content/overlays/1007.png (deflated 7%)
  adding: content/overlays/84.png (deflated 3%)
  adding: content/overlays/501.png (deflated 1%)
  adding: content/overlays/1864.png (deflated 3%)
  adding: content/overlays/630.png (deflated 1%)
  adding: content/overlays/364.png (deflated 0%)
  adding: content/overlays/720.png (deflated 0%)
  adding: content/overlays/2090.png (deflated 3%)
  adding: content/overlays/779.png (deflated 1%)
  adding: content/overlays/105.png (deflated 5%)
  adding: content/overlays/141.png (deflated 2%)
  adding: content/overlays/1673.png (deflated 3%)
  adding: content/overlays/1869.png (deflated 1%)
  adding: content/overlays/316.png (deflated 5%)
  adding: content/overlays/2025.png (deflated 1%)
  adding: content/overlays/564.png (deflated 1%)
  adding: content/overlays/1764.png (deflated 1%)
  adding: content/overlays/1814.png (deflated 1%)
  adding: content/overlays/1478.png (deflated 2%)
  adding: content/overlays/1304.png (deflated 2%)
  adding: content/overlays/873.png (deflated 2%)
  adding: content/overlays/1642.png (deflated 21%)
  adding: content/overlays/918.png (deflated 3%)
  adding: content/overlays/2213.png (deflated 5%)
  adding: content/overlays/1076.png (deflated 16%)
  adding: content/overlays/288.png (deflated 1%)
  adding: content/overlays/610.png (deflated 6%)
  adding: content/overlays/1438.png (deflated 2%)
  adding: content/overlays/94.png (deflated 3%)
  adding: content/overlays/718.png (deflated 1%)
  adding: content/overlays/1541.png (deflated 2%)
  adding: content/overlays/1929.png (deflated 1%)
  adding: content/overlays/304.png (deflated 4%)
  adding: content/overlays/2136.png (deflated 9%)
  adding: content/overlays/157.png (deflated 1%)
  adding: content/overlays/814.png (deflated 5%)
  adding: content/overlays/1573.png (deflated 0%)
  adding: content/overlays/7.png (deflated 1%)
  adding: content/overlays/279.png (deflated 1%)
  adding: content/overlays/1004.png (deflated 12%)
  adding: content/overlays/1977.png (deflated 1%)
  adding: content/overlays/733.png (deflated 0%)
  adding: content/overlays/712.png (deflated 1%)
  adding: content/overlays/1115.png (deflated 1%)
  adding: content/overlays/143.png (deflated 1%)
  adding: content/overlays/1777.png (deflated 1%)
  adding: content/overlays/2210.png (deflated 1%)
  adding: content/overlays/443.png (deflated 0%)
  adding: content/overlays/650.png (deflated 2%)
  adding: content/overlays/221.png (deflated 6%)
  adding: content/overlays/80.png (deflated 0%)
  adding: content/overlays/707.png (deflated 5%)
  adding: content/overlays/1108.png (deflated 2%)
  adding: content/overlays/1337.png (deflated 3%)
  adding: content/overlays/657.png (deflated 4%)
  adding: content/overlays/1689.png (deflated 4%)
  adding: content/overlays/1569.png (deflated 0%)
  adding: content/overlays/2056.png (deflated 4%)
  adding: content/overlays/605.png (deflated 3%)
  adding: content/overlays/1145.png (deflated 1%)
  adding: content/overlays/598.png (deflated 0%)
  adding: content/overlays/10.png (deflated 1%)
  adding: content/overlays/219.png (deflated 1%)
  adding: content/overlays/1600.png (deflated 1%)
  adding: content/overlays/1049.png (deflated 1%)
  adding: content/overlays/1533.png (deflated 1%)
  adding: content/overlays/541.png (deflated 2%)
  adding: content/overlays/1404.png (deflated 4%)
  adding: content/overlays/1575.png (deflated 4%)
  adding: content/overlays/969.png (deflated 0%)
  adding: content/overlays/959.png (deflated 4%)
  adding: content/overlays/1390.png (deflated 18%)
  adding: content/overlays/1232.png (deflated 9%)
  adding: content/overlays/748.png (deflated 1%)
  adding: content/overlays/905.png (deflated 4%)
  adding: content/overlays/853.png (deflated 1%)
  adding: content/overlays/85.png (deflated 22%)
  adding: content/overlays/1063.png (deflated 3%)
  adding: content/overlays/828.png (deflated 5%)
  adding: content/overlays/1174.png (deflated 2%)
  adding: content/overlays/1351.png (deflated 3%)
  adding: content/overlays/1486.png (deflated 3%)
  adding: content/overlays/1862.png (deflated 1%)
  adding: content/overlays/803.png (deflated 2%)
  adding: content/overlays/2122.png (deflated 2%)
  adding: content/overlays/468.png (deflated 1%)
  adding: content/overlays/45.png (deflated 1%)
  adding: content/overlays/563.png (deflated 5%)
  adding: content/overlays/1311.png (deflated 7%)
  adding: content/overlays/503.png (deflated 5%)
  adding: content/overlays/1731.png (deflated 3%)
  adding: content/overlays/1574.png (deflated 4%)
  adding: content/overlays/1674.png (deflated 2%)
  adding: content/overlays/1820.png (deflated 4%)
  adding: content/overlays/1961.png (deflated 1%)
  adding: content/overlays/1009.png (deflated 5%)
  adding: content/overlays/1462.png (deflated 0%)
  adding: content/overlays/2125.png (deflated 1%)
  adding: content/overlays/2186.png (deflated 3%)
  adding: content/overlays/750.png (deflated 8%)
  adding: content/overlays/429.png (deflated 2%)
  adding: content/overlays/1629.png (deflated 3%)
  adding: content/overlays/618.png (deflated 3%)
  adding: content/overlays/167.png (deflated 4%)
  adding: content/overlays/730.png (deflated 2%)
  adding: content/overlays/2202.png (deflated 3%)
  adding: content/overlays/1615.png (deflated 4%)
  adding: content/overlays/2083.png (deflated 8%)
  adding: content/overlays/640.png (deflated 2%)
  adding: content/overlays/2068.png (deflated 1%)
  adding: content/overlays/1162.png (deflated 8%)
  adding: content/overlays/592.png (deflated 0%)
  adding: content/overlays/871.png (deflated 1%)
  adding: content/overlays/485.png (deflated 4%)
  adding: content/overlays/269.png (deflated 2%)
  adding: content/overlays/218.png (deflated 1%)
  adding: content/overlays/1013.png (deflated 1%)
  adding: content/overlays/1401.png (deflated 4%)
  adding: content/overlays/1667.png (deflated 2%)
  adding: content/overlays/2225.png (deflated 3%)
  adding: content/overlays/744.png (deflated 2%)
  adding: content/overlays/516.png (deflated 1%)
  adding: content/overlays/1168.png (deflated 1%)
  adding: content/overlays/1260.png (deflated 0%)
  adding: content/overlays/1031.png (deflated 0%)
  adding: content/overlays/318.png (deflated 3%)
  adding: content/overlays/1693.png (deflated 1%)
  adding: content/overlays/616.png (deflated 0%)
  adding: content/overlays/285.png (deflated 0%)
  adding: content/overlays/1950.png (deflated 0%)
  adding: content/overlays/1804.png (deflated 1%)
  adding: content/overlays/178.png (deflated 2%)
  adding: content/overlays/205.png (deflated 4%)
  adding: content/overlays/801.png (deflated 1%)
  adding: content/overlays/711.png (deflated 4%)
  adding: content/overlays/1611.png (deflated 1%)
  adding: content/overlays/1688.png (deflated 2%)
  adding: content/overlays/662.png (deflated 3%)
  adding: content/overlays/1545.png (deflated 5%)
  adding: content/overlays/2093.png (deflated 5%)
  adding: content/overlays/1323.png (deflated 4%)
  adding: content/overlays/620.png (deflated 1%)
  adding: content/overlays/1435.png (deflated 2%)
  adding: content/overlays/1142.png (deflated 1%)
  adding: content/overlays/387.png (deflated 1%)
  adding: content/overlays/323.png (deflated 6%)
  adding: content/overlays/1386.png (deflated 5%)
  adding: content/overlays/42.png (deflated 3%)
  adding: content/overlays/385.png (deflated 1%)
  adding: content/overlays/51.png (deflated 5%)
  adding: content/overlays/482.png (deflated 3%)
  adding: content/overlays/1981.png (deflated 3%)
  adding: content/overlays/1965.png (deflated 5%)
  adding: content/overlays/552.png (deflated 5%)
  adding: content/overlays/1343.png (deflated 3%)
  adding: content/overlays/2195.png (deflated 2%)
  adding: content/overlays/150.png (deflated 0%)
  adding: content/overlays/685.png (deflated 1%)
  adding: content/overlays/2031.png (deflated 4%)
  adding: content/overlays/1653.png (deflated 0%)
  adding: content/overlays/1198.png (deflated 4%)
  adding: content/overlays/174.png (deflated 1%)
  adding: content/overlays/8.png (deflated 22%)
  adding: content/overlays/1920.png (deflated 3%)
  adding: content/overlays/1940.png (deflated 3%)
  adding: content/overlays/2016.png (deflated 6%)
  adding: content/overlays/1728.png (deflated 0%)
  adding: content/overlays/736.png (deflated 1%)
  adding: content/overlays/1291.png (deflated 1%)
  adding: content/overlays/2112.png (deflated 2%)
  adding: content/overlays/1392.png (deflated 1%)
  adding: content/overlays/883.png (deflated 2%)
  adding: content/overlays/11.png (deflated 4%)
  adding: content/overlays/2222.png (deflated 1%)
  adding: content/overlays/1312.png (deflated 1%)
  adding: content/overlays/1637.png (deflated 1%)
  adding: content/overlays/6.png (deflated 1%)
  adding: content/overlays/661.png (deflated 5%)
  adding: content/overlays/2081.png (deflated 4%)
  adding: content/overlays/728.png (deflated 0%)
  adding: content/overlays/403.png (deflated 5%)
  adding: content/overlays/615.png (deflated 2%)
  adding: content/overlays/1357.png (deflated 1%)
  adding: content/overlays/1423.png (deflated 1%)
  adding: content/overlays/248.png (deflated 2%)
  adding: content/overlays/70.png (deflated 5%)
  adding: content/overlays/1850.png (deflated 0%)
  adding: content/overlays/1503.png (deflated 8%)
  adding: content/overlays/1679.png (deflated 4%)
  adding: content/overlays/1647.png (deflated 3%)
  adding: content/overlays/280.png (deflated 2%)
  adding: content/overlays/937.png (deflated 2%)
  adding: content/overlays/1270.png (deflated 4%)
  adding: content/overlays/0.png (deflated 1%)
  adding: content/overlays/542.png (deflated 2%)
  adding: content/overlays/1303.png (deflated 5%)
  adding: content/overlays/1619.png (deflated 1%)
  adding: content/overlays/1754.png (deflated 1%)
  adding: content/overlays/2102.png (deflated 0%)
  adding: content/overlays/587.png (deflated 2%)
  adding: content/overlays/1347.png (deflated 1%)
  adding: content/overlays/1715.png (deflated 11%)
  adding: content/overlays/742.png (deflated 1%)
  adding: content/overlays/1429.png (deflated 6%)
  adding: content/overlays/1513.png (deflated 2%)
  adding: content/overlays/2097.png (deflated 2%)
  adding: content/overlays/1972.png (deflated 0%)
  adding: content/overlays/920.png (deflated 5%)
  adding: content/overlays/1859.png (deflated 3%)
  adding: content/overlays/1428.png (deflated 0%)
  adding: content/overlays/1199.png (deflated 1%)
  adding: content/overlays/1395.png (deflated 3%)
  adding: content/overlays/1408.png (deflated 2%)
  adding: content/overlays/1259.png (deflated 6%)
  adding: content/overlays/1780.png (deflated 1%)
  adding: content/overlays/68.png (deflated 3%)
  adding: content/overlays/2115.png (deflated 7%)
  adding: content/overlays/1939.png (deflated 4%)
  adding: content/overlays/1798.png (deflated 3%)
  adding: content/overlays/438.png (deflated 3%)
  adding: content/overlays/1852.png (deflated 4%)
  adding: content/overlays/1759.png (deflated 1%)
  adding: content/overlays/1722.png (deflated 7%)
  adding: content/overlays/410.png (deflated 4%)
  adding: content/overlays/2027.png (deflated 4%)
  adding: content/overlays/2046.png (deflated 10%)
  adding: content/overlays/648.png (deflated 1%)
  adding: content/overlays/1537.png (deflated 4%)
  adding: content/overlays/2077.png (deflated 13%)
  adding: content/overlays/1071.png (deflated 2%)
  adding: content/overlays/593.png (deflated 0%)
  adding: content/overlays/373.png (deflated 5%)
  adding: content/overlays/704.png (deflated 0%)
  adding: content/overlays/110.png (deflated 3%)
  adding: content/overlays/1224.png (deflated 3%)
  adding: content/overlays/1753.png (deflated 6%)
  adding: content/overlays/514.png (deflated 0%)
  adding: content/overlays/185.png (deflated 1%)
  adding: content/overlays/1034.png (deflated 1%)
  adding: content/overlays/1336.png (deflated 0%)
  adding: content/overlays/1102.png (deflated 3%)
  adding: content/overlays/123.png (deflated 4%)
  adding: content/overlays/1360.png (deflated 0%)
  adding: content/overlays/1237.png (deflated 0%)
  adding: content/overlays/296.png (deflated 6%)
  adding: content/overlays/1364.png (deflated 1%)
  adding: content/overlays/922.png (deflated 0%)
  adding: content/overlays/1730.png (deflated 2%)
  adding: content/overlays/836.png (deflated 2%)
  adding: content/overlays/1419.png (deflated 1%)
  adding: content/overlays/994.png (deflated 10%)
  adding: content/overlays/168.png (deflated 2%)
  adding: content/overlays/1815.png (deflated 4%)
  adding: content/overlays/559.png (deflated 0%)
  adding: content/overlays/52.png (deflated 2%)
  adding: content/overlays/2057.png (deflated 4%)
  adding: content/overlays/976.png (deflated 0%)
  adding: content/overlays/212.png (deflated 1%)
  adding: content/overlays/1340.png (deflated 17%)
  adding: content/overlays/225.png (deflated 6%)
  adding: content/overlays/88.png (deflated 2%)
  adding: content/overlays/1150.png (deflated 3%)
  adding: content/overlays/421.png (deflated 3%)
  adding: content/overlays/1475.png (deflated 2%)
  adding: content/overlays/915.png (deflated 1%)
  adding: content/overlays/1350.png (deflated 1%)
  adding: content/overlays/389.png (deflated 0%)
  adding: content/overlays/581.png (deflated 4%)
  adding: content/overlays/1339.png (deflated 7%)
  adding: content/overlays/1732.png (deflated 2%)
  adding: content/overlays/817.png (deflated 19%)
  adding: content/overlays/1195.png (deflated 7%)
  adding: content/overlays/2208.png (deflated 2%)
  adding: content/overlays/228.png (deflated 2%)
  adding: content/overlays/1353.png (deflated 2%)
  adding: content/overlays/430.png (deflated 3%)
  adding: content/overlays/1081.png (deflated 2%)
  adding: content/overlays/2183.png (deflated 0%)
  adding: content/overlays/474.png (deflated 4%)
  adding: content/overlays/936.png (deflated 1%)
  adding: content/overlays/1949.png (deflated 1%)
  adding: content/overlays/1765.png (deflated 6%)
  adding: content/overlays/1733.png (deflated 1%)
  adding: content/overlays/1596.png (deflated 1%)
  adding: content/overlays/787.png (deflated 3%)
  adding: content/overlays/1293.png (deflated 3%)
  adding: content/overlays/354.png (deflated 0%)
  adding: content/overlays/1039.png (deflated 0%)
  adding: content/overlays/1664.png (deflated 3%)
  adding: content/overlays/1151.png (deflated 4%)
  adding: content/overlays/781.png (deflated 1%)
  adding: content/overlays/31.png (deflated 3%)
  adding: content/overlays/266.png (deflated 4%)
  adding: content/overlays/151.png (deflated 4%)
  adding: content/overlays/1727.png (deflated 5%)
  adding: content/overlays/1215.png (deflated 4%)
  adding: content/overlays/1128.png (deflated 9%)
  adding: content/overlays/693.png (deflated 2%)
  adding: content/overlays/1206.png (deflated 3%)
  adding: content/overlays/2011.png (deflated 2%)
  adding: content/overlays/2135.png (deflated 0%)
  adding: content/overlays/1248.png (deflated 4%)
  adding: content/overlays/154.png (deflated 0%)
  adding: content/overlays/1507.png (deflated 0%)
  adding: content/overlays/1923.png (deflated 4%)
  adding: content/overlays/461.png (deflated 2%)
  adding: content/overlays/414.png (deflated 13%)
  adding: content/overlays/434.png (deflated 0%)
  adding: content/overlays/1466.png (deflated 0%)
  adding: content/overlays/1405.png (deflated 2%)
  adding: content/overlays/1246.png (deflated 1%)
  adding: content/overlays/235.png (deflated 4%)
  adding: content/overlays/1704.png (deflated 2%)
  adding: content/overlays/1127.png (deflated 16%)
  adding: content/overlays/551.png (deflated 3%)
  adding: content/overlays/2080.png (deflated 1%)
  adding: content/overlays/1630.png (deflated 1%)
  adding: content/overlays/1279.png (deflated 4%)
  adding: content/overlays/1670.png (deflated 1%)
  adding: content/overlays/2155.png (deflated 1%)
  adding: content/overlays/265.png (deflated 1%)
  adding: content/overlays/800.png (deflated 5%)
  adding: content/overlays/460.png (deflated 2%)
  adding: content/overlays/135.png (deflated 1%)
  adding: content/overlays/1579.png (deflated 2%)
  adding: content/overlays/2162.png (deflated 1%)
  adding: content/overlays/566.png (deflated 6%)
  adding: content/overlays/1093.png (deflated 2%)
  adding: content/overlays/14.png (deflated 8%)
  adding: content/overlays/1678.png (deflated 3%)
  adding: content/overlays/2149.png (deflated 1%)
  adding: content/overlays/677.png (deflated 2%)
  adding: content/overlays/1212.png (deflated 3%)
  adding: content/overlays/275.png (deflated 2%)
  adding: content/overlays/2151.png (deflated 1%)
  adding: content/overlays/1074.png (deflated 2%)
  adding: content/overlays/1399.png (deflated 1%)
  adding: content/overlays/1060.png (deflated 3%)
  adding: content/overlays/565.png (deflated 1%)
  adding: content/overlays/353.png (deflated 0%)
  adding: content/overlays/1872.png (deflated 3%)
  adding: content/overlays/15.png (deflated 4%)
  adding: content/overlays/1892.png (deflated 1%)
  adding: content/overlays/1964.png (deflated 1%)
  adding: content/overlays/1218.png (deflated 1%)
  adding: content/overlays/558.png (deflated 2%)
  adding: content/overlays/1643.png (deflated 4%)
  adding: content/overlays/971.png (deflated 2%)
  adding: content/overlays/1590.png (deflated 1%)
  adding: content/overlays/1848.png (deflated 6%)
  adding: content/overlays/973.png (deflated 3%)
  adding: content/overlays/668.png (deflated 13%)
  adding: content/overlays/1832.png (deflated 1%)
  adding: content/overlays/899.png (deflated 1%)
  adding: content/overlays/1325.png (deflated 5%)
  adding: content/overlays/1113.png (deflated 4%)
  adding: content/overlays/1516.png (deflated 1%)
  adding: content/overlays/1680.png (deflated 1%)
  adding: content/overlays/1988.png (deflated 2%)
  adding: content/overlays/362.png (deflated 1%)
  adding: content/overlays/2048.png (deflated 1%)
  adding: content/overlays/1471.png (deflated 3%)
  adding: content/overlays/808.png (deflated 1%)
  adding: content/overlays/939.png (deflated 2%)
  adding: content/overlays/822.png (deflated 6%)
  adding: content/overlays/2137.png (deflated 1%)
  adding: content/overlays/165.png (deflated 1%)
  adding: content/overlays/371.png (deflated 3%)
  adding: content/overlays/1871.png (deflated 3%)
  adding: content/overlays/796.png (deflated 19%)
  adding: content/overlays/548.png (deflated 1%)
  adding: content/overlays/1514.png (deflated 3%)
  adding: content/overlays/1658.png (deflated 3%)
  adding: content/overlays/57.png (deflated 7%)
  adding: content/overlays/1442.png (deflated 2%)
  adding: content/overlays/1870.png (deflated 1%)
  adding: content/overlays/1117.png (deflated 3%)
  adding: content/overlays/790.png (deflated 7%)
  adding: content/overlays/59.png (deflated 6%)
  adding: content/overlays/1520.png (deflated 3%)
  adding: content/overlays/1367.png (deflated 7%)
  adding: content/overlays/1915.png (deflated 4%)
  adding: content/overlays/399.png (deflated 5%)
  adding: content/overlays/540.png (deflated 3%)
  adding: content/overlays/2075.png (deflated 1%)
  adding: content/overlays/539.png (deflated 2%)
  adding: content/overlays/391.png (deflated 3%)
  adding: content/overlays/1588.png (deflated 0%)
  adding: content/overlays/978.png (deflated 3%)
  adding: content/overlays/407.png (deflated 1%)
  adding: content/overlays/786.png (deflated 1%)
  adding: content/overlays/602.png (deflated 2%)
  adding: content/overlays/1426.png (deflated 5%)
  adding: content/overlays/79.png (deflated 6%)
  adding: content/overlays/71.png (deflated 2%)
  adding: content/overlays/622.png (deflated 2%)
  adding: content/overlays/1559.png (deflated 2%)
  adding: content/overlays/1068.png (deflated 1%)
  adding: content/overlays/119.png (deflated 3%)
  adding: content/overlays/223.png (deflated 0%)
  adding: content/overlays/159.png (deflated 1%)
  adding: content/overlays/1089.png (deflated 3%)
  adding: content/overlays/1705.png (deflated 2%)
  adding: content/overlays/756.png (deflated 7%)
  adding: content/overlays/872.png (deflated 3%)
  adding: content/overlays/1029.png (deflated 4%)
  adding: content/overlays/16.png (deflated 3%)
  adding: content/overlays/1124.png (deflated 1%)
  adding: content/overlays/67.png (deflated 7%)
  adding: content/overlays/257.png (deflated 1%)
  adding: content/overlays/852.png (deflated 1%)
  adding: content/overlays/1131.png (deflated 2%)
  adding: content/overlays/1774.png (deflated 1%)
  adding: content/overlays/2069.png (deflated 3%)
  adding: content/overlays/645.png (deflated 4%)
  adding: content/overlays/230.png (deflated 0%)
  adding: content/overlays/1839.png (deflated 1%)
  adding: content/overlays/236.png (deflated 1%)
  adding: content/overlays/341.png (deflated 11%)
  adding: content/overlays/1329.png (deflated 0%)
  adding: content/overlays/267.png (deflated 6%)
  adding: content/overlays/210.png (deflated 4%)
  adding: content/overlays/2109.png (deflated 2%)
  adding: content/overlays/1045.png (deflated 5%)
  adding: content/overlays/77.png (deflated 1%)
  adding: content/overlays/995.png (deflated 7%)
  adding: content/overlays/214.png (deflated 2%)
  adding: content/overlays/765.png (deflated 2%)
  adding: content/overlays/1262.png (deflated 3%)
  adding: content/overlays/1714.png (deflated 0%)
  adding: content/overlays/902.png (deflated 8%)
  adding: content/overlays/337.png (deflated 2%)
  adding: content/overlays/2178.png (deflated 1%)
  adding: content/overlays/753.png (deflated 1%)
  adding: content/overlays/2040.png (deflated 2%)
  adding: content/overlays/272.png (deflated 1%)
  adding: content/overlays/359.png (deflated 3%)
  adding: content/overlays/1769.png (deflated 1%)
  adding: content/overlays/2201.png (deflated 1%)
  adding: content/overlays/1860.png (deflated 2%)
  adding: content/overlays/55.png (deflated 3%)
  adding: content/overlays/1624.png (deflated 2%)
  adding: content/overlays/186.png (deflated 1%)
  adding: content/overlays/805.png (deflated 2%)
  adding: content/overlays/851.png (deflated 1%)
  adding: content/overlays/884.png (deflated 16%)
  adding: content/overlays/255.png (deflated 3%)
  adding: content/overlays/1952.png (deflated 2%)
  adding: content/overlays/2157.png (deflated 7%)
  adding: content/overlays/1410.png (deflated 1%)
  adding: content/overlays/1552.png (deflated 4%)
  adding: content/overlays/229.png (deflated 3%)
  adding: content/overlays/570.png (deflated 1%)
  adding: content/overlays/952.png (deflated 7%)
  adding: content/overlays/1188.png (deflated 4%)
  adding: content/overlays/49.png (deflated 7%)
  adding: content/overlays/1406.png (deflated 4%)
  adding: content/overlays/1683.png (deflated 1%)
  adding: content/overlays/61.png (deflated 3%)
  adding: content/overlays/1069.png (deflated 3%)
  adding: content/overlays/974.png (deflated 1%)
  adding: content/overlays/1185.png (deflated 1%)
  adding: content/overlays/654.png (deflated 0%)
  adding: content/overlays/2181.png (deflated 1%)
  adding: content/overlays/251.png (deflated 2%)
  adding: content/overlays/2084.png (deflated 1%)
  adding: content/overlays/1710.png (deflated 3%)
  adding: content/overlays/1175.png (deflated 2%)
  adding: content/overlays/2216.png (deflated 5%)
  adding: content/overlays/1407.png (deflated 4%)
  adding: content/overlays/2002.png (deflated 3%)
  adding: content/overlays/1508.png (deflated 4%)
  adding: content/overlays/22.png (deflated 1%)
  adding: content/overlays/763.png (deflated 3%)
  adding: content/overlays/307.png (deflated 1%)
  adding: content/overlays/890.png (deflated 2%)
  adding: content/overlays/941.png (deflated 4%)
  adding: content/overlays/303.png (deflated 2%)
  adding: content/overlays/453.png (deflated 3%)
  adding: content/overlays/1681.png (deflated 0%)
  adding: content/overlays/1945.png (deflated 3%)
  adding: content/overlays/550.png (deflated 1%)
  adding: content/overlays/831.png (deflated 2%)
  adding: content/overlays/133.png (deflated 1%)
  adding: content/overlays/679.png (deflated 2%)
  adding: content/overlays/184.png (deflated 0%)
  adding: content/overlays/1823.png (deflated 2%)
  adding: content/overlays/1391.png (deflated 5%)
  adding: content/overlays/575.png (deflated 1%)
  adding: content/overlays/970.png (deflated 2%)
  adding: content/overlays/982.png (deflated 1%)
  adding: content/overlays/1898.png (deflated 4%)
  adding: content/overlays/1649.png (deflated 3%)
  adding: content/overlays/965.png (deflated 2%)
  adding: content/overlays/486.png (deflated 3%)
  adding: content/overlays/2127.png (deflated 8%)
  adding: content/overlays/538.png (deflated 4%)
  adding: content/overlays/2058.png (deflated 0%)
  adding: content/overlays/1402.png (deflated 1%)
  adding: content/overlays/2036.png (deflated 2%)
  adding: content/overlays/1812.png (deflated 2%)
  adding: content/overlays/1953.png (deflated 1%)
  adding: content/overlays/1421.png (deflated 3%)
  adding: content/overlays/1380.png (deflated 0%)
  adding: content/overlays/1721.png (deflated 4%)
  adding: content/overlays/1190.png (deflated 5%)
  adding: content/overlays/567.png (deflated 3%)
  adding: content/overlays/1583.png (deflated 4%)
  adding: content/overlays/1488.png (deflated 3%)
  adding: content/overlays/991.png (deflated 2%)
  adding: content/overlays/715.png (deflated 1%)
  adding: content/overlays/2006.png (deflated 3%)
  adding: content/overlays/1720.png (deflated 2%)
  adding: content/overlays/777.png (deflated 9%)
  adding: content/overlays/298.png (deflated 2%)
  adding: content/overlays/1889.png (deflated 4%)
  adding: content/overlays/2105.png (deflated 2%)
  adding: content/overlays/2045.png (deflated 2%)
  adding: content/overlays/2130.png (deflated 3%)
  adding: content/overlays/1135.png (deflated 0%)
  adding: content/overlays/2203.png (deflated 2%)
  adding: content/overlays/1880.png (deflated 2%)
  adding: content/overlays/912.png (deflated 3%)
  adding: content/overlays/1053.png (deflated 1%)
  adding: content/overlays/2163.png (deflated 5%)
  adding: content/overlays/998.png (deflated 1%)
  adding: content/overlays/1036.png (deflated 5%)
  adding: content/overlays/1250.png (deflated 3%)
  adding: content/overlays/688.png (deflated 4%)
  adding: content/overlays/523.png (deflated 1%)
  adding: content/overlays/1333.png (deflated 6%)
  adding: content/overlays/1845.png (deflated 2%)
  adding: content/overlays/1496.png (deflated 1%)
  adding: content/overlays/21.png (deflated 2%)
  adding: content/overlays/152.png (deflated 4%)
  adding: content/overlays/1459.png (deflated 5%)
  adding: content/overlays/1371.png (deflated 2%)
  adding: content/overlays/367.png (deflated 3%)
  adding: content/overlays/1287.png (deflated 1%)
  adding: content/overlays/1123.png (deflated 1%)
  adding: content/overlays/1209.png (deflated 1%)
  adding: content/overlays/878.png (deflated 4%)
  adding: content/overlays/420.png (deflated 3%)
  adding: content/overlays/993.png (deflated 1%)
  adding: content/overlays/1355.png (deflated 5%)
  adding: content/overlays/1712.png (deflated 8%)
  adding: content/overlays/1035.png (deflated 1%)
  adding: content/overlays/1477.png (deflated 1%)
  adding: content/overlays/1652.png (deflated 2%)
  adding: content/overlays/1449.png (deflated 3%)
  adding: content/overlays/1917.png (deflated 1%)
  adding: content/overlays/1216.png (deflated 1%)
  adding: content/overlays/1856.png (deflated 4%)
  adding: content/overlays/1555.png (deflated 1%)
  adding: content/overlays/90.png (deflated 0%)
  adding: content/overlays/1057.png (deflated 2%)
  adding: content/overlays/324.png (deflated 3%)
  adding: content/overlays/990.png (deflated 11%)
  adding: content/overlays/372.png (deflated 4%)
  adding: content/overlays/1770.png (deflated 2%)
  adding: content/overlays/793.png (deflated 7%)
  adding: content/overlays/894.png (deflated 6%)
  adding: content/overlays/568.png (deflated 3%)
  adding: content/overlays/343.png (deflated 6%)
  adding: content/overlays/2061.png (deflated 1%)
  adding: content/overlays/75.png (deflated 4%)
  adding: content/overlays/1342.png (deflated 7%)
  adding: content/overlays/1563.png (deflated 2%)
  adding: content/overlays/2116.png (deflated 13%)
  adding: content/overlays/1835.png (deflated 5%)
  adding: content/overlays/1090.png (deflated 2%)
  adding: content/overlays/1967.png (deflated 2%)
  adding: content/overlays/694.png (deflated 0%)
  adding: content/overlays/177.png (deflated 3%)
  adding: content/overlays/1258.png (deflated 21%)
  adding: content/overlays/888.png (deflated 5%)
  adding: content/overlays/1233.png (deflated 0%)
  adding: content/overlays/2053.png (deflated 1%)
  adding: content/overlays/101.png (deflated 2%)
  adding: content/overlays/1932.png (deflated 1%)
  adding: content/overlays/351.png (deflated 1%)
  adding: content/overlays/2188.png (deflated 1%)
  adding: content/overlays/478.png (deflated 3%)
  adding: content/overlays/666.png (deflated 5%)
  adding: content/overlays/633.png (deflated 0%)
  adding: content/overlays/1908.png (deflated 1%)
  adding: content/overlays/1947.png (deflated 4%)
  adding: content/overlays/244.png (deflated 3%)
  adding: content/overlays/317.png (deflated 1%)
  adding: content/overlays/1055.png (deflated 2%)
  adding: content/overlays/1651.png (deflated 4%)
  adding: content/overlays/1288.png (deflated 0%)
  adding: content/overlays/900.png (deflated 6%)
  adding: content/overlays/833.png (deflated 0%)
  adding: content/overlays/752.png (deflated 4%)
  adding: content/overlays/249.png (deflated 1%)
  adding: content/overlays/450.png (deflated 1%)
  adding: content/overlays/1735.png (deflated 2%)
  adding: content/overlays/1400.png (deflated 4%)
  adding: content/overlays/146.png (deflated 5%)
  adding: content/overlays/1751.png (deflated 6%)
  adding: content/overlays/740.png (deflated 1%)
  adding: content/overlays/1122.png (deflated 3%)
  adding: content/overlays/1322.png (deflated 0%)
  adding: content/overlays/1059.png (deflated 2%)
  adding: content/overlays/254.png (deflated 5%)
  adding: content/overlays/600.png (deflated 1%)
  adding: content/overlays/1544.png (deflated 2%)
  adding: content/overlays/19.png (deflated 5%)
  adding: content/overlays/1443.png (deflated 7%)
  adding: content/overlays/2227.png (deflated 19%)
  adding: content/overlays/644.png (deflated 3%)
  adding: content/overlays/1855.png (deflated 4%)
  adding: content/overlays/2063.png (deflated 1%)
  adding: content/overlays/880.png (deflated 0%)
  adding: content/overlays/816.png (deflated 2%)
  adding: content/overlays/1760.png (deflated 4%)
  adding: content/overlays/1146.png (deflated 9%)
  adding: content/overlays/469.png (deflated 1%)
  adding: content/overlays/327.png (deflated 1%)
  adding: content/overlays/1557.png (deflated 2%)
  adding: content/overlays/32.png (deflated 1%)
  adding: content/overlays/867.png (deflated 1%)
  adding: content/overlays/1376.png (deflated 1%)
  adding: content/overlays/1576.png (deflated 0%)
  adding: content/overlays/686.png (deflated 2%)
  adding: content/overlays/656.png (deflated 5%)
  adding: content/overlays/634.png (deflated 1%)
  adding: content/overlays/331.png (deflated 2%)
  adding: content/overlays/1838.png (deflated 2%)
  adding: content/overlays/1990.png (deflated 4%)
  adding: content/overlays/328.png (deflated 3%)
  adding: content/overlays/1040.png (deflated 2%)
  adding: content/overlays/355.png (deflated 0%)
  adding: content/overlays/1414.png (deflated 8%)
  adding: content/overlays/1857.png (deflated 2%)
  adding: content/overlays/1382.png (deflated 1%)
  adding: content/overlays/1883.png (deflated 2%)
  adding: content/overlays/881.png (deflated 1%)
  adding: content/overlays/695.png (deflated 3%)
  adding: content/overlays/1268.png (deflated 1%)
  adding: content/overlays/1377.png (deflated 0%)
  adding: content/overlays/1572.png (deflated 0%)
  adding: content/overlays/1249.png (deflated 0%)
  adding: content/overlays/943.png (deflated 2%)
  adding: content/overlays/921.png (deflated 6%)
  adding: content/overlays/2141.png (deflated 2%)
  adding: content/overlays/419.png (deflated 1%)
  adding: content/overlays/2160.png (deflated 2%)
  adding: content/overlays/1180.png (deflated 1%)
  adding: content/overlays/1094.png (deflated 2%)
  adding: content/overlays/1030.png (deflated 2%)
  adding: content/overlays/1757.png (deflated 1%)
  adding: content/overlays/520.png (deflated 5%)
  adding: content/overlays/848.png (deflated 0%)
  adding: content/overlays/2156.png (deflated 2%)
  adding: content/overlays/23.png (deflated 9%)
  adding: content/overlays/2235.png (deflated 3%)
  adding: content/overlays/522.png (deflated 2%)
  adding: content/overlays/1847.png (deflated 3%)
  adding: content/overlays/901.png (deflated 15%)
  adding: content/overlays/142.png (deflated 2%)
  adding: content/overlays/1091.png (deflated 3%)
  adding: content/overlays/536.png (deflated 1%)
  adding: content/overlays/653.png (deflated 1%)
  adding: content/overlays/972.png (deflated 6%)
  adding: content/overlays/2144.png (deflated 6%)
  adding: content/overlays/1866.png (deflated 1%)
  adding: content/overlays/1833.png (deflated 3%)
  adding: content/overlays/342.png (deflated 17%)
  adding: content/overlays/1317.png (deflated 4%)
  adding: content/overlays/1549.png (deflated 2%)
  adding: content/overlays/1724.png (deflated 3%)
  adding: content/overlays/1937.png (deflated 3%)
  adding: content/overlays/333.png (deflated 3%)
  adding: content/overlays/2126.png (deflated 2%)
  adding: content/overlays/394.png (deflated 3%)
  adding: content/overlays/1840.png (deflated 2%)
  adding: content/overlays/2236.png (deflated 2%)
  adding: content/overlays/983.png (deflated 3%)
  adding: content/overlays/1010.png (deflated 3%)
  adding: content/overlays/302.png (deflated 14%)
  adding: content/overlays/1485.png (deflated 2%)
  adding: content/overlays/2064.png (deflated 1%)
  adding: content/overlays/517.png (deflated 4%)
  adding: content/overlays/1584.png (deflated 2%)
  adding: content/overlays/690.png (deflated 6%)
  adding: content/overlays/1479.png (deflated 19%)
  adding: content/overlays/2184.png (deflated 0%)
  adding: content/overlays/1417.png (deflated 5%)
  adding: content/overlays/839.png (deflated 3%)
  adding: content/overlays/1219.png (deflated 7%)
  adding: content/overlays/1979.png (deflated 3%)
  adding: content/overlays/238.png (deflated 4%)
  adding: content/overlays/149.png (deflated 2%)
  adding: content/overlays/2021.png (deflated 1%)
  adding: content/overlays/2003.png (deflated 2%)
  adding: content/overlays/2131.png (deflated 3%)
  adding: content/overlays/472.png (deflated 0%)
  adding: content/overlays/2158.png (deflated 1%)
  adding: content/overlays/924.png (deflated 2%)
  adding: content/overlays/2087.png (deflated 5%)
  adding: content/overlays/1297.png (deflated 2%)
  adding: content/overlays/1609.png (deflated 3%)
  adding: content/overlays/4.png (deflated 0%)
  adding: content/overlays/1264.png (deflated 2%)
  adding: content/overlays/2088.png (deflated 2%)
  adding: content/overlays/2192.png (deflated 1%)
  adding: content/overlays/829.png (deflated 1%)
  adding: content/overlays/583.png (deflated 0%)
  adding: content/overlays/34.png (deflated 3%)
  adding: content/overlays/1800.png (deflated 3%)
  adding: content/overlays/1989.png (deflated 3%)
  adding: content/overlays/232.png (deflated 0%)
  adding: content/overlays/2182.png (deflated 3%)
  adding: content/overlays/1018.png (deflated 1%)
  adding: content/overlays/1556.png (deflated 6%)
  adding: content/overlays/1136.png (deflated 10%)
  adding: content/overlays/926.png (deflated 1%)
  adding: content/overlays/291.png (deflated 4%)
  adding: content/overlays/647.png (deflated 1%)
  adding: content/overlays/2005.png (deflated 0%)
  adding: content/overlays/2047.png (deflated 2%)
  adding: content/overlays/208.png (deflated 3%)
  adding: content/overlays/1137.png (deflated 0%)
  adding: content/overlays/1968.png (deflated 0%)
  adding: content/overlays/153.png (deflated 1%)
  adding: content/overlays/1963.png (deflated 2%)
  adding: content/overlays/1955.png (deflated 5%)
  adding: content/overlays/452.png (deflated 0%)
  adding: content/overlays/1997.png (deflated 1%)
  adding: content/overlays/1707.png (deflated 4%)
  adding: content/overlays/658.png (deflated 1%)
  adding: content/overlays/495.png (deflated 5%)
  adding: content/overlays/277.png (deflated 0%)
  adding: content/overlays/651.png (deflated 0%)
  adding: content/overlays/1437.png (deflated 4%)
  adding: content/overlays/487.png (deflated 0%)
  adding: content/overlays/2065.png (deflated 2%)
  adding: content/overlays/769.png (deflated 1%)
  adding: content/overlays/189.png (deflated 4%)
  adding: content/overlays/674.png (deflated 1%)
  adding: content/overlays/1138.png (deflated 15%)
  adding: content/overlays/510.png (deflated 1%)
  adding: content/overlays/2175.png (deflated 14%)
  adding: content/overlays/967.png (deflated 1%)
  adding: content/overlays/1110.png (deflated 2%)
  adding: content/overlays/458.png (deflated 3%)
  adding: content/overlays/1096.png (deflated 1%)
  adding: content/overlays/676.png (deflated 1%)
  adding: content/overlays/1247.png (deflated 2%)
  adding: content/overlays/1310.png (deflated 3%)
  adding: content/overlays/1677.png (deflated 3%)
  adding: content/overlays/1003.png (deflated 1%)
  adding: content/overlays/432.png (deflated 2%)
  adding: content/overlays/1223.png (deflated 2%)
  adding: content/overlays/284.png (deflated 0%)
  adding: content/overlays/1284.png (deflated 1%)
  adding: content/overlays/928.png (deflated 1%)
  adding: content/overlays/1729.png (deflated 1%)
  adding: content/overlays/562.png (deflated 4%)
  adding: content/overlays/1750.png (deflated 16%)
  adding: content/overlays/2212.png (deflated 2%)
  adding: content/overlays/444.png (deflated 1%)
  adding: content/overlays/1452.png (deflated 1%)
  adding: content/overlays/1554.png (deflated 3%)
  adding: content/overlays/1193.png (deflated 1%)
  adding: content/overlays/731.png (deflated 0%)
  adding: content/overlays/1685.png (deflated 1%)
  adding: content/overlays/466.png (deflated 4%)
  adding: content/overlays/1243.png (deflated 2%)
  adding: content/overlays/494.png (deflated 3%)
  adding: content/overlays/963.png (deflated 2%)
  adding: content/overlays/889.png (deflated 6%)
  adding: content/overlays/2238.png (deflated 1%)
  adding: content/overlays/968.png (deflated 0%)
  adding: content/overlays/241.png (deflated 4%)
  adding: content/overlays/1905.png (deflated 1%)
  adding: content/overlays/749.png (deflated 2%)
  adding: content/overlays/792.png (deflated 4%)
  adding: content/overlays/413.png (deflated 2%)
  adding: content/overlays/226.png (deflated 1%)
  adding: content/overlays/1506.png (deflated 0%)
  adding: content/overlays/1369.png (deflated 2%)
  adding: content/overlays/206.png (deflated 0%)
  adding: content/overlays/1418.png (deflated 3%)
  adding: content/overlays/47.png (deflated 1%)
  adding: content/overlays/1143.png (deflated 3%)
  adding: content/overlays/416.png (deflated 3%)
  adding: content/overlays/1112.png (deflated 1%)
  adding: content/overlays/1276.png (deflated 1%)
  adding: content/overlays/1436.png (deflated 1%)
  adding: content/overlays/997.png (deflated 2%)
  adding: content/overlays/2092.png (deflated 2%)
  adding: content/overlays/422.png (deflated 1%)
  adding: content/overlays/1383.png (deflated 5%)
  adding: content/overlays/2176.png (deflated 8%)
  adding: content/overlays/197.png (deflated 2%)
  adding: content/overlays/1292.png (deflated 1%)
  adding: content/overlays/250.png (deflated 1%)
  adding: content/overlays/569.png (deflated 1%)
  adding: content/overlays/1665.png (deflated 1%)
  adding: content/overlays/1737.png (deflated 9%)
  adding: content/overlays/1517.png (deflated 3%)
  adding: content/overlays/2205.png (deflated 5%)
  adding: content/overlays/811.png (deflated 0%)
  adding: content/overlays/172.png (deflated 1%)
  adding: content/overlays/700.png (deflated 1%)
  adding: content/overlays/1734.png (deflated 3%)
  adding: content/overlays/2165.png (deflated 1%)
  adding: content/overlays/1828.png (deflated 4%)
  adding: content/overlays/1877.png (deflated 4%)
  adding: content/overlays/780.png (deflated 3%)
  adding: content/overlays/1241.png (deflated 17%)
  adding: content/overlays/1878.png (deflated 3%)
  adding: content/overlays/1971.png (deflated 4%)
  adding: content/overlays/505.png (deflated 2%)
  adding: content/overlays/445.png (deflated 6%)
  adding: content/overlays/1530.png (deflated 4%)
  adding: content/overlays/1267.png (deflated 4%)
  adding: content/overlays/1568.png (deflated 8%)
  adding: content/overlays/1495.png (deflated 2%)
  adding: content/overlays/427.png (deflated 1%)
  adding: content/overlays/1634.png (deflated 2%)
  adding: content/overlays/2039.png (deflated 2%)
  adding: content/overlays/63.png (deflated 1%)
  adding: content/overlays/892.png (deflated 1%)
  adding: content/overlays/631.png (deflated 3%)
  adding: content/overlays/376.png (deflated 2%)
  adding: content/overlays/233.png (deflated 7%)
  adding: content/overlays/60.png (deflated 1%)
  adding: content/overlays/1851.png (deflated 0%)
  adding: content/overlays/1412.png (deflated 9%)
  adding: content/overlays/961.png (deflated 1%)
  adding: content/overlays/727.png (deflated 1%)
  adding: content/overlays/2206.png (deflated 3%)
  adding: content/overlays/1444.png (deflated 3%)
  adding: content/overlays/264.png (deflated 1%)
  adding: content/overlays/799.png (deflated 1%)
  adding: content/overlays/1874.png (deflated 5%)
  adding: content/overlays/128.png (deflated 1%)
  adding: content/overlays/489.png (deflated 3%)
  adding: content/overlays/1012.png (deflated 2%)
  adding: content/overlays/1614.png (deflated 2%)
  adding: content/overlays/102.png (deflated 2%)
  adding: content/overlays/1836.png (deflated 1%)
  adding: content/overlays/537.png (deflated 4%)
  adding: content/overlays/1439.png (deflated 0%)
  adding: content/overlays/1723.png (deflated 3%)
  adding: content/overlays/511.png (deflated 5%)
  adding: content/overlays/1598.png (deflated 5%)
  adding: content/overlays/1581.png (deflated 3%)
  adding: content/overlays/1778.png (deflated 3%)
  adding: content/overlays/283.png (deflated 1%)
  adding: content/overlays/1271.png (deflated 6%)
  adding: content/overlays/1220.png (deflated 0%)
  adding: content/overlays/1384.png (deflated 0%)
  adding: content/overlays/1618.png (deflated 1%)
  adding: content/overlays/1646.png (deflated 1%)
  adding: content/overlays/1607.png (deflated 5%)
  adding: content/overlays/876.png (deflated 2%)
  adding: content/overlays/2104.png (deflated 7%)
  adding: content/overlays/243.png (deflated 2%)
  adding: content/overlays/1307.png (deflated 1%)
  adding: content/overlays/2220.png (deflated 3%)
  adding: content/overlays/1918.png (deflated 1%)
  adding: content/overlays/176.png (deflated 2%)
  adding: content/overlays/441.png (deflated 4%)
  adding: content/overlays/1255.png (deflated 4%)
  adding: content/overlays/1356.png (deflated 1%)
  adding: content/overlays/1567.png (deflated 5%)
  adding: content/overlays/81.png (deflated 0%)
  adding: content/overlays/758.png (deflated 1%)
  adding: content/overlays/2229.png (deflated 3%)
  adding: content/overlays/1591.png (deflated 2%)
  adding: content/overlays/606.png (deflated 0%)
  adding: content/overlays/1691.png (deflated 3%)
  adding: content/overlays/675.png (deflated 2%)
  adding: content/overlays/491.png (deflated 1%)
  adding: content/overlays/1373.png (deflated 3%)
  adding: content/overlays/1969.png (deflated 6%)
  adding: content/overlays/1398.png (deflated 3%)
  adding: content/overlays/820.png (deflated 3%)
  adding: content/overlays/1801.png (deflated 3%)
  adding: content/overlays/95.png (deflated 3%)
  adding: content/overlays/339.png (deflated 1%)
  adding: content/overlays/43.png (deflated 4%)
  adding: content/overlays/1234.png (deflated 0%)
  adding: content/overlays/1749.png (deflated 2%)
  adding: content/overlays/646.png (deflated 2%)
  adding: content/overlays/1075.png (deflated 4%)
  adding: content/overlays/2095.png (deflated 1%)
  adding: content/overlays/1512.png (deflated 5%)
  adding: content/overlays/1911.png (deflated 1%)
  adding: content/overlays/2170.png (deflated 1%)
  adding: content/overlays/757.png (deflated 9%)
  adding: content/overlays/1942.png (deflated 2%)
  adding: content/overlays/58.png (deflated 2%)
  adding: content/overlays/1282.png (deflated 2%)
  adding: content/overlays/1589.png (deflated 6%)
  adding: content/overlays/638.png (deflated 3%)
  adding: content/overlays/856.png (deflated 3%)
  adding: content/overlays/36.png (deflated 5%)
  adding: content/overlays/1499.png (deflated 6%)
  adding: content/overlays/524.png (deflated 2%)
  adding: content/overlays/577.png (deflated 2%)
  adding: content/overlays/885.png (deflated 4%)
  adding: content/overlays/1048.png (deflated 1%)
  adding: content/overlays/1324.png (deflated 0%)
  adding: content/overlays/818.png (deflated 3%)
  adding: content/overlays/855.png (deflated 1%)
  adding: content/overlays/1632.png (deflated 2%)
  adding: content/overlays/506.png (deflated 1%)
  adding: content/overlays/869.png (deflated 1%)
  adding: content/overlays/1661.png (deflated 0%)
  adding: content/overlays/2180.png (deflated 1%)
  adding: content/overlays/332.png (deflated 0%)
  adding: content/overlays/2191.png (deflated 1%)
  adding: content/overlays/1451.png (deflated 0%)
  adding: content/overlays/1648.png (deflated 1%)
  adding: content/overlays/1263.png (deflated 3%)
  adding: content/overlays/1985.png (deflated 17%)
  adding: content/overlays/345.png (deflated 7%)
  adding: content/overlays/428.png (deflated 2%)
  adding: content/overlays/1831.png (deflated 0%)
  adding: content/overlays/326.png (deflated 4%)
  adding: content/overlays/1885.png (deflated 4%)
  adding: content/overlays/2200.png (deflated 3%)
  adding: content/overlays/897.png (deflated 4%)
  adding: content/overlays/2209.png (deflated 4%)
  adding: content/overlays/1125.png (deflated 3%)
  adding: content/overlays/181.png (deflated 2%)
  adding: content/overlays/1083.png (deflated 1%)
  adding: content/overlays/274.png (deflated 0%)
  adding: content/overlays/1887.png (deflated 4%)
  adding: content/overlays/290.png (deflated 1%)
  adding: content/overlays/1974.png (deflated 2%)
  adding: content/overlays/1606.png (deflated 1%)
  adding: content/overlays/12.png (deflated 2%)
  adding: content/overlays/1186.png (deflated 4%)
  adding: content/overlays/344.png (deflated 1%)
  adding: content/overlays/1062.png (deflated 6%)
  adding: content/overlays/1984.png (deflated 2%)
  adding: content/overlays/1164.png (deflated 3%)
  adding: content/overlays/190.png (deflated 4%)
  adding: content/overlays/1318.png (deflated 7%)
  adding: content/overlays/1595.png (deflated 2%)
  adding: content/overlays/1316.png (deflated 3%)
  adding: content/overlays/893.png (deflated 1%)
  adding: content/overlays/369.png (deflated 3%)
  adding: content/overlays/866.png (deflated 15%)
  adding: content/overlays/2166.png (deflated 19%)
  adding: content/overlays/1256.png (deflated 5%)
  adding: content/overlays/975.png (deflated 0%)
  adding: content/overlays/1289.png (deflated 2%)
  adding: content/overlays/1221.png (deflated 3%)
  adding: content/overlays/2010.png (deflated 2%)
  adding: content/overlays/1970.png (deflated 1%)
  adding: content/overlays/286.png (deflated 6%)
  adding: content/overlays/601.png (deflated 6%)
  adding: content/overlays/1758.png (deflated 0%)
  adding: content/overlays/28.png (deflated 1%)
  adding: content/overlays/1251.png (deflated 10%)
  adding: content/overlays/2196.png (deflated 1%)
  adding: content/overlays/719.png (deflated 7%)
  adding: content/overlays/1601.png (deflated 0%)
  adding: content/overlays/231.png (deflated 2%)
  adding: content/overlays/1482.png (deflated 2%)
  adding: content/overlays/1261.png (deflated 2%)
  adding: content/overlays/932.png (deflated 4%)
  adding: content/overlays/1352.png (deflated 2%)
  adding: content/overlays/130.png (deflated 3%)
  adding: content/overlays/1766.png (deflated 3%)
  adding: content/overlays/1281.png (deflated 7%)
  adding: content/overlays/2179.png (deflated 1%)
  adding: content/overlays/1957.png (deflated 0%)
  adding: content/overlays/1810.png (deflated 1%)
  adding: content/overlays/1739.png (deflated 9%)
  adding: content/overlays/716.png (deflated 0%)
  adding: content/overlays/2119.png (deflated 2%)
  adding: content/overlays/933.png (deflated 2%)
  adding: content/overlays/528.png (deflated 1%)
  adding: content/overlays/580.png (deflated 4%)
  adding: content/overlays/1022.png (deflated 2%)
  adding: content/overlays/222.png (deflated 2%)
  adding: content/overlays/282.png (deflated 2%)
  adding: content/overlays/117.png (deflated 0%)
  adding: content/overlays/1480.png (deflated 2%)
  adding: content/overlays/1026.png (deflated 2%)
  adding: content/overlays/1238.png (deflated 3%)
  adding: content/overlays/360.png (deflated 1%)
  adding: content/overlays/408.png (deflated 1%)
  adding: content/overlays/66.png (deflated 1%)
  adding: content/overlays/795.png (deflated 2%)
  adding: content/overlays/1098.png (deflated 1%)
  adding: content/overlays/886.png (deflated 3%)
  adding: content/overlays/1941.png (deflated 1%)
  adding: content/overlays/623.png (deflated 2%)
  adding: content/overlays/877.png (deflated 1%)
  adding: content/overlays/2128.png (deflated 2%)
  adding: content/overlays/1144.png (deflated 21%)
  adding: content/overlays/2059.png (deflated 2%)
  adding: content/overlays/1181.png (deflated 1%)
  adding: content/overlays/1203.png (deflated 17%)
  adding: content/overlays/1077.png (deflated 0%)
  adding: content/overlays/1528.png (deflated 2%)
  adding: content/overlays/1775.png (deflated 4%)
  adding: content/overlays/794.png (deflated 0%)
  adding: content/overlays/1257.png (deflated 1%)
  adding: content/overlays/1518.png (deflated 1%)
  adding: content/overlays/1176.png (deflated 0%)
  adding: content/overlays/1682.png (deflated 11%)
  adding: content/overlays/1453.png (deflated 1%)
  adding: content/overlays/529.png (deflated 1%)
  adding: content/overlays/1043.png (deflated 1%)
  adding: content/overlays/1784.png (deflated 1%)
  adding: content/overlays/832.png (deflated 3%)
  adding: content/overlays/183.png (deflated 5%)
  adding: content/overlays/39.png (deflated 1%)
  adding: content/overlays/1980.png (deflated 4%)
  adding: content/overlays/38.png (deflated 9%)
  adding: content/overlays/1672.png (deflated 6%)
  adding: content/overlays/1361.png (deflated 1%)
  adding: content/overlays/1553.png (deflated 6%)
  adding: content/overlays/1976.png (deflated 3%)
  adding: content/overlays/1888.png (deflated 4%)
  adding: content/overlays/121.png (deflated 4%)
  adding: content/overlays/1789.png (deflated 1%)
  adding: content/overlays/1695.png (deflated 0%)
  adding: content/overlays/1867.png (deflated 2%)
  adding: content/overlays/806.png (deflated 4%)
  adding: content/overlays/533.png (deflated 3%)
  adding: content/overlays/1448.png (deflated 3%)
  adding: content/overlays/1818.png (deflated 2%)
  adding: content/overlays/1811.png (deflated 4%)
  adding: content/overlays/986.png (deflated 2%)
  adding: content/overlays/29.png (deflated 0%)
  adding: content/overlays/1033.png (deflated 1%)
  adding: content/overlays/1792.png (deflated 0%)
  adding: content/overlays/91.png (deflated 4%)
  adding: content/overlays/1481.png (deflated 1%)
  adding: content/overlays/2001.png (deflated 1%)
  adding: content/overlays/1116.png (deflated 0%)
  adding: content/overlays/2190.png (deflated 4%)
  adding: content/overlays/1505.png (deflated 3%)
  adding: content/overlays/502.png (deflated 4%)
  adding: content/overlays/1893.png (deflated 2%)
  adding: content/overlays/838.png (deflated 0%)
  adding: content/overlays/1762.png (deflated 2%)
  adding: content/overlays/1791.png (deflated 1%)
  adding: content/overlays/2073.png (deflated 0%)
  adding: content/overlays/574.png (deflated 2%)
  adding: content/overlays/138.png (deflated 1%)
  adding: content/overlays/145.png (deflated 3%)
  adding: content/overlays/1944.png (deflated 6%)
  adding: content/overlays/992.png (deflated 2%)
  adding: content/overlays/456.png (deflated 4%)
  adding: content/overlays/1467.png (deflated 5%)
  adding: content/overlays/69.png (deflated 3%)
  adding: content/overlays/2194.png (deflated 5%)
  adding: content/overlays/423.png (deflated 2%)
  adding: content/overlays/1539.png (deflated 3%)
  adding: content/overlays/383.png (deflated 9%)
  adding: content/overlays/1211.png (deflated 0%)
  adding: content/overlays/1548.png (deflated 4%)
  adding: content/overlays/245.png (deflated 0%)
  adding: content/overlays/480.png (deflated 1%)
  adding: content/overlays/475.png (deflated 0%)
  adding: content/overlays/1755.png (deflated 3%)
  adding: content/overlays/2089.png (deflated 3%)
  adding: content/overlays/977.png (deflated 2%)
  adding: content/overlays/2041.png (deflated 3%)
  adding: content/overlays/1082.png (deflated 3%)
  adding: content/overlays/1842.png (deflated 3%)
  adding: content/overlays/1943.png (deflated 4%)
  adding: content/overlays/1359.png (deflated 6%)
  adding: content/overlays/1676.png (deflated 6%)
  adding: content/overlays/1654.png (deflated 5%)
  adding: content/overlays/203.png (deflated 5%)
  adding: content/overlays/2172.png (deflated 0%)
  adding: content/overlays/824.png (deflated 2%)
  adding: content/overlays/1853.png (deflated 5%)
  adding: content/overlays/35.png (deflated 0%)
  adding: content/overlays/112.png (deflated 1%)
  adding: content/overlays/500.png (deflated 0%)
  adding: content/overlays/586.png (deflated 2%)
  adding: content/overlays/1274.png (deflated 2%)
  adding: content/overlays/1064.png (deflated 7%)
  adding: content/overlays/1099.png (deflated 3%)
  adding: content/overlays/911.png (deflated 7%)
  adding: content/overlays/379.png (deflated 2%)
  adding: content/overlays/1042.png (deflated 2%)
  adding: content/overlays/1103.png (deflated 1%)
  adding: content/overlays/163.png (deflated 4%)
  adding: content/overlays/30.png (deflated 2%)
  adding: content/overlays/2173.png (deflated 0%)
  adding: content/overlays/198.png (deflated 1%)
  adding: content/overlays/1375.png (deflated 1%)
  adding: content/overlays/1526.png (deflated 2%)
  adding: content/overlays/1008.png (deflated 1%)
  adding: content/overlays/65.png (deflated 5%)
  adding: content/overlays/1119.png (deflated 2%)
  adding: content/overlays/72.png (deflated 1%)
  adding: content/overlays/1671.png (deflated 0%)
  adding: content/overlays/92.png (deflated 6%)
  adding: content/overlays/439.png (deflated 1%)
  adding: content/overlays/1650.png (deflated 4%)
  adding: content/overlays/25.png (deflated 3%)
  adding: content/overlays/823.png (deflated 1%)
  adding: content/overlays/940.png (deflated 5%)
  adding: content/overlays/755.png (deflated 1%)
  adding: content/overlays/725.png (deflated 2%)
  adding: content/overlays/1194.png (deflated 1%)
  adding: content/overlays/1692.png (deflated 5%)
  adding: content/overlays/697.png (deflated 2%)
  adding: content/overlays/596.png (deflated 8%)
  adding: content/overlays/1884.png (deflated 4%)
  adding: content/overlays/1897.png (deflated 4%)
  adding: content/overlays/726.png (deflated 3%)
  adding: content/overlays/467.png (deflated 1%)
  adding: content/overlays/247.png (deflated 2%)
  adding: content/overlays/1290.png (deflated 3%)
  adding: content/overlays/761.png (deflated 0%)
  adding: content/overlays/1427.png (deflated 3%)
  adding: content/overlays/609.png (deflated 1%)
  adding: content/overlays/1844.png (deflated 0%)
  adding: content/overlays/946.png (deflated 1%)
  adding: content/overlays/136.png (deflated 1%)
  adding: content/overlays/1827.png (deflated 7%)
  adding: content/overlays/664.png (deflated 6%)
  adding: content/overlays/2120.png (deflated 2%)
  adding: content/overlays/1907.png (deflated 2%)
  adding: content/overlays/1032.png (deflated 9%)
  adding: content/overlays/556.png (deflated 0%)
  adding: content/overlays/388.png (deflated 2%)
  adding: content/overlays/1491.png (deflated 2%)
  adding: content/overlays/573.png (deflated 21%)
  adding: content/overlays/1363.png (deflated 2%)
  adding: content/overlays/335.png (deflated 4%)
  adding: content/overlays/584.png (deflated 0%)
  adding: content/overlays/1635.png (deflated 5%)
  adding: content/overlays/543.png (deflated 0%)
  adding: content/overlays/175.png (deflated 4%)
  adding: content/overlays/1432.png (deflated 0%)
  adding: content/overlays/1593.png (deflated 5%)
  adding: content/overlays/1328.png (deflated 1%)
  adding: content/overlays/1468.png (deflated 4%)
  adding: content/overlays/5.png (deflated 4%)
  adding: content/overlays/115.png (deflated 4%)
  adding: content/overlays/1500.png (deflated 2%)
  adding: content/overlays/2018.png (deflated 1%)
  adding: content/overlays/493.png (deflated 6%)
  adding: content/overlays/1621.png (deflated 2%)
  adding: content/overlays/825.png (deflated 3%)
  adding: content/overlays/325.png (deflated 8%)
  adding: content/overlays/669.png (deflated 2%)
  adding: content/overlays/1005.png (deflated 0%)
  adding: content/overlays/2020.png (deflated 2%)
  adding: content/overlays/508.png (deflated 14%)
  adding: content/overlays/195.png (deflated 8%)
  adding: content/overlays/1926.png (deflated 3%)
  adding: content/overlays/1657.png (deflated 4%)
  adding: content/overlays/447.png (deflated 0%)
  adding: content/overlays/1895.png (deflated 6%)
  adding: content/overlays/1019.png (deflated 4%)
  adding: content/overlays/774.png (deflated 1%)
  adding: content/overlays/1587.png (deflated 1%)
  adding: content/overlays/513.png (deflated 4%)
  adding: content/overlays/129.png (deflated 4%)
  adding: content/overlays/1027.png (deflated 2%)
  adding: content/overlays/1210.png (deflated 1%)
  adding: content/overlays/179.png (deflated 9%)
  adding: content/overlays/1441.png (deflated 1%)
  adding: content/overlays/1900.png (deflated 1%)
  adding: content/overlays/701.png (deflated 1%)
  adding: content/overlays/459.png (deflated 1%)
  adding: content/overlays/1231.png (deflated 1%)
  adding: content/overlays/1909.png (deflated 3%)
  adding: content/overlays/868.png (deflated 2%)
  adding: content/overlays/776.png (deflated 3%)
  adding: content/overlays/2009.png (deflated 3%)
  adding: content/overlays/813.png (deflated 12%)
  adding: content/overlays/455.png (deflated 1%)
  adding: content/overlays/2023.png (deflated 3%)
  adding: content/overlays/2142.png (deflated 0%)
  adding: content/overlays/2223.png (deflated 3%)
  adding: content/overlays/960.png (deflated 0%)
  adding: content/overlays/1378.png (deflated 1%)
  adding: content/overlays/378.png (deflated 4%)
  adding: content/overlays/1306.png (deflated 5%)
  adding: content/overlays/2094.png (deflated 1%)
  adding: content/overlays/1078.png (deflated 4%)
  adding: content/overlays/89.png (deflated 2%)
  adding: content/overlays/74.png (deflated 1%)
  adding: content/overlays/1413.png (deflated 3%)
  adding: content/overlays/393.png (deflated 3%)
  adding: content/overlays/2017.png (deflated 1%)
  adding: content/overlays/938.png (deflated 0%)
  adding: content/overlays/667.png (deflated 3%)
  adding: content/overlays/1.png (deflated 1%)
  adding: content/overlays/703.png (deflated 3%)
  adding: content/overlays/1366.png (deflated 2%)
  adding: content/overlays/738.png (deflated 2%)
  adding: content/overlays/862.png (deflated 1%)
  adding: content/overlays/1411.png (deflated 2%)
  adding: content/overlays/465.png (deflated 4%)
  adding: content/overlays/1269.png (deflated 4%)
  adding: content/overlays/1655.png (deflated 3%)
  adding: content/overlays/100.png (deflated 2%)
  adding: content/overlays/1873.png (deflated 2%)
  adding: content/overlays/227.png (deflated 2%)
  adding: content/overlays/400.png (deflated 0%)
  adding: content/overlays/1200.png (deflated 7%)
  adding: content/overlays/1067.png (deflated 2%)
  adding: content/overlays/775.png (deflated 1%)
  adding: content/overlays/1904.png (deflated 4%)
  adding: content/overlays/671.png (deflated 2%)
  adding: content/overlays/1484.png (deflated 4%)
  adding: content/overlays/1993.png (deflated 8%)
  adding: content/overlays/663.png (deflated 2%)
  adding: content/overlays/507.png (deflated 0%)
  adding: content/overlays/1394.png (deflated 8%)
  adding: content/overlays/2153.png (deflated 1%)
  adding: content/overlays/819.png (deflated 0%)
  adding: content/overlays/40.png (deflated 3%)
  adding: content/overlays/760.png (deflated 2%)
  adding: content/overlays/471.png (deflated 3%)
  adding: content/overlays/546.png (deflated 0%)
  adding: content/overlays/683.png (deflated 1%)
  adding: content/overlays/1011.png (deflated 1%)
  adding: content/overlays/1173.png (deflated 1%)
  adding: content/overlays/209.png (deflated 4%)
  adding: content/overlays/578.png (deflated 6%)
  adding: content/overlays/1381.png (deflated 1%)
  adding: content/overlays/1183.png (deflated 9%)
  adding: content/overlays/1986.png (deflated 1%)
  adding: content/overlays/415.png (deflated 2%)
  adding: content/overlays/1072.png (deflated 2%)
  adding: content/overlays/1331.png (deflated 0%)
  adding: content/overlays/732.png (deflated 1%)
  adding: content/overlays/734.png (deflated 0%)
  adding: content/overlays/1455.png (deflated 2%)
  adding: content/overlays/1535.png (deflated 3%)
  adding: content/overlays/192.png (deflated 2%)
  adding: content/overlays/122.png (deflated 0%)
  adding: content/overlays/553.png (deflated 5%)
  adding: content/overlays/492.png (deflated 2%)
  adding: content/overlays/370.png (deflated 2%)
  adding: content/overlays/1938.png (deflated 0%)
  adding: content/overlays/1813.png (deflated 1%)
  adding: content/overlays/2138.png (deflated 5%)
  adding: content/overlays/627.png (deflated 3%)
  adding: content/overlays/1580.png (deflated 5%)
  adding: content/overlays/2091.png (deflated 1%)
  adding: content/overlays/449.png (deflated 3%)
  adding: content/overlays/425.png (deflated 4%)
  adding: content/overlays/2028.png (deflated 3%)
  adding: content/overlays/2189.png (deflated 1%)
  adding: content/overlays/1910.png (deflated 0%)
  adding: content/overlays/2218.png (deflated 2%)
  adding: content/overlays/591.png (deflated 9%)
  adding: content/overlays/320.png (deflated 2%)
  adding: content/overlays/2152.png (deflated 3%)
  adding: content/overlays/1666.png (deflated 3%)
  adding: content/overlays/258.png (deflated 6%)
  adding: content/overlays/830.png (deflated 7%)
  adding: content/overlays/989.png (deflated 3%)
  adding: content/overlays/1016.png (deflated 3%)
  adding: content/overlays/509.png (deflated 0%)
  adding: content/overlays/2030.png (deflated 0%)
  adding: content/overlays/981.png (deflated 1%)
  adding: content/overlays/2012.png (deflated 2%)
  adding: content/overlays/659.png (deflated 2%)
  adding: content/overlays/2114.png (deflated 1%)
  adding: content/overlays/435.png (deflated 6%)
  adding: content/overlays/917.png (deflated 1%)
  adding: content/overlays/380.png (deflated 3%)
  adding: content/overlays/673.png (deflated 2%)
  adding: content/overlays/607.png (deflated 4%)
  adding: content/overlays/2072.png (deflated 4%)
  adding: content/overlays/1604.png (deflated 2%)
  adding: content/overlays/689.png (deflated 9%)
  adding: content/overlays/305.png (deflated 3%)
  adding: content/overlays/739.png (deflated 1%)
  adding: content/overlays/826.png (deflated 1%)
  adding: content/overlays/2207.png (deflated 4%)
  adding: content/overlays/106.png (deflated 1%)
  adding: content/overlays/261.png (deflated 2%)
  adding: content/overlays/1434.png (deflated 2%)
  adding: content/overlays/628.png (deflated 1%)
  adding: content/overlays/1708.png (deflated 1%)
  adding: content/overlays/2004.png (deflated 5%)
  adding: content/overlays/604.png (deflated 4%)
  adding: content/overlays/1456.png (deflated 1%)
  adding: content/overlays/1487.png (deflated 1%)
  adding: content/overlays/259.png (deflated 3%)
  adding: content/overlays/812.png (deflated 4%)
  adding: content/overlays/1001.png (deflated 2%)
  adding: content/overlays/1101.png (deflated 1%)
  adding: content/overlays/411.png (deflated 1%)
  adding: content/overlays/743.png (deflated 4%)
  adding: content/overlays/1465.png (deflated 5%)
  adding: content/overlays/431.png (deflated 7%)
  adding: content/overlays/608.png (deflated 8%)
  adding: content/overlays/46.png (deflated 1%)
  adding: content/overlays/842.png (deflated 1%)
  adding: content/overlays/1901.png (deflated 4%)
  adding: content/overlays/1534.png (deflated 4%)
  adding: content/overlays/1696.png (deflated 2%)
  adding: content/overlays/518.png (deflated 5%)
  adding: content/overlays/1240.png (deflated 1%)
  adding: content/overlays/1341.png (deflated 2%)
  adding: content/overlays/1564.png (deflated 5%)
  adding: content/overlays/216.png (deflated 3%)
  adding: content/overlays/717.png (deflated 0%)
  adding: content/overlays/451.png (deflated 2%)
  adding: content/overlays/271.png (deflated 2%)
  adding: content/overlays/1638.png (deflated 6%)
  adding: content/overlays/1327.png (deflated 2%)
  adding: content/overlays/1497.png (deflated 0%)
  adding: content/overlays/1966.png (deflated 10%)
  adding: content/overlays/1927.png (deflated 6%)
  adding: content/overlays/1829.png (deflated 5%)
  adding: content/overlays/1561.png (deflated 17%)
  adding: content/overlays/1662.png (deflated 3%)
  adding: content/overlays/1919.png (deflated 4%)
  adding: content/overlays/561.png (deflated 1%)
  adding: content/overlays/361.png (deflated 1%)
  adding: content/overlays/1021.png (deflated 1%)
  adding: content/overlays/2037.png (deflated 2%)
  adding: content/overlays/1066.png (deflated 3%)
  adding: content/overlays/1958.png (deflated 1%)
  adding: content/overlays/1991.png (deflated 3%)
  adding: content/overlays/931.png (deflated 1%)
  adding: content/overlays/958.png (deflated 2%)
  adding: content/overlays/1542.png (deflated 3%)
  adding: content/overlays/1379.png (deflated 6%)
  adding: content/overlays/2230.png (deflated 4%)
  adding: content/overlays/879.png (deflated 3%)
  adding: content/overlays/1868.png (deflated 4%)
  adding: content/overlays/1100.png (deflated 1%)
  adding: content/overlays/125.png (deflated 1%)
  adding: content/overlays/759.png (deflated 3%)
  adding: content/overlays/767.png (deflated 3%)
  adding: content/overlays/572.png (deflated 1%)
  adding: content/overlays/263.png (deflated 3%)
  adding: content/overlays/114.png (deflated 1%)
  adding: content/overlays/1863.png (deflated 5%)
  adding: content/overlays/1523.png (deflated 5%)
  adding: content/overlays/242.png (deflated 1%)
  adding: content/overlays/479.png (deflated 1%)
  adding: content/overlays/2164.png (deflated 1%)
  adding: content/overlays/1308.png (deflated 2%)
  adding: content/overlays/54.png (deflated 1%)
  adding: content/overlays/1163.png (deflated 1%)
  adding: content/overlays/139.png (deflated 2%)
  adding: content/overlays/1628.png (deflated 1%)
  adding: content/overlays/927.png (deflated 2%)
  adding: content/overlays/1086.png (deflated 1%)
  adding: content/overlays/1037.png (deflated 1%)
  adding: content/overlays/807.png (deflated 1%)
  adding: content/overlays/1825.png (deflated 2%)
  adding: content/overlays/2074.png (deflated 6%)
  adding: content/overlays/1385.png (deflated 1%)
  adding: content/overlays/1189.png (deflated 7%)
  adding: content/overlays/1038.png (deflated 1%)
  adding: content/overlays/96.png (deflated 19%)
  adding: content/overlays/1935.png (deflated 3%)
  adding: content/overlays/590.png (deflated 1%)
  adding: content/overlays/614.png (deflated 2%)
  adding: content/overlays/1525.png (deflated 1%)
  adding: content/overlays/844.png (deflated 1%)
  adding: content/overlays/1502.png (deflated 3%)
  adding: content/overlays/281.png (deflated 2%)
  adding: content/overlays/346.png (deflated 4%)
  adding: content/overlays/164.png (deflated 2%)
  adding: content/overlays/1141.png (deflated 1%)
  adding: content/overlays/319.png (deflated 3%)
  adding: content/overlays/1834.png (deflated 6%)
  adding: content/overlays/1882.png (deflated 5%)
  adding: content/overlays/2103.png (deflated 2%)
  adding: content/overlays/347.png (deflated 1%)
  adding: content/overlays/412.png (deflated 3%)
  adding: content/overlays/1675.png (deflated 1%)
  adding: content/overlays/1713.png (deflated 1%)
  adding: content/overlays/1913.png (deflated 2%)
  adding: content/overlays/2167.png (deflated 2%)
  adding: content/overlays/2052.png (deflated 1%)
  adding: content/overlays/887.png (deflated 1%)
  adding: content/overlays/870.png (deflated 4%)
  adding: content/overlays/966.png (deflated 3%)
  adding: content/overlays/406.png (deflated 7%)
  adding: content/overlays/390.png (deflated 1%)
  adding: content/overlays/2121.png (deflated 3%)
  adding: content/overlays/1865.png (deflated 8%)
  adding: content/overlays/788.png (deflated 0%)
  adding: content/overlays/804.png (deflated 3%)
  adding: content/overlays/87.png (deflated 4%)
  adding: content/overlays/557.png (deflated 3%)
  adding: content/overlays/1592.png (deflated 3%)
  adding: content/overlays/1501.png (deflated 7%)
  adding: content/overlays/1921.png (deflated 7%)
  adding: content/overlays/2215.png (deflated 17%)
  adding: content/overlays/1934.png (deflated 3%)
  adding: content/overlays/1896.png (deflated 1%)
  adding: content/overlays/1626.png (deflated 5%)
  adding: content/overlays/2071.png (deflated 4%)
  adding: content/overlays/289.png (deflated 1%)
  adding: content/overlays/314.png (deflated 1%)
  adding: content/overlays/262.png (deflated 1%)
  adding: content/overlays/2187.png (deflated 5%)
  adding: content/overlays/847.png (deflated 5%)
  adding: content/overlays/864.png (deflated 3%)
  adding: content/overlays/1425.png (deflated 3%)
  adding: content/overlays/1041.png (deflated 4%)
  adding: content/overlays/1464.png (deflated 3%)
  adding: content/overlays/396.png (deflated 0%)
  adding: content/overlays/1797.png (deflated 2%)
  adding: content/overlays/365.png (deflated 2%)
  adding: content/overlays/348.png (deflated 2%)
  adding: content/overlays/913.png (deflated 2%)
  adding: content/overlays/1157.png (deflated 2%)
  adding: content/overlays/1431.png (deflated 0%)
  adding: content/overlays/709.png (deflated 2%)
  adding: content/overlays/1130.png (deflated 1%)
  adding: content/overlays/1543.png (deflated 5%)
  adding: content/overlays/2108.png (deflated 1%)
  adding: content/overlays/1047.png (deflated 11%)
  adding: content/overlays/1608.png (deflated 1%)
  adding: content/overlays/1612.png (deflated 2%)
  adding: content/overlays/882.png (deflated 0%)
  adding: content/overlays/988.png (deflated 4%)
  adding: content/overlays/1236.png (deflated 1%)
  adding: content/overlays/308.png (deflated 2%)
  adding: content/overlays/1051.png (deflated 3%)
  adding: content/overlays/2132.png (deflated 0%)
  adding: content/overlays/1973.png (deflated 4%)
  adding: content/overlays/1169.png (deflated 3%)
  adding: content/overlays/1605.png (deflated 2%)
  adding: content/overlays/1744.png (deflated 4%)
  adding: content/overlays/1699.png (deflated 2%)
  adding: content/overlays/544.png (deflated 0%)
  adding: content/overlays/735.png (deflated 2%)
  adding: content/overlays/2234.png (deflated 6%)
  adding: content/overlays/737.png (deflated 0%)
  adding: content/overlays/18.png (deflated 1%)
  adding: content/overlays/875.png (deflated 0%)
  adding: content/overlays/2171.png (deflated 0%)
  adding: content/overlays/170.png (deflated 8%)
  adding: content/overlays/531.png (deflated 2%)
  adding: content/overlays/1280.png (deflated 1%)
  adding: content/overlays/1821.png (deflated 6%)
  adding: content/overlays/1149.png (deflated 1%)
  adding: content/overlays/1854.png (deflated 10%)
  adding: content/overlays/1121.png (deflated 4%)
  adding: content/overlays/2079.png (deflated 0%)
  adding: content/overlays/2055.png (deflated 1%)
  adding: content/overlays/1930.png (deflated 1%)
  adding: content/overlays/1690.png (deflated 3%)
  adding: content/overlays/2019.png (deflated 4%)
  adding: content/overlays/357.png (deflated 11%)
  adding: content/overlays/626.png (deflated 0%)
  adding: content/overlays/340.png (deflated 2%)
  adding: content/overlays/1558.png (deflated 3%)
  adding: content/overlays/1924.png (deflated 4%)
  adding: content/overlays/1702.png (deflated 5%)
  adding: content/overlays/599.png (deflated 0%)
  adding: content/overlays/708.png (deflated 4%)
  adding: content/overlays/1273.png (deflated 7%)
  adding: content/overlays/809.png (deflated 6%)
  adding: content/overlays/1948.png (deflated 0%)
  adding: content/overlays/1746.png (deflated 0%)
  adding: content/overlays/1326.png (deflated 4%)
  adding: content/overlays/791.png (deflated 1%)
  adding: content/overlays/2086.png (deflated 0%)
  adding: content/overlays/83.png (deflated 3%)
  adding: content/overlays/180.png (deflated 4%)
  adding: content/overlays/571.png (deflated 5%)
  adding: content/overlays/166.png (deflated 4%)
  adding: content/overlays/1602.png (deflated 2%)
  adding: content/overlays/930.png (deflated 5%)
  adding: content/overlays/490.png (deflated 1%)
  adding: content/overlays/1294.png (deflated 2%)
  adding: content/overlays/1252.png (deflated 7%)
  adding: content/overlays/914.png (deflated 0%)
  adding: content/overlays/2145.png (deflated 2%)
  adding: content/overlays/1105.png (deflated 3%)
  adding: content/overlays/999.png (deflated 2%)
  adding: content/overlays/904.png (deflated 1%)
  adding: content/overlays/2199.png (deflated 0%)
  adding: content/overlays/947.png (deflated 1%)
  adding: content/overlays/1776.png (deflated 3%)
  adding: content/overlays/635.png (deflated 3%)
  adding: content/overlays/1490.png (deflated 3%)
  adding: content/overlays/746.png (deflated 6%)
  adding: content/overlays/1202.png (deflated 2%)
  adding: content/overlays/409.png (deflated 1%)
  adding: content/overlays/903.png (deflated 3%)
  adding: content/overlays/1903.png (deflated 2%)
  adding: content/overlays/1982.png (deflated 2%)
  adding: content/overlays/1159.png (deflated 1%)
  adding: content/overlays/2008.png (deflated 0%)
  adding: content/overlays/649.png (deflated 3%)
  adding: content/overlays/1396.png (deflated 0%)
  adding: content/overlays/498.png (deflated 2%)
  adding: content/overlays/1536.png (deflated 0%)
  adding: content/overlays/778.png (deflated 5%)
  adding: content/overlays/2177.png (deflated 1%)
  adding: content/overlays/301.png (deflated 1%)
  adding: content/overlays/2099.png (deflated 2%)
  adding: content/overlays/789.png (deflated 1%)
  adding: content/overlays/300.png (deflated 0%)
  adding: content/overlays/295.png (deflated 3%)
  adding: content/overlays/1447.png (deflated 4%)
  adding: content/overlays/1226.png (deflated 3%)
  adding: content/overlays/1983.png (deflated 4%)
  adding: content/overlays/211.png (deflated 0%)
  adding: content/overlays/2124.png (deflated 7%)
  adding: content/overlays/554.png (deflated 8%)
  adding: content/overlays/1623.png (deflated 2%)
  adding: content/overlays/182.png (deflated 4%)
  adding: content/overlays/188.png (deflated 7%)
  adding: content/overlays/330.png (deflated 17%)
  adding: content/overlays/1460.png (deflated 1%)
  adding: content/overlays/2118.png (deflated 4%)
  adding: content/overlays/722.png (deflated 0%)
  adding: content/overlays/1603.png (deflated 5%)
  adding: content/overlays/401.png (deflated 4%)
  adding: content/overlays/207.png (deflated 2%)
  adding: content/overlays/2070.png (deflated 2%)
  adding: content/overlays/670.png (deflated 0%)
  adding: content/overlays/1002.png (deflated 0%)
  adding: content/overlays/1641.png (deflated 3%)
  adding: content/overlays/1179.png (deflated 2%)
  adding: content/overlays/1217.png (deflated 2%)
  adding: content/overlays/1783.png (deflated 1%)
  adding: content/overlays/1594.png (deflated 1%)
  adding: content/overlays/1362.png (deflated 4%)
  adding: content/overlays/2062.png (deflated 4%)
  adding: content/overlays/1684.png (deflated 2%)
  adding: content/overlays/1228.png (deflated 3%)
  adding: content/overlays/1354.png (deflated 2%)
  adding: content/overlays/860.png (deflated 5%)
  adding: content/overlays/589.png (deflated 5%)
  adding: content/overlays/202.png (deflated 3%)
  adding: content/overlays/698.png (deflated 1%)
  adding: content/overlays/1017.png (deflated 2%)
  adding: content/overlays/310.png (deflated 1%)
  adding: content/overlays/484.png (deflated 2%)
  adding: content/overlays/1582.png (deflated 5%)
  adding: content/overlays/1046.png (deflated 2%)
  adding: content/overlays/1476.png (deflated 0%)
  adding: content/overlays/252.png (deflated 2%)
  adding: content/overlays/2219.png (deflated 16%)
  adding: content/overlays/3.png (deflated 19%)
  adding: content/overlays/1152.png (deflated 3%)
  adding: content/overlays/845.png (deflated 1%)
  adding: content/overlays/699.png (deflated 3%)
  adding: content/overlays/840.png (deflated 3%)
  adding: content/overlays/1272.png (deflated 1%)
  adding: content/overlays/1747.png (deflated 1%)
  adding: content/overlays/985.png (deflated 1%)
  adding: content/overlays/1928.png (deflated 1%)
  adding: content/overlays/64.png (deflated 3%)
  adding: content/overlays/2228.png (deflated 0%)
  adding: content/overlays/99.png (deflated 1%)
  adding: content/overlays/962.png (deflated 1%)
  adding: content/overlays/1227.png (deflated 3%)
  adding: content/overlays/1995.png (deflated 1%)
  adding: content/overlays/585.png (deflated 1%)
  adding: content/overlays/1160.png (deflated 6%)
  adding: content/overlays/1933.png (deflated 20%)
  adding: content/overlays/2029.png (deflated 0%)
  adding: content/overlays/1044.png (deflated 2%)
  adding: content/overlays/771.png (deflated 2%)
  adding: content/overlays/956.png (deflated 8%)
  adding: content/overlays/2007.png (deflated 3%)
  adding: content/overlays/797.png (deflated 5%)
  adding: content/overlays/1489.png (deflated 1%)
  adding: content/overlays/1222.png (deflated 1%)
  adding: content/overlays/173.png (deflated 2%)
  adding: content/overlays/1298.png (deflated 8%)
  adding: content/overlays/1015.png (deflated 3%)
  adding: content/overlays/1996.png (deflated 2%)
  adding: content/overlays/239.png (deflated 1%)
  adding: content/overlays/1387.png (deflated 1%)
  adding: content/overlays/1890.png (deflated 1%)
  adding: content/overlays/1458.png (deflated 2%)
  adding: content/overlays/1182.png (deflated 0%)
  adding: content/overlays/2026.png (deflated 6%)
  adding: content/overlays/278.png (deflated 0%)
  adding: content/overlays/923.png (deflated 1%)
  adding: content/overlays/1992.png (deflated 7%)
  adding: content/overlays/854.png (deflated 3%)
  adding: content/overlays/1498.png (deflated 2%)
  adding: content/overlays/1620.png (deflated 2%)
  adding: content/overlays/512.png (deflated 3%)
  adding: content/overlays/107.png (deflated 1%)
  adding: content/overlays/1129.png (deflated 1%)
  adding: content/overlays/426.png (deflated 3%)
  adding: content/overlays/27.png (deflated 4%)
  adding: content/overlays/641.png (deflated 2%)
  adding: content/overlays/299.png (deflated 1%)
  adding: content/overlays/1521.png (deflated 1%)
  adding: content/overlays/925.png (deflated 1%)
  adding: content/overlays/1886.png (deflated 5%)
  adding: content/overlays/108.png (deflated 3%)
  adding: content/overlays/171.png (deflated 1%)
  adding: content/overlays/2107.png (deflated 5%)
  adding: content/overlays/448.png (deflated 1%)
  adding: content/overlays/204.png (deflated 0%)
  adding: content/overlays/1738.png (deflated 3%)
  adding: content/overlays/48.png (deflated 8%)
  adding: content/overlays/1104.png (deflated 0%)
  adding: content/overlays/2067.png (deflated 1%)
  adding: content/overlays/713.png (deflated 4%)
  adding: content/overlays/124.png (deflated 3%)
  adding: content/overlays/1321.png (deflated 3%)
  adding: content/overlays/1786.png (deflated 3%)
  adding: content/overlays/1570.png (deflated 0%)
  adding: content/overlays/1058.png (deflated 10%)
  adding: content/overlays/1158.png (deflated 0%)
  adding: content/overlays/111.png (deflated 0%)
  adding: content/overlays/582.png (deflated 1%)
  adding: content/overlays/418.png (deflated 5%)
  adding: content/overlays/2085.png (deflated 5%)
  adding: content/overlays/534.png (deflated 4%)
  adding: content/overlays/2013.png (deflated 2%)
  adding: content/overlays/721.png (deflated 0%)
  adding: content/overlays/547.png (deflated 1%)
  adding: content/overlays/2082.png (deflated 4%)
  adding: content/overlays/2044.png (deflated 3%)
  adding: content/overlays/463.png (deflated 2%)
  adding: content/overlays/1793.png (deflated 1%)
  adding: content/overlays/579.png (deflated 0%)
  adding: content/overlays/217.png (deflated 6%)
  adding: content/overlays/526.png (deflated 1%)
  adding: content/overlays/1244.png (deflated 1%)
  adding: content/overlays/82.png (deflated 1%)
  adding: content/overlays/2233.png (deflated 15%)
  adding: content/overlays/754.png (deflated 0%)
  adding: content/overlays/1954.png (deflated 0%)
  adding: content/overlays/127.png (deflated 1%)
  adding: content/overlays/1718.png (deflated 0%)
  adding: content/overlays/684.png (deflated 2%)
  adding: content/overlays/457.png (deflated 2%)
  adding: content/overlays/2066.png (deflated 0%)
  adding: content/overlays/312.png (deflated 1%)
  adding: content/overlays/1698.png (deflated 4%)
  adding: content/overlays/2101.png (deflated 1%)
  adding: content/overlays/1706.png (deflated 5%)
  adding: content/overlays/433.png (deflated 1%)
  adding: content/overlays/2043.png (deflated 3%)
  adding: content/overlays/1790.png (deflated 3%)
  adding: content/overlays/496.png (deflated 12%)
  adding: content/overlays/1335.png (deflated 3%)
  adding: content/overlays/603.png (deflated 9%)
  adding: content/overlays/1808.png (deflated 5%)
  adding: content/overlays/1509.png (deflated 4%)
  adding: content/overlays/144.png (deflated 4%)
  adding: content/overlays/377.png (deflated 1%)
  adding: content/overlays/1756.png (deflated 13%)
  adding: content/overlays/78.png (deflated 2%)
  adding: content/overlays/1978.png (deflated 1%)
  adding: content/overlays/499.png (deflated 0%)
  adding: content/overlays/1457.png (deflated 4%)
  adding: content/overlays/1994.png (deflated 3%)
  adding: content/overlays/2024.png (deflated 5%)
  adding: content/overlays/1446.png (deflated 1%)
  adding: content/overlays/1365.png (deflated 4%)
  adding: content/overlays/637.png (deflated 0%)
  adding: content/overlays/1788.png (deflated 3%)
  adding: content/overlays/440.png (deflated 1%)
  adding: content/overlays/199.png (deflated 1%)
  adding: content/overlays/1936.png (deflated 1%)
  adding: content/overlays/1309.png (deflated 4%)
  adding: content/overlays/311.png (deflated 3%)
  adding: content/overlays/678.png (deflated 2%)
  adding: content/overlays/764.png (deflated 5%)
  adding: content/overlays/1433.png (deflated 2%)
  adding: content/overlays/297.png (deflated 11%)
  adding: content/overlays/1795.png (deflated 11%)
  adding: content/overlays/950.png (deflated 2%)
  adding: content/overlays/723.png (deflated 1%)
  adding: content/overlays/954.png (deflated 2%)
  adding: content/overlays/1368.png (deflated 3%)
  adding: content/overlays/1372.png (deflated 2%)
  adding: content/overlays/1024.png (deflated 1%)
  adding: content/overlays/50.png (deflated 0%)
  adding: content/overlays/532.png (deflated 5%)
  adding: content/overlays/1346.png (deflated 2%)
  adding: content/overlays/858.png (deflated 3%)
  adding: content/overlays/691.png (deflated 1%)
  adding: content/overlays/2038.png (deflated 1%)
  adding: content/overlays/1184.png (deflated 2%)
  adding: content/overlays/1320.png (deflated 2%)
  adding: content/overlays/1565.png (deflated 2%)
  adding: content/overlays/2050.png (deflated 2%)
  adding: content/overlays/1925.png (deflated 3%)
  adding: content/overlays/1578.png (deflated 5%)
  adding: content/overlays/2197.png (deflated 3%)
  adding: content/overlays/908.png (deflated 1%)
  adding: content/overlays/595.png (deflated 5%)
  adding: content/overlays/1876.png (deflated 1%)
  adding: content/overlays/358.png (deflated 1%)
  adding: content/overlays/1095.png (deflated 1%)
  adding: content/overlays/148.png (deflated 0%)
  adding: content/overlays/2174.png (deflated 2%)
  adding: content/overlays/436.png (deflated 2%)
  adding: content/overlays/306.png (deflated 16%)
  adding: content/overlays/2232.png (deflated 4%)
  adding: content/overlays/2143.png (deflated 3%)
  adding: content/overlays/1551.png (deflated 1%)
  adding: content/overlays/1669.png (deflated 4%)
  adding: content/overlays/1147.png (deflated 6%)
  adding: content/overlays/1166.png (deflated 7%)
  adding: content/overlays/1172.png (deflated 0%)
  adding: content/overlays/1875.png (deflated 5%)
  adding: content/overlays/1511.png (deflated 3%)
  adding: content/overlays/1170.png (deflated 2%)
  adding: content/overlays/2198.png (deflated 2%)
  adding: content/overlays/1388.png (deflated 4%)
  adding: content/overlays/446.png (deflated 6%)
  adding: content/overlays/2146.png (deflated 1%)
  adding: content/overlays/2237.png (deflated 2%)
  adding: content/overlays/1817.png (deflated 1%)
  adding: content/overlays/1300.png (deflated 4%)
  adding: content/overlays/625.png (deflated 5%)
  adding: content/overlays/874.png (deflated 1%)
  adding: content/overlays/1740.png (deflated 3%)
  adding: content/overlays/1061.png (deflated 2%)
  adding: content/overlays/155.png (deflated 4%)
  adding: content/overlays/1763.png (deflated 6%)
  adding: content/overlays/768.png (deflated 2%)
  adding: content/overlays/762.png (deflated 0%)
  adding: content/overlays/619.png (deflated 1%)
  adding: content/overlays/1546.png (deflated 1%)
  adding: content/overlays/1987.png (deflated 4%)
  adding: content/overlays/1278.png (deflated 5%)
  adding: content/overlays/193.png (deflated 2%)
  adding: content/overlays/1134.png (deflated 5%)
  adding: content/overlays/773.png (deflated 0%)
  adding: content/overlays/1120.png (deflated 2%)
  adding: content/overlays/2042.png (deflated 2%)
  adding: content/overlays/1191.png (deflated 5%)
  adding: content/overlays/1153.png (deflated 7%)
  adding: content/overlays/1527.png (deflated 2%)
  adding: content/overlays/1861.png (deflated 5%)
  adding: content/overlays/2117.png (deflated 0%)
  adding: content/overlays/120.png (deflated 6%)
  adding: content/overlays/1187.png (deflated 1%)
  adding: content/overlays/1148.png (deflated 1%)
  adding: content/overlays/234.png (deflated 2%)
  adding: content/overlays/863.png (deflated 3%)
  adding: content/overlays/1370.png (deflated 3%)
  adding: content/overlays/2060.png (deflated 12%)
  adding: content/overlays/273.png (deflated 3%)
  adding: content/overlays/1065.png (deflated 4%)
  adding: content/overlays/629.png (deflated 5%)
  adding: content/overlays/1109.png (deflated 0%)
  adding: content/runs/ (stored 0%)
  adding: content/runs/train/ (stored 0%)
  adding: content/runs/train/yolo_eagle_det/ (stored 0%)
  adding: content/runs/train/yolo_eagle_det/weights/ (stored 0%)
  adding: content/runs/train/yolo_eagle_det/labels_correlogram.jpg (deflated 19%)
  adding: content/runs/train/yolo_eagle_det/opt.yaml (deflated 48%)
  adding: content/runs/train/yolo_eagle_det/labels.jpg (deflated 14%)
  adding: content/runs/train/yolo_eagle_det/events.out.tfevents.1627143305.77aecde863ca.163.0 (deflated 5%)
  adding: content/runs/train/yolo_eagle_det/hyp.yaml (deflated 44%)
  adding: content/yolo_annots/ (stored 0%)
  adding: content/dummy.png (deflated 0%)
  adding: content/labels/ (stored 0%)
  adding: content/labels/train.cache (deflated 63%)
  adding: content/labels/test/ (stored 0%)
  adding: content/labels/test/image_000001552.txt (deflated 62%)
  adding: content/labels/test/image_000001750.txt (deflated 19%)
  adding: content/labels/test/image_000000182.txt (deflated 40%)
  adding: content/labels/test/image_000001518.txt (deflated 54%)
  adding: content/labels/test/image_000001225.txt (deflated 32%)
  adding: content/labels/test/image_000000454.txt (deflated 56%)
  adding: content/labels/test/image_000000826.txt (deflated 45%)
  adding: content/labels/test/image_000001904.txt (deflated 56%)
  adding: content/labels/test/image_000001130.txt (deflated 45%)
  adding: content/labels/test/image_000001380.txt (deflated 51%)
  adding: content/labels/test/image_000001292.txt (deflated 27%)
  adding: content/labels/test/image_000000914.txt (deflated 59%)
  adding: content/labels/test/image_000000302.txt (deflated 58%)
  adding: content/labels/test/image_000000614.txt (deflated 58%)
  adding: content/labels/test/image_000000661.txt (deflated 54%)
  adding: content/labels/test/image_000000556.txt (deflated 31%)
  adding: content/labels/test/image_000001644.txt (deflated 39%)
  adding: content/labels/test/image_000000746.txt (deflated 32%)
  adding: content/labels/test/image_000000734.txt (deflated 66%)
  adding: content/labels/test/image_000001630.txt (deflated 52%)
  adding: content/labels/test/image_000001061.txt (deflated 21%)
  adding: content/labels/test/image_000000858.txt (deflated 25%)
  adding: content/labels/test/image_000001892.txt (deflated 36%)
  adding: content/labels/test/image_000000138.txt (deflated 45%)
  adding: content/labels/test/image_000000293.txt (deflated 54%)
  adding: content/labels/test/image_000001196.txt (deflated 56%)
  adding: content/labels/test/image_000000243.txt (deflated 60%)
  adding: content/labels/test/image_000000574.txt (deflated 40%)
  adding: content/labels/test/image_000001544.txt (deflated 36%)
  adding: content/labels/test/image_000001489.txt (deflated 31%)
  adding: content/labels/test/image_000000984.txt (deflated 54%)
  adding: content/labels/test/image_000001744.txt (deflated 32%)
  adding: content/labels/test/image_000000326.txt (deflated 51%)
  adding: content/labels/test/image_000002078.txt (deflated 23%)
  adding: content/labels/test/image_000000654.txt (deflated 21%)
  adding: content/labels/test/image_000001590.txt (deflated 23%)
  adding: content/labels/test/image_000000550.txt (deflated 33%)
  adding: content/labels/test/image_000001179.txt (deflated 32%)
  adding: content/labels/test/image_000001013.txt (deflated 57%)
  adding: content/labels/test/image_000000057.txt (deflated 49%)
  adding: content/labels/test/image_000001395.txt (deflated 55%)
  adding: content/labels/test/image_000000259.txt (deflated 21%)
  adding: content/labels/test/image_000000841.txt (deflated 56%)
  adding: content/labels/test/image_000000769.txt (deflated 21%)
  adding: content/labels/test/image_000000305.txt (deflated 55%)
  adding: content/labels/test/image_000000621.txt (deflated 66%)
  adding: content/labels/test/image_000001021.txt (deflated 51%)
  adding: content/labels/test/image_000001851.txt (deflated 35%)
  adding: content/labels/test/image_000001837.txt (deflated 41%)
  adding: content/labels/test/image_000001810.txt (deflated 49%)
  adding: content/labels/test/image_000000048.txt (deflated 59%)
  adding: content/labels/test/image_000001869.txt (deflated 55%)
  adding: content/labels/test/image_000001923.txt (deflated 49%)
  adding: content/labels/test/image_000001173.txt (deflated 56%)
  adding: content/labels/test/image_000001118.txt (deflated 56%)
  adding: content/labels/test/image_000001205.txt (deflated 21%)
  adding: content/labels/test/image_000000953.txt (deflated 55%)
  adding: content/labels/test/image_000001223.txt (deflated 32%)
  adding: content/labels/test/image_000000675.txt (deflated 35%)
  adding: content/labels/test/image_000001957.txt (deflated 29%)
  adding: content/labels/test/image_000002006.txt (deflated 62%)
  adding: content/labels/test/image_000001081.txt (deflated 51%)
  adding: content/labels/test/image_000001770.txt (deflated 35%)
  adding: content/labels/test/image_000000193.txt (deflated 52%)
  adding: content/labels/test/image_000001760.txt (deflated 52%)
  adding: content/labels/test/image_000000298.txt (deflated 53%)
  adding: content/labels/test/image_000002177.txt (deflated 55%)
  adding: content/labels/test/image_000001833.txt (deflated 32%)
  adding: content/labels/test/image_000001725.txt (deflated 32%)
  adding: content/labels/test/image_000000342.txt (deflated 35%)
  adding: content/labels/test/image_000001792.txt (deflated 47%)
  adding: content/labels/test/image_000001490.txt (deflated 57%)
  adding: content/labels/test/image_000001074.txt (deflated 59%)
  adding: content/labels/test/image_000001331.txt (deflated 41%)
  adding: content/labels/test/image_000001430.txt (deflated 63%)
  adding: content/labels/test/image_000000680.txt (deflated 61%)
  adding: content/labels/test/image_000001624.txt (deflated 17%)
  adding: content/labels/test/image_000001608.txt (deflated 57%)
  adding: content/labels/test/image_000001844.txt (deflated 31%)
  adding: content/labels/test/image_000002002.txt (deflated 59%)
  adding: content/labels/test/image_000002186.txt (deflated 21%)
  adding: content/labels/test/image_000001859.txt (deflated 39%)
  adding: content/labels/test/image_000000397.txt (deflated 55%)
  adding: content/labels/test/image_000000481.txt (deflated 50%)
  adding: content/labels/test/image_000002082.txt (deflated 45%)
  adding: content/labels/test/image_000001720.txt (deflated 52%)
  adding: content/labels/test/image_000000895.txt (deflated 25%)
  adding: content/labels/test/image_000000330.txt (deflated 49%)
  adding: content/labels/test/image_000001733.txt (deflated 48%)
  adding: content/labels/test/image_000000672.txt (deflated 65%)
  adding: content/labels/test/image_000000201.txt (deflated 45%)
  adding: content/labels/test/image_000001214.txt (deflated 23%)
  adding: content/labels/test/image_000001091.txt (deflated 50%)
  adding: content/labels/test/image_000001818.txt (deflated 19%)
  adding: content/labels/test/image_000002181.txt (deflated 48%)
  adding: content/labels/test/image_000001547.txt (deflated 39%)
  adding: content/labels/test/image_000001419.txt (deflated 27%)
  adding: content/labels/test/image_000000538.txt (deflated 57%)
  adding: content/labels/test/image_000001916.txt (deflated 21%)
  adding: content/labels/test/image_000000373.txt (deflated 46%)
  adding: content/labels/test/image_000001481.txt (deflated 56%)
  adding: content/labels/test/image_000000919.txt (deflated 50%)
  adding: content/labels/test/image_000000007.txt (deflated 48%)
  adding: content/labels/test/image_000000994.txt (deflated 21%)
  adding: content/labels/test/image_000001465.txt (deflated 48%)
  adding: content/labels/test/image_000000586.txt (deflated 57%)
  adding: content/labels/test/image_000000821.txt (deflated 56%)
  adding: content/labels/test/image_000001956.txt (deflated 49%)
  adding: content/labels/test/image_000000559.txt (deflated 41%)
  adding: content/labels/test/image_000001104.txt (deflated 55%)
  adding: content/labels/test/image_000000613.txt (deflated 49%)
  adding: content/labels/test/image_000000526.txt (deflated 58%)
  adding: content/labels/test/image_000002032.txt (deflated 46%)
  adding: content/labels/test/image_000000761.txt (deflated 57%)
  adding: content/labels/test/image_000001795.txt (deflated 38%)
  adding: content/labels/test/image_000001653.txt (deflated 39%)
  adding: content/labels/test/image_000000433.txt (deflated 47%)
  adding: content/labels/test/image_000001913.txt (deflated 58%)
  adding: content/labels/test/image_000002187.txt (deflated 53%)
  adding: content/labels/test/image_000000561.txt (deflated 57%)
  adding: content/labels/test/image_000001919.txt (deflated 51%)
  adding: content/labels/test/image_000001797.txt (deflated 31%)
  adding: content/labels/test/image_000000629.txt (deflated 46%)
  adding: content/labels/test/image_000000704.txt (deflated 32%)
  adding: content/labels/test/image_000001231.txt (deflated 59%)
  adding: content/labels/test/image_000000041.txt (deflated 60%)
  adding: content/labels/test/image_000002098.txt (deflated 51%)
  adding: content/labels/test/image_000000286.txt (deflated 43%)
  adding: content/labels/test/image_000000276.txt (deflated 35%)
  adding: content/labels/test/image_000001847.txt (deflated 54%)
  adding: content/labels/test/image_000000443.txt (deflated 63%)
  adding: content/labels/test/image_000001589.txt (deflated 48%)
  adding: content/labels/test/image_000000558.txt (deflated 39%)
  adding: content/labels/test/image_000001794.txt (deflated 33%)
  adding: content/labels/test/image_000002114.txt (deflated 32%)
  adding: content/labels/test/image_000000670.txt (deflated 56%)
  adding: content/labels/test/image_000000978.txt (deflated 54%)
  adding: content/labels/test/image_000001703.txt (deflated 56%)
  adding: content/labels/test/image_000001854.txt (deflated 35%)
  adding: content/labels/test/image_000000364.txt (deflated 46%)
  adding: content/labels/test/image_000000593.txt (deflated 56%)
  adding: content/labels/test/image_000001129.txt (deflated 54%)
  adding: content/labels/test/image_000001618.txt (deflated 60%)
  adding: content/labels/test/image_000000731.txt (deflated 45%)
  adding: content/labels/test/image_000000635.txt (deflated 35%)
  adding: content/labels/test/image_000000049.txt (deflated 21%)
  adding: content/labels/test/image_000002048.txt (deflated 57%)
  adding: content/labels/test/image_000002021.txt (deflated 21%)
  adding: content/labels/test/image_000001040.txt (deflated 47%)
  adding: content/labels/test/image_000001812.txt (deflated 50%)
  adding: content/labels/test/image_000000663.txt (deflated 47%)
  adding: content/labels/test/image_000000004.txt (deflated 21%)
  adding: content/labels/test/image_000000237.txt (deflated 27%)
  adding: content/labels/test/image_000001164.txt (deflated 36%)
  adding: content/labels/test/image_000000949.txt (deflated 65%)
  adding: content/labels/test/image_000000791.txt (deflated 60%)
  adding: content/labels/test/image_000001497.txt (deflated 35%)
  adding: content/labels/test/image_000001227.txt (deflated 33%)
  adding: content/labels/test/image_000001596.txt (deflated 58%)
  adding: content/labels/test/image_000002221.txt (deflated 52%)
  adding: content/labels/test/image_000001350.txt (deflated 40%)
  adding: content/labels/test/image_000001823.txt (deflated 51%)
  adding: content/labels/test/image_000000780.txt (deflated 50%)
  adding: content/labels/test/image_000000702.txt (deflated 51%)
  adding: content/labels/test/image_000000187.txt (deflated 56%)
  adding: content/labels/test/image_000002024.txt (deflated 23%)
  adding: content/labels/test/image_000000620.txt (deflated 44%)
  adding: content/labels/test/image_000000764.txt (deflated 56%)
  adding: content/labels/test/image_000001932.txt (deflated 46%)
  adding: content/labels/test/image_000001046.txt (deflated 53%)
  adding: content/labels/test/image_000002059.txt (deflated 63%)
  adding: content/labels/test/image_000000496.txt (deflated 35%)
  adding: content/labels/test/image_000000426.txt (deflated 59%)
  adding: content/labels/test/image_000001038.txt (deflated 53%)
  adding: content/labels/test/image_000002216.txt (deflated 49%)
  adding: content/labels/test/image_000001319.txt (deflated 21%)
  adding: content/labels/test/image_000000794.txt (deflated 47%)
  adding: content/labels/test/image_000002212.txt (deflated 52%)
  adding: content/labels/test/image_000001457.txt (deflated 41%)
  adding: content/labels/test/image_000001275.txt (deflated 57%)
  adding: content/labels/test/image_000000564.txt (deflated 51%)
  adding: content/labels/test/image_000001587.txt (deflated 29%)
  adding: content/labels/test/image_000001005.txt (deflated 23%)
  adding: content/labels/test/image_000000645.txt (deflated 57%)
  adding: content/labels/test/image_000001001.txt (deflated 62%)
  adding: content/labels/test/image_000000440.txt (deflated 60%)
  adding: content/labels/test/image_000000112.txt (deflated 46%)
  adding: content/labels/test/image_000000232.txt (deflated 19%)
  adding: content/labels/test/image_000001876.txt (deflated 48%)
  adding: content/labels/test/image_000000847.txt (deflated 60%)
  adding: content/labels/test/image_000000554.txt (deflated 23%)
  adding: content/labels/test/image_000001335.txt (deflated 62%)
  adding: content/labels/test/image_000001374.txt (deflated 44%)
  adding: content/labels/test/image_000001546.txt (deflated 52%)
  adding: content/labels/test/image_000000703.txt (deflated 21%)
  adding: content/labels/test/image_000002106.txt (deflated 57%)
  adding: content/labels/test/image_000000103.txt (deflated 38%)
  adding: content/labels/test/image_000001184.txt (deflated 66%)
  adding: content/labels/test/image_000000352.txt (deflated 58%)
  adding: content/labels/test/image_000001172.txt (deflated 60%)
  adding: content/labels/test/image_000001951.txt (deflated 48%)
  adding: content/labels/test/image_000000762.txt (deflated 45%)
  adding: content/labels/test/image_000000162.txt (deflated 45%)
  adding: content/labels/test/image_000001484.txt (deflated 60%)
  adding: content/labels/test/image_000002057.txt (deflated 19%)
  adding: content/labels/test/image_000000997.txt (deflated 49%)
  adding: content/labels/test/image_000000835.txt (deflated 57%)
  adding: content/labels/test/image_000000903.txt (deflated 21%)
  adding: content/labels/test/image_000001241.txt (deflated 46%)
  adding: content/labels/test/image_000000987.txt (deflated 58%)
  adding: content/labels/test/image_000001336.txt (deflated 25%)
  adding: content/labels/test/image_000001345.txt (deflated 38%)
  adding: content/labels/test/image_000001843.txt (deflated 61%)
  adding: content/labels/test/image_000000269.txt (deflated 51%)
  adding: content/labels/test/image_000001148.txt (deflated 31%)
  adding: content/labels/test/image_000001862.txt (deflated 60%)
  adding: content/labels/test/image_000001912.txt (deflated 39%)
  adding: content/labels/test/image_000001482.txt (deflated 54%)
  adding: content/labels/test/image_000001119.txt (deflated 51%)
  adding: content/labels/test/image_000001772.txt (deflated 52%)
  adding: content/labels/test/image_000001045.txt (deflated 55%)
  adding: content/labels/test/image_000001722.txt (deflated 55%)
  adding: content/labels/test/image_000000937.txt (deflated 60%)
  adding: content/labels/test/image_000000694.txt (deflated 56%)
  adding: content/labels/val/ (stored 0%)
  adding: content/labels/val/image_000000486.txt (deflated 55%)
  adding: content/labels/val/image_000000448.txt (deflated 31%)
  adding: content/labels/val/image_000000224.txt (deflated 61%)
  adding: content/labels/val/image_000002170.txt (deflated 62%)
  adding: content/labels/val/image_000000577.txt (deflated 33%)
  adding: content/labels/val/image_000000207.txt (deflated 31%)
  adding: content/labels/val/image_000000336.txt (deflated 56%)
  adding: content/labels/val/image_000001177.txt (deflated 51%)
  adding: content/labels/val/image_000000018.txt (deflated 53%)
  adding: content/labels/val/image_000000025.txt (deflated 47%)
  adding: content/labels/val/image_000001389.txt (deflated 45%)
  adding: content/labels/val/image_000001458.txt (deflated 45%)
  adding: content/labels/val/image_000000855.txt (deflated 52%)
  adding: content/labels/val/image_000001995.txt (deflated 56%)
  adding: content/labels/val/image_000000178.txt (deflated 29%)
  adding: content/labels/val/image_000001987.txt (deflated 41%)
  adding: content/labels/val/image_000000304.txt (deflated 23%)
  adding: content/labels/val/image_000001447.txt (deflated 62%)
  adding: content/labels/val/image_000000195.txt (deflated 61%)
  adding: content/labels/val/image_000000814.txt (deflated 53%)
  adding: content/labels/val/image_000000230.txt (deflated 38%)
  adding: content/labels/val/image_000000803.txt (deflated 25%)
  adding: content/labels/val/image_000001368.txt (deflated 35%)
  adding: content/labels/val/image_000000896.txt (deflated 21%)
  adding: content/labels/val/image_000000429.txt (deflated 58%)
  adding: content/labels/val/image_000001897.txt (deflated 33%)
  adding: content/labels/val/image_000001927.txt (deflated 45%)
  adding: content/labels/val/image_000001110.txt (deflated 52%)
  adding: content/labels/val/image_000000727.txt (deflated 50%)
  adding: content/labels/val/image_000000859.txt (deflated 39%)
  adding: content/labels/val/image_000002051.txt (deflated 21%)
  adding: content/labels/val/image_000000829.txt (deflated 49%)
  adding: content/labels/val/image_000001213.txt (deflated 37%)
  adding: content/labels/val/image_000000971.txt (deflated 56%)
  adding: content/labels/val/image_000000986.txt (deflated 64%)
  adding: content/labels/val/image_000000242.txt (deflated 58%)
  adding: content/labels/val/image_000000121.txt (deflated 41%)
  adding: content/labels/val/image_000000422.txt (deflated 33%)
  adding: content/labels/val/image_000001960.txt (deflated 57%)
  adding: content/labels/val/image_000000779.txt (deflated 23%)
  adding: content/labels/val/image_000002053.txt (deflated 52%)
  adding: content/labels/val/image_000000509.txt (deflated 21%)
  adding: content/labels/val/image_000001976.txt (deflated 60%)
  adding: content/labels/val/image_000001018.txt (deflated 56%)
  adding: content/labels/val/image_000001471.txt (deflated 56%)
  adding: content/labels/val/image_000000822.txt (deflated 40%)
  adding: content/labels/val/image_000000926.txt (deflated 23%)
  adding: content/labels/val/image_000000390.txt (deflated 69%)
  adding: content/labels/val/image_000001918.txt (deflated 53%)
  adding: content/labels/val/image_000001264.txt (deflated 29%)
  adding: content/labels/val/image_000001160.txt (deflated 50%)
  adding: content/labels/val/image_000000009.txt (deflated 43%)
  adding: content/labels/val/image_000001403.txt (deflated 55%)
  adding: content/labels/val/image_000001133.txt (deflated 56%)
  adding: content/labels/val/image_000001865.txt (deflated 47%)
  adding: content/labels/val/image_000001766.txt (deflated 40%)
  adding: content/labels/val/image_000002085.txt (deflated 53%)
  adding: content/labels/val/image_000001267.txt (deflated 44%)
  adding: content/labels/val/image_000001247.txt (deflated 51%)
  adding: content/labels/val/image_000000227.txt (deflated 50%)
  adding: content/labels/val/image_000001197.txt (deflated 35%)
  adding: content/labels/val/image_000000514.txt (deflated 64%)
  adding: content/labels/val/image_000001997.txt (deflated 44%)
  adding: content/labels/val/image_000002182.txt (deflated 64%)
  adding: content/labels/val/image_000000587.txt (deflated 45%)
  adding: content/labels/val/image_000000135.txt (deflated 59%)
  adding: content/labels/val/image_000000415.txt (deflated 49%)
  adding: content/labels/val/image_000000651.txt (deflated 58%)
  adding: content/labels/val/image_000001991.txt (deflated 47%)
  adding: content/labels/val/image_000001232.txt (deflated 21%)
  adding: content/labels/val/image_000000583.txt (deflated 53%)
  adding: content/labels/val/image_000001437.txt (deflated 25%)
  adding: content/labels/val/image_000001727.txt (deflated 51%)
  adding: content/labels/val/image_000000469.txt (deflated 40%)
  adding: content/labels/val/image_000001168.txt (deflated 23%)
  adding: content/labels/val/image_000001911.txt (deflated 49%)
  adding: content/labels/val/image_000000076.txt (deflated 45%)
  adding: content/labels/val/image_000000725.txt (deflated 51%)
  adding: content/labels/val/image_000001416.txt (deflated 56%)
  adding: content/labels/val/image_000000478.txt (deflated 19%)
  adding: content/labels/val/image_000001519.txt (deflated 23%)
  adding: content/labels/val/image_000001476.txt (deflated 32%)
  adding: content/labels/val/image_000000988.txt (deflated 47%)
  adding: content/labels/val/image_000001541.txt (deflated 47%)
  adding: content/labels/val/image_000000371.txt (deflated 56%)
  adding: content/labels/val/image_000001284.txt (deflated 45%)
  adding: content/labels/val/image_000001237.txt (deflated 56%)
  adding: content/labels/val/image_000001564.txt (deflated 56%)
  adding: content/labels/val/image_000000679.txt (deflated 49%)
  adding: content/labels/val/image_000000637.txt (deflated 54%)
  adding: content/labels/val/image_000002209.txt (deflated 21%)
  adding: content/labels/val/image_000000368.txt (deflated 21%)
  adding: content/labels/val/image_000000852.txt (deflated 32%)
  adding: content/labels/val/image_000001290.txt (deflated 51%)
  adding: content/labels/val/image_000000886.txt (deflated 35%)
  adding: content/labels/val/image_000001915.txt (deflated 25%)
  adding: content/labels/val/image_000000973.txt (deflated 35%)
  adding: content/labels/val/image_000001209.txt (deflated 54%)
  adding: content/labels/val/image_000001298.txt (deflated 58%)
  adding: content/labels/val/image_000001222.txt (deflated 61%)
  adding: content/labels/val/image_000001294.txt (deflated 33%)
  adding: content/labels/val/image_000001676.txt (deflated 44%)
  adding: content/labels/val/image_000000786.txt (deflated 27%)
  adding: content/labels/val/image_000001202.txt (deflated 56%)
  adding: content/labels/val/image_000002018.txt (deflated 40%)
  adding: content/labels/val/image_000000108.txt (deflated 39%)
  adding: content/labels/val/image_000000485.txt (deflated 59%)
  adding: content/labels/val/image_000000983.txt (deflated 19%)
  adding: content/labels/val/image_000001028.txt (deflated 57%)
  adding: content/labels/val/image_000001125.txt (deflated 47%)
  adding: content/labels/val/image_000001072.txt (deflated 58%)
  adding: content/labels/val/image_000000573.txt (deflated 33%)
  adding: content/labels/val/image_000000166.txt (deflated 25%)
  adding: content/labels/val/image_000000206.txt (deflated 52%)
  adding: content/labels/val/image_000001088.txt (deflated 19%)
  adding: content/labels/val/image_000001116.txt (deflated 45%)
  adding: content/labels/val/image_000002237.txt (deflated 33%)
  adding: content/labels/val/image_000001658.txt (deflated 35%)
  adding: content/labels/val/image_000001598.txt (deflated 64%)
  adding: content/labels/val/image_000001629.txt (deflated 45%)
  adding: content/labels/val/image_000001878.txt (deflated 53%)
  adding: content/labels/val/image_000000714.txt (deflated 38%)
  adding: content/labels/val/image_000000873.txt (deflated 48%)
  adding: content/labels/val/image_000000655.txt (deflated 45%)
  adding: content/labels/val/image_000000271.txt (deflated 41%)
  adding: content/labels/val/image_000001597.txt (deflated 35%)
  adding: content/labels/val/image_000000588.txt (deflated 56%)
  adding: content/labels/val/image_000002238.txt (deflated 51%)
  adding: content/labels/val/image_000000354.txt (deflated 55%)
  adding: content/labels/val/image_000000419.txt (deflated 49%)
  adding: content/labels/val/image_000001569.txt (deflated 47%)
  adding: content/labels/val/image_000000141.txt (deflated 58%)
  adding: content/labels/val/image_000001984.txt (deflated 31%)
  adding: content/labels/val/image_000002065.txt (deflated 66%)
  adding: content/labels/val/image_000002023.txt (deflated 25%)
  adding: content/labels/val/image_000001656.txt (deflated 45%)
  adding: content/labels/val/image_000001627.txt (deflated 55%)
  adding: content/labels/val/image_000000928.txt (deflated 53%)
  adding: content/labels/val/image_000000170.txt (deflated 57%)
  adding: content/labels/val/image_000000407.txt (deflated 56%)
  adding: content/labels/val/image_000002035.txt (deflated 36%)
  adding: content/labels/val/image_000002068.txt (deflated 45%)
  adding: content/labels/val/image_000001404.txt (deflated 54%)
  adding: content/labels/val/image_000001163.txt (deflated 49%)
  adding: content/labels/val/image_000001124.txt (deflated 31%)
  adding: content/labels/val/image_000001663.txt (deflated 45%)
  adding: content/labels/val/image_000000066.txt (deflated 56%)
  adding: content/labels/val/image_000000120.txt (deflated 35%)
  adding: content/labels/val/image_000002175.txt (deflated 45%)
  adding: content/labels/val/image_000000942.txt (deflated 35%)
  adding: content/labels/val/image_000001683.txt (deflated 60%)
  adding: content/labels/val/image_000001502.txt (deflated 52%)
  adding: content/labels/val/image_000001648.txt (deflated 56%)
  adding: content/labels/val/image_000001253.txt (deflated 39%)
  adding: content/labels/val/image_000000927.txt (deflated 41%)
  adding: content/labels/val/image_000000662.txt (deflated 23%)
  adding: content/labels/val/image_000000511.txt (deflated 45%)
  adding: content/labels/val/image_000000349.txt (deflated 57%)
  adding: content/labels/val/image_000000570.txt (deflated 47%)
  adding: content/labels/val/image_000001848.txt (deflated 50%)
  adding: content/labels/val/image_000001366.txt (deflated 52%)
  adding: content/labels/val/image_000000536.txt (deflated 55%)
  adding: content/labels/val/image_000001383.txt (deflated 52%)
  adding: content/labels/val/image_000001666.txt (deflated 56%)
  adding: content/labels/val/image_000000944.txt (deflated 32%)
  adding: content/labels/val/image_000001012.txt (deflated 44%)
  adding: content/labels/val/image_000000465.txt (deflated 63%)
  adding: content/labels/val/image_000001339.txt (deflated 41%)
  adding: content/labels/val/image_000002139.txt (deflated 57%)
  adding: content/labels/val/image_000000487.txt (deflated 57%)
  adding: content/labels/val/image_000001513.txt (deflated 35%)
  adding: content/labels/val/image_000000960.txt (deflated 27%)
  adding: content/labels/val/image_000000615.txt (deflated 21%)
  adding: content/labels/val/image_000002019.txt (deflated 25%)
  adding: content/labels/val/image_000001903.txt (deflated 43%)
  adding: content/labels/val/image_000000548.txt (deflated 51%)
  adding: content/labels/val/image_000000860.txt (deflated 55%)
  adding: content/labels/val/image_000000681.txt (deflated 59%)
  adding: content/labels/val/image_000000109.txt (deflated 45%)
  adding: content/labels/val/image_000000404.txt (deflated 51%)
  adding: content/labels/val/image_000000698.txt (deflated 55%)
  adding: content/labels/val/image_000001060.txt (deflated 54%)
  adding: content/labels/val/image_000000580.txt (deflated 57%)
  adding: content/labels/val/image_000001145.txt (deflated 54%)
  adding: content/labels/val/image_000000639.txt (deflated 58%)
  adding: content/labels/val/image_000001860.txt (deflated 38%)
  adding: content/labels/val/image_000001657.txt (deflated 41%)
  adding: content/labels/val/image_000001554.txt (deflated 48%)
  adding: content/labels/val/image_000000608.txt (deflated 38%)
  adding: content/labels/val/image_000001526.txt (deflated 31%)
  adding: content/labels/val/image_000000307.txt (deflated 31%)
  adding: content/labels/val/image_000001266.txt (deflated 21%)
  adding: content/labels/val/image_000001925.txt (deflated 59%)
  adding: content/labels/val/image_000001612.txt (deflated 49%)
  adding: content/labels/val/image_000000202.txt (deflated 56%)
  adding: content/labels/val/image_000001906.txt (deflated 41%)
  adding: content/labels/val/image_000002008.txt (deflated 52%)
  adding: content/labels/val/image_000001453.txt (deflated 27%)
  adding: content/labels/val/image_000000077.txt (deflated 46%)
  adding: content/labels/val/image_000001144.txt (deflated 59%)
  adding: content/labels/val/image_000001454.txt (deflated 39%)
  adding: content/labels/val/image_000000445.txt (deflated 39%)
  adding: content/labels/val/image_000001142.txt (deflated 48%)
  adding: content/labels/val/image_000000088.txt (deflated 27%)
  adding: content/labels/val/image_000001413.txt (deflated 21%)
  adding: content/labels/val/image_000001273.txt (deflated 62%)
  adding: content/labels/val/image_000000416.txt (deflated 49%)
  adding: content/labels/val/image_000000920.txt (deflated 25%)
  adding: content/labels/val/image_000001422.txt (deflated 38%)
  adding: content/labels/val/image_000001139.txt (deflated 54%)
  adding: content/labels/val/image_000001943.txt (deflated 58%)
  adding: content/labels/val/image_000001115.txt (deflated 53%)
  adding: content/labels/val/image_000000127.txt (deflated 41%)
  adding: content/labels/val/image_000000616.txt (deflated 55%)
  adding: content/labels/val/image_000002084.txt (deflated 38%)
  adding: content/labels/val/image_000000369.txt (deflated 33%)
  adding: content/labels/val/image_000000196.txt (deflated 47%)
  adding: content/labels/val/image_000002092.txt (deflated 41%)
  adding: content/labels/val/image_000000853.txt (deflated 45%)
  adding: content/labels/val/image_000001308.txt (deflated 49%)
  adding: content/labels/val/image_000002086.txt (deflated 44%)
  adding: content/labels/val/image_000000281.txt (deflated 57%)
  adding: content/labels/val/image_000001080.txt (deflated 57%)
  adding: content/labels/val/image_000001094.txt (deflated 48%)
  adding: content/labels/train/ (stored 0%)
  adding: content/labels/train/image_000002109.txt (deflated 60%)
  adding: content/labels/train/image_000000060.txt (deflated 33%)
  adding: content/labels/train/image_000002220.txt (deflated 55%)
  adding: content/labels/train/image_000000460.txt (deflated 52%)
  adding: content/labels/train/image_000001229.txt (deflated 31%)
  adding: content/labels/train/image_000001297.txt (deflated 46%)
  adding: content/labels/train/image_000000341.txt (deflated 25%)
  adding: content/labels/train/image_000000721.txt (deflated 52%)
  adding: content/labels/train/image_000000132.txt (deflated 40%)
  adding: content/labels/train/image_000001462.txt (deflated 60%)
  adding: content/labels/train/image_000000768.txt (deflated 65%)
  adding: content/labels/train/image_000000129.txt (deflated 58%)
  adding: content/labels/train/image_000001334.txt (deflated 39%)
  adding: content/labels/train/image_000000420.txt (deflated 40%)
  adding: content/labels/train/image_000001664.txt (deflated 45%)
  adding: content/labels/train/image_000001439.txt (deflated 51%)
  adding: content/labels/train/image_000001600.txt (deflated 19%)
  adding: content/labels/train/image_000001195.txt (deflated 51%)
  adding: content/labels/train/image_000001669.txt (deflated 21%)
  adding: content/labels/train/image_000000534.txt (deflated 25%)
  adding: content/labels/train/image_000000171.txt (deflated 52%)
  adding: content/labels/train/image_000001651.txt (deflated 21%)
  adding: content/labels/train/image_000001433.txt (deflated 40%)
  adding: content/labels/train/image_000001216.txt (deflated 55%)
  adding: content/labels/train/image_000000444.txt (deflated 41%)
  adding: content/labels/train/image_000000401.txt (deflated 46%)
  adding: content/labels/train/image_000001003.txt (deflated 33%)
  adding: content/labels/train/image_000000747.txt (deflated 21%)
  adding: content/labels/train/image_000000456.txt (deflated 40%)
  adding: content/labels/train/image_000001043.txt (deflated 49%)
  adding: content/labels/train/image_000001643.txt (deflated 33%)
  adding: content/labels/train/image_000001262.txt (deflated 47%)
  adding: content/labels/train/image_000000329.txt (deflated 57%)
  adding: content/labels/train/image_000002117.txt (deflated 32%)
  adding: content/labels/train/image_000002189.txt (deflated 50%)
  adding: content/labels/train/image_000001352.txt (deflated 33%)
  adding: content/labels/train/image_000001176.txt (deflated 49%)
  adding: content/labels/train/image_000001988.txt (deflated 40%)
  adding: content/labels/train/image_000000223.txt (deflated 51%)
  adding: content/labels/train/image_000000733.txt (deflated 35%)
  adding: content/labels/train/image_000000770.txt (deflated 25%)
  adding: content/labels/train/image_000001570.txt (deflated 40%)
  adding: content/labels/train/image_000001071.txt (deflated 32%)
  adding: content/labels/train/image_000001111.txt (deflated 47%)
  adding: content/labels/train/image_000001034.txt (deflated 41%)
  adding: content/labels/train/image_000000799.txt (deflated 63%)
  adding: content/labels/train/image_000001921.txt (deflated 19%)
  adding: content/labels/train/image_000000950.txt (deflated 32%)
  adding: content/labels/train/image_000000344.txt (deflated 33%)
  adding: content/labels/train/image_000000409.txt (deflated 52%)
  adding: content/labels/train/image_000000843.txt (deflated 51%)
  adding: content/labels/train/image_000000783.txt (deflated 51%)
  adding: content/labels/train/image_000002030.txt (deflated 41%)
  adding: content/labels/train/image_000001543.txt (deflated 49%)
  adding: content/labels/train/image_000000021.txt (deflated 47%)
  adding: content/labels/train/image_000001778.txt (deflated 57%)
  adding: content/labels/train/image_000001697.txt (deflated 53%)
  adding: content/labels/train/image_000001950.txt (deflated 35%)
  adding: content/labels/train/image_000001941.txt (deflated 44%)
  adding: content/labels/train/image_000001440.txt (deflated 60%)
  adding: content/labels/train/image_000001303.txt (deflated 25%)
  adding: content/labels/train/image_000000831.txt (deflated 40%)
  adding: content/labels/train/image_000001162.txt (deflated 40%)
  adding: content/labels/train/image_000000361.txt (deflated 65%)
  adding: content/labels/train/image_000000796.txt (deflated 48%)
  adding: content/labels/train/image_000000458.txt (deflated 60%)
  adding: content/labels/train/image_000001492.txt (deflated 35%)
  adding: content/labels/train/image_000002222.txt (deflated 33%)
  adding: content/labels/train/image_000002151.txt (deflated 39%)
  adding: content/labels/train/image_000000288.txt (deflated 21%)
  adding: content/labels/train/image_000000054.txt (deflated 42%)
  adding: content/labels/train/image_000001838.txt (deflated 54%)
  adding: content/labels/train/image_000000962.txt (deflated 57%)
  adding: content/labels/train/image_000002044.txt (deflated 57%)
  adding: content/labels/train/image_000002191.txt (deflated 40%)
  adding: content/labels/train/image_000000901.txt (deflated 19%)
  adding: content/labels/train/image_000000211.txt (deflated 32%)
  adding: content/labels/train/image_000000147.txt (deflated 48%)
  adding: content/labels/train/image_000000424.txt (deflated 23%)
  adding: content/labels/train/image_000001558.txt (deflated 27%)
  adding: content/labels/train/image_000001710.txt (deflated 35%)
  adding: content/labels/train/image_000000105.txt (deflated 40%)
  adding: content/labels/train/image_000001783.txt (deflated 50%)
  adding: content/labels/train/image_000001963.txt (deflated 58%)
  adding: content/labels/train/image_000001685.txt (deflated 48%)
  adding: content/labels/train/image_000000743.txt (deflated 54%)
  adding: content/labels/train/image_000000126.txt (deflated 54%)
  adding: content/labels/train/image_000000069.txt (deflated 35%)
  adding: content/labels/train/image_000000097.txt (deflated 55%)
  adding: content/labels/train/image_000000096.txt (deflated 45%)
  adding: content/labels/train/image_000000618.txt (deflated 27%)
  adding: content/labels/train/image_000002235.txt (deflated 63%)
  adding: content/labels/train/image_000000220.txt (deflated 33%)
  adding: content/labels/train/image_000001207.txt (deflated 46%)
  adding: content/labels/train/image_000001170.txt (deflated 48%)
  adding: content/labels/train/image_000001969.txt (deflated 57%)
  adding: content/labels/train/image_000000874.txt (deflated 33%)
  adding: content/labels/train/image_000001278.txt (deflated 40%)
  adding: content/labels/train/image_000000723.txt (deflated 31%)
  adding: content/labels/train/image_000002141.txt (deflated 27%)
  adding: content/labels/train/image_000002069.txt (deflated 39%)
  adding: content/labels/train/image_000002131.txt (deflated 59%)
  adding: content/labels/train/image_000001246.txt (deflated 62%)
  adding: content/labels/train/image_000001282.txt (deflated 63%)
  adding: content/labels/train/image_000001386.txt (deflated 21%)
  adding: content/labels/train/image_000001279.txt (deflated 49%)
  adding: content/labels/train/image_000001798.txt (deflated 45%)
  adding: content/labels/train/image_000000250.txt (deflated 32%)
  adding: content/labels/train/image_000001400.txt (deflated 51%)
  adding: content/labels/train/image_000002115.txt (deflated 39%)
  adding: content/labels/train/image_000002180.txt (deflated 23%)
  adding: content/labels/train/image_000000258.txt (deflated 25%)
  adding: content/labels/train/image_000001649.txt (deflated 54%)
  adding: content/labels/train/image_000002026.txt (deflated 54%)
  adding: content/labels/train/image_000000114.txt (deflated 60%)
  adding: content/labels/train/image_000000754.txt (deflated 61%)
  adding: content/labels/train/image_000001405.txt (deflated 21%)
  adding: content/labels/train/image_000000056.txt (deflated 62%)
  adding: content/labels/train/image_000001467.txt (deflated 60%)
  adding: content/labels/train/image_000000776.txt (deflated 40%)
  adding: content/labels/train/image_000000092.txt (deflated 32%)
  adding: content/labels/train/image_000001387.txt (deflated 32%)
  adding: content/labels/train/image_000000343.txt (deflated 62%)
  adding: content/labels/train/image_000001582.txt (deflated 35%)
  adding: content/labels/train/image_000001057.txt (deflated 32%)
  adding: content/labels/train/image_000001970.txt (deflated 62%)
  adding: content/labels/train/image_000000303.txt (deflated 50%)
  adding: content/labels/train/image_000001373.txt (deflated 17%)
  adding: content/labels/train/image_000000717.txt (deflated 53%)
  adding: content/labels/train/image_000002134.txt (deflated 45%)
  adding: content/labels/train/image_000000778.txt (deflated 64%)
  adding: content/labels/train/image_000001327.txt (deflated 51%)
  adding: content/labels/train/image_000000472.txt (deflated 47%)
  adding: content/labels/train/image_000000701.txt (deflated 51%)
  adding: content/labels/train/image_000000566.txt (deflated 45%)
  adding: content/labels/train/image_000001718.txt (deflated 32%)
  adding: content/labels/train/image_000000098.txt (deflated 46%)
  adding: content/labels/train/image_000001749.txt (deflated 21%)
  adding: content/labels/train/image_000000505.txt (deflated 62%)
  adding: content/labels/train/image_000001831.txt (deflated 62%)
  adding: content/labels/train/image_000001699.txt (deflated 60%)
  adding: content/labels/train/image_000001113.txt (deflated 53%)
  adding: content/labels/train/image_000001156.txt (deflated 31%)
  adding: content/labels/train/image_000000788.txt (deflated 23%)
  adding: content/labels/train/image_000001593.txt (deflated 51%)
  adding: content/labels/train/image_000000301.txt (deflated 21%)
  adding: content/labels/train/image_000000091.txt (deflated 19%)
  adding: content/labels/train/image_000000414.txt (deflated 23%)
  adding: content/labels/train/image_000000099.txt (deflated 21%)
  adding: content/labels/train/image_000002088.txt (deflated 23%)
  adding: content/labels/train/image_000000684.txt (deflated 47%)
  adding: content/labels/train/image_000002075.txt (deflated 50%)
  adding: content/labels/train/image_000000503.txt (deflated 50%)
  adding: content/labels/train/image_000000124.txt (deflated 41%)
  adding: content/labels/train/image_000000690.txt (deflated 19%)
  adding: content/labels/train/image_000000882.txt (deflated 32%)
  adding: content/labels/train/image_000000880.txt (deflated 52%)
  adding: content/labels/train/image_000001343.txt (deflated 59%)
  adding: content/labels/train/image_000000175.txt (deflated 53%)
  adding: content/labels/train/image_000001198.txt (deflated 54%)
  adding: content/labels/train/image_000000412.txt (deflated 38%)
  adding: content/labels/train/image_000000918.txt (deflated 49%)
  adding: content/labels/train/image_000000358.txt (deflated 65%)
  adding: content/labels/train/image_000001508.txt (deflated 53%)
  adding: content/labels/train/image_000000325.txt (deflated 41%)
  adding: content/labels/train/image_000000979.txt (deflated 64%)
  adding: content/labels/train/image_000000941.txt (deflated 41%)
  adding: content/labels/train/image_000001706.txt (deflated 54%)
  adding: content/labels/train/image_000000278.txt (deflated 41%)
  adding: content/labels/train/image_000002094.txt (deflated 29%)
  adding: content/labels/train/image_000002130.txt (deflated 39%)
  adding: content/labels/train/image_000001936.txt (deflated 52%)
  adding: content/labels/train/image_000001236.txt (deflated 40%)
  adding: content/labels/train/image_000001026.txt (deflated 39%)
  adding: content/labels/train/image_000000462.txt (deflated 63%)
  adding: content/labels/train/image_000002087.txt (deflated 33%)
  adding: content/labels/train/image_000000687.txt (deflated 25%)
  adding: content/labels/train/image_000000359.txt (deflated 33%)
  adding: content/labels/train/image_000001717.txt (deflated 51%)
  adding: content/labels/train/image_000000334.txt (deflated 47%)
  adding: content/labels/train/image_000001436.txt (deflated 19%)
  adding: content/labels/train/image_000001126.txt (deflated 47%)
  adding: content/labels/train/image_000001324.txt (deflated 57%)
  adding: content/labels/train/image_000002129.txt (deflated 54%)
  adding: content/labels/train/image_000000606.txt (deflated 56%)
  adding: content/labels/train/image_000000395.txt (deflated 53%)
  adding: content/labels/train/image_000000038.txt (deflated 33%)
  adding: content/labels/train/image_000001020.txt (deflated 39%)
  adding: content/labels/train/image_000001791.txt (deflated 48%)
  adding: content/labels/train/image_000002217.txt (deflated 31%)
  adding: content/labels/train/image_000000871.txt (deflated 56%)
  adding: content/labels/train/image_000000631.txt (deflated 32%)
  adding: content/labels/train/image_000000677.txt (deflated 23%)
  adding: content/labels/train/image_000001959.txt (deflated 54%)
  adding: content/labels/train/image_000000410.txt (deflated 56%)
  adding: content/labels/train/image_000000738.txt (deflated 35%)
  adding: content/labels/train/image_000001444.txt (deflated 45%)
  adding: content/labels/train/image_000000161.txt (deflated 55%)
  adding: content/labels/train/image_000000143.txt (deflated 32%)
  adding: content/labels/train/image_000000964.txt (deflated 61%)
  adding: content/labels/train/image_000000205.txt (deflated 44%)
  adding: content/labels/train/image_000002054.txt (deflated 25%)
  adding: content/labels/train/image_000000963.txt (deflated 33%)
  adding: content/labels/train/image_000000885.txt (deflated 56%)
  adding: content/labels/train/image_000001621.txt (deflated 49%)
  adding: content/labels/train/image_000001245.txt (deflated 39%)
  adding: content/labels/train/image_000001073.txt (deflated 49%)
  adding: content/labels/train/image_000000484.txt (deflated 59%)
  adding: content/labels/train/image_000002228.txt (deflated 17%)
  adding: content/labels/train/image_000000434.txt (deflated 58%)
  adding: content/labels/train/image_000001675.txt (deflated 33%)
  adding: content/labels/train/image_000001039.txt (deflated 49%)
  adding: content/labels/train/image_000001694.txt (deflated 55%)
  adding: content/labels/train/image_000000711.txt (deflated 64%)
  adding: content/labels/train/image_000000155.txt (deflated 39%)
  adding: content/labels/train/image_000002090.txt (deflated 46%)
  adding: content/labels/train/image_000000017.txt (deflated 64%)
  adding: content/labels/train/image_000002200.txt (deflated 38%)
  adding: content/labels/train/image_000002121.txt (deflated 21%)
  adding: content/labels/train/image_000002156.txt (deflated 23%)
  adding: content/labels/train/image_000000921.txt (deflated 39%)
  adding: content/labels/train/image_000001773.txt (deflated 45%)
  adding: content/labels/train/image_000002226.txt (deflated 50%)
  adding: content/labels/train/image_000001757.txt (deflated 48%)
  adding: content/labels/train/image_000000607.txt (deflated 23%)
  adding: content/labels/train/image_000001539.txt (deflated 53%)
  adding: content/labels/train/image_000002012.txt (deflated 40%)
  adding: content/labels/train/image_000002056.txt (deflated 46%)
  adding: content/labels/train/image_000000313.txt (deflated 56%)
  adding: content/labels/train/image_000001299.txt (deflated 33%)
  adding: content/labels/train/image_000001468.txt (deflated 45%)
  adding: content/labels/train/image_000001399.txt (deflated 49%)
  adding: content/labels/train/image_000000068.txt (deflated 52%)
  adding: content/labels/train/image_000001159.txt (deflated 44%)
  adding: content/labels/train/image_000000081.txt (deflated 19%)
  adding: content/labels/train/image_000001877.txt (deflated 56%)
  adding: content/labels/train/image_000000851.txt (deflated 55%)
  adding: content/labels/train/image_000001774.txt (deflated 33%)
  adding: content/labels/train/image_000000750.txt (deflated 53%)
  adding: content/labels/train/image_000000408.txt (deflated 29%)
  adding: content/labels/train/image_000001567.txt (deflated 59%)
  adding: content/labels/train/image_000001382.txt (deflated 56%)
  adding: content/labels/train/image_000001257.txt (deflated 33%)
  adding: content/labels/train/image_000000016.txt (deflated 59%)
  adding: content/labels/train/image_000001930.txt (deflated 49%)
  adding: content/labels/train/image_000000957.txt (deflated 27%)
  adding: content/labels/train/image_000001817.txt (deflated 60%)
  adding: content/labels/train/image_000002138.txt (deflated 57%)
  adding: content/labels/train/image_000000244.txt (deflated 52%)
  adding: content/labels/train/image_000002096.txt (deflated 39%)
  adding: content/labels/train/image_000000314.txt (deflated 36%)
  adding: content/labels/train/image_000001354.txt (deflated 62%)
  adding: content/labels/train/image_000001754.txt (deflated 23%)
  adding: content/labels/train/image_000001287.txt (deflated 57%)
  adding: content/labels/train/image_000000174.txt (deflated 60%)
  adding: content/labels/train/image_000000312.txt (deflated 25%)
  adding: content/labels/train/image_000002233.txt (deflated 35%)
  adding: content/labels/train/image_000002001.txt (deflated 17%)
  adding: content/labels/train/image_000000782.txt (deflated 65%)
  adding: content/labels/train/image_000000541.txt (deflated 56%)
  adding: content/labels/train/image_000001316.txt (deflated 25%)
  adding: content/labels/train/image_000001568.txt (deflated 38%)
  adding: content/labels/train/image_000001804.txt (deflated 56%)
  adding: content/labels/train/image_000001189.txt (deflated 42%)
  adding: content/labels/train/image_000000520.txt (deflated 58%)
  adding: content/labels/train/image_000002197.txt (deflated 32%)
  adding: content/labels/train/image_000001786.txt (deflated 63%)
  adding: content/labels/train/image_000001010.txt (deflated 35%)
  adding: content/labels/train/image_000001882.txt (deflated 55%)
  adding: content/labels/train/image_000000804.txt (deflated 41%)
  adding: content/labels/train/image_000000297.txt (deflated 49%)
  adding: content/labels/train/image_000000229.txt (deflated 23%)
  adding: content/labels/train/image_000001758.txt (deflated 59%)
  adding: content/labels/train/image_000001076.txt (deflated 23%)
  adding: content/labels/train/image_000000809.txt (deflated 36%)
  adding: content/labels/train/image_000002013.txt (deflated 40%)
  adding: content/labels/train/image_000001171.txt (deflated 54%)
  adding: content/labels/train/image_000002126.txt (deflated 47%)
  adding: content/labels/train/image_000001696.txt (deflated 37%)
  adding: content/labels/train/image_000000695.txt (deflated 54%)
  adding: content/labels/train/image_000001737.txt (deflated 32%)
  adding: content/labels/train/image_000001304.txt (deflated 49%)
  adding: content/labels/train/image_000000475.txt (deflated 33%)
  adding: content/labels/train/image_000000473.txt (deflated 58%)
  adding: content/labels/train/image_000002014.txt (deflated 46%)
  adding: content/labels/train/image_000001203.txt (deflated 56%)
  adding: content/labels/train/image_000000003.txt (deflated 57%)
  adding: content/labels/train/image_000001942.txt (deflated 49%)
  adding: content/labels/train/image_000000332.txt (deflated 60%)
  adding: content/labels/train/image_000002073.txt (deflated 40%)
  adding: content/labels/train/image_000000545.txt (deflated 21%)
  adding: content/labels/train/image_000001427.txt (deflated 44%)
  adding: content/labels/train/image_000001221.txt (deflated 35%)
  adding: content/labels/train/image_000001041.txt (deflated 51%)
  adding: content/labels/train/image_000001263.txt (deflated 52%)
  adding: content/labels/train/image_000001483.txt (deflated 38%)
  adding: content/labels/train/image_000001586.txt (deflated 45%)
  adding: content/labels/train/image_000001512.txt (deflated 41%)
  adding: content/labels/train/image_000001149.txt (deflated 52%)
  adding: content/labels/train/image_000000990.txt (deflated 47%)
  adding: content/labels/train/image_000000149.txt (deflated 38%)
  adding: content/labels/train/image_000001765.txt (deflated 63%)
  adding: content/labels/train/image_000001577.txt (deflated 62%)
  adding: content/labels/train/image_000000370.txt (deflated 56%)
  adding: content/labels/train/image_000001996.txt (deflated 40%)
  adding: content/labels/train/image_000001698.txt (deflated 23%)
  adding: content/labels/train/image_000000464.txt (deflated 35%)
  adding: content/labels/train/image_000000327.txt (deflated 39%)
  adding: content/labels/train/image_000000194.txt (deflated 68%)
  adding: content/labels/train/image_000002192.txt (deflated 46%)
  adding: content/labels/train/image_000001239.txt (deflated 38%)
  adding: content/labels/train/image_000000290.txt (deflated 65%)
  adding: content/labels/train/image_000000749.txt (deflated 57%)
  adding: content/labels/train/image_000001637.txt (deflated 40%)
  adding: content/labels/train/image_000000510.txt (deflated 60%)
  adding: content/labels/train/image_000001962.txt (deflated 54%)
  adding: content/labels/train/image_000000470.txt (deflated 35%)
  adding: content/labels/train/image_000000455.txt (deflated 58%)
  adding: content/labels/train/image_000001545.txt (deflated 40%)
  adding: content/labels/train/image_000000130.txt (deflated 48%)
  adding: content/labels/train/image_000000993.txt (deflated 35%)
  adding: content/labels/train/image_000002060.txt (deflated 25%)
  adding: content/labels/train/image_000000051.txt (deflated 59%)
  adding: content/labels/train/image_000001435.txt (deflated 49%)
  adding: content/labels/train/image_000001451.txt (deflated 45%)
  adding: content/labels/train/image_000001325.txt (deflated 54%)
  adding: content/labels/train/image_000002224.txt (deflated 51%)
  adding: content/labels/train/image_000002165.txt (deflated 31%)
  adding: content/labels/train/image_000000757.txt (deflated 47%)
  adding: content/labels/train/image_000001420.txt (deflated 38%)
  adding: content/labels/train/image_000000739.txt (deflated 63%)
  adding: content/labels/train/image_000001035.txt (deflated 52%)
  adding: content/labels/train/image_000000204.txt (deflated 33%)
  adding: content/labels/train/image_000001858.txt (deflated 60%)
  adding: content/labels/train/image_000001601.txt (deflated 59%)
  adding: content/labels/train/image_000001364.txt (deflated 54%)
  adding: content/labels/train/image_000001511.txt (deflated 55%)
  adding: content/labels/train/image_000000431.txt (deflated 58%)
  adding: content/labels/train/image_000000214.txt (deflated 23%)
  adding: content/labels/train/image_000000518.txt (deflated 55%)
  adding: content/labels/train/image_000000813.txt (deflated 33%)
  adding: content/labels/train/image_000000318.txt (deflated 61%)
  adding: content/labels/train/image_000001961.txt (deflated 47%)
  adding: content/labels/train/image_000001472.txt (deflated 59%)
  adding: content/labels/train/image_000001099.txt (deflated 48%)
  adding: content/labels/train/image_000000609.txt (deflated 19%)
  adding: content/labels/train/image_000000239.txt (deflated 31%)
  adding: content/labels/train/image_000001947.txt (deflated 41%)
  adding: content/labels/train/image_000000856.txt (deflated 58%)
  adding: content/labels/train/image_000001044.txt (deflated 49%)
  adding: content/labels/train/image_000000845.txt (deflated 33%)
  adding: content/labels/train/image_000000664.txt (deflated 29%)
  adding: content/labels/train/image_000001788.txt (deflated 58%)
  adding: content/labels/train/image_000000781.txt (deflated 43%)
  adding: content/labels/train/image_000002067.txt (deflated 53%)
  adding: content/labels/train/image_000002135.txt (deflated 59%)
  adding: content/labels/train/image_000001418.txt (deflated 47%)
  adding: content/labels/train/image_000001414.txt (deflated 54%)
  adding: content/labels/train/image_000000449.txt (deflated 60%)
  adding: content/labels/train/image_000000666.txt (deflated 45%)
  adding: content/labels/train/image_000001085.txt (deflated 49%)
  adding: content/labels/train/image_000001857.txt (deflated 59%)
  adding: content/labels/train/image_000000010.txt (deflated 32%)
  adding: content/labels/train/image_000001895.txt (deflated 21%)
  adding: content/labels/train/image_000000212.txt (deflated 41%)
  adding: content/labels/train/image_000001642.txt (deflated 21%)
  adding: content/labels/train/image_000001190.txt (deflated 47%)
  adding: content/labels/train/image_000002049.txt (deflated 37%)
  adding: content/labels/train/image_000001901.txt (deflated 55%)
  adding: content/labels/train/image_000001784.txt (deflated 58%)
  adding: content/labels/train/image_000000284.txt (deflated 51%)
  adding: content/labels/train/image_000000024.txt (deflated 60%)
  adding: content/labels/train/image_000001672.txt (deflated 57%)
  adding: content/labels/train/image_000002168.txt (deflated 32%)
  adding: content/labels/train/image_000000001.txt (deflated 39%)
  adding: content/labels/train/image_000001905.txt (deflated 63%)
  adding: content/labels/train/image_000001417.txt (deflated 61%)
  adding: content/labels/train/image_000001136.txt (deflated 49%)
  adding: content/labels/train/image_000000900.txt (deflated 60%)
  adding: content/labels/train/image_000000030.txt (deflated 47%)
  adding: content/labels/train/image_000001820.txt (deflated 59%)
  adding: content/labels/train/image_000000438.txt (deflated 33%)
  adding: content/labels/train/image_000001880.txt (deflated 63%)
  adding: content/labels/train/image_000001875.txt (deflated 52%)
  adding: content/labels/train/image_000000374.txt (deflated 58%)
  adding: content/labels/train/image_000000266.txt (deflated 58%)
  adding: content/labels/train/image_000000634.txt (deflated 62%)
  adding: content/labels/train/image_000002154.txt (deflated 21%)
  adding: content/labels/train/image_000000311.txt (deflated 59%)
  adding: content/labels/train/image_000001816.txt (deflated 50%)
  adding: content/labels/train/image_000001523.txt (deflated 66%)
  adding: content/labels/train/image_000000146.txt (deflated 39%)
  adding: content/labels/train/image_000000959.txt (deflated 21%)
  adding: content/labels/train/image_000001479.txt (deflated 61%)
  adding: content/labels/train/image_000001477.txt (deflated 32%)
  adding: content/labels/train/image_000000736.txt (deflated 21%)
  adding: content/labels/train/image_000002099.txt (deflated 58%)
  adding: content/labels/train/image_000000685.txt (deflated 54%)
  adding: content/labels/train/image_000000450.txt (deflated 27%)
  adding: content/labels/train/image_000000524.txt (deflated 50%)
  adding: content/labels/train/image_000001377.txt (deflated 56%)
  adding: content/labels/train/image_000001346.txt (deflated 55%)
  adding: content/labels/train/image_000001527.txt (deflated 55%)
  adding: content/labels/train/image_000001975.txt (deflated 48%)
  adding: content/labels/train/image_000001835.txt (deflated 23%)
  adding: content/labels/train/image_000000075.txt (deflated 19%)
  adding: content/labels/train/image_000001994.txt (deflated 19%)
  adding: content/labels/train/image_000000428.txt (deflated 48%)
  adding: content/labels/train/image_000000036.txt (deflated 32%)
  adding: content/labels/train/image_000000005.txt (deflated 57%)
  adding: content/labels/train/image_000001410.txt (deflated 62%)
  adding: content/labels/train/image_000001306.txt (deflated 19%)
  adding: content/labels/train/image_000000640.txt (deflated 49%)
  adding: content/labels/train/image_000001611.txt (deflated 23%)
  adding: content/labels/train/image_000000999.txt (deflated 32%)
  adding: content/labels/train/image_000000375.txt (deflated 47%)
  adding: content/labels/train/image_000002071.txt (deflated 58%)
  adding: content/labels/train/image_000000916.txt (deflated 41%)
  adding: content/labels/train/image_000000389.txt (deflated 49%)
  adding: content/labels/train/image_000002083.txt (deflated 59%)
  adding: content/labels/train/image_000001158.txt (deflated 56%)
  adding: content/labels/train/image_000000844.txt (deflated 61%)
  adding: content/labels/train/image_000001068.txt (deflated 49%)
  adding: content/labels/train/image_000001948.txt (deflated 21%)
  adding: content/labels/train/image_000002153.txt (deflated 46%)
  adding: content/labels/train/image_000001743.txt (deflated 41%)
  adding: content/labels/train/image_000000050.txt (deflated 23%)
  adding: content/labels/train/image_000001751.txt (deflated 25%)
  adding: content/labels/train/image_000001079.txt (deflated 25%)
  adding: content/labels/train/image_000001505.txt (deflated 57%)
  adding: content/labels/train/image_000000544.txt (deflated 51%)
  adding: content/labels/train/image_000000893.txt (deflated 60%)
  adding: content/labels/train/image_000001622.txt (deflated 33%)
  adding: content/labels/train/image_000000644.txt (deflated 23%)
  adding: content/labels/train/image_000001613.txt (deflated 32%)
  adding: content/labels/train/image_000001993.txt (deflated 44%)
  adding: content/labels/train/image_000000838.txt (deflated 45%)
  adding: content/labels/train/image_000001141.txt (deflated 65%)
  adding: content/labels/train/image_000000191.txt (deflated 19%)
  adding: content/labels/train/image_000000737.txt (deflated 41%)
  adding: content/labels/train/image_000000320.txt (deflated 31%)
  adding: content/labels/train/image_000002146.txt (deflated 33%)
  adding: content/labels/train/image_000002036.txt (deflated 29%)
  adding: content/labels/train/image_000000093.txt (deflated 51%)
  adding: content/labels/train/image_000000915.txt (deflated 56%)
  adding: content/labels/train/image_000000160.txt (deflated 35%)
  adding: content/labels/train/image_000000501.txt (deflated 55%)
  adding: content/labels/train/image_000001899.txt (deflated 50%)
  adding: content/labels/train/image_000000489.txt (deflated 33%)
  adding: content/labels/train/image_000001496.txt (deflated 65%)
  adding: content/labels/train/image_000001480.txt (deflated 23%)
  adding: content/labels/train/image_000001954.txt (deflated 27%)
  adding: content/labels/train/image_000000793.txt (deflated 59%)
  adding: content/labels/train/image_000001707.txt (deflated 50%)
  adding: content/labels/train/image_000000061.txt (deflated 59%)
  adding: content/labels/train/image_000000353.txt (deflated 33%)
  adding: content/labels/train/image_000000625.txt (deflated 50%)
  adding: content/labels/train/image_000000085.txt (deflated 25%)
  adding: content/labels/train/image_000001192.txt (deflated 52%)
  adding: content/labels/train/image_000001169.txt (deflated 52%)
  adding: content/labels/train/image_000001261.txt (deflated 19%)
  adding: content/labels/train/image_000001559.txt (deflated 55%)
  adding: content/labels/train/image_000001667.txt (deflated 51%)
  adding: content/labels/train/image_000001763.txt (deflated 56%)
  adding: content/labels/train/image_000000568.txt (deflated 47%)
  adding: content/labels/train/image_000001283.txt (deflated 25%)
  adding: content/labels/train/image_000000811.txt (deflated 54%)
  adding: content/labels/train/image_000000849.txt (deflated 33%)
  adding: content/labels/train/image_000000902.txt (deflated 60%)
  adding: content/labels/train/image_000001498.txt (deflated 23%)
  adding: content/labels/train/image_000001077.txt (deflated 50%)
  adding: content/labels/train/image_000000934.txt (deflated 52%)
  adding: content/labels/train/image_000001333.txt (deflated 49%)
  adding: content/labels/train/image_000001602.txt (deflated 51%)
  adding: content/labels/train/image_000001014.txt (deflated 48%)
  adding: content/labels/train/image_000001746.txt (deflated 29%)
  adding: content/labels/train/image_000002009.txt (deflated 47%)
  adding: content/labels/train/image_000001062.txt (deflated 32%)
  adding: content/labels/train/image_000000848.txt (deflated 29%)
  adding: content/labels/train/image_000001322.txt (deflated 33%)
  adding: content/labels/train/image_000001530.txt (deflated 33%)
  adding: content/labels/train/image_000000289.txt (deflated 31%)
  adding: content/labels/train/image_000000699.txt (deflated 35%)
  adding: content/labels/train/image_000001687.txt (deflated 62%)
  adding: content/labels/train/image_000002202.txt (deflated 31%)
  adding: content/labels/train/image_000001665.txt (deflated 25%)
  adding: content/labels/train/image_000001742.txt (deflated 41%)
  adding: content/labels/train/image_000000495.txt (deflated 39%)
  adding: content/labels/train/image_000000692.txt (deflated 55%)
  adding: content/labels/train/image_000000142.txt (deflated 59%)
  adding: content/labels/train/image_000000686.txt (deflated 40%)
  adding: content/labels/train/image_000000058.txt (deflated 57%)
  adding: content/labels/train/image_000000948.txt (deflated 52%)
  adding: content/labels/train/image_000001087.txt (deflated 61%)
  adding: content/labels/train/image_000001535.txt (deflated 52%)
  adding: content/labels/train/image_000000935.txt (deflated 40%)
  adding: content/labels/train/image_000001276.txt (deflated 33%)
  adding: content/labels/train/image_000001469.txt (deflated 49%)
  adding: content/labels/train/image_000002215.txt (deflated 52%)
  adding: content/labels/train/image_000000234.txt (deflated 48%)
  adding: content/labels/train/image_000002058.txt (deflated 27%)
  adding: content/labels/train/image_000000641.txt (deflated 58%)
  adding: content/labels/train/image_000002123.txt (deflated 40%)
  adding: content/labels/train/image_000000453.txt (deflated 35%)
  adding: content/labels/train/image_000001740.txt (deflated 58%)
  adding: content/labels/train/image_000000943.txt (deflated 61%)
  adding: content/labels/train/image_000000152.txt (deflated 31%)
  adding: content/labels/train/image_000000897.txt (deflated 23%)
  adding: content/labels/train/image_000000315.txt (deflated 58%)
  adding: content/labels/train/image_000000365.txt (deflated 33%)
  adding: content/labels/train/image_000000059.txt (deflated 56%)
  adding: content/labels/train/image_000000693.txt (deflated 21%)
  adding: content/labels/train/image_000001806.txt (deflated 60%)
  adding: content/labels/train/image_000001165.txt (deflated 21%)
  adding: content/labels/train/image_000001853.txt (deflated 52%)
  adding: content/labels/train/image_000001249.txt (deflated 38%)
  adding: content/labels/train/image_000001233.txt (deflated 56%)
  adding: content/labels/train/image_000000742.txt (deflated 53%)
  adding: content/labels/train/image_000000360.txt (deflated 52%)
  adding: content/labels/train/image_000000283.txt (deflated 52%)
  adding: content/labels/train/image_000000931.txt (deflated 35%)
  adding: content/labels/train/image_000001626.txt (deflated 40%)
  adding: content/labels/train/image_000000351.txt (deflated 45%)
  adding: content/labels/train/image_000001344.txt (deflated 39%)
  adding: content/labels/train/image_000000599.txt (deflated 35%)
  adding: content/labels/train/image_000000837.txt (deflated 55%)
  adding: content/labels/train/image_000000441.txt (deflated 35%)
  adding: content/labels/train/image_000000491.txt (deflated 48%)
  adding: content/labels/train/image_000001131.txt (deflated 49%)
  adding: content/labels/train/image_000000517.txt (deflated 44%)
  adding: content/labels/train/image_000001614.txt (deflated 21%)
  adding: content/labels/train/image_000000463.txt (deflated 31%)
  adding: content/labels/train/image_000001768.txt (deflated 36%)
  adding: content/labels/train/image_000001015.txt (deflated 39%)
  adding: content/labels/train/image_000001086.txt (deflated 48%)
  adding: content/labels/train/image_000001713.txt (deflated 35%)
  adding: content/labels/train/image_000000107.txt (deflated 55%)
  adding: content/labels/train/image_000000512.txt (deflated 57%)
  adding: content/labels/train/image_000002034.txt (deflated 19%)
  adding: content/labels/train/image_000000019.txt (deflated 60%)
  adding: content/labels/train/image_000001986.txt (deflated 60%)
  adding: content/labels/train/image_000001585.txt (deflated 45%)
  adding: content/labels/train/image_000000547.txt (deflated 33%)
  adding: content/labels/train/image_000001907.txt (deflated 45%)
  adding: content/labels/train/image_000000632.txt (deflated 39%)
  adding: content/labels/train/image_000002150.txt (deflated 58%)
  adding: content/labels/train/image_000000080.txt (deflated 60%)
  adding: content/labels/train/image_000001432.txt (deflated 62%)
  adding: content/labels/train/image_000000669.txt (deflated 38%)
  adding: content/labels/train/image_000000430.txt (deflated 21%)
  adding: content/labels/train/image_000001106.txt (deflated 56%)
  adding: content/labels/train/image_000000282.txt (deflated 33%)
  adding: content/labels/train/image_000001953.txt (deflated 41%)
  adding: content/labels/train/image_000000861.txt (deflated 21%)
  adding: content/labels/train/image_000000396.txt (deflated 44%)
  adding: content/labels/train/image_000001659.txt (deflated 53%)
  adding: content/labels/train/image_000000447.txt (deflated 45%)
  adding: content/labels/train/image_000001406.txt (deflated 47%)
  adding: content/labels/train/image_000001174.txt (deflated 58%)
  adding: content/labels/train/image_000000157.txt (deflated 59%)
  adding: content/labels/train/image_000000562.txt (deflated 32%)
  adding: content/labels/train/image_000002229.txt (deflated 21%)
  adding: content/labels/train/image_000000192.txt (deflated 32%)
  adding: content/labels/train/image_000000647.txt (deflated 54%)
  adding: content/labels/train/image_000001210.txt (deflated 39%)
  adding: content/labels/train/image_000000968.txt (deflated 51%)
  adding: content/labels/train/image_000001485.txt (deflated 60%)
  adding: content/labels/train/image_000000965.txt (deflated 56%)
  adding: content/labels/train/image_000002230.txt (deflated 58%)
  adding: content/labels/train/image_000001756.txt (deflated 21%)
  adding: content/labels/train/image_000000904.txt (deflated 41%)
  adding: content/labels/train/image_000000413.txt (deflated 54%)
  adding: content/labels/train/image_000002158.txt (deflated 41%)
  adding: content/labels/train/image_000001605.txt (deflated 35%)
  adding: content/labels/train/image_000000876.txt (deflated 49%)
  adding: content/labels/train/image_000002124.txt (deflated 59%)
  adding: content/labels/train/image_000001640.txt (deflated 59%)
  adding: content/labels/train/image_000000198.txt (deflated 32%)
  adding: content/labels/train/image_000000388.txt (deflated 33%)
  adding: content/labels/train/image_000000830.txt (deflated 52%)
  adding: content/labels/train/image_000000683.txt (deflated 61%)
  adding: content/labels/train/image_000000479.txt (deflated 55%)
  adding: content/labels/train/image_000001584.txt (deflated 32%)
  adding: content/labels/train/image_000001423.txt (deflated 21%)
  adding: content/labels/train/image_000002128.txt (deflated 51%)
  adding: content/labels/train/image_000001579.txt (deflated 51%)
  adding: content/labels/train/image_000001452.txt (deflated 47%)
  adding: content/labels/train/image_000000055.txt (deflated 57%)
  adding: content/labels/train/image_000002041.txt (deflated 51%)
  adding: content/labels/train/image_000000975.txt (deflated 49%)
  adding: content/labels/train/image_000000671.txt (deflated 45%)
  adding: content/labels/train/image_000000350.txt (deflated 51%)
  adding: content/labels/train/image_000000136.txt (deflated 60%)
  adding: content/labels/train/image_000001914.txt (deflated 59%)
  adding: content/labels/train/image_000001753.txt (deflated 39%)
  adding: content/labels/train/image_000001123.txt (deflated 25%)
  adding: content/labels/train/image_000000384.txt (deflated 33%)
  adding: content/labels/train/image_000001856.txt (deflated 40%)
  adding: content/labels/train/image_000002091.txt (deflated 31%)
  adding: content/labels/train/image_000000866.txt (deflated 61%)
  adding: content/labels/train/image_000000715.txt (deflated 40%)
  adding: content/labels/train/image_000000324.txt (deflated 45%)
  adding: content/labels/train/image_000000118.txt (deflated 35%)
  adding: content/labels/train/image_000001260.txt (deflated 54%)
  adding: content/labels/train/image_000001879.txt (deflated 56%)
  adding: content/labels/train/image_000002107.txt (deflated 35%)
  adding: content/labels/train/image_000002147.txt (deflated 31%)
  adding: content/labels/train/image_000002038.txt (deflated 21%)
  adding: content/labels/train/image_000002201.txt (deflated 29%)
  adding: content/labels/train/image_000002205.txt (deflated 33%)
  adding: content/labels/train/image_000001550.txt (deflated 58%)
  adding: content/labels/train/image_000001194.txt (deflated 53%)
  adding: content/labels/train/image_000000265.txt (deflated 59%)
  adding: content/labels/train/image_000000321.txt (deflated 58%)
  adding: content/labels/train/image_000001736.txt (deflated 44%)
  adding: content/labels/train/image_000000592.txt (deflated 21%)
  adding: content/labels/train/image_000001864.txt (deflated 58%)
  adding: content/labels/train/image_000001828.txt (deflated 54%)
  adding: content/labels/train/image_000001762.txt (deflated 48%)
  adding: content/labels/train/image_000000719.txt (deflated 51%)
  adding: content/labels/train/image_000000494.txt (deflated 59%)
  adding: content/labels/train/image_000001166.txt (deflated 40%)
  adding: content/labels/train/image_000001731.txt (deflated 38%)
  adding: content/labels/train/image_000001353.txt (deflated 41%)
  adding: content/labels/train/image_000000148.txt (deflated 49%)
  adding: content/labels/train/image_000001890.txt (deflated 31%)
  adding: content/labels/train/image_000001693.txt (deflated 49%)
  adding: content/labels/train/image_000001678.txt (deflated 48%)
  adding: content/labels/train/image_000001146.txt (deflated 56%)
  adding: content/labels/train/image_000000756.txt (deflated 63%)
  adding: content/labels/train/image_000001358.txt (deflated 38%)
  adding: content/labels/train/image_000001056.txt (deflated 53%)
  adding: content/labels/train/image_000002062.txt (deflated 45%)
  adding: content/labels/train/image_000000164.txt (deflated 32%)
  adding: content/labels/train/image_000001321.txt (deflated 23%)
  adding: content/labels/train/image_000000789.txt (deflated 51%)
  adding: content/labels/train/image_000001712.txt (deflated 35%)
  adding: content/labels/train/image_000001455.txt (deflated 58%)
  adding: content/labels/train/image_000001201.txt (deflated 25%)
  adding: content/labels/train/image_000001968.txt (deflated 21%)
  adding: content/labels/train/image_000000569.txt (deflated 54%)
  adding: content/labels/train/image_000000172.txt (deflated 60%)
  adding: content/labels/train/image_000001314.txt (deflated 33%)
  adding: content/labels/train/image_000000575.txt (deflated 45%)
  adding: content/labels/train/image_000001668.txt (deflated 61%)
  adding: content/labels/train/image_000001935.txt (deflated 29%)
  adding: content/labels/train/image_000000989.txt (deflated 23%)
  adding: content/labels/train/image_000001032.txt (deflated 64%)
  adding: content/labels/train/image_000002171.txt (deflated 32%)
  adding: content/labels/train/image_000002166.txt (deflated 46%)
  adding: content/labels/train/image_000001092.txt (deflated 23%)
  adding: content/labels/train/image_000001478.txt (deflated 40%)
  adding: content/labels/train/image_000001825.txt (deflated 57%)
  adding: content/labels/train/image_000001937.txt (deflated 45%)
  adding: content/labels/train/image_000001140.txt (deflated 39%)
  adding: content/labels/train/image_000000890.txt (deflated 61%)
  adding: content/labels/train/image_000000123.txt (deflated 60%)
  adding: content/labels/train/image_000001103.txt (deflated 51%)
  adding: content/labels/train/image_000000720.txt (deflated 44%)
  adding: content/labels/train/image_000001281.txt (deflated 51%)
  adding: content/labels/train/image_000001517.txt (deflated 47%)
  adding: content/labels/train/image_000000065.txt (deflated 62%)
  adding: content/labels/train/image_000001528.txt (deflated 49%)
  adding: content/labels/train/image_000001109.txt (deflated 31%)
  adding: content/labels/train/image_000001655.txt (deflated 56%)
  adding: content/labels/train/image_000001270.txt (deflated 57%)
  adding: content/labels/train/image_000000122.txt (deflated 53%)
  adding: content/labels/train/image_000000260.txt (deflated 64%)
  adding: content/labels/train/image_000001007.txt (deflated 56%)
  adding: content/labels/train/image_000001966.txt (deflated 33%)
  adding: content/labels/train/image_000000002.txt (deflated 33%)
  adding: content/labels/train/image_000000267.txt (deflated 64%)
  adding: content/labels/train/image_000000955.txt (deflated 49%)
  adding: content/labels/train/image_000000043.txt (deflated 62%)
  adding: content/labels/train/image_000002074.txt (deflated 49%)
  adding: content/labels/train/image_000001313.txt (deflated 25%)
  adding: content/labels/train/image_000000797.txt (deflated 50%)
  adding: content/labels/train/image_000001566.txt (deflated 25%)
  adding: content/labels/train/image_000002076.txt (deflated 33%)
  adding: content/labels/train/image_000000180.txt (deflated 23%)
  adding: content/labels/train/image_000000032.txt (deflated 61%)
  adding: content/labels/train/image_000001520.txt (deflated 59%)
  adding: content/labels/train/image_000000969.txt (deflated 38%)
  adding: content/labels/train/image_000001063.txt (deflated 52%)
  adding: content/labels/train/image_000000432.txt (deflated 63%)
  adding: content/labels/train/image_000001557.txt (deflated 19%)
  adding: content/labels/train/image_000000257.txt (deflated 61%)
  adding: content/labels/train/image_000001407.txt (deflated 51%)
  adding: content/labels/train/image_000000582.txt (deflated 56%)
  adding: content/labels/train/image_000002007.txt (deflated 56%)
  adding: content/labels/train/image_000001801.txt (deflated 62%)
  adding: content/labels/train/image_000000710.txt (deflated 47%)
  adding: content/labels/train/image_000000709.txt (deflated 53%)
  adding: content/labels/train/image_000000889.txt (deflated 45%)
  adding: content/labels/train/image_000001398.txt (deflated 57%)
  adding: content/labels/train/image_000001330.txt (deflated 63%)
  adding: content/labels/train/image_000001186.txt (deflated 38%)
  adding: content/labels/train/image_000001896.txt (deflated 63%)
  adding: content/labels/train/image_000001680.txt (deflated 49%)
  adding: content/labels/train/image_000001310.txt (deflated 31%)
  adding: content/labels/train/image_000000974.txt (deflated 33%)
  adding: content/labels/train/image_000001212.txt (deflated 44%)
  adding: content/labels/train/image_000000279.txt (deflated 53%)
  adding: content/labels/train/image_000001182.txt (deflated 58%)
  adding: content/labels/train/image_000001305.txt (deflated 51%)
  adding: content/labels/train/image_000000696.txt (deflated 62%)
  adding: content/labels/train/image_000000925.txt (deflated 29%)
  adding: content/labels/train/image_000000270.txt (deflated 58%)
  adding: content/labels/train/image_000001208.txt (deflated 40%)
  adding: content/labels/train/image_000000492.txt (deflated 43%)
  adding: content/labels/train/image_000002211.txt (deflated 33%)
  adding: content/labels/train/image_000001181.txt (deflated 63%)
  adding: content/labels/train/image_000000044.txt (deflated 49%)
  adding: content/labels/train/image_000001425.txt (deflated 29%)
  adding: content/labels/train/image_000002142.txt (deflated 35%)
  adding: content/labels/train/image_000001863.txt (deflated 65%)
  adding: content/labels/train/image_000002179.txt (deflated 41%)
  adding: content/labels/train/image_000000691.txt (deflated 21%)
  adding: content/labels/train/image_000002046.txt (deflated 53%)
  adding: content/labels/train/image_000002111.txt (deflated 45%)
  adding: content/labels/train/image_000002011.txt (deflated 38%)
  adding: content/labels/train/image_000000246.txt (deflated 49%)
  adding: content/labels/train/image_000001775.txt (deflated 32%)
  adding: content/labels/train/image_000000216.txt (deflated 19%)
  adding: content/labels/train/image_000001852.txt (deflated 40%)
  adding: content/labels/train/image_000000177.txt (deflated 25%)
  adding: content/labels/train/image_000002112.txt (deflated 46%)
  adding: content/labels/train/image_000001978.txt (deflated 33%)
  adding: content/labels/train/image_000000887.txt (deflated 33%)
  adding: content/labels/train/image_000000898.txt (deflated 48%)
  adding: content/labels/train/image_000000226.txt (deflated 41%)
  adding: content/labels/train/image_000001999.txt (deflated 19%)
  adding: content/labels/train/image_000001591.txt (deflated 39%)
  adding: content/labels/train/image_000002169.txt (deflated 53%)
  adding: content/labels/train/image_000001268.txt (deflated 45%)
  adding: content/labels/train/image_000000917.txt (deflated 55%)
  adding: content/labels/train/image_000000689.txt (deflated 50%)
  adding: content/labels/train/image_000000238.txt (deflated 55%)
  adding: content/labels/train/image_000001922.txt (deflated 19%)
  adding: content/labels/train/image_000000500.txt (deflated 51%)
  adding: content/labels/train/image_000002225.txt (deflated 64%)
  adding: content/labels/train/image_000001506.txt (deflated 38%)
  adding: content/labels/train/image_000001881.txt (deflated 23%)
  adding: content/labels/train/image_000000451.txt (deflated 53%)
  adding: content/labels/train/image_000000405.txt (deflated 66%)
  adding: content/labels/train/image_000000340.txt (deflated 63%)
  adding: content/labels/train/image_000001105.txt (deflated 48%)
  adding: content/labels/train/image_000002210.txt (deflated 21%)
  adding: content/labels/train/image_000001286.txt (deflated 23%)
  adding: content/labels/train/image_000001154.txt (deflated 31%)
  adding: content/labels/train/image_000000308.txt (deflated 57%)
  adding: content/labels/train/image_000000700.txt (deflated 49%)
  adding: content/labels/train/image_000002037.txt (deflated 64%)
  adding: content/labels/train/image_000001082.txt (deflated 60%)
  adding: content/labels/train/image_000001813.txt (deflated 55%)
  adding: content/labels/train/image_000000031.txt (deflated 58%)
  adding: content/labels/train/image_000000379.txt (deflated 55%)
  adding: content/labels/train/image_000000008.txt (deflated 56%)
  adding: content/labels/train/image_000001033.txt (deflated 27%)
  adding: content/labels/train/image_000001981.txt (deflated 23%)
  adding: content/labels/train/image_000000020.txt (deflated 39%)
  adding: content/labels/train/image_000001985.txt (deflated 56%)
  adding: content/labels/train/image_000002070.txt (deflated 55%)
  adding: content/labels/train/image_000001909.txt (deflated 47%)
  adding: content/labels/train/image_000001581.txt (deflated 60%)
  adding: content/labels/train/image_000000153.txt (deflated 33%)
  adding: content/labels/train/image_000002095.txt (deflated 48%)
  adding: content/labels/train/image_000001826.txt (deflated 39%)
  adding: content/labels/train/image_000001781.txt (deflated 23%)
  adding: content/labels/train/image_000002025.txt (deflated 40%)
  adding: content/labels/train/image_000001839.txt (deflated 58%)
  adding: content/labels/train/image_000002133.txt (deflated 64%)
  adding: content/labels/train/image_000000555.txt (deflated 23%)
  adding: content/labels/train/image_000000836.txt (deflated 19%)
  adding: content/labels/train/image_000001491.txt (deflated 61%)
  adding: content/labels/train/image_000000163.txt (deflated 48%)
  adding: content/labels/train/image_000001537.txt (deflated 23%)
  adding: content/labels/train/image_000001609.txt (deflated 45%)
  adding: content/labels/train/image_000002144.txt (deflated 40%)
  adding: content/labels/train/image_000000423.txt (deflated 39%)
  adding: content/labels/train/image_000000812.txt (deflated 55%)
  adding: content/labels/train/image_000000543.txt (deflated 60%)
  adding: content/labels/train/image_000000072.txt (deflated 49%)
  adding: content/labels/train/image_000001871.txt (deflated 51%)
  adding: content/labels/train/image_000000869.txt (deflated 50%)
  adding: content/labels/train/image_000001475.txt (deflated 58%)
  adding: content/labels/train/image_000000256.txt (deflated 21%)
  adding: content/labels/train/image_000000418.txt (deflated 48%)
  adding: content/labels/train/image_000000598.txt (deflated 62%)
  adding: content/labels/train/image_000000104.txt (deflated 60%)
  adding: content/labels/train/image_000000878.txt (deflated 32%)
  adding: content/labels/train/image_000002042.txt (deflated 54%)
  adding: content/labels/train/image_000000567.txt (deflated 39%)
  adding: content/labels/train/image_000001108.txt (deflated 41%)
  adding: content/labels/train/image_000001329.txt (deflated 40%)
  adding: content/labels/train/image_000000319.txt (deflated 31%)
  adding: content/labels/train/image_000002178.txt (deflated 57%)
  adding: content/labels/train/image_000000760.txt (deflated 39%)
  adding: content/labels/train/image_000000254.txt (deflated 48%)
  adding: content/labels/train/image_000000656.txt (deflated 64%)
  adding: content/labels/train/image_000001122.txt (deflated 54%)
  adding: content/labels/train/image_000001449.txt (deflated 54%)
  adding: content/labels/train/image_000000529.txt (deflated 61%)
  adding: content/labels/train/image_000000958.txt (deflated 63%)
  adding: content/labels/train/image_000001155.txt (deflated 31%)
  adding: content/labels/train/image_000000299.txt (deflated 39%)
  adding: content/labels/train/image_000002116.txt (deflated 58%)
  adding: content/labels/train/image_000002120.txt (deflated 33%)
  adding: content/labels/train/image_000001900.txt (deflated 52%)
  adding: content/labels/train/image_000000083.txt (deflated 17%)
  adding: content/labels/train/image_000001759.txt (deflated 45%)
  adding: content/labels/train/image_000001031.txt (deflated 56%)
  adding: content/labels/train/image_000001874.txt (deflated 50%)
  adding: content/labels/train/image_000000530.txt (deflated 58%)
  adding: content/labels/train/image_000001224.txt (deflated 52%)
  adding: content/labels/train/image_000001671.txt (deflated 45%)
  adding: content/labels/train/image_000000181.txt (deflated 57%)
  adding: content/labels/train/image_000001510.txt (deflated 59%)
  adding: content/labels/train/image_000001894.txt (deflated 62%)
  adding: content/labels/train/image_000000912.txt (deflated 51%)
  adding: content/labels/train/image_000000461.txt (deflated 47%)
  adding: content/labels/train/image_000001259.txt (deflated 23%)
  adding: content/labels/train/image_000000790.txt (deflated 62%)
  adding: content/labels/train/image_000000708.txt (deflated 51%)
  adding: content/labels/train/image_000000045.txt (deflated 21%)
  adding: content/labels/train/image_000001741.txt (deflated 60%)
  adding: content/labels/train/image_000000706.txt (deflated 57%)
  adding: content/labels/train/image_000001466.txt (deflated 21%)
  adding: content/labels/train/image_000002236.txt (deflated 35%)
  adding: content/labels/train/image_000002102.txt (deflated 31%)
  adding: content/labels/train/image_000000263.txt (deflated 49%)
  adding: content/labels/train/image_000000362.txt (deflated 49%)
  adding: content/labels/train/image_000001443.txt (deflated 44%)
  adding: content/labels/train/image_000001152.txt (deflated 61%)
  adding: content/labels/train/image_000001302.txt (deflated 23%)
  adding: content/labels/train/image_000001098.txt (deflated 53%)
  adding: content/labels/train/image_000002161.txt (deflated 19%)
  adding: content/labels/train/image_000001180.txt (deflated 67%)
  adding: content/labels/train/image_000001646.txt (deflated 27%)
  adding: content/labels/train/image_000000972.txt (deflated 46%)
  adding: content/labels/train/image_000000173.txt (deflated 25%)
  adding: content/labels/train/image_000001715.txt (deflated 62%)
  adding: content/labels/train/image_000000807.txt (deflated 39%)
  adding: content/labels/train/image_000000474.txt (deflated 46%)
  adding: content/labels/train/image_000001536.txt (deflated 31%)
  adding: content/labels/train/image_000002061.txt (deflated 41%)
  adding: content/labels/train/image_000001424.txt (deflated 39%)
  adding: content/labels/train/image_000000985.txt (deflated 29%)
  adding: content/labels/train/image_000001805.txt (deflated 33%)
  adding: content/labels/train/image_000001486.txt (deflated 47%)
  adding: content/labels/train/image_000000264.txt (deflated 41%)
  adding: content/labels/train/image_000000815.txt (deflated 33%)
  adding: content/labels/train/image_000001745.txt (deflated 65%)
  adding: content/labels/train/image_000001363.txt (deflated 27%)
  adding: content/labels/train/image_000000382.txt (deflated 45%)
  adding: content/labels/train/image_000000535.txt (deflated 58%)
  adding: content/labels/train/image_000000467.txt (deflated 58%)
  adding: content/labels/train/image_000001992.txt (deflated 48%)
  adding: content/labels/train/image_000000347.txt (deflated 62%)
  adding: content/labels/train/image_000001845.txt (deflated 55%)
  adding: content/labels/train/image_000000356.txt (deflated 48%)
  adding: content/labels/train/image_000002089.txt (deflated 47%)
  adding: content/labels/train/image_000001004.txt (deflated 36%)
  adding: content/labels/train/image_000001219.txt (deflated 52%)
  adding: content/labels/train/image_000000287.txt (deflated 45%)
  adding: content/labels/train/image_000001939.txt (deflated 59%)
  adding: content/labels/train/image_000001898.txt (deflated 47%)
  adding: content/labels/train/image_000001157.txt (deflated 39%)
  adding: content/labels/train/image_000001047.txt (deflated 57%)
  adding: content/labels/train/image_000001388.txt (deflated 42%)
  adding: content/labels/train/image_000001338.txt (deflated 31%)
  adding: content/labels/train/image_000000991.txt (deflated 23%)
  adding: content/labels/train/image_000001191.txt (deflated 57%)
  adding: content/labels/train/image_000001069.txt (deflated 45%)
  adding: content/labels/train/image_000001277.txt (deflated 59%)
  adding: content/labels/train/image_000001849.txt (deflated 21%)
  adding: content/labels/train/image_000000785.txt (deflated 40%)
  adding: content/labels/train/image_000001117.txt (deflated 60%)
  adding: content/labels/train/image_000001326.txt (deflated 61%)
  adding: content/labels/train/image_000001023.txt (deflated 61%)
  adding: content/labels/train/image_000001307.txt (deflated 51%)
  adding: content/labels/train/image_000002028.txt (deflated 45%)
  adding: content/labels/train/image_000002157.txt (deflated 23%)
  adding: content/labels/train/image_000001982.txt (deflated 27%)
  adding: content/labels/train/image_000001022.txt (deflated 54%)
  adding: content/labels/train/image_000000674.txt (deflated 53%)
  adding: content/labels/train/image_000000792.txt (deflated 58%)
  adding: content/labels/train/image_000000722.txt (deflated 21%)
  adding: content/labels/train/image_000000159.txt (deflated 53%)
  adding: content/labels/train/image_000000028.txt (deflated 51%)
  adding: content/labels/train/image_000001884.txt (deflated 35%)
  adding: content/labels/train/image_000002145.txt (deflated 51%)
  adding: content/labels/train/image_000000183.txt (deflated 53%)
  adding: content/labels/train/image_000000188.txt (deflated 54%)
  adding: content/labels/train/image_000002208.txt (deflated 32%)
  adding: content/labels/train/image_000001317.txt (deflated 60%)
  adding: content/labels/train/image_000001238.txt (deflated 21%)
  adding: content/labels/train/image_000001375.txt (deflated 48%)
  adding: content/labels/train/image_000001748.txt (deflated 52%)
  adding: content/labels/train/image_000001989.txt (deflated 50%)
  adding: content/labels/train/image_000001574.txt (deflated 40%)
  adding: content/labels/train/image_000001355.txt (deflated 19%)
  adding: content/labels/train/image_000001533.txt (deflated 23%)
  adding: content/labels/train/image_000000437.txt (deflated 25%)
  adding: content/labels/train/image_000001019.txt (deflated 60%)
  adding: content/labels/train/image_000001944.txt (deflated 35%)
  adding: content/labels/train/image_000000296.txt (deflated 35%)
  adding: content/labels/train/image_000000642.txt (deflated 52%)
  adding: content/labels/train/image_000001252.txt (deflated 29%)
  adding: content/labels/train/image_000000907.txt (deflated 55%)
  adding: content/labels/train/image_000000863.txt (deflated 60%)
  adding: content/labels/train/image_000001958.txt (deflated 56%)
  adding: content/labels/train/image_000000623.txt (deflated 33%)
  adding: content/labels/train/image_000001980.txt (deflated 23%)
  adding: content/labels/train/image_000000251.txt (deflated 60%)
  adding: content/labels/train/image_000000398.txt (deflated 29%)
  adding: content/labels/train/image_000000951.txt (deflated 33%)
  adding: content/labels/train/image_000000179.txt (deflated 46%)
  adding: content/labels/train/image_000000508.txt (deflated 52%)
  adding: content/labels/train/image_000002227.txt (deflated 39%)
  adding: content/labels/train/image_000002079.txt (deflated 58%)
  adding: content/labels/train/image_000001782.txt (deflated 29%)
  adding: content/labels/train/image_000000527.txt (deflated 23%)
  adding: content/labels/train/image_000002052.txt (deflated 57%)
  adding: content/labels/train/image_000001438.txt (deflated 54%)
  adding: content/labels/train/image_000001507.txt (deflated 58%)
  adding: content/labels/train/image_000000938.txt (deflated 32%)
  adding: content/labels/train/image_000001349.txt (deflated 52%)
  adding: content/labels/train/image_000000603.txt (deflated 25%)
  adding: content/labels/train/image_000000047.txt (deflated 21%)
  adding: content/labels/train/image_000002010.txt (deflated 53%)
  adding: content/labels/train/image_000001684.txt (deflated 40%)
  adding: content/labels/train/image_000000357.txt (deflated 21%)
  adding: content/labels/train/image_000000676.txt (deflated 51%)
  adding: content/labels/train/image_000002101.txt (deflated 21%)
  adding: content/labels/train/image_000002110.txt (deflated 32%)
  adding: content/labels/train/image_000000154.txt (deflated 41%)
  adding: content/labels/train/image_000001024.txt (deflated 45%)
  adding: content/labels/train/image_000000377.txt (deflated 54%)
  adding: content/labels/train/image_000000636.txt (deflated 56%)
  adding: content/labels/train/image_000002163.txt (deflated 53%)
  adding: content/labels/train/image_000001320.txt (deflated 25%)
  adding: content/labels/train/image_000001652.txt (deflated 57%)
  adding: content/labels/train/image_000000150.txt (deflated 51%)
  adding: content/labels/train/image_000000346.txt (deflated 25%)
  adding: content/labels/train/image_000000333.txt (deflated 60%)
  adding: content/labels/train/image_000002118.txt (deflated 21%)
  adding: content/labels/train/image_000000542.txt (deflated 58%)
  adding: content/labels/train/image_000001096.txt (deflated 21%)
  adding: content/labels/train/image_000002017.txt (deflated 36%)
  adding: content/labels/train/image_000002125.txt (deflated 39%)
  adding: content/labels/train/image_000001296.txt (deflated 25%)
  adding: content/labels/train/image_000001829.txt (deflated 49%)
  adding: content/labels/train/image_000001378.txt (deflated 58%)
  adding: content/labels/train/image_000002113.txt (deflated 45%)
  adding: content/labels/train/image_000000732.txt (deflated 54%)
  adding: content/labels/train/image_000000649.txt (deflated 59%)
  adding: content/labels/train/image_000000628.txt (deflated 61%)
  adding: content/labels/train/image_000000393.txt (deflated 56%)
  adding: content/labels/train/image_000000531.txt (deflated 58%)
  adding: content/labels/train/image_000001933.txt (deflated 56%)
  adding: content/labels/train/image_000001538.txt (deflated 27%)
  adding: content/labels/train/image_000000317.txt (deflated 50%)
  adding: content/labels/train/image_000000996.txt (deflated 33%)
  adding: content/labels/train/image_000001709.txt (deflated 46%)
  adding: content/labels/train/image_000000074.txt (deflated 58%)
  adding: content/labels/train/image_000001390.txt (deflated 32%)
  adding: content/labels/train/image_000001493.txt (deflated 23%)
  adding: content/labels/train/image_000000014.txt (deflated 23%)
  adding: content/labels/train/image_000001408.txt (deflated 19%)
  adding: content/labels/train/image_000001734.txt (deflated 42%)
  adding: content/labels/train/image_000001392.txt (deflated 47%)
  adding: content/labels/train/image_000001193.txt (deflated 58%)
  adding: content/labels/train/image_000001636.txt (deflated 39%)
  adding: content/labels/train/image_000000381.txt (deflated 53%)
  adding: content/labels/train/image_000001691.txt (deflated 55%)
  adding: content/labels/train/image_000001456.txt (deflated 60%)
  adding: content/labels/train/image_000000225.txt (deflated 52%)
  adding: content/labels/train/image_000000581.txt (deflated 21%)
  adding: content/labels/train/image_000001084.txt (deflated 54%)
  adding: content/labels/train/image_000000275.txt (deflated 64%)
  adding: content/labels/train/image_000001889.txt (deflated 63%)
  adding: content/labels/train/image_000002081.txt (deflated 38%)
  adding: content/labels/train/image_000000589.txt (deflated 31%)
  adding: content/labels/train/image_000001204.txt (deflated 55%)
  adding: content/labels/train/image_000000459.txt (deflated 56%)
  adding: content/labels/train/image_000000905.txt (deflated 56%)
  adding: content/labels/train/image_000001938.txt (deflated 19%)
  adding: content/labels/train/image_000000525.txt (deflated 54%)
  adding: content/labels/train/image_000000366.txt (deflated 35%)
  adding: content/labels/train/image_000001846.txt (deflated 45%)
  adding: content/labels/train/image_000000879.txt (deflated 45%)
  adding: content/labels/train/image_000000497.txt (deflated 33%)
  adding: content/labels/train/image_000000348.txt (deflated 65%)
  adding: content/labels/train/image_000000137.txt (deflated 53%)
  adding: content/labels/train/image_000000039.txt (deflated 54%)
  adding: content/labels/train/image_000001888.txt (deflated 54%)
  adding: content/labels/train/image_000001274.txt (deflated 53%)
  adding: content/labels/train/image_000001102.txt (deflated 29%)
  adding: content/labels/train/image_000002206.txt (deflated 41%)
  adding: content/labels/train/image_000001814.txt (deflated 40%)
  adding: content/labels/train/image_000001926.txt (deflated 49%)
  adding: content/labels/train/image_000001604.txt (deflated 59%)
  adding: content/labels/train/image_000001572.txt (deflated 47%)
  adding: content/labels/train/image_000000151.txt (deflated 39%)
  adding: content/labels/train/image_000000604.txt (deflated 49%)
  adding: content/labels/train/image_000001503.txt (deflated 48%)
  adding: content/labels/train/image_000000294.txt (deflated 56%)
  adding: content/labels/train/image_000000563.txt (deflated 57%)
  adding: content/labels/train/image_000000140.txt (deflated 57%)
  adding: content/labels/train/image_000001134.txt (deflated 45%)
  adding: content/labels/train/image_000001522.txt (deflated 25%)
  adding: content/labels/train/image_000000730.txt (deflated 21%)
  adding: content/labels/train/image_000001342.txt (deflated 49%)
  adding: content/labels/train/image_000000553.txt (deflated 54%)
  adding: content/labels/train/image_000001524.txt (deflated 41%)
  adding: content/labels/train/image_000002043.txt (deflated 48%)
  adding: content/labels/train/image_000001470.txt (deflated 27%)
  adding: content/labels/train/image_000000064.txt (deflated 21%)
  adding: content/labels/train/image_000001886.txt (deflated 45%)
  adding: content/labels/train/image_000000824.txt (deflated 33%)
  adding: content/labels/train/image_000001272.txt (deflated 57%)
  adding: content/labels/train/image_000000073.txt (deflated 25%)
  adding: content/labels/train/image_000001138.txt (deflated 40%)
  adding: content/labels/train/image_000001415.txt (deflated 45%)
  adding: content/labels/train/image_000001692.txt (deflated 39%)
  adding: content/labels/train/image_000001244.txt (deflated 52%)
  adding: content/labels/train/image_000001647.txt (deflated 55%)
  adding: content/labels/train/image_000001551.txt (deflated 57%)
  adding: content/labels/train/image_000000215.txt (deflated 53%)
  adding: content/labels/train/image_000001940.txt (deflated 56%)
  adding: content/labels/train/image_000000980.txt (deflated 51%)
  adding: content/labels/train/image_000000818.txt (deflated 52%)
  adding: content/labels/train/image_000000285.txt (deflated 49%)
  adding: content/labels/train/image_000001908.txt (deflated 39%)
  adding: content/labels/train/image_000000268.txt (deflated 51%)
  adding: content/labels/train/image_000001834.txt (deflated 47%)
  adding: content/labels/train/image_000001250.txt (deflated 51%)
  adding: content/labels/train/image_000001429.txt (deflated 52%)
  adding: content/labels/train/image_000001971.txt (deflated 60%)
  adding: content/labels/train/image_000001121.txt (deflated 41%)
  adding: content/labels/train/image_000001328.txt (deflated 43%)
  adding: content/labels/train/image_000000090.txt (deflated 32%)
  adding: content/labels/train/image_000001185.txt (deflated 63%)
  adding: content/labels/train/image_000000705.txt (deflated 63%)
  adding: content/labels/train/image_000002172.txt (deflated 40%)
  adding: content/labels/train/image_000000810.txt (deflated 35%)
  adding: content/labels/train/image_000001868.txt (deflated 52%)
  adding: content/labels/train/image_000001542.txt (deflated 33%)
  adding: content/labels/train/image_000000274.txt (deflated 63%)
  adding: content/labels/train/image_000001107.txt (deflated 57%)
  adding: content/labels/train/image_000000446.txt (deflated 58%)
  adding: content/labels/train/image_000001619.txt (deflated 19%)
  adding: content/labels/train/image_000000967.txt (deflated 44%)
  adding: content/labels/train/image_000000217.txt (deflated 31%)
  adding: content/labels/train/image_000000648.txt (deflated 21%)
  adding: content/labels/train/image_000001097.txt (deflated 32%)
  adding: content/labels/train/image_000000833.txt (deflated 35%)
  adding: content/labels/train/image_000001827.txt (deflated 56%)
  adding: content/labels/train/image_000000516.txt (deflated 46%)
  adding: content/labels/train/image_000001442.txt (deflated 46%)
  adding: content/labels/train/image_000002066.txt (deflated 39%)
  adding: content/labels/train/image_000000995.txt (deflated 45%)
  adding: content/labels/train/image_000001902.txt (deflated 23%)
  adding: content/labels/train/image_000000596.txt (deflated 49%)
  adding: content/labels/train/image_000001866.txt (deflated 23%)
  adding: content/labels/train/image_000002219.txt (deflated 62%)
  adding: content/labels/train/image_000000086.txt (deflated 40%)
  adding: content/labels/train/image_000001549.txt (deflated 49%)
  adding: content/labels/train/image_000001234.txt (deflated 56%)
  adding: content/labels/train/image_000002077.txt (deflated 40%)
  adding: content/labels/train/image_000000939.txt (deflated 51%)
  adding: content/labels/train/image_000001332.txt (deflated 19%)
  adding: content/labels/train/image_000000584.txt (deflated 32%)
  adding: content/labels/train/image_000001681.txt (deflated 43%)
  adding: content/labels/train/image_000002050.txt (deflated 19%)
  adding: content/labels/train/image_000000595.txt (deflated 44%)
  adding: content/labels/train/image_000001855.txt (deflated 39%)
  adding: content/labels/train/image_000000218.txt (deflated 41%)
  adding: content/labels/train/image_000001017.txt (deflated 54%)
  adding: content/labels/train/image_000001393.txt (deflated 64%)
  adding: content/labels/train/image_000001531.txt (deflated 44%)
  adding: content/labels/train/image_000000402.txt (deflated 43%)
  adding: content/labels/train/image_000000877.txt (deflated 63%)
  adding: content/labels/train/image_000001887.txt (deflated 57%)
  adding: content/labels/train/image_000001607.txt (deflated 62%)
  adding: content/labels/train/image_000000273.txt (deflated 23%)
  adding: content/labels/train/image_000000219.txt (deflated 56%)
  adding: content/labels/train/image_000000339.txt (deflated 63%)
  adding: content/labels/train/image_000000673.txt (deflated 33%)
  adding: content/labels/train/image_000002176.txt (deflated 57%)
  adding: content/labels/train/image_000001628.txt (deflated 60%)
  adding: content/labels/train/image_000001945.txt (deflated 23%)
  adding: content/labels/train/image_000002104.txt (deflated 52%)
  adding: content/labels/train/image_000002213.txt (deflated 51%)
  adding: content/labels/train/image_000000228.txt (deflated 52%)
  adding: content/labels/train/image_000000633.txt (deflated 54%)
  adding: content/labels/train/image_000000976.txt (deflated 53%)
  adding: content/labels/train/image_000000144.txt (deflated 61%)
  adding: content/labels/train/image_000000466.txt (deflated 46%)
  adding: content/labels/train/image_000000367.txt (deflated 53%)
  adding: content/labels/train/image_000000528.txt (deflated 21%)
  adding: content/labels/train/image_000000062.txt (deflated 19%)
  adding: content/labels/train/image_000000591.txt (deflated 51%)
  adding: content/labels/train/image_000001779.txt (deflated 54%)
  adding: content/labels/train/image_000001365.txt (deflated 63%)
  adding: content/labels/train/image_000001561.txt (deflated 58%)
  adding: content/labels/train/image_000000665.txt (deflated 23%)
  adding: content/labels/train/image_000001078.txt (deflated 33%)
  adding: content/labels/train/image_000000335.txt (deflated 59%)
  adding: content/labels/train/image_000002149.txt (deflated 31%)
  adding: content/labels/train/image_000002167.txt (deflated 41%)
  adding: content/labels/train/image_000000480.txt (deflated 55%)
  adding: content/labels/train/image_000000034.txt (deflated 65%)
  adding: content/labels/train/image_000000236.txt (deflated 31%)
  adding: content/labels/train/image_000000552.txt (deflated 19%)
  adding: content/labels/train/image_000000046.txt (deflated 49%)
  adding: content/labels/train/image_000001723.txt (deflated 23%)
  adding: content/labels/train/image_000000755.txt (deflated 27%)
  adding: content/labels/train/image_000000210.txt (deflated 54%)
  adding: content/labels/train/image_000000523.txt (deflated 36%)
  adding: content/labels/train/image_000001037.txt (deflated 57%)
  adding: content/labels/train/image_000001807.txt (deflated 58%)
  adding: content/labels/train/image_000000630.txt (deflated 40%)
  adding: content/labels/train/image_000001369.txt (deflated 38%)
  adding: content/labels/train/image_000000439.txt (deflated 23%)
  adding: content/labels/train/image_000001548.txt (deflated 60%)
  adding: content/labels/train/image_000000337.txt (deflated 63%)
  adding: content/labels/train/image_000000601.txt (deflated 57%)
  adding: content/labels/train/image_000001100.txt (deflated 52%)
  adding: content/labels/train/image_000000037.txt (deflated 32%)
  adding: content/labels/train/image_000001780.txt (deflated 23%)
  adding: content/labels/train/image_000000452.txt (deflated 52%)
  adding: content/labels/train/image_000001070.txt (deflated 53%)
  adding: content/labels/train/image_000001218.txt (deflated 56%)
  adding: content/labels/train/image_000001025.txt (deflated 56%)
  adding: content/labels/train/image_000000457.txt (deflated 62%)
  adding: content/labels/train/image_000001228.txt (deflated 46%)
  adding: content/labels/train/image_000000771.txt (deflated 40%)
  adding: content/labels/train/image_000002190.txt (deflated 45%)
  adding: content/labels/train/image_000000808.txt (deflated 63%)
  adding: content/labels/train/image_000001836.txt (deflated 52%)
  adding: content/labels/train/image_000001641.txt (deflated 56%)
  adding: content/labels/train/image_000000638.txt (deflated 45%)
  adding: content/labels/train/image_000000421.txt (deflated 21%)
  adding: content/labels/train/image_000000846.txt (deflated 19%)
  adding: content/labels/train/image_000001790.txt (deflated 33%)
  adding: content/labels/train/image_000000471.txt (deflated 56%)
  adding: content/labels/train/image_000001211.txt (deflated 55%)
  adding: content/labels/train/image_000001929.txt (deflated 23%)
  adding: content/labels/train/image_000001376.txt (deflated 54%)
  adding: content/labels/train/image_000000537.txt (deflated 25%)
  adding: content/labels/train/image_000000646.txt (deflated 29%)
  adding: content/labels/train/image_000000403.txt (deflated 47%)
  adding: content/labels/train/image_000000626.txt (deflated 43%)
  adding: content/labels/train/image_000000231.txt (deflated 48%)
  adding: content/labels/train/image_000001309.txt (deflated 47%)
  adding: content/labels/train/image_000000338.txt (deflated 49%)
  adding: content/labels/train/image_000000653.txt (deflated 33%)
  adding: content/labels/train/image_000001819.txt (deflated 42%)
  adding: content/labels/train/image_000000823.txt (deflated 48%)
  adding: content/labels/train/image_000000113.txt (deflated 61%)
  adding: content/labels/train/image_000001832.txt (deflated 64%)
  adding: content/labels/train/image_000000724.txt (deflated 47%)
  adding: content/labels/train/image_000000316.txt (deflated 59%)
  adding: content/labels/train/image_000000425.txt (deflated 56%)
  adding: content/labels/train/image_000000200.txt (deflated 32%)
  adding: content/labels/train/image_000000832.txt (deflated 21%)
  adding: content/labels/train/image_000002063.txt (deflated 40%)
  adding: content/labels/train/image_000000119.txt (deflated 61%)
  adding: content/labels/train/image_000001625.txt (deflated 59%)
  adding: content/labels/train/image_000002004.txt (deflated 58%)
  adding: content/labels/train/image_000002195.txt (deflated 57%)
  adding: content/labels/train/image_000001151.txt (deflated 56%)
  adding: content/labels/train/image_000000490.txt (deflated 32%)
  adding: content/labels/train/image_000000624.txt (deflated 48%)
  adding: content/labels/train/image_000001488.txt (deflated 62%)
  adding: content/labels/train/image_000000748.txt (deflated 45%)
  adding: content/labels/train/image_000000221.txt (deflated 23%)
  adding: content/labels/train/image_000000546.txt (deflated 33%)
  adding: content/labels/train/image_000000961.txt (deflated 55%)
  adding: content/labels/train/image_000000658.txt (deflated 51%)
  adding: content/labels/train/image_000001256.txt (deflated 58%)
  adding: content/labels/train/image_000001504.txt (deflated 32%)
  adding: content/labels/train/image_000002223.txt (deflated 51%)
  adding: content/labels/train/image_000000427.txt (deflated 32%)
  adding: content/labels/train/image_000000952.txt (deflated 27%)
  adding: content/labels/train/image_000001385.txt (deflated 32%)
  adding: content/labels/train/image_000000392.txt (deflated 66%)
  adding: content/labels/train/image_000000015.txt (deflated 45%)
  adding: content/labels/train/image_000001199.txt (deflated 49%)
  adding: content/labels/train/image_000000167.txt (deflated 60%)
  adding: content/labels/train/image_000000071.txt (deflated 44%)
  adding: content/labels/train/image_000000827.txt (deflated 19%)
  adding: content/labels/train/image_000000652.txt (deflated 49%)
  adding: content/labels/train/image_000001910.txt (deflated 56%)
  adding: content/labels/train/image_000001434.txt (deflated 47%)
  adding: content/labels/train/image_000001495.txt (deflated 51%)
  adding: content/labels/train/image_000001120.txt (deflated 53%)
  adding: content/labels/train/image_000001776.txt (deflated 44%)
  adding: content/labels/train/image_000001594.txt (deflated 57%)
  adding: content/labels/train/image_000001391.txt (deflated 27%)
  adding: content/labels/train/image_000000026.txt (deflated 31%)
  adding: content/labels/train/image_000000936.txt (deflated 45%)
  adding: content/labels/train/image_000001411.txt (deflated 35%)
  adding: content/labels/train/image_000001617.txt (deflated 51%)
  adding: content/labels/train/image_000001850.txt (deflated 58%)
  adding: content/labels/train/image_000002234.txt (deflated 51%)
  adding: content/labels/train/image_000001979.txt (deflated 36%)
  adding: content/labels/train/image_000000082.txt (deflated 31%)
  adding: content/labels/train/image_000000125.txt (deflated 52%)
  adding: content/labels/train/image_000001719.txt (deflated 35%)
  adding: content/labels/train/image_000000576.txt (deflated 33%)
  adding: content/labels/train/image_000000521.txt (deflated 33%)
  adding: content/labels/train/image_000000102.txt (deflated 47%)
  adding: content/labels/train/image_000000095.txt (deflated 55%)
  adding: content/labels/train/image_000001952.txt (deflated 61%)
  adding: content/labels/train/image_000000240.txt (deflated 57%)
  adding: content/labels/train/image_000001347.txt (deflated 35%)
  adding: content/labels/train/image_000000741.txt (deflated 21%)
  adding: content/labels/train/image_000000476.txt (deflated 58%)
  adding: content/labels/train/image_000001595.txt (deflated 54%)
  adding: content/labels/train/image_000001515.txt (deflated 21%)
  adding: content/labels/train/image_000001461.txt (deflated 38%)
  adding: content/labels/train/image_000000820.txt (deflated 39%)
  adding: content/labels/train/image_000000400.txt (deflated 45%)
  adding: content/labels/train/image_000000033.txt (deflated 66%)
  adding: content/labels/train/image_000000806.txt (deflated 19%)
  adding: content/labels/train/image_000000817.txt (deflated 42%)
  adding: content/labels/train/image_000001955.txt (deflated 44%)
  adding: content/labels/train/image_000001351.txt (deflated 49%)
  adding: content/labels/train/image_000001054.txt (deflated 31%)
  adding: content/labels/train/image_000002204.txt (deflated 19%)
  adding: content/labels/train/image_000001463.txt (deflated 39%)
  adding: content/labels/train/image_000000087.txt (deflated 32%)
  adding: content/labels/train/image_000000394.txt (deflated 33%)
  adding: content/labels/train/image_000001873.txt (deflated 57%)
  adding: content/labels/train/image_000000079.txt (deflated 56%)
  adding: content/labels/train/image_000000758.txt (deflated 21%)
  adding: content/labels/train/image_000001946.txt (deflated 56%)
  adding: content/labels/train/image_000001534.txt (deflated 52%)
  adding: content/labels/train/image_000001323.txt (deflated 32%)
  adding: content/labels/train/image_000000295.txt (deflated 47%)
  adding: content/labels/train/image_000001824.txt (deflated 23%)
  adding: content/labels/train/image_000001553.txt (deflated 53%)
  adding: content/labels/train/image_000000322.txt (deflated 60%)
  adding: content/labels/train/image_000000291.txt (deflated 54%)
  adding: content/labels/train/image_000000840.txt (deflated 53%)
  adding: content/labels/train/image_000001448.txt (deflated 45%)
  adding: content/labels/train/image_000000435.txt (deflated 58%)
  adding: content/labels/train/image_000002143.txt (deflated 60%)
  adding: content/labels/train/image_000001114.txt (deflated 63%)
  adding: content/labels/train/image_000000300.txt (deflated 54%)
  adding: content/labels/train/image_000001639.txt (deflated 57%)
  adding: content/labels/train/image_000000006.txt (deflated 40%)
  adding: content/labels/train/image_000001370.txt (deflated 48%)
  adding: content/labels/train/image_000000247.txt (deflated 45%)
  adding: content/labels/train/image_000001058.txt (deflated 59%)
  adding: content/labels/train/image_000000888.txt (deflated 48%)
  adding: content/labels/train/image_000001732.txt (deflated 58%)
  adding: content/labels/train/image_000001240.txt (deflated 56%)
  adding: content/labels/train/image_000000713.txt (deflated 63%)
  adding: content/labels/train/image_000000406.txt (deflated 38%)
  adding: content/labels/train/image_000000697.txt (deflated 35%)
  adding: content/labels/train/image_000001226.txt (deflated 23%)
  adding: content/labels/train/image_000001867.txt (deflated 62%)
  adding: content/labels/train/image_000002055.txt (deflated 32%)
  adding: content/labels/train/image_000002039.txt (deflated 32%)
  adding: content/labels/train/image_000001384.txt (deflated 19%)
  adding: content/labels/train/image_000000800.txt (deflated 57%)
  adding: content/labels/train/image_000000145.txt (deflated 60%)
  adding: content/labels/train/image_000001563.txt (deflated 59%)
  adding: content/labels/train/image_000000740.txt (deflated 59%)
  adding: content/labels/train/image_000001682.txt (deflated 45%)
  adding: content/labels/train/image_000002097.txt (deflated 53%)
  adding: content/labels/train/image_000000729.txt (deflated 57%)
  adding: content/labels/train/image_000000597.txt (deflated 32%)
  adding: content/labels/train/image_000000549.txt (deflated 19%)
  adding: content/labels/train/image_000001841.txt (deflated 53%)
  adding: content/labels/train/image_000000773.txt (deflated 39%)
  adding: content/labels/train/image_000000053.txt (deflated 53%)
  adding: content/labels/train/image_000001615.txt (deflated 56%)
  adding: content/labels/train/image_000002040.txt (deflated 32%)
  adding: content/labels/train/image_000000572.txt (deflated 59%)
  adding: content/labels/train/image_000000245.txt (deflated 21%)
  adding: content/labels/train/image_000001271.txt (deflated 21%)
  adding: content/labels/train/image_000001662.txt (deflated 57%)
  adding: content/labels/train/image_000000909.txt (deflated 51%)
  adding: content/labels/train/image_000000116.txt (deflated 58%)
  adding: content/labels/train/image_000000682.txt (deflated 25%)
  adding: content/labels/train/image_000002122.txt (deflated 35%)
  adding: content/labels/train/image_000002162.txt (deflated 31%)
  adding: content/labels/train/image_000000787.txt (deflated 57%)
  adding: content/labels/train/image_000001688.txt (deflated 35%)
  adding: content/labels/train/image_000002183.txt (deflated 60%)
  adding: content/labels/train/image_000002173.txt (deflated 57%)
  adding: content/labels/train/image_000002155.txt (deflated 48%)
  adding: content/labels/train/image_000001714.txt (deflated 49%)
  adding: content/labels/train/image_000000650.txt (deflated 23%)
  adding: content/labels/train/image_000001556.txt (deflated 61%)
  adding: content/labels/train/image_000001673.txt (deflated 40%)
  adding: content/labels/train/image_000000956.txt (deflated 48%)
  adding: content/labels/train/image_000000716.txt (deflated 32%)
  adding: content/labels/train/image_000001029.txt (deflated 61%)
  adding: content/labels/train/image_000000502.txt (deflated 44%)
  adding: content/labels/train/image_000001606.txt (deflated 59%)
  adding: content/labels/train/image_000000619.txt (deflated 36%)
  adding: content/labels/train/image_000001315.txt (deflated 52%)
  adding: content/labels/train/image_000000189.txt (deflated 31%)
  adding: content/labels/train/image_000002108.txt (deflated 33%)
  adding: content/labels/train/image_000000208.txt (deflated 47%)
  adding: content/labels/train/image_000000498.txt (deflated 57%)
  adding: content/labels/train/image_000000169.txt (deflated 52%)
  adding: content/labels/train/image_000001565.txt (deflated 59%)
  adding: content/labels/train/image_000002027.txt (deflated 55%)
  adding: content/labels/train/image_000000168.txt (deflated 53%)
  adding: content/labels/train/image_000000515.txt (deflated 57%)
  adding: content/labels/train/image_000001695.txt (deflated 51%)
  adding: content/labels/train/image_000000627.txt (deflated 57%)
  adding: content/labels/train/image_000001620.txt (deflated 55%)
  adding: content/labels/train/image_000001036.txt (deflated 62%)
  adding: content/labels/train/image_000001796.txt (deflated 33%)
  adding: content/labels/train/image_000001426.txt (deflated 56%)
  adding: content/labels/train/image_000000063.txt (deflated 58%)
  adding: content/labels/train/image_000001583.txt (deflated 38%)
  adding: content/labels/train/image_000000870.txt (deflated 44%)
  adding: content/labels/train/image_000002140.txt (deflated 53%)
  adding: content/labels/train/image_000001499.txt (deflated 40%)
  adding: content/labels/train/image_000001397.txt (deflated 53%)
  adding: content/labels/train/image_000000233.txt (deflated 32%)
  adding: content/labels/train/image_000000802.txt (deflated 57%)
  adding: content/labels/train/image_000000094.txt (deflated 23%)
  adding: content/labels/train/image_000001167.txt (deflated 51%)
  adding: content/labels/train/image_000001289.txt (deflated 55%)
  adding: content/labels/train/image_000002072.txt (deflated 54%)
  adding: content/labels/train/image_000000579.txt (deflated 58%)
  adding: content/labels/train/image_000000819.txt (deflated 29%)
  adding: content/labels/train/image_000000507.txt (deflated 57%)
  adding: content/labels/train/image_000001049.txt (deflated 33%)
  adding: content/labels/train/image_000000387.txt (deflated 44%)
  adding: content/labels/train/image_000001051.txt (deflated 23%)
  adding: content/labels/train/image_000000610.txt (deflated 41%)
  adding: content/labels/train/image_000000186.txt (deflated 56%)
  adding: content/labels/train/image_000000355.txt (deflated 52%)
  adding: content/labels/train/image_000002015.txt (deflated 32%)
  adding: content/labels/train/image_000001540.txt (deflated 55%)
  adding: content/labels/train/image_000000158.txt (deflated 45%)
  adding: content/labels/train/image_000000777.txt (deflated 25%)
  adding: content/labels/train/image_000002132.txt (deflated 55%)
  adding: content/labels/train/image_000001412.txt (deflated 44%)
  adding: content/labels/train/image_000000864.txt (deflated 59%)
  adding: content/labels/train/image_000001638.txt (deflated 51%)
  adding: content/labels/train/image_000000203.txt (deflated 45%)
  adding: content/labels/train/image_000000881.txt (deflated 51%)
  adding: content/labels/train/image_000001711.txt (deflated 59%)
  adding: content/labels/train/image_000001972.txt (deflated 25%)
  adding: content/labels/train/image_000001137.txt (deflated 41%)
  adding: content/labels/train/image_000001361.txt (deflated 55%)
  adding: content/labels/train/image_000001635.txt (deflated 54%)
  adding: content/labels/train/image_000001928.txt (deflated 23%)
  adding: content/labels/train/image_000002159.txt (deflated 65%)
  adding: content/labels/train/image_000002203.txt (deflated 43%)
  adding: content/labels/train/image_000001030.txt (deflated 33%)
  adding: content/labels/train/image_000002188.txt (deflated 60%)
  adding: content/labels/train/image_000000622.txt (deflated 25%)
  adding: content/labels/train/image_000001645.txt (deflated 19%)
  adding: content/labels/train/image_000000718.txt (deflated 41%)
  adding: content/labels/train/image_000001064.txt (deflated 27%)
  adding: content/labels/train/image_000001870.txt (deflated 19%)
  adding: content/labels/train/image_000001777.txt (deflated 43%)
  adding: content/labels/train/image_000001934.txt (deflated 43%)
  adding: content/labels/train/image_000000992.txt (deflated 38%)
  adding: content/labels/train/image_000001150.txt (deflated 56%)
  adding: content/labels/train/image_000000924.txt (deflated 51%)
  adding: content/labels/train/image_000000578.txt (deflated 45%)
  adding: content/labels/train/image_000000323.txt (deflated 51%)
  adding: content/labels/train/image_000000309.txt (deflated 57%)
  adding: content/labels/train/image_000001090.txt (deflated 57%)
  adding: content/labels/train/image_000001830.txt (deflated 21%)
  adding: content/labels/train/image_000000745.txt (deflated 35%)
  adding: content/labels/train/image_000001280.txt (deflated 19%)
  adding: content/labels/train/image_000002196.txt (deflated 49%)
  adding: content/labels/train/image_000000513.txt (deflated 21%)
  adding: content/labels/train/image_000001459.txt (deflated 65%)
  adding: content/labels/train/image_000001949.txt (deflated 35%)
  adding: content/labels/train/image_000001446.txt (deflated 60%)
  adding: content/labels/train/image_000000067.txt (deflated 59%)
  adding: content/labels/train/image_000001337.txt (deflated 33%)
  adding: content/labels/train/image_000002239.txt (deflated 32%)
  adding: content/labels/train/image_000000436.txt (deflated 56%)
  adding: content/labels/train/image_000000922.txt (deflated 32%)
  adding: content/labels/train/image_000000600.txt (deflated 29%)
  adding: content/labels/train/image_000000255.txt (deflated 60%)
  adding: content/labels/train/image_000000795.txt (deflated 51%)
  adding: content/labels/train/image_000000078.txt (deflated 46%)
  adding: content/labels/train/image_000001265.txt (deflated 40%)
  adding: content/labels/train/image_000001592.txt (deflated 41%)
  adding: content/labels/train/image_000000735.txt (deflated 57%)
  adding: content/labels/train/image_000001532.txt (deflated 66%)
  adding: content/labels/train/image_000001983.txt (deflated 54%)
  adding: content/labels/train/image_000000913.txt (deflated 53%)
  adding: content/labels/train/image_000001445.txt (deflated 45%)
  adding: content/labels/train/image_000001379.txt (deflated 64%)
  adding: content/labels/train/image_000000923.txt (deflated 21%)
  adding: content/labels/train/image_000001716.txt (deflated 45%)
  adding: content/labels/train/image_000002080.txt (deflated 53%)
  adding: content/labels/train/image_000000857.txt (deflated 65%)
  adding: content/labels/train/image_000000522.txt (deflated 53%)
  adding: content/labels/train/image_000001965.txt (deflated 49%)
  adding: content/labels/train/image_000001514.txt (deflated 49%)
  adding: content/labels/train/image_000000128.txt (deflated 68%)
  adding: content/labels/train/image_000000565.txt (deflated 60%)
  adding: content/labels/train/image_000001793.txt (deflated 21%)
  adding: content/labels/train/image_000000668.txt (deflated 56%)
  adding: content/labels/train/image_000001974.txt (deflated 21%)
  adding: content/labels/train/image_000000839.txt (deflated 54%)
  adding: content/labels/train/image_000001428.txt (deflated 63%)
  adding: content/labels/train/image_000000726.txt (deflated 32%)
  adding: content/labels/train/image_000000533.txt (deflated 52%)
  adding: content/labels/train/image_000000945.txt (deflated 21%)
  adding: content/labels/train/image_000000052.txt (deflated 55%)
  adding: content/labels/train/image_000001143.txt (deflated 55%)
  adding: content/labels/train/image_000000977.txt (deflated 39%)
  adding: content/labels/train/image_000001220.txt (deflated 59%)
  adding: content/labels/train/image_000001402.txt (deflated 47%)
  adding: content/labels/train/image_000000594.txt (deflated 57%)
  adding: content/labels/train/image_000000828.txt (deflated 33%)
  adding: content/labels/train/image_000000106.txt (deflated 33%)
  adding: content/labels/train/image_000000190.txt (deflated 49%)
  adding: content/labels/train/image_000000612.txt (deflated 32%)
  adding: content/labels/train/image_000001701.txt (deflated 61%)
  adding: content/labels/train/image_000000084.txt (deflated 29%)
  adding: content/labels/train/image_000000611.txt (deflated 51%)
  adding: content/labels/train/image_000001188.txt (deflated 56%)
  adding: content/labels/train/image_000002174.txt (deflated 47%)
  adding: content/labels/train/image_000000551.txt (deflated 41%)
  adding: content/labels/train/image_000001660.txt (deflated 50%)
  adding: content/labels/train/image_000002137.txt (deflated 29%)
  adding: content/labels/train/image_000001689.txt (deflated 29%)
  adding: content/labels/train/image_000000134.txt (deflated 32%)
  adding: content/labels/train/image_000000707.txt (deflated 51%)
  adding: content/labels/train/image_000001052.txt (deflated 23%)
  adding: content/labels/train/image_000001243.txt (deflated 32%)
  adding: content/labels/train/image_000000493.txt (deflated 61%)
  adding: content/labels/train/image_000001000.txt (deflated 21%)
  adding: content/labels/train/image_000001371.txt (deflated 19%)
  adding: content/labels/train/image_000000139.txt (deflated 45%)
  adding: content/labels/train/image_000000488.txt (deflated 31%)
  adding: content/labels/train/image_000000248.txt (deflated 59%)
  adding: content/labels/train/image_000001251.txt (deflated 45%)
  adding: content/labels/train/image_000002093.txt (deflated 48%)
  adding: content/labels/train/image_000000011.txt (deflated 59%)
  adding: content/labels/train/image_000000659.txt (deflated 65%)
  adding: content/labels/train/image_000001494.txt (deflated 42%)
  adding: content/labels/train/image_000000101.txt (deflated 51%)
  adding: content/labels/train/image_000001083.txt (deflated 44%)
  adding: content/labels/train/image_000001920.txt (deflated 63%)
  adding: content/labels/train/image_000000241.txt (deflated 45%)
  adding: content/labels/train/image_000001752.txt (deflated 38%)
  adding: content/labels/train/image_000002185.txt (deflated 54%)
  adding: content/labels/train/image_000000345.txt (deflated 57%)
  adding: content/labels/train/image_000001409.txt (deflated 63%)
  adding: content/labels/train/image_000001147.txt (deflated 21%)
  adding: content/labels/train/image_000001183.txt (deflated 41%)
  adding: content/labels/train/image_000000816.txt (deflated 19%)
  adding: content/labels/train/image_000000932.txt (deflated 21%)
  adding: content/labels/train/image_000000752.txt (deflated 70%)
  adding: content/labels/train/image_000002022.txt (deflated 62%)
  adding: content/labels/train/image_000002152.txt (deflated 42%)
  adding: content/labels/train/image_000000970.txt (deflated 43%)
  adding: content/labels/train/image_000001464.txt (deflated 49%)
  adding: content/labels/train/image_000001360.txt (deflated 51%)
  adding: content/labels/train/image_000001891.txt (deflated 60%)
  adding: content/labels/train/image_000000911.txt (deflated 55%)
  adding: content/labels/train/image_000001924.txt (deflated 56%)
  adding: content/labels/train/image_000001362.txt (deflated 57%)
  adding: content/labels/train/image_000000908.txt (deflated 59%)
  adding: content/labels/train/image_000001764.txt (deflated 50%)
  adding: content/labels/train/image_000001055.txt (deflated 57%)
  adding: content/labels/train/image_000000850.txt (deflated 17%)
  adding: content/labels/train/image_000002003.txt (deflated 58%)
  adding: content/labels/train/image_000001293.txt (deflated 19%)
  adding: content/labels/train/image_000002020.txt (deflated 55%)
  adding: content/labels/train/image_000001460.txt (deflated 55%)
  adding: content/labels/train/image_000001200.txt (deflated 41%)
  adding: content/labels/train/image_000000767.txt (deflated 56%)
  adding: content/labels/train/image_000001747.txt (deflated 63%)
  adding: content/labels/train/image_000002029.txt (deflated 60%)
  adding: content/labels/train/image_000001301.txt (deflated 23%)
  adding: content/labels/train/image_000000399.txt (deflated 32%)
  adding: content/labels/train/image_000002193.txt (deflated 59%)
  adding: content/labels/train/image_000001367.txt (deflated 58%)
  adding: content/labels/train/image_000001808.txt (deflated 36%)
  adding: content/labels/train/image_000001861.txt (deflated 47%)
  adding: content/labels/train/image_000002232.txt (deflated 45%)
  adding: content/labels/train/image_000000383.txt (deflated 44%)
  adding: content/labels/train/image_000001016.txt (deflated 25%)
  adding: content/labels/train/image_000000209.txt (deflated 32%)
  adding: content/labels/train/image_000000111.txt (deflated 21%)
  adding: content/labels/train/image_000002164.txt (deflated 48%)
  adding: content/labels/train/image_000000272.txt (deflated 33%)
  adding: content/labels/train/image_000001401.txt (deflated 45%)
  adding: content/labels/train/image_000001578.txt (deflated 33%)
  adding: content/labels/train/image_000000825.txt (deflated 63%)
  adding: content/labels/train/image_000000981.txt (deflated 58%)
  adding: content/labels/train/image_000000262.txt (deflated 48%)
  adding: content/labels/train/image_000000842.txt (deflated 50%)
  adding: content/labels/train/image_000000867.txt (deflated 31%)
  adding: content/labels/train/image_000000540.txt (deflated 41%)
  adding: content/labels/train/image_000000310.txt (deflated 50%)
  adding: content/labels/train/image_000000784.txt (deflated 45%)
  adding: content/labels/train/image_000000417.txt (deflated 42%)
  adding: content/labels/train/image_000001095.txt (deflated 57%)
  adding: content/labels/train/image_000000380.txt (deflated 42%)
  adding: content/labels/train/image_000001128.txt (deflated 40%)
  adding: content/labels/train/image_000001248.txt (deflated 63%)
  adding: content/labels/train/image_000000442.txt (deflated 25%)
  adding: content/labels/train/image_000001255.txt (deflated 55%)
  adding: content/labels/train/image_000001767.txt (deflated 55%)
  adding: content/labels/train/image_000001575.txt (deflated 51%)
  adding: content/labels/train/image_000000891.txt (deflated 45%)
  adding: content/labels/train/image_000002064.txt (deflated 58%)
  adding: content/labels/train/image_000001634.txt (deflated 33%)
  adding: content/labels/train/image_000001623.txt (deflated 64%)
  adding: content/labels/train/image_000001441.txt (deflated 55%)
  adding: content/labels/train/image_000000022.txt (deflated 61%)
  adding: content/labels/train/image_000001242.txt (deflated 39%)
  adding: content/labels/train/image_000001067.txt (deflated 60%)
  adding: content/labels/train/image_000002214.txt (deflated 62%)
  adding: content/labels/train/image_000001132.txt (deflated 45%)
  adding: content/labels/train/image_000000602.txt (deflated 32%)
  adding: content/labels/train/image_000001421.txt (deflated 40%)
  adding: content/labels/train/image_000001728.txt (deflated 50%)
  adding: content/labels/train/image_000001127.txt (deflated 23%)
  adding: content/labels/train/image_000001206.txt (deflated 50%)
  adding: content/labels/train/image_000000468.txt (deflated 59%)
  adding: content/labels/train/image_000000089.txt (deflated 33%)
  adding: content/labels/train/image_000000772.txt (deflated 41%)
  adding: content/labels/train/image_000000744.txt (deflated 52%)
  adding: content/labels/train/image_000002047.txt (deflated 62%)
  adding: content/labels/train/image_000000585.txt (deflated 27%)
  adding: content/labels/train/image_000001661.txt (deflated 49%)
  adding: content/labels/train/image_000000477.txt (deflated 23%)
  adding: content/labels/train/image_000001674.txt (deflated 33%)
  adding: content/labels/train/image_000002045.txt (deflated 35%)
  adding: content/labels/train/image_000001815.txt (deflated 60%)
  adding: content/labels/train/image_000000766.txt (deflated 51%)
  adding: content/labels/train/image_000001573.txt (deflated 55%)
  adding: content/labels/train/image_000001840.txt (deflated 55%)
  adding: content/labels/train/image_000000385.txt (deflated 55%)
  adding: content/labels/train/image_000001576.txt (deflated 57%)
  adding: content/labels/train/image_000001967.txt (deflated 27%)
  adding: content/labels/train/image_000001053.txt (deflated 46%)
  adding: content/labels/train/image_000002005.txt (deflated 39%)
  adding: content/labels/train/image_000000763.txt (deflated 41%)
  adding: content/labels/train/image_000001990.txt (deflated 23%)
  adding: content/labels/train/image_000000872.txt (deflated 32%)
  adding: content/labels/train/image_000001803.txt (deflated 54%)
  adding: content/labels/train/image_000001700.txt (deflated 19%)
  adding: content/labels/train/image_000000966.txt (deflated 55%)
  adding: content/labels/train/image_000001560.txt (deflated 57%)
  adding: content/labels/train/image_000000292.txt (deflated 57%)
  adding: content/labels/train/image_000001311.txt (deflated 46%)
  adding: content/labels/train/image_000001677.txt (deflated 41%)
  adding: content/labels/train/image_000000070.txt (deflated 41%)
  adding: content/labels/train/image_000001269.txt (deflated 51%)
  adding: content/labels/train/image_000001450.txt (deflated 23%)
  adding: content/labels/train/image_000001562.txt (deflated 49%)
  adding: content/labels/train/image_000001254.txt (deflated 39%)
  adding: content/labels/train/image_000001500.txt (deflated 56%)
  adding: content/labels/train/image_000000391.txt (deflated 32%)
  adding: content/labels/train/image_000000363.txt (deflated 63%)
  adding: content/labels/train/image_000000947.txt (deflated 51%)
  adding: content/labels/train/image_000000197.txt (deflated 40%)
  adding: content/labels/train/image_000001215.txt (deflated 59%)
  adding: content/labels/train/image_000001288.txt (deflated 52%)
  adding: content/labels/train/image_000000899.txt (deflated 31%)
  adding: content/labels/train/image_000000929.txt (deflated 46%)
  adding: content/labels/train/image_000001973.txt (deflated 25%)
  adding: content/labels/train/image_000000372.txt (deflated 61%)
  adding: content/labels/train/image_000000133.txt (deflated 53%)
  adding: content/labels/train/image_000001809.txt (deflated 31%)
  adding: content/labels/train/image_000000834.txt (deflated 65%)
  adding: content/labels/train/image_000000165.txt (deflated 60%)
  adding: content/labels/train/image_000001050.txt (deflated 55%)
  adding: content/labels/train/image_000000331.txt (deflated 55%)
  adding: content/labels/train/image_000002194.txt (deflated 29%)
  adding: content/labels/train/image_000000667.txt (deflated 21%)
  adding: content/labels/train/image_000000277.txt (deflated 33%)
  adding: content/labels/train/image_000001009.txt (deflated 51%)
  adding: content/labels/train/image_000000751.txt (deflated 40%)
  adding: content/labels/train/image_000001872.txt (deflated 33%)
  adding: content/labels/train/image_000001381.txt (deflated 45%)
  adding: content/labels/train/image_000000328.txt (deflated 49%)
  adding: content/labels/train/image_000000728.txt (deflated 51%)
  adding: content/labels/train/image_000001893.txt (deflated 45%)
  adding: content/labels/train/image_000001042.txt (deflated 45%)
  adding: content/labels/train/image_000001610.txt (deflated 60%)
  adding: content/labels/train/image_000001372.txt (deflated 59%)
  adding: content/labels/train/image_000000875.txt (deflated 45%)
  adding: content/labels/train/image_000000798.txt (deflated 49%)
  adding: content/labels/train/image_000000765.txt (deflated 21%)
  adding: content/labels/train/image_000000774.txt (deflated 35%)
  adding: content/labels/train/image_000001431.txt (deflated 52%)
  adding: content/labels/train/image_000000222.txt (deflated 44%)
  adding: content/labels/train/image_000001690.txt (deflated 56%)
  adding: content/labels/train/image_000001789.txt (deflated 51%)
  adding: content/labels/train/image_000000660.txt (deflated 53%)
  adding: content/labels/train/image_000000946.txt (deflated 48%)
  adding: content/labels/train/image_000000110.txt (deflated 23%)
  adding: content/labels/train/image_000001356.txt (deflated 21%)
  adding: content/labels/train/image_000001529.txt (deflated 57%)
  adding: content/labels/train/image_000000906.txt (deflated 63%)
  adding: content/labels/train/image_000000504.txt (deflated 39%)
  adding: content/labels/train/image_000001755.txt (deflated 39%)
  adding: content/labels/train/image_000000998.txt (deflated 44%)
  adding: content/labels/train/image_000001580.txt (deflated 52%)
  adding: content/labels/train/image_000000532.txt (deflated 50%)
  adding: content/labels/train/image_000000892.txt (deflated 33%)
  adding: content/labels/train/image_000000306.txt (deflated 51%)
  adding: content/labels/train/image_000001002.txt (deflated 45%)
  adding: content/labels/train/image_000001285.txt (deflated 45%)
  adding: content/labels/train/image_000001802.txt (deflated 40%)
  adding: content/labels/train/image_000002100.txt (deflated 33%)
  adding: content/labels/train/image_000001516.txt (deflated 52%)
  adding: content/labels/train/image_000001318.txt (deflated 55%)
  adding: content/labels/train/image_000000571.txt (deflated 32%)
  adding: content/labels/train/image_000000982.txt (deflated 65%)
  adding: content/labels/train/image_000001799.txt (deflated 49%)
  adding: content/labels/train/image_000002184.txt (deflated 60%)
  adding: content/labels/train/image_000001885.txt (deflated 52%)
  adding: content/labels/train/image_000002199.txt (deflated 53%)
  adding: content/labels/train/image_000000252.txt (deflated 21%)
  adding: content/labels/train/image_000000801.txt (deflated 23%)
  adding: content/labels/train/image_000000156.txt (deflated 62%)
  adding: content/labels/train/image_000001340.txt (deflated 40%)
  adding: content/labels/train/image_000001821.txt (deflated 32%)
  adding: content/labels/train/image_000000386.txt (deflated 45%)
  adding: content/labels/train/image_000000013.txt (deflated 64%)
  adding: content/labels/train/image_000001394.txt (deflated 55%)
  adding: content/labels/train/image_000000249.txt (deflated 45%)
  adding: content/labels/train/image_000001295.txt (deflated 53%)
  adding: content/labels/train/image_000000678.txt (deflated 59%)
  adding: content/labels/train/image_000000688.txt (deflated 54%)
  adding: content/labels/train/image_000001153.txt (deflated 38%)
  adding: content/labels/train/image_000001721.txt (deflated 58%)
  adding: content/labels/train/image_000001931.txt (deflated 32%)
  adding: content/labels/train/image_000000023.txt (deflated 64%)
  adding: content/labels/train/image_000000883.txt (deflated 49%)
  adding: content/labels/train/image_000000483.txt (deflated 40%)
  adding: content/labels/train/image_000001075.txt (deflated 49%)
  adding: content/labels/train/image_000002207.txt (deflated 62%)
  adding: content/labels/train/image_000000933.txt (deflated 21%)
  adding: content/labels/train/image_000001729.txt (deflated 57%)
  adding: content/labels/train/image_000000775.txt (deflated 53%)
  adding: content/labels/train/image_000001654.txt (deflated 54%)
  adding: content/labels/train/image_000001235.txt (deflated 60%)
  adding: content/labels/train/image_000001161.txt (deflated 21%)
  adding: content/labels/train/image_000002218.txt (deflated 35%)
  adding: content/labels/train/image_000001704.txt (deflated 42%)
  adding: content/labels/train/image_000001006.txt (deflated 51%)
  adding: content/labels/train/image_000000753.txt (deflated 39%)
  adding: content/labels/train/image_000000884.txt (deflated 62%)
  adding: content/labels/train/image_000000894.txt (deflated 21%)
  adding: content/labels/train/image_000001708.txt (deflated 31%)
  adding: content/labels/train/image_000001027.txt (deflated 52%)
  adding: content/labels/train/image_000000519.txt (deflated 40%)
  adding: content/labels/train/image_000001800.txt (deflated 31%)
  adding: content/labels/train/image_000001588.txt (deflated 38%)
  adding: content/labels/train/image_000000617.txt (deflated 32%)
  adding: content/labels/train/image_000000280.txt (deflated 48%)
  adding: content/labels/train/image_000001521.txt (deflated 51%)
  adding: content/labels/train/image_000001187.txt (deflated 33%)
  adding: content/labels/train/image_000000411.txt (deflated 32%)
  adding: content/labels/train/image_000001059.txt (deflated 54%)
  adding: content/labels/train/image_000001631.txt (deflated 68%)
  adding: content/labels/train/image_000001632.txt (deflated 41%)
  adding: content/labels/train/image_000000029.txt (deflated 57%)
  adding: content/labels/train/image_000001599.txt (deflated 42%)
  adding: content/labels/train/image_000001178.txt (deflated 56%)
  adding: content/labels/train/image_000000040.txt (deflated 31%)
  adding: content/labels/train/image_000000012.txt (deflated 56%)
  adding: content/labels/train/image_000000131.txt (deflated 52%)
  adding: content/labels/train/image_000001089.txt (deflated 52%)
  adding: content/labels/train/image_000000261.txt (deflated 64%)
  adding: content/labels/train/image_000001509.txt (deflated 39%)
  adding: content/labels/train/image_000001724.txt (deflated 53%)
  adding: content/labels/train/image_000000643.txt (deflated 62%)
  adding: content/labels/train/image_000001135.txt (deflated 59%)
  adding: content/labels/train/image_000002031.txt (deflated 39%)
  adding: content/labels/train/image_000000605.txt (deflated 54%)
  adding: content/labels/train/image_000000376.txt (deflated 57%)
  adding: content/labels/train/image_000001175.txt (deflated 45%)
  adding: content/labels/train/image_000000235.txt (deflated 53%)
  adding: content/labels/train/image_000001883.txt (deflated 19%)
  adding: content/labels/train/image_000000657.txt (deflated 49%)
  adding: content/labels/train/image_000002198.txt (deflated 60%)
  adding: content/labels/train/image_000001048.txt (deflated 32%)
  adding: content/labels/train/image_000002000.txt (deflated 45%)
  adding: content/labels/train/image_000000482.txt (deflated 49%)
  adding: content/labels/train/image_000001359.txt (deflated 64%)
  adding: content/labels/train/image_000002103.txt (deflated 51%)
  adding: content/labels/train/image_000001769.txt (deflated 47%)
  adding: content/labels/train/image_000001230.txt (deflated 32%)
  adding: content/labels/train/image_000002033.txt (deflated 45%)
  adding: content/labels/train/image_000001730.txt (deflated 31%)
  adding: content/labels/train/image_000000378.txt (deflated 40%)
  adding: content/labels/train/image_000000199.txt (deflated 49%)
  adding: content/labels/train/image_000001065.txt (deflated 42%)
  adding: content/labels/train/image_000001348.txt (deflated 33%)
  adding: content/labels/train/image_000001008.txt (deflated 58%)
  adding: content/labels/train/image_000000590.txt (deflated 60%)
  adding: content/labels/train/image_000000027.txt (deflated 53%)
  adding: content/labels/train/image_000002016.txt (deflated 23%)
  adding: content/labels/train/image_000001474.txt (deflated 61%)
  adding: content/labels/train/image_000000954.txt (deflated 54%)
  adding: content/labels/train/image_000001217.txt (deflated 27%)
  adding: content/labels/train/image_000001739.txt (deflated 33%)
  adding: content/labels/train/image_000000854.txt (deflated 49%)
  adding: content/labels/train/image_000001811.txt (deflated 38%)
  adding: content/labels/train/image_000001473.txt (deflated 61%)
  adding: content/labels/train/image_000001964.txt (deflated 53%)
  adding: content/labels/train/image_000001555.txt (deflated 66%)
  adding: content/labels/train/image_000002127.txt (deflated 45%)
  adding: content/labels/train/image_000001785.txt (deflated 48%)
  adding: content/labels/train/image_000000930.txt (deflated 48%)
  adding: content/labels/train/image_000001501.txt (deflated 40%)
  adding: content/labels/train/image_000001679.txt (deflated 63%)
  adding: content/labels/train/image_000000805.txt (deflated 59%)
  adding: content/labels/train/image_000000042.txt (deflated 41%)
  adding: content/labels/train/image_000001258.txt (deflated 63%)
  adding: content/labels/train/image_000001822.txt (deflated 45%)
  adding: content/labels/train/image_000000940.txt (deflated 53%)
  adding: content/labels/train/image_000000253.txt (deflated 62%)
  adding: content/labels/train/image_000001487.txt (deflated 54%)
  adding: content/labels/train/image_000000862.txt (deflated 56%)
  adding: content/labels/train/image_000001738.txt (deflated 53%)
  adding: content/labels/train/image_000001571.txt (deflated 48%)
  adding: content/labels/train/image_000001686.txt (deflated 21%)
  adding: content/labels/train/image_000001357.txt (deflated 49%)
  adding: content/labels/train/image_000000184.txt (deflated 39%)
  adding: content/labels/train/image_000001341.txt (deflated 21%)
  adding: content/labels/train/image_000001702.txt (deflated 62%)
  adding: content/labels/train/image_000000100.txt (deflated 23%)
  adding: content/labels/train/image_000000868.txt (deflated 59%)
  adding: content/labels/train/image_000000499.txt (deflated 33%)
  adding: content/labels/train/image_000000115.txt (deflated 40%)
  adding: content/labels/train/image_000000712.txt (deflated 21%)
  adding: content/labels/train/image_000001761.txt (deflated 53%)
  adding: content/labels/train/image_000001735.txt (deflated 60%)
  adding: content/labels/train/image_000001787.txt (deflated 19%)
  adding: content/labels/train/image_000000910.txt (deflated 49%)
  adding: content/labels/train/image_000000035.txt (deflated 58%)
  adding: content/labels/train/image_000000176.txt (deflated 46%)
  adding: content/labels/train/image_000002148.txt (deflated 32%)
  adding: content/labels/train/image_000000213.txt (deflated 32%)
  adding: content/labels/train/image_000001112.txt (deflated 39%)
  adding: content/labels/train/image_000001011.txt (deflated 56%)
  adding: content/labels/train/image_000000865.txt (deflated 52%)
  adding: content/labels/train/image_000001616.txt (deflated 52%)
  adding: content/labels/train/image_000001093.txt (deflated 50%)
  adding: content/labels/train/image_000001705.txt (deflated 51%)
  adding: content/labels/train/image_000001917.txt (deflated 49%)
  adding: content/labels/train/image_000001066.txt (deflated 45%)
  adding: content/labels/train/image_000002105.txt (deflated 51%)
  adding: content/labels/train/image_000001998.txt (deflated 25%)
  adding: content/labels/train/image_000001650.txt (deflated 35%)
  adding: content/labels/train/image_000000539.txt (deflated 54%)
  adding: content/labels/train/image_000002136.txt (deflated 59%)
  adding: content/labels/train/image_000001291.txt (deflated 61%)
  adding: content/labels/train/image_000000560.txt (deflated 45%)
  adding: content/labels/train/image_000000506.txt (deflated 33%)
  adding: content/labels/train/image_000001670.txt (deflated 40%)
  adding: content/labels/train/image_000001977.txt (deflated 53%)
  adding: content/labels/train/image_000000185.txt (deflated 32%)
  adding: content/labels/train/image_000001300.txt (deflated 56%)
  adding: content/labels/train/image_000001603.txt (deflated 67%)
  adding: content/labels/train/image_000002231.txt (deflated 32%)
  adding: content/labels/train/image_000002160.txt (deflated 54%)
  adding: content/labels/train/image_000001312.txt (deflated 19%)
  adding: content/labels/train/image_000001842.txt (deflated 54%)
  adding: content/labels/train/image_000001525.txt (deflated 33%)
  adding: content/labels/train/image_000001726.txt (deflated 51%)
  adding: content/labels/train/image_000000557.txt (deflated 58%)
  adding: content/labels/train/image_000001396.txt (deflated 61%)
  adding: content/labels/train/image_000000759.txt (deflated 38%)
  adding: content/labels/train/image_000001101.txt (deflated 57%)
  adding: content/labels/train/image_000001633.txt (deflated 58%)
  adding: content/labels/train/image_000002119.txt (deflated 19%)
  adding: content/labels/train/image_000000117.txt (deflated 23%)
  adding: content/labels/train/image_000001771.txt (deflated 53%)
  adding: content/labels/val.cache (deflated 61%)
  adding: content/yolov5s.pt (deflated 8%)
  adding: content/yolov5/ (stored 0%)
  adding: content/yolov5/train.py (deflated 69%)
  adding: content/yolov5/.gitattributes (deflated 4%)
  adding: content/yolov5/models/ (stored 0%)
  adding: content/yolov5/models/yolov5m.yaml (deflated 62%)
  adding: content/yolov5/models/yolo.py (deflated 64%)
  adding: content/yolov5/models/__init__.py (stored 0%)
  adding: content/yolov5/models/hub/ (stored 0%)
  adding: content/yolov5/models/hub/yolov3-tiny.yaml (deflated 64%)
  adding: content/yolov5/models/hub/yolov5-p2.yaml (deflated 71%)
  adding: content/yolov5/models/hub/yolov5l6.yaml (deflated 69%)
  adding: content/yolov5/models/hub/yolov5-fpn.yaml (deflated 62%)
  adding: content/yolov5/models/hub/yolov5s6.yaml (deflated 69%)
  adding: content/yolov5/models/hub/anchors.yaml (deflated 74%)
  adding: content/yolov5/models/hub/yolov5-p6.yaml (deflated 71%)
  adding: content/yolov5/models/hub/yolov5m6.yaml (deflated 69%)
  adding: content/yolov5/models/hub/yolov3-spp.yaml (deflated 67%)
  adding: content/yolov5/models/hub/yolov5-p7.yaml (deflated 74%)
  adding: content/yolov5/models/hub/yolov5s-transformer.yaml (deflated 64%)
  adding: content/yolov5/models/hub/yolov3.yaml (deflated 67%)
  adding: content/yolov5/models/hub/yolov5x6.yaml (deflated 69%)
  adding: content/yolov5/models/hub/yolov5-panet.yaml (deflated 66%)
  adding: content/yolov5/models/__pycache__/ (stored 0%)
  adding: content/yolov5/models/__pycache__/common.cpython-37.pyc (deflated 59%)
  adding: content/yolov5/models/__pycache__/__init__.cpython-37.pyc (deflated 26%)
  adding: content/yolov5/models/__pycache__/yolo.cpython-37.pyc (deflated 45%)
  adding: content/yolov5/models/__pycache__/experimental.cpython-37.pyc (deflated 51%)
  adding: content/yolov5/models/experimental.py (deflated 65%)
  adding: content/yolov5/models/common.py (deflated 69%)
  adding: content/yolov5/models/yolov5l.yaml (deflated 62%)
  adding: content/yolov5/models/yolov5x.yaml (deflated 62%)
  adding: content/yolov5/models/yolov5s.yaml (deflated 62%)
  adding: content/yolov5/LICENSE (deflated 66%)
  adding: content/yolov5/utils/ (stored 0%)
  adding: content/yolov5/utils/datasets.py (deflated 71%)
  adding: content/yolov5/utils/google_utils.py (deflated 65%)
  adding: content/yolov5/utils/augmentations.py (deflated 63%)
  adding: content/yolov5/utils/aws/ (stored 0%)
  adding: content/yolov5/utils/aws/__init__.py (stored 0%)
  adding: content/yolov5/utils/aws/resume.py (deflated 47%)
  adding: content/yolov5/utils/aws/mime.sh (deflated 46%)
  adding: content/yolov5/utils/aws/userdata.sh (deflated 47%)
  adding: content/yolov5/utils/metrics.py (deflated 67%)
  adding: content/yolov5/utils/plots.py (deflated 65%)
  adding: content/yolov5/utils/__init__.py (stored 0%)
  adding: content/yolov5/utils/wandb_logging/ (stored 0%)
  adding: content/yolov5/utils/wandb_logging/sweep.yaml (deflated 73%)
  adding: content/yolov5/utils/wandb_logging/wandb_utils.py (deflated 74%)
  adding: content/yolov5/utils/wandb_logging/__init__.py (stored 0%)
  adding: content/yolov5/utils/wandb_logging/__pycache__/ (stored 0%)
  adding: content/yolov5/utils/wandb_logging/__pycache__/__init__.cpython-37.pyc (deflated 22%)
  adding: content/yolov5/utils/wandb_logging/__pycache__/wandb_utils.cpython-37.pyc (deflated 48%)
  adding: content/yolov5/utils/wandb_logging/log_dataset.py (deflated 49%)
  adding: content/yolov5/utils/wandb_logging/sweep.py (deflated 50%)
  adding: content/yolov5/utils/general.py (deflated 64%)
  adding: content/yolov5/utils/flask_rest_api/ (stored 0%)
  adding: content/yolov5/utils/flask_rest_api/README.md (deflated 52%)
  adding: content/yolov5/utils/flask_rest_api/example_request.py (deflated 29%)
  adding: content/yolov5/utils/flask_rest_api/restapi.py (deflated 45%)
  adding: content/yolov5/utils/__pycache__/ (stored 0%)
  adding: content/yolov5/utils/__pycache__/autoanchor.cpython-37.pyc (deflated 43%)
  adding: content/yolov5/utils/__pycache__/__init__.cpython-37.pyc (deflated 24%)
  adding: content/yolov5/utils/__pycache__/augmentations.cpython-37.pyc (deflated 45%)
  adding: content/yolov5/utils/__pycache__/datasets.cpython-37.pyc (deflated 50%)
  adding: content/yolov5/utils/__pycache__/torch_utils.cpython-37.pyc (deflated 43%)
  adding: content/yolov5/utils/__pycache__/general.cpython-37.pyc (deflated 49%)
  adding: content/yolov5/utils/__pycache__/loss.cpython-37.pyc (deflated 48%)
  adding: content/yolov5/utils/__pycache__/metrics.cpython-37.pyc (deflated 48%)
  adding: content/yolov5/utils/__pycache__/google_utils.cpython-37.pyc (deflated 41%)
  adding: content/yolov5/utils/__pycache__/plots.cpython-37.pyc (deflated 45%)
  adding: content/yolov5/utils/torch_utils.py (deflated 61%)
  adding: content/yolov5/utils/loss.py (deflated 69%)
  adding: content/yolov5/utils/activations.py (deflated 71%)
  adding: content/yolov5/utils/autoanchor.py (deflated 62%)
  adding: content/yolov5/utils/google_app_engine/ (stored 0%)
  adding: content/yolov5/utils/google_app_engine/additional_requirements.txt (deflated 13%)
  adding: content/yolov5/utils/google_app_engine/app.yaml (deflated 26%)
  adding: content/yolov5/utils/google_app_engine/Dockerfile (deflated 47%)
  adding: content/yolov5/.gitignore (deflated 55%)
  adding: content/yolov5/README.md (deflated 72%)
  adding: content/yolov5/data/ (stored 0%)
  adding: content/yolov5/data/.ipynb_checkpoints/ (stored 0%)
  adding: content/yolov5/data/scripts/ (stored 0%)
  adding: content/yolov5/data/scripts/download_weights.sh (deflated 27%)
  adding: content/yolov5/data/scripts/get_coco.sh (deflated 52%)
  adding: content/yolov5/data/scripts/get_coco128.sh (deflated 41%)
  adding: content/yolov5/data/images/ (stored 0%)
  adding: content/yolov5/data/images/bus.jpg (deflated 1%)
  adding: content/yolov5/data/images/zidane.jpg (deflated 0%)
  adding: content/yolov5/data/Argoverse_HD.yaml (deflated 57%)
  adding: content/yolov5/data/GlobalWheat2020.yaml (deflated 57%)
  adding: content/yolov5/data/eagleview.yaml (deflated 34%)
  adding: content/yolov5/data/xView.yaml (deflated 59%)
  adding: content/yolov5/data/VisDrone.yaml (deflated 61%)
  adding: content/yolov5/data/hyps/ (stored 0%)
  adding: content/yolov5/data/hyps/hyp.finetune.yaml (deflated 46%)
  adding: content/yolov5/data/hyps/hyp.scratch.yaml (deflated 55%)
  adding: content/yolov5/data/hyps/hyp.scratch-p6.yaml (deflated 54%)
  adding: content/yolov5/data/hyps/hyp.finetune_objects365.yaml (deflated 43%)
  adding: content/yolov5/data/SKU-110K.yaml (deflated 54%)
  adding: content/yolov5/data/coco.yaml (deflated 54%)
  adding: content/yolov5/data/Objects365.yaml (deflated 56%)
  adding: content/yolov5/data/VOC.yaml (deflated 57%)
  adding: content/yolov5/data/coco128.yaml (deflated 52%)
  adding: content/yolov5/.dockerignore (deflated 56%)
  adding: content/yolov5/__pycache__/ (stored 0%)
  adding: content/yolov5/__pycache__/val.cpython-37.pyc (deflated 41%)
  adding: content/yolov5/CONTRIBUTING.md (deflated 56%)
  adding: content/yolov5/.github/ (stored 0%)
  adding: content/yolov5/.github/FUNDING.yml (deflated 20%)
  adding: content/yolov5/.github/dependabot.yml (deflated 33%)
  adding: content/yolov5/.github/ISSUE_TEMPLATE/ (stored 0%)
  adding: content/yolov5/.github/ISSUE_TEMPLATE/question.md (deflated 21%)
  adding: content/yolov5/.github/ISSUE_TEMPLATE/feature-request.md (deflated 48%)
  adding: content/yolov5/.github/ISSUE_TEMPLATE/bug-report.md (deflated 41%)
  adding: content/yolov5/.github/workflows/ (stored 0%)
  adding: content/yolov5/.github/workflows/ci-testing.yml (deflated 62%)
  adding: content/yolov5/.github/workflows/rebase.yml (deflated 44%)
  adding: content/yolov5/.github/workflows/greetings.yml (deflated 61%)
  adding: content/yolov5/.github/workflows/stale.yml (deflated 59%)
  adding: content/yolov5/.github/workflows/codeql-analysis.yml (deflated 52%)
  adding: content/yolov5/hubconf.py (deflated 72%)
  adding: content/yolov5/tutorial.ipynb (deflated 33%)
  adding: content/yolov5/.git/ (stored 0%)
  adding: content/yolov5/.git/config (deflated 33%)
  adding: content/yolov5/.git/objects/ (stored 0%)
  adding: content/yolov5/.git/objects/info/ (stored 0%)
  adding: content/yolov5/.git/objects/pack/ (stored 0%)
  adding: content/yolov5/.git/objects/pack/pack-6af472c07f00e980d352b47ec8dd584a86a1d50b.pack (deflated 1%)
  adding: content/yolov5/.git/objects/pack/pack-6af472c07f00e980d352b47ec8dd584a86a1d50b.idx (deflated 2%)
  adding: content/yolov5/.git/logs/ (stored 0%)
  adding: content/yolov5/.git/logs/HEAD (deflated 28%)
  adding: content/yolov5/.git/logs/refs/ (stored 0%)
  adding: content/yolov5/.git/logs/refs/remotes/ (stored 0%)
  adding: content/yolov5/.git/logs/refs/remotes/origin/ (stored 0%)
  adding: content/yolov5/.git/logs/refs/remotes/origin/HEAD (deflated 28%)
  adding: content/yolov5/.git/logs/refs/heads/ (stored 0%)
  adding: content/yolov5/.git/logs/refs/heads/master (deflated 28%)
  adding: content/yolov5/.git/info/ (stored 0%)
  adding: content/yolov5/.git/info/exclude (deflated 28%)
  adding: content/yolov5/.git/packed-refs (deflated 53%)
  adding: content/yolov5/.git/description (deflated 14%)
  adding: content/yolov5/.git/branches/ (stored 0%)
  adding: content/yolov5/.git/HEAD (stored 0%)
  adding: content/yolov5/.git/hooks/ (stored 0%)
  adding: content/yolov5/.git/hooks/pre-rebase.sample (deflated 59%)
  adding: content/yolov5/.git/hooks/pre-commit.sample (deflated 43%)
  adding: content/yolov5/.git/hooks/pre-receive.sample (deflated 40%)
  adding: content/yolov5/.git/hooks/pre-push.sample (deflated 50%)
  adding: content/yolov5/.git/hooks/prepare-commit-msg.sample (deflated 50%)
  adding: content/yolov5/.git/hooks/post-update.sample (deflated 27%)
  adding: content/yolov5/.git/hooks/update.sample (deflated 68%)
  adding: content/yolov5/.git/hooks/pre-applypatch.sample (deflated 38%)
  adding: content/yolov5/.git/hooks/applypatch-msg.sample (deflated 42%)
  adding: content/yolov5/.git/hooks/commit-msg.sample (deflated 44%)
  adding: content/yolov5/.git/hooks/fsmonitor-watchman.sample (deflated 53%)
  adding: content/yolov5/.git/refs/ (stored 0%)
  adding: content/yolov5/.git/refs/remotes/ (stored 0%)
  adding: content/yolov5/.git/refs/remotes/origin/ (stored 0%)
  adding: content/yolov5/.git/refs/remotes/origin/HEAD (stored 0%)
  adding: content/yolov5/.git/refs/tags/ (stored 0%)
  adding: content/yolov5/.git/refs/heads/ (stored 0%)
  adding: content/yolov5/.git/refs/heads/master (stored 0%)
  adding: content/yolov5/.git/index (deflated 53%)
  adding: content/yolov5/export.py (deflated 68%)
  adding: content/yolov5/detect.py (deflated 67%)
  adding: content/yolov5/requirements.txt (deflated 50%)
  adding: content/yolov5/val.py (deflated 66%)
  adding: content/yolov5/Dockerfile (deflated 58%)
  adding: content/trainval.tar.gz (deflated 0%)
  adding: content/trainval/ (stored 0%)
  adding: content/trainval/annotations/ (stored 0%)
  adding: content/trainval/annotations/bbox-annotations.json (deflated 90%)
  adding: content/trainval/images/ (stored 0%)
  adding: content/sample_data/ (stored 0%)
  adding: content/sample_data/README.md (deflated 42%)
  adding: content/sample_data/anscombe.json (deflated 83%)
  adding: content/sample_data/mnist_train_small.csv (deflated 88%)
  adding: content/sample_data/california_housing_train.csv (deflated 79%)
  adding: content/sample_data/california_housing_test.csv (deflated 76%)
  adding: content/sample_data/mnist_test.csv (deflated 88%)
# # removing directory
# shutil.rmtree("/content/wandb") 
# #remove file
# os.remove("/content/trainval.tar.gz.1")
!python /content/yolov5/train.py --img 640 --cfg yolov5s.yaml --hyp hyp.scratch.yaml --batch 32 --epochs 50 --data eagleview.yaml --weights yolov5s.pt --workers 24 --name yolo_eagle_det
Traceback (most recent call last):
  File "/content/yolov5/train.py", line 20, in <module>
    import torch
  File "/usr/local/lib/python3.7/dist-packages/torch/__init__.py", line 197, in <module>
    from torch._C import *  # noqa: F403
RuntimeError: KeyboardInterrupt: 
